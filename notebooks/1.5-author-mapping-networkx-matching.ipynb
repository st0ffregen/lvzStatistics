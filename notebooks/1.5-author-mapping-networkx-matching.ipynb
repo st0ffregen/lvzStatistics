{
 "cells": [
  {
   "cell_type": "code",
   "execution_count": 57,
   "metadata": {
    "collapsed": true,
    "ExecuteTime": {
     "end_time": "2023-07-15T22:38:06.458999804Z",
     "start_time": "2023-07-15T22:38:06.439785979Z"
    }
   },
   "outputs": [],
   "source": [
    "import json\n",
    "import sqlite3\n",
    "import numpy as np\n",
    "import pandas as pd\n",
    "import seaborn as sns\n",
    "import scipy\n",
    "import networkx as nx\n",
    "import matplotlib.pyplot as plt\n",
    "from dateutil import relativedelta\n",
    "from datetime import datetime\n",
    "import re"
   ]
  },
  {
   "cell_type": "code",
   "execution_count": 2,
   "outputs": [],
   "source": [
    "\n",
    "con = sqlite3.connect('../data/interim/articles_with_author_mapping.db')\n",
    "cur = con.cursor()\n"
   ],
   "metadata": {
    "collapsed": false,
    "ExecuteTime": {
     "end_time": "2023-07-15T20:39:18.160875970Z",
     "start_time": "2023-07-15T20:39:17.985115823Z"
    }
   }
  },
  {
   "cell_type": "markdown",
   "source": [],
   "metadata": {
    "collapsed": false
   }
  },
  {
   "cell_type": "code",
   "execution_count": 3,
   "outputs": [],
   "source": [
    "cur.execute(\"select id, name, abbreviation, matching_certainty from authors\")\n",
    "rows = cur.fetchall()\n",
    "authors = pd.DataFrame(columns=[\"id\", \"name\", \"abbreviation\", \"certainty\"], data=rows)\n",
    "authors.set_index(\"id\", inplace=True)"
   ],
   "metadata": {
    "collapsed": false,
    "ExecuteTime": {
     "end_time": "2023-07-15T20:39:18.532702254Z",
     "start_time": "2023-07-15T20:39:18.017892460Z"
    }
   }
  },
  {
   "cell_type": "code",
   "execution_count": 4,
   "outputs": [],
   "source": [
    "# convert null to nans\n",
    "authors = authors.replace(\"null\", np.nan)"
   ],
   "metadata": {
    "collapsed": false,
    "ExecuteTime": {
     "end_time": "2023-07-15T20:39:18.835553323Z",
     "start_time": "2023-07-15T20:39:18.544152147Z"
    }
   }
  },
  {
   "cell_type": "code",
   "execution_count": 5,
   "outputs": [
    {
     "name": "stderr",
     "output_type": "stream",
     "text": [
      "/tmp/ipykernel_9459/2700545868.py:2: RuntimeWarning: Mean of empty slice\n",
      "  mean_certainty = authors.groupby([\"name\", \"abbreviation\"])[\"certainty\"].transform(lambda x: np.nanmean(x))\n"
     ]
    }
   ],
   "source": [
    "# set certainty of a row to the average certainty over all rows with same name and abbreviation, ignore nan values\n",
    "mean_certainty = authors.groupby([\"name\", \"abbreviation\"])[\"certainty\"].transform(lambda x: np.nanmean(x))\n",
    "authors[\"certainty\"] = mean_certainty"
   ],
   "metadata": {
    "collapsed": false,
    "ExecuteTime": {
     "end_time": "2023-07-15T20:39:19.444338063Z",
     "start_time": "2023-07-15T20:39:18.600408515Z"
    }
   }
  },
  {
   "cell_type": "code",
   "execution_count": 6,
   "outputs": [],
   "source": [
    "authors[\"name_pointing_to_abbreviation_count\"] = authors.groupby([\"name\", \"abbreviation\"])[\"name\"].transform(\"count\")\n",
    "authors[\"abbreviation_pointing_to_name_count\"] = authors.groupby([\"name\", \"abbreviation\"])[\"abbreviation\"].transform(\"count\")"
   ],
   "metadata": {
    "collapsed": false,
    "ExecuteTime": {
     "end_time": "2023-07-15T20:39:19.870340778Z",
     "start_time": "2023-07-15T20:39:19.404359960Z"
    }
   }
  },
  {
   "cell_type": "code",
   "execution_count": 7,
   "outputs": [],
   "source": [
    "# drop duplicates based on name, abbreviation, certainty. I can drop them because ..._count saved the count\n",
    "authors.drop_duplicates(subset=[\"name\", \"abbreviation\", \"certainty\"], inplace=True)"
   ],
   "metadata": {
    "collapsed": false,
    "ExecuteTime": {
     "end_time": "2023-07-15T20:39:19.873992419Z",
     "start_time": "2023-07-15T20:39:19.489037844Z"
    }
   }
  },
  {
   "cell_type": "code",
   "execution_count": 8,
   "outputs": [],
   "source": [
    "# set the share that the name has of all names that point to that abbreviation\n",
    "authors_with_name_pointing_to_abbreviation_sum =  authors.groupby([\"abbreviation\"]).agg(names_pointing_to_abbreviation_sum=(\"name_pointing_to_abbreviation_count\", \"sum\")).reset_index()\n",
    "authors = pd.merge(authors, authors_with_name_pointing_to_abbreviation_sum, on=\"abbreviation\")\n",
    "authors[\"name_pointing_to_abbreviation_share\"] = authors[\"name_pointing_to_abbreviation_count\"] / authors[\"names_pointing_to_abbreviation_sum\"]"
   ],
   "metadata": {
    "collapsed": false,
    "ExecuteTime": {
     "end_time": "2023-07-15T20:39:19.884566861Z",
     "start_time": "2023-07-15T20:39:19.557199557Z"
    }
   }
  },
  {
   "cell_type": "code",
   "execution_count": 9,
   "outputs": [],
   "source": [
    "# set the share that the abbreviation has of all abbreviations that point to that name\n",
    "authors_with_abbreviation_pointing_to_name_sum = authors.groupby([\"name\"]).agg(abbreviations_pointing_to_name_sum=(\"abbreviation_pointing_to_name_count\", \"sum\")).reset_index()\n",
    "authors = pd.merge(authors, authors_with_abbreviation_pointing_to_name_sum, on=\"name\")\n",
    "authors[\"abbreviation_pointing_to_name_share\"] = authors[\"abbreviation_pointing_to_name_count\"] / authors[\"abbreviations_pointing_to_name_sum\"]"
   ],
   "metadata": {
    "collapsed": false,
    "ExecuteTime": {
     "end_time": "2023-07-15T20:39:19.885692712Z",
     "start_time": "2023-07-15T20:39:19.611205391Z"
    }
   }
  },
  {
   "cell_type": "code",
   "execution_count": 10,
   "outputs": [],
   "source": [
    "# calculate a final score for the weighted edge between name and abbreviation\n",
    "authors[\"score\"] = authors[\"certainty\"] + authors[\"name_pointing_to_abbreviation_share\"] + authors[\"abbreviation_pointing_to_name_share\"]"
   ],
   "metadata": {
    "collapsed": false,
    "ExecuteTime": {
     "end_time": "2023-07-15T20:39:19.886443575Z",
     "start_time": "2023-07-15T20:39:19.651568861Z"
    }
   }
  },
  {
   "cell_type": "code",
   "execution_count": 11,
   "outputs": [],
   "source": [
    "# reduce the problem space to a bipartite graph, assigning all (name, abbreviation) pairs that are not connected to the graph as final/solved\n",
    "# add pairs to final mapping where abbreviation_pointing_to_name_count == 1 or name_pointing_to_abbreviation_count == 1 and remove those from the authors df#\n",
    "#one_to_one_mappings = authors[(authors[\"abbreviations_pointing_to_name_sum\"] == 1) & (authors[\"names_pointing_to_abbreviation_sum\"] == 1)]\n",
    "#final_mapping = pd.concat([final_mapping, one_to_one_mappings[[\"name\", \"abbreviation\"]]], ignore_index=True)\n",
    "\n",
    "#authors = authors[(authors[\"abbreviations_pointing_to_name_sum\"] != 1) | (authors[\"names_pointing_to_abbreviation_sum\"] != 1)]"
   ],
   "metadata": {
    "collapsed": false,
    "ExecuteTime": {
     "end_time": "2023-07-15T20:39:19.895391005Z",
     "start_time": "2023-07-15T20:39:19.692640125Z"
    }
   }
  },
  {
   "cell_type": "code",
   "execution_count": 12,
   "outputs": [],
   "source": [
    "authors = authors[authors[\"name\"] != \"A. Krieger\"]\n"
   ],
   "metadata": {
    "collapsed": false,
    "ExecuteTime": {
     "end_time": "2023-07-15T20:39:19.897303317Z",
     "start_time": "2023-07-15T20:39:19.739116372Z"
    }
   }
  },
  {
   "cell_type": "code",
   "execution_count": 13,
   "outputs": [],
   "source": [
    "# remove self referencing nodes\n",
    "authors = authors[authors[\"name\"] != authors[\"abbreviation\"]]"
   ],
   "metadata": {
    "collapsed": false,
    "ExecuteTime": {
     "end_time": "2023-07-15T20:39:19.898935080Z",
     "start_time": "2023-07-15T20:39:19.783088683Z"
    }
   }
  },
  {
   "cell_type": "code",
   "execution_count": 14,
   "outputs": [],
   "source": [
    "# add name and abbreviation as nodes list and remove duplicates\n",
    "nodes = list(authors[\"name\"].unique()) + list(authors[\"abbreviation\"].unique())\n",
    "\n",
    "# add unique edges based on entries in the authors table\n",
    "edges = []\n",
    "for index, row in authors.iterrows():\n",
    "    edges.append((row[\"name\"], row[\"abbreviation\"]))"
   ],
   "metadata": {
    "collapsed": false,
    "ExecuteTime": {
     "end_time": "2023-07-15T20:39:20.212016966Z",
     "start_time": "2023-07-15T20:39:19.783452184Z"
    }
   }
  },
  {
   "cell_type": "code",
   "execution_count": 15,
   "outputs": [],
   "source": [
    "G = nx.Graph()\n",
    "G.clear()\n",
    "author_list = list(authors[\"name\"].unique())\n",
    "abbr_list = list(authors[authors[\"name\"].isin(author_list)][\"abbreviation\"].unique())\n",
    "G.add_nodes_from(author_list, bipartite=0)\n",
    "G.add_nodes_from(abbr_list, bipartite=1)\n",
    "dummy_nodes = [f\"{name}_dummy\" for name in author_list]\n",
    "G.add_nodes_from(dummy_nodes, bipartite=1)\n",
    "\n",
    "edges = []\n",
    "for index, row in authors[authors[\"name\"].isin(author_list) & authors[\"abbreviation\"].isin(abbr_list)].iterrows():\n",
    "    G.add_edges_from([(row[\"name\"], row[\"abbreviation\"])], weight=round(row[\"score\"],2) * -1)\n",
    "\n",
    "for name in author_list:\n",
    "    G.add_edges_from([(name, f\"{name}_dummy\")], weight=0)\n"
   ],
   "metadata": {
    "collapsed": false,
    "ExecuteTime": {
     "end_time": "2023-07-15T20:39:20.446185911Z",
     "start_time": "2023-07-15T20:39:20.093793364Z"
    }
   }
  },
  {
   "cell_type": "code",
   "execution_count": 16,
   "outputs": [],
   "source": [
    "new_edges = nx.bipartite.minimum_weight_full_matching(G, top_nodes=list(authors[\"name\"].unique()), weight=\"weight\")\n",
    "g_new = nx.Graph()\n",
    "g_new.clear()\n",
    "g_new.add_nodes_from(author_list, bipartite=0)\n",
    "g_new.add_nodes_from(abbr_list, bipartite=1)\n",
    "g_new.add_edges_from(new_edges.items())"
   ],
   "metadata": {
    "collapsed": false,
    "ExecuteTime": {
     "end_time": "2023-07-15T20:39:20.526315013Z",
     "start_time": "2023-07-15T20:39:20.467033715Z"
    }
   }
  },
  {
   "cell_type": "markdown",
   "source": [],
   "metadata": {
    "collapsed": false
   }
  },
  {
   "cell_type": "markdown",
   "source": [],
   "metadata": {
    "collapsed": false
   }
  },
  {
   "cell_type": "code",
   "execution_count": 17,
   "outputs": [
    {
     "data": {
      "text/plain": "EdgeView([('kai-uwe brandt', 'kub'), ('jan peter', 'jap'), ('manfred lüttich', 'malü'), ('märz frank pfütze', 'märz frank pfütze_dummy'), ('magdalena froehlich', 'mf'), ('michael frömmert', 'maf'), ('heiko trebs', 'ht'), ('andreas tappert', 'art'), ('annett riedel', 'ari'), ('angelika raulien', 'arau'), ('andrea richter', 'ar'), ('nadja topfstedt', 'dpe'), ('norbert töpfer', 'nt'), ('niklas tolkamp', 'niklas tolkamp_dummy'), ('thomas lang', 'thlang'), ('thomas haegeler', 'thl'), ('antje henselin-rudolph', 'ahr'), ('nico fliegner', 'nf'), ('lutz schmidt', 'ls'), ('heike liesaus', 'hl'), ('juliane streich', 'just'), ('lisa garn', 'lisa garn_dummy'), ('lisa berins', 'lisa'), ('lisa seliger', 'lis'), ('melanie steitz', 'mes'), ('lisa schliep', 'liep'), ('laurine schubert', 'laurine schubert_dummy'), ('frank pfütze', 'pfü'), ('pfütze frank', 'pfütze'), ('kendra reinhardt', 'kir'), ('karoline maria keybe', 'key'), ('kinderwerkstatt anmeldet', 'kinderwerkstatt anmeldet_dummy'), ('kommentar jonas alder', 'kommentar jonas alder_dummy'), ('kunze christian kunze', 'kunze christian kunze_dummy'), ('klaus staeubert', 'ks'), ('kristina ahnert', 'kristina ahnert_dummy'), ('kay würker', 'kay'), ('kathrin kabelitz', 'kk'), ('komplette abstimmungsergebnis', 'komplette abstimmungsergebnis_dummy'), ('kim aalders', 'kim aalders_dummy'), ('kai-uwe arnold', 'ka'), ('karen arnold', 'karen arnold_dummy'), ('meike strüber', 'mei'), ('michael dick', 'midi'), ('manfred hainich', 'mh'), ('nikos natsidis', 'nn'), ('heiko henschel', 'heiko henschel_dummy'), ('roland heinrich', 'rohe'), ('heinrich lillie', 'hei'), ('matthias puppe', 'mpu'), ('robert nößler', 'nöß'), ('roland herold', 'rh'), ('ditmar wohlgemuth', 'dem'), ('dnn-online maf', 'doa'), ('dominik bath', 'dom'), ('dominic welters', 'do'), ('anne-kathrin sturm', '-art'), ('haig latchinian', 'hat'), ('marco irrgang', 'mi'), ('matthias roth', 'mro'), ('miriam ihle', 'miriam ihle_dummy'), ('manuel niemann', 'lni'), ('mathias orbeck', 'mo'), ('marion von imhoff', 'marion von imhoff_dummy'), ('andreas friedrich', 'af'), ('birgit schöppenthau', 'bis'), ('bastian schröder', 'bas'), ('christin grödel', 'cgr'), ('christine gräfe', 'cg'), ('steffen brost', 'sb'), ('barbara osdarty', 'bos'), ('krysta brown', 'krysta'), ('von steffen brost', 'von steffen brost_dummy'), ('benno rougk', 'bro'), ('frank schmidt', 'fri'), ('frank müller', 'fm'), ('nina may', 'ny'), ('heike nyari', 'nyari'), ('guido schäfer', 'gs'), ('janina fleischer', 'jaf'), ('karin rieck', 'karin'), ('kathleen retzar', 'kr'), ('stephan lohse', 'spa'), ('stefan lehmann', 'stefan lehmann_dummy'), ('simone liss', 'sl'), ('eberhard schmiedel', 'ebs'), ('holger günther', 'hog'), ('stefan banitz', 'stb'), ('jens rosenkranz', 'jon'), ('melden joka', 'joka'), ('winfried wächter', 'witt'), ('wilma rücker', 'wer'), ('lokalteil delitzsch-eilenburg', 'lok'), ('andreas dunte', 'ans'), ('andreas debski', 'ad'), ('andreas ebel', 'ade'), ('andreas debsk i', 'ani'), ('frauke sievers', 'fs'), ('frank schober', 'frs'), ('lvz-online evelyn', 'lvz-online'), ('anne ulbricht', 'au'), ('markus werning', 'mw'), ('mathias wöbking', 'mwö'), ('thomas mayer', 'tom'), ('thomas meißner', 'thomas meißner_dummy'), ('jens rometsch', 'jem'), ('jörg reuter', 'jr'), ('maria keybe', 'may'), ('michael strohmeyer', 'mayer'), ('michael meyer', 'mey'), ('uwe köster', 'ukö'), ('jenifer hochhaus', 'jh'), ('julia wick', 'julia wick_dummy'), ('jörg wolf', 'jw'), ('thomas steingen', 'totei'), ('thomas sparrer', 'tsa'), ('alexander bley', 'bly'), ('ulrike witt', 'uw'), ('reik anton', 'ra'), ('florian bamberg', 'fib'), ('stefanie büssing', 'büs'), ('astrid hofmann', 'ah'), ('anke herold', 'herold'), ('christiane lösch', 'chl'), ('chris lademann', 'chris lademann_dummy'), ('christoph lemmer', 'christoph lemmer_dummy'), ('friederike spröh', 'fes'), ('von thomas steingen', 'ots'), ('nicole rathge-scholz', 'nicole rathge-scholz_dummy'), ('oliver von riegen stefan hantzschmann und jörg schurig', 'ovz'), ('ter vehn', 'tv'), ('jörg ter vehn', 'ttr'), ('evelyn ter vehn', 'er'), ('reinhard rädler', 'räd'), ('carina reinhardt', 'car'), ('conny hanspach', 'conny hanspach_dummy'), ('christoph stephan', 'chs'), ('christoph springer', 'cs'), ('christian kunze', 'cku'), ('johannes angermann', 'jas'), ('josephine heinze', 'joh'), ('frank prenzel', 'fpr'), ('frank pfeifer', 'fp'), ('sebastian fink', 'sf'), ('catrin steinbach', 'catrin steinbach_dummy'), ('claus schimmel', 'claus schimmel_dummy'), ('frank döring', 'fd'), ('juliette guttmann', 'jg'), ('julia grubitzsch', 'julia grubitzsch_dummy'), ('j. greschner', 'j. greschner_dummy'), ('juliane groh', 'juliane groh_dummy'), ('skadi hofmann', 'skadi'), ('heinz großnick', 'hg'), ('hanna gerwig', 'hgw'), ('peter korfmacher', 'pk'), ('insa van', 'ivn'), ('ekkehard schulreich', 'es'), ('robin seidler', 'rs'), ('silke hoffmann', 'ska'), ('nora ernst', 'noe'), ('daniel große', 'dg'), ('kai kollenberg', 'allner'), ('kommentar thomas lieb', 'kol'), ('tanja kirsten', 'tak'), ('ines christ', 'ic'), ('kathrin haase', 'kh'), ('saskia grätz', 'saskia'), ('frank hörügel', 'fh'), ('ilka fischer', 'if'), ('johannes david', 'jd'), ('thomas lieb', 'tl'), ('kay wuerker', 'kw'), ('kerstin decker', 'kd'), ('dennis röthig', 'dir'), ('dimo rieß', 'rieß'), ('sebastian kositz', 'seko'), ('lilly biedermann', 'lyn'), ('axel kaminski', 'ak'), ('dominik brüggemann', 'db'), ('thomas jentzsch', 'tj'), ('matthias jung', 'matthias jung_dummy'), ('marcel jud', 'marcel jud_dummy'), ('mario jahn', 'maj'), ('jochen leimert', 'jol'), ('michael graul', 'michael graul_dummy'), ('handballer agri', 'haeg'), ('regina katzer', 'reka'), ('rainer küster', 'rk'), ('roger dietze', 'red'), ('heiko weckbrodt', 'hw'), ('reinhard weber', 'rnw'), ('stephan hönigschmid', 'stephan hönigschmid_dummy'), ('sparrer thomas sparrer', 'sth'), ('kerstin leppich', 'sil'), ('ralf redemund', 'rau'), ('jane jannke', 'jaja'), ('mario beck', 'mario'), ('benjamin böhme', 'bb'), ('mark daniel', 'mad'), ('olaf büchel', 'obü'), ('marie frec', 'marie frec_dummy'), ('robert berlin', 'rob'), ('robert büssow', 'rbü'), ('barbara stock', 'barbara stock_dummy'), ('bärbel schumann', 'bs'), ('daniel kaiser', 'dk'), ('denis korn', 'denis korn_dummy'), ('decker kerstin', 'decker kerstin_dummy'), ('dirk knofe', 'dirk'), ('david knapp', 'david knapp_dummy'), ('tobias zinnecker', 'tz'), ('theresa held und birgit zimmermann', 'theresa held und birgit zimmermann_dummy'), ('bettina winkler', 'bettina winkler_dummy'), ('benjamin winkler', 'bw'), ('martin glass', 'mg'), ('peggy hamfler', 'ph'), ('constanze dietsch', 'codi'), ('annett böhm', 'abö'), ('andré böhmer', 'ab'), ('denis burkhardt', 'denis burkhardt_dummy'), ('döbeln richten.', 'dbr'), ('anne grimm', 'agri'), ('clemens haug', 'cha'), ('christine jacob', 'cj'), ('sabine kreuz', 'sk'), ('karin tamcke', 'kt'), ('alexander laboda', 'alexander laboda_dummy'), ('angelika oswald', 'ao'), ('anne kunze', 'aku'), ('jeannine steinbrecher', 'jeannine steinbrecher_dummy'), ('jane sommer', 'js'), ('jörg schurig', 'jörg schurig_dummy'), ('jan sternberg', 'jan sternberg_dummy'), ('stefan schilde', 'sts'), ('stefan schramm', 'sens'), ('anna-luise landgraf', 'aul'), ('isabel oelsner', 'io'), ('paul müller', 'paul müller_dummy'), ('peter matzke', 'peter matzke_dummy'), ('patrick moye', 'patrick moye_dummy'), ('peter müller', 'peter müller_dummy'), ('peer meinert', 'peer meinert_dummy'), ('paul felix michaelis', 'pmi'), ('pia siemer', 'pia siemer_dummy'), ('petra mewes', 'pm'), ('lothar albrecht', 'loa'), ('mathias schönknecht', 'ms'), ('vivian degen', 'viv'), ('inge engelhardt', 'ie'), ('ines eisele', 'ines eisele_dummy'), ('inge-dore engelhardt', 'inge-dore engelhardt_dummy'), ('madeleine arndt', 'ma'), ('alexander prautzsch', 'azs'), ('daniel bachmann', 'dab'), ('fotolia underwaterpics', 'fu'), ('janett petermann', 'jp'), ('jens paul taubert', 'jpt'), ('marlies neumann', 'mn'), ('marie landes', 'marie landes_dummy'), ('mpu luc', 'mpu luc_dummy'), ('martin lange', 'ml'), ('dieter wonka', 'da'), ('jürgen kleindienst', 'jk'), ('joka lvz', 'jkl'), ('thomas baumann-hartwig', 'tbh'), ('simone prenzel', 'sp'), ('wolfgang wukasch', 'ww'), ('manuela engelmann', 'ug'), ('michael ernst', 'me'), ('gabi liebegall', 'gl'), ('peter ader', 'pa'), ('dirk wurzel', 'diw'), ('sabine hinkel', 'hinkel'), ('steffi robak', 'iro'), ('sagte orosz.', 'sro'), ('volkmar heinz', 'vhz'), ('claudia carell-domröse', 'adö'), ('leonie born', 'lbo'), ('markus bien', 'mb'), ('mathias bierende', 'mathias bierende_dummy'), ('kerstin förster', 'kefö'), ('conrad ziesch', 'cz'), ('günther hunger', 'gh'), ('heiko stets', 'hs'), ('stefan stosch', 'stets'), ('björn meine', 'bm'), ('kommentar frank hörügel', 'kfa'), ('petra zimmermann', 'pz'), ('hagen rösner', 'hr'), ('kommentar jörg wolf', 'kommentar jörg wolf_dummy'), ('gemeindechronik nico fliegner', 'knof'), ('amélie middelberg', 'am'), ('anja macheleid', 'anja macheleid_dummy'), ('steffen moritz', 'sm'), ('tatjana böhme-mehner', 'ajm'), ('katrin zeiß', 'katz'), ('kerstin staffe', 'staffe'), ('hellmut mauersberger', 'hmr'), ('katharina ecke', 'ecke'), ('eckhard riedel', 'eckhard riedel_dummy'), ('annegudrun heilmann', 'gruhl'), ('leonie ebert', 'leonie ebert_dummy'), ('lena-marie lübker', 'la'), ('luise binder', 'lieb'), ('marie-christine buntrock', 'mcb'), ('christoph bräuer', 'bräuer'), ('marcel braune', 'maba'), ('amélie middelberg am', 'amélie middelberg am_dummy'), ('allner natasha allner', 'ala'), ('uwe hofmann', 'uf'), ('urs humpenöder', 'urs humpenöder_dummy'), ('ulrich milde', 'umi'), ('ute hirsch', 'uh'), ('florian theis', 'ft'), ('feliks todtmann', 'feliks todtmann_dummy'), ('mro dapd', 'dapd'), ('peter idaczek', 'pd'), ('patricia liebling', 'pl'), ('andré neumann', 'an'), ('evelin böhme-pock', 'bho'), ('stefanie dietz', 'sd'), ('matthias pöls', 'mpö'), ('arndt beckert', 'dtb'), ('dpa thomas lieb', 'dpa thomas lieb_dummy'), ('cku heinz großnick', 'chg'), ('christian geinitz', 'christian geinitz_dummy'), ('guido schäfer aus der leipziger volkszeitung vom von schäfer', 'dkms'), ('jana brechlin', 'jb'), ('falko deparade', 'dpad'), ('steffen enigk', 'ste'), ('juliane lange', 'lang'), ('judith sophie schilling', 'jps'), ('birgit rabe', 'br'), ('felix forberg', 'flo'), ('felix kretz', 'felix'), ('florian reinke', 'fr'), ('bernd locker', 'bernd locker_dummy'), ('beatrice kasel', 'beck'), ('gina apitz', 'gap'), ('andré pitz', 'ap'), ('martin pelzl', 'martin'), ('doreen schellenberg', 'dsc'), ('wolfram lenk', 'wolf'), ('schloss handke.', 'sch'), ('frank kastner', 'frank'), ('rainer schwurack', 'rieck'), ('julia wagner', 'uwe'), ('dieter taszarek', 'dietze'), ('julia tonne', 'jto'), ('torsten teichert', 'tonne'), ('kommentar frank pfütze', 'afp'), ('manfred pfau', 'manfred pfau_dummy'), ('ralf und pfeifer', 'ralf'), ('ralf saupe', 'ralf saupe_dummy'), ('sebastian stöber', 'stöber'), ('katharina schultz', 'katrin'), ('olaf krenz', 'okz'), ('olaf barth', 'ob'), ('holger baumgärtner', 'hb'), ('hanspeter brodbeck', 'hanspeter brodbeck_dummy'), ('peter ruf', 'pr'), ('philip rißling', 'philip rißling_dummy'), ('susanne weidner', 'swd'), ('julia carstens', 'jca'), ('rigo adelhöfer', 'rigo adelhöfer_dummy'), ('uwe köster aus der leipziger volkszeitung vom frank schober', 'uwe köster aus der leipziger volkszeitung vom frank schober_dummy'), ('saupe ralf und pfeifer', 'saupe'), ('julia vollmer', 'jv'), ('sparkassenverbandes erhält.', 'sparrer'), ('dominik ferl', 'df'), ('döring frank', 'döring frank_dummy'), ('olaf majer', 'om'), ('von heike', 'vh'), ('yvonne schmidt', 'ys'), ('martin moser', 'moser'), ('nadine lea siegmund', 'nls'), ('reinhard urschel', 'reu'), ('rené beuckert', 'rené beuckert_dummy'), ('robert nößler und matthias roth', 'belo'), ('olivia jasmin czok', 'olivia jasmin czok_dummy'), ('ovz jens rosenkranz', 'ovz jens rosenkranz_dummy'), ('die gewitter und eine deutliche abkühlung bringen soll. lvz', 'die gewitter und eine deutliche abkühlung bringen soll. lvz_dummy'), ('so odenthal. lvz', 'so odenthal. lvz_dummy'), ('von cavertitz', 'von cavertitz_dummy'), ('konstantina vezyri', 'konstantina vezyri_dummy'), ('sven zschiesche', 'sz'), ('hauke heuer', 'hh'), ('horst hampe', 'horst hampe_dummy'), ('thomas keiderling', 'tk'), ('tatjana kulpa', 'tatjana kulpa_dummy'), ('thomas kube', 'thk'), ('katharina goldbach', 'kg'), ('kristin engel', 'ke'), ('peter stracke', 'ps'), ('pauline szyltowski', 'psz'), ('ines alekowa', 'ia'), ('thomas zinnert', 'tasz'), ('arndt boettcher', 'arndt boettcher_dummy'), ('marc bohländer', 'mber'), ('obü olaf büchel', 'boh'), ('bjarne johansen-schmidt', 'bjh'), ('katharina ott', 'ko'), ('natasha g. allner', 'nga'), ('sarah englisch', 'she'), ('winfried schumacher', 'winfried schumacher_dummy'), ('wolfgang sens', 'ws'), ('von anton zirk', 'von anton zirk_dummy'), ('oschatzer allgemeine zeitung', 'oaz'), ('ingolf pleil', 'ip'), ('steffen georgi', 'sg'), ('jochen schmalz', 'jhz'), ('emillio rappold', 'emillio rappold_dummy'), ('dietrich pätzold', 'dp'), ('vera podskalsky', 'vera podskalsky_dummy'), ('elisabeth triegel und ulrike gaudigs eine kooperation mit dem bachfest leipzig', 'elisabeth triegel und ulrike gaudigs eine kooperation mit dem bachfest leipzig_dummy'), ('stephan wiegand', 'stephan wiegand_dummy'), ('stephanie riedel', 'stephanie riedel_dummy'), ('josephine heinze und dirk knofe (foto)', 'josephine heinze und dirk knofe (foto)_dummy'), ('nadine pensold', 'epd'), ('andreas tappert und florian reinke', 'andreas tappert und florian reinke_dummy'), ('schulungspartner aufgetreten', 'susa'), ('winfried mahr', 'wim'), ('katharina stork', 'kasto'), ('anita kecke', 'anke'), ('anita häußler', 'häu'), ('nga skibi', 'skibi'), ('volkmar beier', 'vb'), ('andreas zellmer', 'andreas zellmer_dummy'), ('andrea schulze', 'andrea schulze_dummy'), ('daniela salzmann', 'daniela salzmann_dummy'), ('daz-redaktion', 'daz-redaktion_dummy'), ('linda zapfe', 'daz'), ('linda polenz', 'lp'), ('adeline bruzat', 'abz'), ('olaf becher', 'becher'), ('laura müller', 'lm'), ('kerstin sieblist', 'krebs'), ('reiner scheffler', 'riess'), ('es gefunden zu haben. mit material der dpa. lvz', 'fv'), ('thomas trummer', 'tt'), ('stephanie von aretin', 'sta'), ('lucas grothe', 'lucas'), ('jan emendörfer', 'je'), ('torben ibs', 'tibs'), ('imre grimm', 'ig'), ('victoria graul', 'vg'), ('manuela engelmann-bunk', 'almu'), ('claudia carell', 'luc'), ('otb oliver becker', 'otb'), ('friederike ostwald', 'ffo'), ('franziska wülle', 'franziska wülle_dummy'), ('frank-thomas wenzel', 'fsw'), ('fsw-news', 'fsw-news_dummy'), ('bastian fischer', 'bfi'), ('wiebke theuer', 'wt'), ('grünheide wendl', 'gw'), ('august modersohn', 'august'), ('kerstin decker mehr infos aus dem zoo leipzig finden sie hier!', 'kefoe'), ('alexander engels', 'are'), ('ulrich langer', 'ul'), ('rimpar frisch', 'paris'), ('joka nöß', 'jn'), ('cornelia braun', 'cb'), ('nathalie helene rippich', 'nhr'), ('martin kloth', 'mk'), ('matthias klöppel', 'mkl'), ('maximilian könig', 'max'), ('andrea schrader', 'as'), ('ellen paul', 'ep'), ('pamela geißler', 'pg'), ('paula drope', 'pad'), ('klaus peschel', 'kul'), ('helene schack', 'helene schack_dummy'), ('hannah schaefer', 'hannah schaefer_dummy'), ('hendrik schirner', 'hendrik schirner_dummy'), ('hannah suppa', 'hannah suppa_dummy'), ('bernd lähne', 'bl'), ('völkerschlachtdenkmal pm', 'vdp'), ('admiral bob', 'lob'), ('manuela engelmann-bunk und olaf büchel', 'manuela engelmann-bunk und olaf büchel_dummy'), ('björn pazen', 'bp'), ('matthias puppe die kommentarfunktion steht morgen wieder zur verfügung', 'koku'), ('lucas kreling', 'lk'), ('margitta tittel', 'mat'), ('jan szyszka', 'jan szyszka_dummy'), ('ulrike von leszczynski', 'ulrike von leszczynski_dummy'), ('zeynep sentek', 'zys'), ('ulrike simon', 'uko'), ('anne-beatrice clasmann', 'abr'), ('karsten kriesel', 'keil'), ('britt-marie lakämper', 'lkp'), ('florian wedhorn', 'fw'), ('nadja neqqache', 'nq'), ('nadine marquardt', 'nqq'), ('kathrin kabelitz und', 'tku'), ('marianne h.-stars', 'mhs'), ('stephanie helm', 'hem'), ('anton zirk', 'anzi'), ('justine büschel', 'jbü'), ('volly tanner', 'vo'), ('von christian neffe', 'von'), ('christian neffe', 'cn'), ('sophia-caroline kosel', 'kosel'), ('tom erik richter', 'mercer'), ('stephan wille', 'stw'), ('eric dobias', 'dob'), ('daniel salpius', 'daniel salpius_dummy'), ('daniel dettling', 'dei'), ('von joachim mangler', 'vm'), ('von birgit zimmermann', 'von birgit zimmermann_dummy'), ('von winfried mahr', 'von winfried mahr_dummy'), ('nick leukhardt', 'nl'), ('christoph wendt', 'christoph wendt_dummy'), ('christian wendt', 'cw'), ('bf und lvz', 'flvz'), ('sophie aschenbrenner', 'soa'), ('matthias koch', 'matthias koch_dummy'), ('stephanie jankowski', 'stephanie jankowski_dummy'), ('von thiko', 'thiko'), ('lena rath', 'lra'), ('martin klindtworth', 'kloth'), ('thomas barth', 'thomas barth_dummy'), ('thomas bothe', 'thth'), ('thomas bothe hier finden sie weitere tipps', 'fws'), ('simona block', 'block'), ('jörg augsburg', 'öbu'), ('der intendanz sei bislang keine stellungnahme zu den forderungen geplant', 'der intendanz sei bislang keine stellungnahme zu den forderungen geplant_dummy'), ('christian modla', 'modla'), ('edgar lopez', 'elo'), ('edgar lopez news', 'gaps'), ('maria sandig', 'maria'), ('tomas gärtner', 'tg'), ('lisa-marie leuteritz', 'lml'), ('llka fischer', 'lf'), ('lvz fotos', 'llvz'), ('maike steuer', 'mkr'), ('helmut pock', 'hp'), ('stefan michaelis hier finden sie weitere tipps', 'st'), ('gislinde redepenning', 'gr'), ('miriam heinbuch', 'buch'), ('hans-hermann koch', 'hhk'), ('franziska kästner', 'fkä'), ('uta zangemeister', 'uz'), ('lisa neumann', 'lin'), ('gerd piper', 'gp'), ('petra buch', 'pb'), ('diemo wolf', 'ewo'), ('lotta-clara löwener', 'lcl'), ('anna flora schade', 'afs'), ('tricks und infos zum thema sicherheit!', 'iuiu'), ('franziska gleißner', 'fg'), ('sebastian fink & olaf büchel', 'sbü'), ('eberhard ulm', 'ebu'), ('elena burbach', 'elena burbach_dummy'), ('felix busjaeger', 'fbu'), ('stefan arndt', 'sa'), ('niklas guschel', 'niklas guschel_dummy'), ('nadin gabner', 'nag'), ('vanessa gregor', 'vag'), ('patrick fam', 'pf'), ('tilman kortenhaus', 'tik'), ('uwe zabell', 'ubl'), ('von julia tonne', 'von julia tonne_dummy'), ('cornelia meerkatz, juliane schultz und alexander loew', 'online'), ('norbert wehrstedt', 'nw'), ('helena reinhardt', 'heind'), ('ulrich steinmetzger', 'lmg'), ('julia maria grass', 'jmg'), ('claudia forner', 'cf'), ('johann-christoph landgraf', 'onl'), ('thomas sparrer, manuela engelmann-bunk und nicole grziwa', 'thomas sparrer, manuela engelmann-bunk und nicole grziwa_dummy'), ('lutz köhler', 'ukl'), ('lars schmidt', 'lht'), ('elena boshkovska', 'eb'), ('sonja lauer', 'sal'), ('grit blümle', 'güm'), ('carsten hoffmann', 'ch'), ('lilly günthner', 'lg'), ('lisa konstantinidis', 'liko'), ('luise jahn und victoria kovacs', 'luise jahn und victoria kovacs_dummy'), ('bernd atzenroth', 'ba'), ('max hempel', 'm hempel'), ('tim niklas herholz', 'tnh'), ('susanne plecher', 'sup'), ('michael klamp', 'cmp'), ('josa mania-schlegel', 'jms')])"
     },
     "execution_count": 17,
     "metadata": {},
     "output_type": "execute_result"
    }
   ],
   "source": [
    "g_new.edges"
   ],
   "metadata": {
    "collapsed": false,
    "ExecuteTime": {
     "end_time": "2023-07-15T20:39:20.635269665Z",
     "start_time": "2023-07-15T20:39:20.506944886Z"
    }
   }
  },
  {
   "cell_type": "code",
   "execution_count": 36,
   "outputs": [
    {
     "name": "stdout",
     "output_type": "stream",
     "text": [
      "new graph has 1372 nodes and 586 edges\n"
     ]
    }
   ],
   "source": [
    "print(f\"new graph has {len(g_new.nodes)} nodes and {len(g_new.edges)} edges\")"
   ],
   "metadata": {
    "collapsed": false,
    "ExecuteTime": {
     "end_time": "2023-07-15T21:37:20.712121454Z",
     "start_time": "2023-07-15T21:37:20.660082426Z"
    }
   }
  },
  {
   "cell_type": "code",
   "execution_count": null,
   "outputs": [],
   "source": [
    "# transform graph to dataframe author_mapping with columns name and abbreviation\n",
    "author_mapping = pd.DataFrame(columns=[\"name\", \"abbreviation\"], data=g_new.edges)\n",
    "author_mapping = author_mapping.astype(str)\n",
    "\n",
    "print(f\"author_mapping has {author_mapping.shape[0]} rows\")\n",
    "\n",
    "\n",
    "# remove all abbreviations that contain \"dummy\" in their name\n",
    "author_mapping = author_mapping[~author_mapping[\"abbreviation\"].str.contains(\"dummy\")]\n",
    "# print shape\n",
    "print(f\"author_mapping has {author_mapping.shape[0]} rows\")"
   ],
   "metadata": {
    "collapsed": false
   }
  },
  {
   "cell_type": "markdown",
   "source": [
    "### In the following there are some analyses covering the correctness of the approach"
   ],
   "metadata": {
    "collapsed": false
   }
  },
  {
   "cell_type": "code",
   "execution_count": 60,
   "outputs": [
    {
     "name": "stdout",
     "output_type": "stream",
     "text": [
      "author: magdalena froehlich, last_article_author: 2011-03-25 15:35:46, abbreviation: mf, last_article_abbr: 2018-06-28 10:55:16\n",
      "author: andrea richter, first_article_author: 2013-11-21 22:23:00, abbreviation: ar, first_article_abbr: 2010-01-05 16:04:50\n",
      "author: lisa seliger, first_article_author: 2014-01-14 19:13:00, abbreviation: lis, first_article_abbr: 2010-01-07 15:35:14\n",
      "author: lisa seliger, last_article_author: 2014-01-14 19:13:00, abbreviation: lis, last_article_abbr: 2021-12-14 15:31:00\n",
      "author: kai-uwe arnold, first_article_author: 2020-05-13 10:01:00, abbreviation: ka, first_article_abbr: 2010-01-07 23:00:00\n",
      "author: kai-uwe arnold, last_article_author: 2020-05-13 10:01:00, abbreviation: ka, last_article_abbr: 2021-12-29 14:11:47\n",
      "author: dominik bath, first_article_author: 2011-04-01 12:25:03, abbreviation: dom, first_article_abbr: 2010-01-21 18:05:19\n",
      "author: dominik bath, last_article_author: 2013-05-01 15:50:00, abbreviation: dom, last_article_abbr: 2021-12-27 08:49:57\n",
      "author: marco irrgang, first_article_author: 2010-09-06 19:26:10, abbreviation: mi, first_article_abbr: 2010-01-27 17:55:42\n",
      "author: marco irrgang, last_article_author: 2011-08-11 02:00:00, abbreviation: mi, last_article_abbr: 2021-02-16 09:00:00\n",
      "author: barbara osdarty, first_article_author: 2012-02-17 21:30:31, abbreviation: bos, first_article_abbr: 2010-10-24 16:03:04\n",
      "author: benno rougk, first_article_author: 2021-06-20 10:56:11, abbreviation: bro, first_article_abbr: 2010-02-04 15:00:00\n",
      "author: nina may, last_article_author: 2018-02-07 22:07:27, abbreviation: ny, last_article_abbr: 2019-07-25 07:00:00\n",
      "author: kathleen retzar, first_article_author: 2020-10-02 12:36:18, abbreviation: kr, first_article_abbr: 2010-02-14 13:54:25\n",
      "author: melden joka, first_article_author: 2011-01-10 17:04:41, abbreviation: joka, first_article_abbr: 2010-02-23 18:53:36\n",
      "author: melden joka, last_article_author: 2011-01-10 17:04:41, abbreviation: joka, last_article_abbr: 2021-03-23 16:08:04\n",
      "author: andreas ebel, first_article_author: 2016-08-19 09:18:00, abbreviation: ade, first_article_abbr: 2010-02-25 21:32:19\n",
      "author: andreas ebel, last_article_author: 2016-08-19 09:18:00, abbreviation: ade, last_article_abbr: 2021-10-01 10:41:38\n",
      "author: frauke sievers, last_article_author: 2014-01-27 11:37:29, abbreviation: fs, last_article_abbr: 2021-10-09 10:01:00\n",
      "author: lvz-online evelyn, last_article_author: 2013-07-09 11:16:09, abbreviation: lvz-online, last_article_abbr: 2020-12-02 09:11:00\n",
      "author: maria keybe, last_article_author: 2012-06-05 13:47:44, abbreviation: may, last_article_abbr: 2018-05-18 07:00:00\n",
      "author: michael meyer, first_article_author: 2013-07-17 17:18:00, abbreviation: mey, first_article_abbr: 2010-03-26 05:00:00\n",
      "author: jenifer hochhaus, last_article_author: 2016-02-26 15:18:00, abbreviation: jh, last_article_abbr: 2021-10-15 05:33:07\n",
      "author: astrid hofmann, last_article_author: 2017-06-16 13:59:24, abbreviation: ah, last_article_abbr: 2021-06-22 21:34:00\n",
      "author: von thomas steingen, first_article_author: 2015-01-04 20:00:00, abbreviation: ots, first_article_abbr: 2010-05-19 17:21:04\n",
      "author: von thomas steingen, last_article_author: 2017-01-04 06:00:00, abbreviation: ots, last_article_abbr: 2019-09-19 10:45:00\n",
      "author: ter vehn, last_article_author: 2017-01-18 17:58:00, abbreviation: tv, last_article_abbr: 2021-12-22 16:01:00\n",
      "author: christoph stephan, last_article_author: 2012-09-08 08:29:45, abbreviation: chs, last_article_abbr: 2013-06-10 13:16:17\n",
      "author: josephine heinze, first_article_author: 2014-01-20 14:06:43, abbreviation: joh, first_article_abbr: 2010-06-10 10:17:50\n",
      "author: juliette guttmann, last_article_author: 2011-06-14 08:33:55, abbreviation: jg, last_article_abbr: 2017-01-17 13:22:00\n"
     ]
    },
    {
     "ename": "TypeError",
     "evalue": "strptime() argument 1 must be str, not None",
     "output_type": "error",
     "traceback": [
      "\u001B[0;31m---------------------------------------------------------------------------\u001B[0m",
      "\u001B[0;31mTypeError\u001B[0m                                 Traceback (most recent call last)",
      "Cell \u001B[0;32mIn[60], line 16\u001B[0m\n\u001B[1;32m     14\u001B[0m first_article_author \u001B[38;5;241m=\u001B[39m cur\u001B[38;5;241m.\u001B[39mexecute(\u001B[38;5;124mf\u001B[39m\u001B[38;5;124m\"\u001B[39m\u001B[38;5;124mSELECT MIN(published_at) FROM articles where author_array like ?\u001B[39m\u001B[38;5;124m\"\u001B[39m, (author_like,))\u001B[38;5;241m.\u001B[39mfetchone()[\u001B[38;5;241m0\u001B[39m]\n\u001B[1;32m     15\u001B[0m first_article_abbr \u001B[38;5;241m=\u001B[39m cur\u001B[38;5;241m.\u001B[39mexecute(\u001B[38;5;124mf\u001B[39m\u001B[38;5;124m\"\u001B[39m\u001B[38;5;124mSELECT MIN(published_at) FROM articles where author_array like ?\u001B[39m\u001B[38;5;124m\"\u001B[39m, (abbr_like,))\u001B[38;5;241m.\u001B[39mfetchone()[\u001B[38;5;241m0\u001B[39m]\n\u001B[0;32m---> 16\u001B[0m first_article_author \u001B[38;5;241m=\u001B[39m \u001B[43mdatetime\u001B[49m\u001B[38;5;241;43m.\u001B[39;49m\u001B[43mstrptime\u001B[49m\u001B[43m(\u001B[49m\u001B[43mfirst_article_author\u001B[49m\u001B[43m,\u001B[49m\u001B[43m \u001B[49m\u001B[38;5;124;43m\"\u001B[39;49m\u001B[38;5;124;43m%\u001B[39;49m\u001B[38;5;124;43mY-\u001B[39;49m\u001B[38;5;124;43m%\u001B[39;49m\u001B[38;5;124;43mm-\u001B[39;49m\u001B[38;5;132;43;01m%d\u001B[39;49;00m\u001B[38;5;124;43mT\u001B[39;49m\u001B[38;5;124;43m%\u001B[39;49m\u001B[38;5;124;43mH:\u001B[39;49m\u001B[38;5;124;43m%\u001B[39;49m\u001B[38;5;124;43mM:\u001B[39;49m\u001B[38;5;124;43m%\u001B[39;49m\u001B[38;5;124;43mS+00:00\u001B[39;49m\u001B[38;5;124;43m\"\u001B[39;49m\u001B[43m)\u001B[49m\n\u001B[1;32m     17\u001B[0m first_article_abbr \u001B[38;5;241m=\u001B[39m datetime\u001B[38;5;241m.\u001B[39mstrptime(first_article_abbr, \u001B[38;5;124m\"\u001B[39m\u001B[38;5;124m%\u001B[39m\u001B[38;5;124mY-\u001B[39m\u001B[38;5;124m%\u001B[39m\u001B[38;5;124mm-\u001B[39m\u001B[38;5;132;01m%d\u001B[39;00m\u001B[38;5;124mT\u001B[39m\u001B[38;5;124m%\u001B[39m\u001B[38;5;124mH:\u001B[39m\u001B[38;5;124m%\u001B[39m\u001B[38;5;124mM:\u001B[39m\u001B[38;5;124m%\u001B[39m\u001B[38;5;124mS+00:00\u001B[39m\u001B[38;5;124m\"\u001B[39m)\n\u001B[1;32m     19\u001B[0m \u001B[38;5;66;03m# check if first_article_abbr is six month ahead of first_article_author\u001B[39;00m\n",
      "\u001B[0;31mTypeError\u001B[0m: strptime() argument 1 must be str, not None"
     ]
    }
   ],
   "source": [
    "def has_german_umlauts(input_string):\n",
    "    umlaut_pattern = re.compile(r'[äöüÄÖÜ]')\n",
    "    return bool(umlaut_pattern.search(input_string))\n",
    "\n",
    "# test if there is an authors that was mapped to an abbreviation that exceeds the authors name writing time by more than 6 months in the time before or after\n",
    "for index, row in author_mapping.iterrows():\n",
    "    author = row[\"name\"]\n",
    "    if has_german_umlauts(author):\n",
    "        # do not handle authors with umlauts because issues with sqlite LIKE operator\n",
    "        continue\n",
    "    abbreviation = row[\"abbreviation\"]\n",
    "    author_like = f\"%\\\"{author}\\\"%\"\n",
    "    abbr_like = f\"%\\\"{abbreviation}\\\"%\"\n",
    "    first_article_author = cur.execute(f\"SELECT MIN(published_at) FROM articles where author_array like ?\", (author_like,)).fetchone()[0]\n",
    "    first_article_abbr = cur.execute(f\"SELECT MIN(published_at) FROM articles where author_array like ?\", (abbr_like,)).fetchone()[0]\n",
    "    first_article_author = datetime.strptime(first_article_author, \"%Y-%m-%dT%H:%M:%S+00:00\")\n",
    "    first_article_abbr = datetime.strptime(first_article_abbr, \"%Y-%m-%dT%H:%M:%S+00:00\")\n",
    "\n",
    "    # check if first_article_abbr is six month ahead of first_article_author\n",
    "    if first_article_abbr < first_article_author - relativedelta.relativedelta(months=6):\n",
    "        print(f\"author: {author}, first_article_author: {first_article_author}, abbreviation: {abbreviation}, first_article_abbr: {first_article_abbr}\")\n",
    "\n",
    "    last_article_author = cur.execute(f\"SELECT MAX(published_at) FROM articles where author_array like ?\", (author_like,)).fetchone()[0]\n",
    "    last_article_abbr = cur.execute(f\"SELECT MAX(published_at) FROM articles where author_array like ?\", (abbr_like,)).fetchone()[0]\n",
    "    last_article_author = datetime.strptime(last_article_author, \"%Y-%m-%dT%H:%M:%S+00:00\")\n",
    "    last_article_abbr = datetime.strptime(last_article_abbr, \"%Y-%m-%dT%H:%M:%S+00:00\")\n",
    "\n",
    "    # check if last_article_abbr is six month behind of last_article_author\n",
    "    if last_article_abbr > last_article_author + relativedelta.relativedelta(months=6):\n",
    "        print(f\"author: {author}, last_article_author: {last_article_author}, abbreviation: {abbreviation}, last_article_abbr: {last_article_abbr}\")"
   ],
   "metadata": {
    "collapsed": false,
    "ExecuteTime": {
     "end_time": "2023-07-15T22:41:24.717432Z",
     "start_time": "2023-07-15T22:40:23.839784565Z"
    }
   }
  },
  {
   "cell_type": "markdown",
   "source": [
    "We can conclude that we need a mapping that takes into account the authors' lifespans. Abbreviations can be used for more than one author."
   ],
   "metadata": {
    "collapsed": false
   }
  },
  {
   "cell_type": "markdown",
   "source": [
    "Further, we notice that there are abbreviations that do not have an associated author. E.g. \"joka\", does not have any good fit."
   ],
   "metadata": {
    "collapsed": false
   }
  },
  {
   "cell_type": "markdown",
   "source": [],
   "metadata": {
    "collapsed": false
   }
  },
  {
   "cell_type": "code",
   "execution_count": null,
   "outputs": [],
   "source": [
    "print(f\"new graph has {len(g_new.nodes)} nodes and {len(g_new.edges)} edges\")"
   ],
   "metadata": {
    "collapsed": false
   }
  },
  {
   "cell_type": "markdown",
   "source": [
    "There are abbr nodes that were not matched with any author. That's why we have: edges * 2 < nodes."
   ],
   "metadata": {
    "collapsed": false
   }
  },
  {
   "cell_type": "code",
   "execution_count": 31,
   "outputs": [
    {
     "name": "stdout",
     "output_type": "stream",
     "text": [
      "abbreviation node ast has no edges\n",
      "abbreviation node dap has no edges\n",
      "abbreviation node at has no edges\n",
      "abbreviation node ept has no edges\n",
      "abbreviation node ata has no edges\n",
      "abbreviation node agr has no edges\n",
      "abbreviation node tha has no edges\n",
      "abbreviation node tmn has no edges\n",
      "abbreviation node th has no edges\n",
      "abbreviation node thoma has no edges\n",
      "abbreviation node the has no edges\n",
      "abbreviation node thg has no edges\n",
      "abbreviation node thll has no edges\n",
      "abbreviation node fliegner has no edges\n",
      "abbreviation node nie has no edges\n",
      "abbreviation node heike has no edges\n",
      "abbreviation node berins has no edges\n",
      "abbreviation node franz has no edges\n",
      "abbreviation node ken has no edges\n",
      "abbreviation node kas has no edges\n",
      "abbreviation node kst has no edges\n",
      "abbreviation node würker has no edges\n",
      "abbreviation node kretz has no edges\n",
      "abbreviation node kaz has no edges\n",
      "abbreviation node kri has no edges\n",
      "abbreviation node mafa has no edges\n",
      "abbreviation node in has no edges\n",
      "abbreviation node ri has no edges\n",
      "abbreviation node rol has no edges\n",
      "abbreviation node mape has no edges\n",
      "abbreviation node mp has no edges\n",
      "abbreviation node rö has no edges\n",
      "abbreviation node robn has no edges\n",
      "abbreviation node ben has no edges\n",
      "abbreviation node ret has no edges\n",
      "abbreviation node dimo has no edges\n",
      "abbreviation node awo has no edges\n",
      "abbreviation node mir has no edges\n",
      "abbreviation node mahr has no edges\n",
      "abbreviation node mot has no edges\n",
      "abbreviation node mabe has no edges\n",
      "abbreviation node mato has no edges\n",
      "abbreviation node mathias orb has no edges\n",
      "abbreviation node m orbeck has no edges\n",
      "abbreviation node mmc has no edges\n",
      "abbreviation node bau has no edges\n",
      "abbreviation node birgit has no edges\n",
      "abbreviation node bpa has no edges\n",
      "abbreviation node seb has no edges\n",
      "abbreviation node fb has no edges\n",
      "abbreviation node brown has no edges\n",
      "abbreviation node müller has no edges\n",
      "abbreviation node hn has no edges\n",
      "abbreviation node guido has no edges\n",
      "abbreviation node kar has no edges\n",
      "abbreviation node das has no edges\n",
      "abbreviation node ard has no edges\n",
      "abbreviation node maw has no edges\n",
      "abbreviation node mtg has no edges\n",
      "abbreviation node mwi has no edges\n",
      "abbreviation node mas has no edges\n",
      "abbreviation node syr has no edges\n",
      "abbreviation node stroh has no edges\n",
      "abbreviation node caro has no edges\n",
      "abbreviation node uk has no edges\n",
      "abbreviation node ts has no edges\n",
      "abbreviation node tos has no edges\n",
      "abbreviation node meine has no edges\n",
      "abbreviation node tin has no edges\n",
      "abbreviation node thomas has no edges\n",
      "abbreviation node th sparrer has no edges\n",
      "abbreviation node bley has no edges\n",
      "abbreviation node ulrike has no edges\n",
      "abbreviation node rka has no edges\n",
      "abbreviation node rare has no edges\n",
      "abbreviation node ck has no edges\n",
      "abbreviation node haku has no edges\n",
      "abbreviation node chk has no edges\n",
      "abbreviation node ja has no edges\n",
      "abbreviation node jana has no edges\n",
      "abbreviation node krenz has no edges\n",
      "abbreviation node frei has no edges\n",
      "abbreviation node senf has no edges\n",
      "abbreviation node fink has no edges\n",
      "abbreviation node döring has no edges\n",
      "abbreviation node großnick has no edges\n",
      "abbreviation node trache has no edges\n",
      "abbreviation node kfm has no edges\n",
      "abbreviation node koch has no edges\n",
      "abbreviation node pom has no edges\n",
      "abbreviation node nelle has no edges\n",
      "abbreviation node sho has no edges\n",
      "abbreviation node kha has no edges\n",
      "abbreviation node skg has no edges\n",
      "abbreviation node ski has no edges\n",
      "abbreviation node grätz has no edges\n",
      "abbreviation node sag has no edges\n",
      "abbreviation node fel has no edges\n",
      "abbreviation node fö has no edges\n",
      "abbreviation node hörügel has no edges\n",
      "abbreviation node isc has no edges\n",
      "abbreviation node kerst has no edges\n",
      "abbreviation node keine has no edges\n",
      "abbreviation node decker has no edges\n",
      "abbreviation node kern has no edges\n",
      "abbreviation node kecke has no edges\n",
      "abbreviation node krieck has no edges\n",
      "abbreviation node lmk has no edges\n",
      "abbreviation node axl has no edges\n",
      "abbreviation node bü has no edges\n",
      "abbreviation node jl has no edges\n",
      "abbreviation node rd has no edges\n",
      "abbreviation node roger has no edges\n",
      "abbreviation node rie has no edges\n",
      "abbreviation node rabe has no edges\n",
      "abbreviation node kl has no edges\n",
      "abbreviation node kel has no edges\n",
      "abbreviation node büchel has no edges\n",
      "abbreviation node rb has no edges\n",
      "abbreviation node pe has no edges\n",
      "abbreviation node cat has no edges\n",
      "abbreviation node ang has no edges\n",
      "abbreviation node kreuz has no edges\n",
      "abbreviation node sabine has no edges\n",
      "abbreviation node sbu has no edges\n",
      "abbreviation node kat has no edges\n",
      "abbreviation node kunze has no edges\n",
      "abbreviation node sas has no edges\n",
      "abbreviation node mst has no edges\n",
      "abbreviation node msh has no edges\n",
      "abbreviation node edp has no edges\n",
      "abbreviation node allne has no edges\n",
      "abbreviation node klein has no edges\n",
      "abbreviation node sie has no edges\n",
      "abbreviation node spr has no edges\n",
      "abbreviation node dw has no edges\n",
      "abbreviation node wurzel has no edges\n",
      "abbreviation node robak has no edges\n",
      "abbreviation node steffi has no edges\n",
      "abbreviation node s robak has no edges\n",
      "abbreviation node stro has no edges\n",
      "abbreviation node köster has no edges\n",
      "abbreviation node ift has no edges\n",
      "abbreviation node björn has no edges\n",
      "abbreviation node kommentar has no edges\n",
      "abbreviation node rösner has no edges\n",
      "abbreviation node haase has no edges\n",
      "abbreviation node hagen has no edges\n",
      "abbreviation node her has no edges\n",
      "abbreviation node pso has no edges\n",
      "abbreviation node sei has no edges\n",
      "abbreviation node jal has no edges\n",
      "abbreviation node jss has no edges\n",
      "abbreviation node dphe has no edges\n",
      "abbreviation node gina has no edges\n",
      "abbreviation node ga has no edges\n",
      "abbreviation node apitz has no edges\n",
      "abbreviation node pelzl has no edges\n",
      "abbreviation node mrz has no edges\n",
      "abbreviation node rainer has no edges\n",
      "abbreviation node dt has no edges\n",
      "abbreviation node julia has no edges\n",
      "abbreviation node juli has no edges\n",
      "abbreviation node jt has no edges\n",
      "abbreviation node joe has no edges\n",
      "abbreviation node olaf has no edges\n",
      "abbreviation node oba has no edges\n",
      "abbreviation node suw has no edges\n",
      "abbreviation node lje has no edges\n",
      "abbreviation node pat has no edges\n",
      "abbreviation node pas has no edges\n",
      "abbreviation node bjs has no edges\n",
      "abbreviation node kno has no edges\n",
      "abbreviation node pleil has no edges\n",
      "abbreviation node ngo has no edges\n",
      "abbreviation node wm has no edges\n",
      "abbreviation node win has no edges\n",
      "abbreviation node kast has no edges\n",
      "abbreviation node anita has no edges\n",
      "abbreviation node ake has no edges\n",
      "abbreviation node liz has no edges\n",
      "abbreviation node l polenz has no edges\n",
      "abbreviation node pol has no edges\n",
      "abbreviation node ost has no edges\n",
      "abbreviation node hv has no edges\n",
      "abbreviation node grothe has no edges\n",
      "abbreviation node mel has no edges\n",
      "abbreviation node cc has no edges\n",
      "abbreviation node cdi has no edges\n",
      "abbreviation node bast has no edges\n",
      "abbreviation node bf has no edges\n",
      "abbreviation node cab has no edges\n",
      "abbreviation node öp has no edges\n",
      "abbreviation node enp has no edges\n",
      "abbreviation node pi has no edges\n",
      "abbreviation node ap die kommentarfunktion steht morgen wieder zur verfügung has no edges\n",
      "abbreviation node dlvz has no edges\n",
      "abbreviation node el has no edges\n",
      "abbreviation node sandig has no edges\n",
      "abbreviation node tilma has no edges\n"
     ]
    }
   ],
   "source": [
    "# test that only abbrs are not in the matches nodes\n",
    "for node in g_new.nodes:\n",
    "    if g_new.degree(node) == 0 and node in author_list:\n",
    "        print(f\"author node {node} has no edges\")\n",
    "    elif g_new.degree(node) == 0 and node in abbr_list:\n",
    "        print(f\"abbreviation node {node} has no edges\")"
   ],
   "metadata": {
    "collapsed": false,
    "ExecuteTime": {
     "end_time": "2023-07-15T21:05:00.487422431Z",
     "start_time": "2023-07-15T21:05:00.394421716Z"
    }
   }
  },
  {
   "cell_type": "code",
   "execution_count": 35,
   "outputs": [
    {
     "name": "stdout",
     "output_type": "stream",
     "text": [
      "new neighbors of old abbr ast node neighbors andreas tappert are ['art']\n",
      "new neighbors of old abbr dap node neighbors andreas tappert are ['art']\n",
      "new neighbors of old abbr dap node neighbors nadja topfstedt are ['dpe']\n",
      "new neighbors of old abbr at node neighbors andreas tappert are ['art']\n",
      "new neighbors of old abbr ept node neighbors andreas tappert are ['art']\n",
      "new neighbors of old abbr ata node neighbors andreas tappert are ['art']\n",
      "new neighbors of old abbr agr node neighbors angelika raulien are ['arau']\n",
      "new neighbors of old abbr tha node neighbors thomas lang are ['thlang']\n",
      "new neighbors of old abbr tha node neighbors thomas haegeler are ['thl']\n",
      "new neighbors of old abbr tmn node neighbors thomas lang are ['thlang']\n",
      "new neighbors of old abbr tmn node neighbors thomas steingen are ['totei']\n",
      "new neighbors of old abbr th node neighbors thomas haegeler are ['thl']\n",
      "new neighbors of old abbr thoma node neighbors thomas haegeler are ['thl']\n",
      "new neighbors of old abbr the node neighbors thomas haegeler are ['thl']\n",
      "new neighbors of old abbr thg node neighbors thomas haegeler are ['thl']\n",
      "new neighbors of old abbr thll node neighbors thomas haegeler are ['thl']\n",
      "new neighbors of old abbr fliegner node neighbors nico fliegner are ['nf']\n",
      "new neighbors of old abbr nie node neighbors nico fliegner are ['nf']\n",
      "new neighbors of old abbr heike node neighbors heike liesaus are ['hl']\n",
      "new neighbors of old abbr berins node neighbors lisa berins are ['lisa']\n",
      "new neighbors of old abbr franz node neighbors frank pfütze are ['pfü']\n",
      "new neighbors of old abbr ken node neighbors kendra reinhardt are ['kir']\n",
      "new neighbors of old abbr kas node neighbors klaus staeubert are ['ks']\n",
      "new neighbors of old abbr kst node neighbors klaus staeubert are ['ks']\n",
      "new neighbors of old abbr würker node neighbors kay würker are ['kay']\n",
      "new neighbors of old abbr kretz node neighbors kathrin kabelitz are ['kk']\n",
      "new neighbors of old abbr kaz node neighbors kathrin kabelitz are ['kk']\n",
      "new neighbors of old abbr kri node neighbors kathrin kabelitz are ['kk']\n",
      "new neighbors of old abbr mafa node neighbors manfred hainich are ['mh']\n",
      "new neighbors of old abbr in node neighbors nikos natsidis are ['nn']\n",
      "new neighbors of old abbr ri node neighbors roland heinrich are ['rohe']\n",
      "new neighbors of old abbr ri node neighbors roger dietze are ['red']\n",
      "new neighbors of old abbr rol node neighbors roland heinrich are ['rohe']\n",
      "new neighbors of old abbr mape node neighbors matthias puppe are ['mpu']\n",
      "new neighbors of old abbr mp node neighbors matthias puppe are ['mpu']\n",
      "new neighbors of old abbr rö node neighbors robert nößler are ['nöß']\n",
      "new neighbors of old abbr robn node neighbors robert nößler are ['nöß']\n",
      "new neighbors of old abbr ben node neighbors robert nößler are ['nöß']\n",
      "new neighbors of old abbr ret node neighbors robert nößler are ['nöß']\n",
      "new neighbors of old abbr dimo node neighbors ditmar wohlgemuth are ['dem']\n",
      "new neighbors of old abbr dimo node neighbors dimo rieß are ['rieß']\n",
      "new neighbors of old abbr awo node neighbors ditmar wohlgemuth are ['dem']\n",
      "new neighbors of old abbr mir node neighbors matthias roth are ['mro']\n",
      "new neighbors of old abbr mahr node neighbors matthias roth are ['mro']\n",
      "new neighbors of old abbr mot node neighbors matthias roth are ['mro']\n",
      "new neighbors of old abbr mabe node neighbors mathias orbeck are ['mo']\n",
      "new neighbors of old abbr mabe node neighbors mario beck are ['mario']\n",
      "new neighbors of old abbr mato node neighbors mathias orbeck are ['mo']\n",
      "new neighbors of old abbr mathias orb node neighbors mathias orbeck are ['mo']\n",
      "new neighbors of old abbr m orbeck node neighbors mathias orbeck are ['mo']\n",
      "new neighbors of old abbr mmc node neighbors mathias orbeck are ['mo']\n",
      "new neighbors of old abbr bau node neighbors birgit schöppenthau are ['bis']\n",
      "new neighbors of old abbr birgit node neighbors birgit schöppenthau are ['bis']\n",
      "new neighbors of old abbr bpa node neighbors birgit schöppenthau are ['bis']\n",
      "new neighbors of old abbr seb node neighbors steffen brost are ['sb']\n",
      "new neighbors of old abbr fb node neighbors steffen brost are ['sb']\n",
      "new neighbors of old abbr brown node neighbors krysta brown are ['krysta']\n",
      "new neighbors of old abbr müller node neighbors frank müller are ['fm']\n",
      "new neighbors of old abbr hn node neighbors heike nyari are ['nyari']\n",
      "new neighbors of old abbr guido node neighbors guido schäfer are ['gs']\n",
      "new neighbors of old abbr kar node neighbors kathleen retzar are ['kr']\n",
      "new neighbors of old abbr das node neighbors andreas debski are ['ad']\n",
      "new neighbors of old abbr ard node neighbors andreas debski are ['ad']\n",
      "new neighbors of old abbr maw node neighbors mathias wöbking are ['mwö']\n",
      "new neighbors of old abbr mtg node neighbors mathias wöbking are ['mwö']\n",
      "new neighbors of old abbr mwi node neighbors mathias wöbking are ['mwö']\n",
      "new neighbors of old abbr mas node neighbors michael strohmeyer are ['mayer']\n",
      "new neighbors of old abbr mas node neighbors mathias schönknecht are ['ms']\n",
      "new neighbors of old abbr syr node neighbors michael strohmeyer are ['mayer']\n",
      "new neighbors of old abbr stroh node neighbors michael strohmeyer are ['mayer']\n",
      "new neighbors of old abbr caro node neighbors michael strohmeyer are ['mayer']\n",
      "new neighbors of old abbr uk node neighbors uwe köster are ['ukö']\n",
      "new neighbors of old abbr ts node neighbors thomas steingen are ['totei']\n",
      "new neighbors of old abbr ts node neighbors thomas sparrer are ['tsa']\n",
      "new neighbors of old abbr tos node neighbors thomas steingen are ['totei']\n",
      "new neighbors of old abbr tos node neighbors thomas sparrer are ['tsa']\n",
      "new neighbors of old abbr meine node neighbors thomas steingen are ['totei']\n",
      "new neighbors of old abbr meine node neighbors björn meine are ['bm']\n",
      "new neighbors of old abbr tin node neighbors thomas steingen are ['totei']\n",
      "new neighbors of old abbr thomas node neighbors thomas sparrer are ['tsa']\n",
      "new neighbors of old abbr th sparrer node neighbors thomas sparrer are ['tsa']\n",
      "new neighbors of old abbr bley node neighbors alexander bley are ['bly']\n",
      "new neighbors of old abbr ulrike node neighbors ulrike witt are ['uw']\n",
      "new neighbors of old abbr rka node neighbors reik anton are ['ra']\n",
      "new neighbors of old abbr rare node neighbors reinhard rädler are ['räd']\n",
      "new neighbors of old abbr ck node neighbors christian kunze are ['cku']\n",
      "new neighbors of old abbr haku node neighbors christian kunze are ['cku']\n",
      "new neighbors of old abbr chk node neighbors christian kunze are ['cku']\n",
      "new neighbors of old abbr ja node neighbors johannes angermann are ['jas']\n",
      "new neighbors of old abbr jana node neighbors johannes angermann are ['jas']\n",
      "new neighbors of old abbr krenz node neighbors frank prenzel are ['fpr']\n",
      "new neighbors of old abbr krenz node neighbors olaf krenz are ['okz']\n",
      "new neighbors of old abbr frei node neighbors frank pfeifer are ['fp']\n",
      "new neighbors of old abbr senf node neighbors sebastian fink are ['sf']\n",
      "new neighbors of old abbr fink node neighbors sebastian fink are ['sf']\n",
      "new neighbors of old abbr döring node neighbors frank döring are ['fd']\n",
      "new neighbors of old abbr großnick node neighbors heinz großnick are ['hg']\n",
      "new neighbors of old abbr trache node neighbors peter korfmacher are ['pk']\n",
      "new neighbors of old abbr kfm node neighbors peter korfmacher are ['pk']\n",
      "new neighbors of old abbr kfm node neighbors silke hoffmann are ['ska']\n",
      "new neighbors of old abbr koch node neighbors peter korfmacher are ['pk']\n",
      "new neighbors of old abbr pom node neighbors peter korfmacher are ['pk']\n",
      "new neighbors of old abbr nelle node neighbors robin seidler are ['rs']\n",
      "new neighbors of old abbr sho node neighbors silke hoffmann are ['ska']\n",
      "new neighbors of old abbr kha node neighbors kathrin haase are ['kh']\n",
      "new neighbors of old abbr skg node neighbors saskia grätz are ['saskia']\n",
      "new neighbors of old abbr ski node neighbors saskia grätz are ['saskia']\n",
      "new neighbors of old abbr ski node neighbors sebastian kositz are ['seko']\n",
      "new neighbors of old abbr ski node neighbors axel kaminski are ['ak']\n",
      "new neighbors of old abbr grätz node neighbors saskia grätz are ['saskia']\n",
      "new neighbors of old abbr sag node neighbors saskia grätz are ['saskia']\n",
      "new neighbors of old abbr fel node neighbors frank hörügel are ['fh']\n",
      "new neighbors of old abbr fö node neighbors frank hörügel are ['fh']\n",
      "new neighbors of old abbr hörügel node neighbors frank hörügel are ['fh']\n",
      "new neighbors of old abbr isc node neighbors ilka fischer are ['if']\n",
      "new neighbors of old abbr kerst node neighbors kerstin decker are ['kd']\n",
      "new neighbors of old abbr keine node neighbors kerstin decker are ['kd']\n",
      "new neighbors of old abbr decker node neighbors kerstin decker are ['kd']\n",
      "new neighbors of old abbr kern node neighbors kerstin decker are ['kd']\n",
      "new neighbors of old abbr kecke node neighbors kerstin decker are ['kd']\n",
      "new neighbors of old abbr krieck node neighbors kerstin decker are ['kd']\n",
      "new neighbors of old abbr lmk node neighbors axel kaminski are ['ak']\n",
      "new neighbors of old abbr axl node neighbors axel kaminski are ['ak']\n",
      "new neighbors of old abbr bü node neighbors dominik brüggemann are ['db']\n",
      "new neighbors of old abbr bü node neighbors olaf büchel are ['obü']\n",
      "new neighbors of old abbr jl node neighbors jochen leimert are ['jol']\n",
      "new neighbors of old abbr rd node neighbors roger dietze are ['red']\n",
      "new neighbors of old abbr roger node neighbors roger dietze are ['red']\n",
      "new neighbors of old abbr rie node neighbors roger dietze are ['red']\n",
      "new neighbors of old abbr rabe node neighbors reinhard weber are ['rnw']\n",
      "new neighbors of old abbr kl node neighbors kerstin leppich are ['sil']\n",
      "new neighbors of old abbr kel node neighbors kerstin leppich are ['sil']\n",
      "new neighbors of old abbr büchel node neighbors olaf büchel are ['obü']\n",
      "new neighbors of old abbr rb node neighbors robert berlin are ['rob']\n",
      "new neighbors of old abbr pe node neighbors peggy hamfler are ['ph']\n",
      "new neighbors of old abbr cat node neighbors constanze dietsch are ['codi']\n",
      "new neighbors of old abbr ang node neighbors anne grimm are ['agri']\n",
      "new neighbors of old abbr kreuz node neighbors sabine kreuz are ['sk']\n",
      "new neighbors of old abbr sabine node neighbors sabine kreuz are ['sk']\n",
      "new neighbors of old abbr sbu node neighbors sabine kreuz are ['sk']\n",
      "new neighbors of old abbr kat node neighbors karin tamcke are ['kt']\n",
      "new neighbors of old abbr kunze node neighbors anne kunze are ['aku']\n",
      "new neighbors of old abbr sas node neighbors stefan schilde are ['sts']\n",
      "new neighbors of old abbr sas node neighbors stefan schramm are ['sens']\n",
      "new neighbors of old abbr mst node neighbors mathias schönknecht are ['ms']\n",
      "new neighbors of old abbr msh node neighbors mathias schönknecht are ['ms']\n",
      "new neighbors of old abbr edp node neighbors alexander prautzsch are ['azs']\n",
      "new neighbors of old abbr allne node neighbors marlies neumann are ['mn']\n",
      "new neighbors of old abbr klein node neighbors jürgen kleindienst are ['jk']\n",
      "new neighbors of old abbr sie node neighbors simone prenzel are ['sp']\n",
      "new neighbors of old abbr spr node neighbors simone prenzel are ['sp']\n",
      "new neighbors of old abbr dw node neighbors dirk wurzel are ['diw']\n",
      "new neighbors of old abbr wurzel node neighbors dirk wurzel are ['diw']\n",
      "new neighbors of old abbr robak node neighbors steffi robak are ['iro']\n",
      "new neighbors of old abbr steffi node neighbors steffi robak are ['iro']\n",
      "new neighbors of old abbr s robak node neighbors steffi robak are ['iro']\n",
      "new neighbors of old abbr stro node neighbors steffi robak are ['iro']\n",
      "new neighbors of old abbr köster node neighbors kerstin förster are ['kefö']\n",
      "new neighbors of old abbr ift node neighbors kerstin förster are ['kefö']\n",
      "new neighbors of old abbr björn node neighbors björn meine are ['bm']\n",
      "new neighbors of old abbr kommentar node neighbors kommentar frank hörügel are ['kfa']\n",
      "new neighbors of old abbr rösner node neighbors hagen rösner are ['hr']\n",
      "new neighbors of old abbr haase node neighbors hagen rösner are ['hr']\n",
      "new neighbors of old abbr hagen node neighbors hagen rösner are ['hr']\n",
      "new neighbors of old abbr her node neighbors hagen rösner are ['hr']\n",
      "new neighbors of old abbr pso node neighbors guido schäfer aus der leipziger volkszeitung vom von schäfer are ['dkms']\n",
      "new neighbors of old abbr sei node neighbors steffen enigk are ['ste']\n",
      "new neighbors of old abbr sei node neighbors sarah englisch are ['she']\n",
      "new neighbors of old abbr jal node neighbors juliane lange are ['lang']\n",
      "new neighbors of old abbr jss node neighbors judith sophie schilling are ['jps']\n",
      "new neighbors of old abbr dphe node neighbors judith sophie schilling are ['jps']\n",
      "new neighbors of old abbr gina node neighbors gina apitz are ['gap']\n",
      "new neighbors of old abbr ga node neighbors gina apitz are ['gap']\n",
      "new neighbors of old abbr apitz node neighbors andré pitz are ['ap']\n",
      "new neighbors of old abbr pelzl node neighbors martin pelzl are ['martin']\n",
      "new neighbors of old abbr mrz node neighbors martin pelzl are ['martin']\n",
      "new neighbors of old abbr rainer node neighbors rainer schwurack are ['rieck']\n",
      "new neighbors of old abbr dt node neighbors dieter taszarek are ['dietze']\n",
      "new neighbors of old abbr julia node neighbors julia tonne are ['jto']\n",
      "new neighbors of old abbr juli node neighbors julia tonne are ['jto']\n",
      "new neighbors of old abbr jt node neighbors julia tonne are ['jto']\n",
      "new neighbors of old abbr joe node neighbors julia tonne are ['jto']\n",
      "new neighbors of old abbr olaf node neighbors olaf barth are ['ob']\n",
      "new neighbors of old abbr oba node neighbors olaf barth are ['ob']\n",
      "new neighbors of old abbr suw node neighbors susanne weidner are ['swd']\n",
      "new neighbors of old abbr lje node neighbors olaf majer are ['om']\n",
      "new neighbors of old abbr pat node neighbors pauline szyltowski are ['psz']\n",
      "new neighbors of old abbr pas node neighbors pauline szyltowski are ['psz']\n",
      "new neighbors of old abbr bjs node neighbors bjarne johansen-schmidt are ['bjh']\n",
      "new neighbors of old abbr kno node neighbors katharina ott are ['ko']\n",
      "new neighbors of old abbr pleil node neighbors ingolf pleil are ['ip']\n",
      "new neighbors of old abbr ngo node neighbors steffen georgi are ['sg']\n",
      "new neighbors of old abbr wm node neighbors winfried mahr are ['wim']\n",
      "new neighbors of old abbr win node neighbors winfried mahr are ['wim']\n",
      "new neighbors of old abbr kast node neighbors katharina stork are ['kasto']\n",
      "new neighbors of old abbr anita node neighbors anita kecke are ['anke']\n",
      "new neighbors of old abbr ake node neighbors anita kecke are ['anke']\n",
      "new neighbors of old abbr liz node neighbors linda polenz are ['lp']\n",
      "new neighbors of old abbr l polenz node neighbors linda polenz are ['lp']\n",
      "new neighbors of old abbr pol node neighbors linda polenz are ['lp']\n",
      "new neighbors of old abbr ost node neighbors thomas trummer are ['tt']\n",
      "new neighbors of old abbr hv node neighbors stephanie von aretin are ['sta']\n",
      "new neighbors of old abbr grothe node neighbors lucas grothe are ['lucas']\n",
      "new neighbors of old abbr mel node neighbors manuela engelmann-bunk are ['almu']\n",
      "new neighbors of old abbr cc node neighbors claudia carell are ['luc']\n",
      "new neighbors of old abbr cdi node neighbors claudia carell are ['luc']\n",
      "new neighbors of old abbr bast node neighbors bastian fischer are ['bfi']\n",
      "new neighbors of old abbr bf node neighbors bastian fischer are ['bfi']\n",
      "new neighbors of old abbr cab node neighbors cornelia braun are ['cb']\n",
      "new neighbors of old abbr öp node neighbors matthias klöppel are ['mkl']\n",
      "new neighbors of old abbr enp node neighbors ellen paul are ['ep']\n",
      "new neighbors of old abbr pi node neighbors pamela geißler are ['pg']\n",
      "new neighbors of old abbr ap die kommentarfunktion steht morgen wieder zur verfügung node neighbors matthias puppe die kommentarfunktion steht morgen wieder zur verfügung are ['koku']\n",
      "new neighbors of old abbr dlvz node neighbors bf und lvz are ['flvz']\n",
      "new neighbors of old abbr el node neighbors edgar lopez are ['elo']\n",
      "new neighbors of old abbr sandig node neighbors maria sandig are ['maria']\n",
      "new neighbors of old abbr tilma node neighbors tilman kortenhaus are ['tik']\n"
     ]
    }
   ],
   "source": [
    "# list the abbreviations that were connected to the author that the edges with zero edges were pointing to\n",
    "# so we can e.g. check if we need to enable multiple abbreviations for the same author\n",
    "for node in g_new.nodes:\n",
    "    if g_new.degree(node) == 0:\n",
    "        # check the authors of the old graph that were pointing to this abbreviation\n",
    "        old_neighbors = G.neighbors(node)\n",
    "        for old_neighbor in old_neighbors:\n",
    "            print(f\"new neighbors of old abbr {node} node neighbors {old_neighbor} are {list(g_new.neighbors(old_neighbor))}\")\n"
   ],
   "metadata": {
    "collapsed": false,
    "ExecuteTime": {
     "end_time": "2023-07-15T21:16:24.489181946Z",
     "start_time": "2023-07-15T21:16:24.410600736Z"
    }
   }
  },
  {
   "cell_type": "markdown",
   "source": [
    "From this we do see that some authors have several abbreviations\n",
    "For example: krysta brown has probably two abbreviations: \"krysta\" and \"brown\""
   ],
   "metadata": {
    "collapsed": false
   }
  },
  {
   "cell_type": "code",
   "execution_count": 41,
   "outputs": [
    {
     "name": "stdout",
     "output_type": "stream",
     "text": [
      "586 abbreviations were matched\n",
      "There are 200 abbreviations that were not matched\n"
     ]
    }
   ],
   "source": [
    "print(f\"{(len(g_new.edges))} abbreviations were matched\")\n",
    "print(f\"There are {len(g_new.nodes) - (len(g_new.edges) * 2)} abbreviations that were not matched\")"
   ],
   "metadata": {
    "collapsed": false,
    "ExecuteTime": {
     "end_time": "2023-07-15T21:43:55.977066392Z",
     "start_time": "2023-07-15T21:43:55.960863836Z"
    }
   }
  },
  {
   "cell_type": "code",
   "execution_count": 42,
   "outputs": [
    {
     "name": "stdout",
     "output_type": "stream",
     "text": [
      "['ast', 'dap', 'at', 'ept', 'ata', 'agr', 'tha', 'tmn', 'th', 'thoma', 'the', 'thg', 'thll', 'fliegner', 'nie', 'heike', 'berins', 'franz', 'ken', 'kas', 'kst', 'würker', 'kretz', 'kaz', 'kri', 'mafa', 'in', 'ri', 'rol', 'mape', 'mp', 'rö', 'robn', 'ben', 'ret', 'dimo', 'awo', 'mir', 'mahr', 'mot', 'mabe', 'mato', 'mathias orb', 'm orbeck', 'mmc', 'bau', 'birgit', 'bpa', 'seb', 'fb', 'brown', 'müller', 'hn', 'guido', 'kar', 'das', 'ard', 'maw', 'mtg', 'mwi', 'mas', 'syr', 'stroh', 'caro', 'uk', 'ts', 'tos', 'meine', 'tin', 'thomas', 'th sparrer', 'bley', 'ulrike', 'rka', 'rare', 'ck', 'haku', 'chk', 'ja', 'jana', 'krenz', 'frei', 'senf', 'fink', 'döring', 'großnick', 'trache', 'kfm', 'koch', 'pom', 'nelle', 'sho', 'kha', 'skg', 'ski', 'grätz', 'sag', 'fel', 'fö', 'hörügel', 'isc', 'kerst', 'keine', 'decker', 'kern', 'kecke', 'krieck', 'lmk', 'axl', 'bü', 'jl', 'rd', 'roger', 'rie', 'rabe', 'kl', 'kel', 'büchel', 'rb', 'pe', 'cat', 'ang', 'kreuz', 'sabine', 'sbu', 'kat', 'kunze', 'sas', 'mst', 'msh', 'edp', 'allne', 'klein', 'sie', 'spr', 'dw', 'wurzel', 'robak', 'steffi', 's robak', 'stro', 'köster', 'ift', 'björn', 'kommentar', 'rösner', 'haase', 'hagen', 'her', 'pso', 'sei', 'jal', 'jss', 'dphe', 'gina', 'ga', 'apitz', 'pelzl', 'mrz', 'rainer', 'dt', 'julia', 'juli', 'jt', 'joe', 'olaf', 'oba', 'suw', 'lje', 'pat', 'pas', 'bjs', 'kno', 'pleil', 'ngo', 'wm', 'win', 'kast', 'anita', 'ake', 'liz', 'l polenz', 'pol', 'ost', 'hv', 'grothe', 'mel', 'cc', 'cdi', 'bast', 'bf', 'cab', 'öp', 'enp', 'pi', 'ap die kommentarfunktion steht morgen wieder zur verfügung', 'dlvz', 'el', 'sandig', 'tilma']\n"
     ]
    }
   ],
   "source": [
    "# print not matched abbreviations\n",
    "print([node for node in g_new.nodes if g_new.degree(node) == 0])"
   ],
   "metadata": {
    "collapsed": false,
    "ExecuteTime": {
     "end_time": "2023-07-15T21:44:29.198934306Z",
     "start_time": "2023-07-15T21:44:29.112256884Z"
    }
   }
  },
  {
   "cell_type": "code",
   "execution_count": null,
   "outputs": [],
   "source": [],
   "metadata": {
    "collapsed": false
   }
  }
 ],
 "metadata": {
  "kernelspec": {
   "name": "lvz_venv",
   "language": "python",
   "display_name": "lvz_venv"
  },
  "language_info": {
   "codemirror_mode": {
    "name": "ipython",
    "version": 2
   },
   "file_extension": ".py",
   "mimetype": "text/x-python",
   "name": "python",
   "nbconvert_exporter": "python",
   "pygments_lexer": "ipython2",
   "version": "2.7.6"
  }
 },
 "nbformat": 4,
 "nbformat_minor": 0
}
