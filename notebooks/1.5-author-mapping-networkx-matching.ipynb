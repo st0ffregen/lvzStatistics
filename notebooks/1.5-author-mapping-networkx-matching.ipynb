{
 "cells": [
  {
   "cell_type": "code",
   "execution_count": 1,
   "metadata": {
    "collapsed": true,
    "ExecuteTime": {
     "end_time": "2023-07-22T15:06:20.104325478Z",
     "start_time": "2023-07-22T15:06:19.826806743Z"
    }
   },
   "outputs": [],
   "source": [
    "import json\n",
    "import sqlite3\n",
    "import numpy as np\n",
    "import pandas as pd\n",
    "import seaborn as sns\n",
    "import matplotlib.pyplot as plt\n",
    "import scipy\n",
    "import networkx as nx\n",
    "from dateutil import relativedelta\n",
    "from datetime import datetime\n",
    "import re\n",
    "import tqdm"
   ]
  },
  {
   "cell_type": "code",
   "execution_count": 2,
   "outputs": [],
   "source": [
    "\n",
    "con = sqlite3.connect('../data/interim/articles_with_author_mapping.db')\n",
    "cur = con.cursor()\n"
   ],
   "metadata": {
    "collapsed": false,
    "ExecuteTime": {
     "end_time": "2023-07-22T15:06:20.119194780Z",
     "start_time": "2023-07-22T15:06:20.111963463Z"
    }
   }
  },
  {
   "cell_type": "markdown",
   "source": [],
   "metadata": {
    "collapsed": false
   }
  },
  {
   "cell_type": "code",
   "execution_count": 3,
   "outputs": [],
   "source": [
    "cur.execute(\"select id, name, abbreviation, matching_certainty from authors\")\n",
    "rows = cur.fetchall()\n",
    "authors = pd.DataFrame(columns=[\"id\", \"name\", \"abbreviation\", \"certainty\"], data=rows)\n",
    "authors.set_index(\"id\", inplace=True)"
   ],
   "metadata": {
    "collapsed": false,
    "ExecuteTime": {
     "end_time": "2023-07-22T15:06:21.129993051Z",
     "start_time": "2023-07-22T15:06:20.131850289Z"
    }
   }
  },
  {
   "cell_type": "code",
   "execution_count": 4,
   "outputs": [],
   "source": [
    "# convert null to nans\n",
    "authors = authors.replace(\"null\", np.nan)"
   ],
   "metadata": {
    "collapsed": false,
    "ExecuteTime": {
     "end_time": "2023-07-22T15:06:21.186950812Z",
     "start_time": "2023-07-22T15:06:21.146613990Z"
    }
   }
  },
  {
   "cell_type": "code",
   "execution_count": 5,
   "outputs": [],
   "source": [
    "# set certainty of a row to the average certainty over all rows with same name and abbreviation, ignore nan values\n",
    "mean_certainty = authors.groupby([\"name\", \"abbreviation\"])[\"certainty\"].transform(lambda x: np.nanmean(x))\n",
    "authors[\"certainty\"] = mean_certainty"
   ],
   "metadata": {
    "collapsed": false,
    "ExecuteTime": {
     "end_time": "2023-07-22T15:06:21.469961480Z",
     "start_time": "2023-07-22T15:06:21.225583633Z"
    }
   }
  },
  {
   "cell_type": "code",
   "execution_count": 6,
   "outputs": [],
   "source": [
    "authors[\"name_pointing_to_abbreviation_count\"] = authors.groupby([\"name\", \"abbreviation\"])[\"name\"].transform(\"count\")\n",
    "authors[\"abbreviation_pointing_to_name_count\"] = authors.groupby([\"name\", \"abbreviation\"])[\"abbreviation\"].transform(\"count\")"
   ],
   "metadata": {
    "collapsed": false,
    "ExecuteTime": {
     "end_time": "2023-07-22T15:06:21.579120733Z",
     "start_time": "2023-07-22T15:06:21.475364697Z"
    }
   }
  },
  {
   "cell_type": "code",
   "execution_count": 7,
   "outputs": [],
   "source": [
    "# drop duplicates based on name, abbreviation, certainty. I can drop them because ..._count saved the count\n",
    "authors.drop_duplicates(subset=[\"name\", \"abbreviation\", \"certainty\"], inplace=True)"
   ],
   "metadata": {
    "collapsed": false,
    "ExecuteTime": {
     "end_time": "2023-07-22T15:06:21.651125159Z",
     "start_time": "2023-07-22T15:06:21.586398669Z"
    }
   }
  },
  {
   "cell_type": "code",
   "execution_count": 8,
   "outputs": [],
   "source": [
    "# set the share that the name has of all names that point to that abbreviation\n",
    "authors_with_name_pointing_to_abbreviation_sum =  authors.groupby([\"abbreviation\"]).agg(names_pointing_to_abbreviation_sum=(\"name_pointing_to_abbreviation_count\", \"sum\")).reset_index()\n",
    "authors = pd.merge(authors, authors_with_name_pointing_to_abbreviation_sum, on=\"abbreviation\")\n",
    "authors[\"name_pointing_to_abbreviation_share\"] = authors[\"name_pointing_to_abbreviation_count\"] / authors[\"names_pointing_to_abbreviation_sum\"]"
   ],
   "metadata": {
    "collapsed": false,
    "ExecuteTime": {
     "end_time": "2023-07-22T15:06:21.719741547Z",
     "start_time": "2023-07-22T15:06:21.663515323Z"
    }
   }
  },
  {
   "cell_type": "code",
   "execution_count": 9,
   "outputs": [],
   "source": [
    "# set the share that the abbreviation has of all abbreviations that point to that name\n",
    "authors_with_abbreviation_pointing_to_name_sum = authors.groupby([\"name\"]).agg(abbreviations_pointing_to_name_sum=(\"abbreviation_pointing_to_name_count\", \"sum\")).reset_index()\n",
    "authors = pd.merge(authors, authors_with_abbreviation_pointing_to_name_sum, on=\"name\")\n",
    "authors[\"abbreviation_pointing_to_name_share\"] = authors[\"abbreviation_pointing_to_name_count\"] / authors[\"abbreviations_pointing_to_name_sum\"]"
   ],
   "metadata": {
    "collapsed": false,
    "ExecuteTime": {
     "end_time": "2023-07-22T15:06:21.720788535Z",
     "start_time": "2023-07-22T15:06:21.704269048Z"
    }
   }
  },
  {
   "cell_type": "code",
   "execution_count": 10,
   "outputs": [],
   "source": [
    "# calculate a final score for the weighted edge between name and abbreviation\n",
    "authors[\"score\"] = authors[\"certainty\"] + authors[\"name_pointing_to_abbreviation_share\"] + authors[\"abbreviation_pointing_to_name_share\"]"
   ],
   "metadata": {
    "collapsed": false,
    "ExecuteTime": {
     "end_time": "2023-07-22T15:06:21.770257258Z",
     "start_time": "2023-07-22T15:06:21.718266857Z"
    }
   }
  },
  {
   "cell_type": "code",
   "execution_count": 11,
   "outputs": [],
   "source": [
    "# reduce the problem space to a bipartite graph, assigning all (name, abbreviation) pairs that are not connected to the graph as final/solved\n",
    "# add pairs to final mapping where abbreviation_pointing_to_name_count == 1 or name_pointing_to_abbreviation_count == 1 and remove those from the authors \n",
    "#one_to_one_mappings = authors[(authors[\"abbreviations_pointing_to_name_sum\"] == 1) & (authors[\"names_pointing_to_abbreviation_sum\"] == 1)]\n",
    "#final_mapping = pd.concat([final_mapping, one_to_one_mappings[[\"name\", \"abbreviation\"]]], ignore_index=True)\n",
    "\n",
    "#authors = authors[(authors[\"abbreviations_pointing_to_name_sum\"] != 1) | (authors[\"names_pointing_to_abbreviation_sum\"] != 1)]"
   ],
   "metadata": {
    "collapsed": false,
    "ExecuteTime": {
     "end_time": "2023-07-22T15:06:21.770843025Z",
     "start_time": "2023-07-22T15:06:21.762085078Z"
    }
   }
  },
  {
   "cell_type": "code",
   "execution_count": 12,
   "outputs": [],
   "source": [
    "authors = authors[authors[\"name\"] != \"A. Krieger\"]\n"
   ],
   "metadata": {
    "collapsed": false,
    "ExecuteTime": {
     "end_time": "2023-07-22T15:06:21.771332093Z",
     "start_time": "2023-07-22T15:06:21.762537287Z"
    }
   }
  },
  {
   "cell_type": "code",
   "execution_count": 13,
   "outputs": [],
   "source": [
    "# remove self referencing nodes\n",
    "authors = authors[authors[\"name\"] != authors[\"abbreviation\"]]"
   ],
   "metadata": {
    "collapsed": false,
    "ExecuteTime": {
     "end_time": "2023-07-22T15:06:21.771916899Z",
     "start_time": "2023-07-22T15:06:21.762915802Z"
    }
   }
  },
  {
   "cell_type": "code",
   "execution_count": 14,
   "outputs": [],
   "source": [
    "# add name and abbreviation as nodes list and remove duplicates\n",
    "nodes = list(authors[\"name\"].unique()) + list(authors[\"abbreviation\"].unique())\n",
    "\n",
    "# add unique edges based on entries in the authors table\n",
    "edges = []\n",
    "for index, row in authors.iterrows():\n",
    "    edges.append((row[\"name\"], row[\"abbreviation\"]))"
   ],
   "metadata": {
    "collapsed": false,
    "ExecuteTime": {
     "end_time": "2023-07-22T15:06:21.925794598Z",
     "start_time": "2023-07-22T15:06:21.805544331Z"
    }
   }
  },
  {
   "cell_type": "code",
   "execution_count": 15,
   "outputs": [],
   "source": [
    "G = nx.Graph()\n",
    "G.clear()\n",
    "author_list = list(authors[\"name\"].unique())\n",
    "abbr_list = list(authors[authors[\"name\"].isin(author_list)][\"abbreviation\"].unique())\n",
    "G.add_nodes_from(author_list, bipartite=0)\n",
    "G.add_nodes_from(abbr_list, bipartite=1)\n",
    "dummy_nodes = [f\"{name}_dummy\" for name in author_list]\n",
    "G.add_nodes_from(dummy_nodes, bipartite=1)\n",
    "\n",
    "edges = []\n",
    "for index, row in authors[authors[\"name\"].isin(author_list) & authors[\"abbreviation\"].isin(abbr_list)].iterrows():\n",
    "    G.add_edges_from([(row[\"name\"], row[\"abbreviation\"])], weight=round(row[\"score\"],2) * -1)\n",
    "\n",
    "for name in author_list:\n",
    "    G.add_edges_from([(name, f\"{name}_dummy\")], weight=0)\n"
   ],
   "metadata": {
    "collapsed": false,
    "ExecuteTime": {
     "end_time": "2023-07-22T15:06:22.004991309Z",
     "start_time": "2023-07-22T15:06:21.881451426Z"
    }
   }
  },
  {
   "cell_type": "code",
   "execution_count": 16,
   "outputs": [],
   "source": [
    "new_edges = nx.bipartite.minimum_weight_full_matching(G, top_nodes=list(authors[\"name\"].unique()), weight=\"weight\")\n",
    "g_new = nx.Graph()\n",
    "g_new.clear()\n",
    "g_new.add_nodes_from(author_list, bipartite=0)\n",
    "g_new.add_nodes_from(abbr_list, bipartite=1)\n",
    "g_new.add_edges_from(new_edges.items())"
   ],
   "metadata": {
    "collapsed": false,
    "ExecuteTime": {
     "end_time": "2023-07-22T15:06:22.075907210Z",
     "start_time": "2023-07-22T15:06:22.022623132Z"
    }
   }
  },
  {
   "cell_type": "markdown",
   "source": [],
   "metadata": {
    "collapsed": false
   }
  },
  {
   "cell_type": "markdown",
   "source": [],
   "metadata": {
    "collapsed": false
   }
  },
  {
   "cell_type": "code",
   "execution_count": 17,
   "outputs": [
    {
     "data": {
      "text/plain": "EdgeView([('Kai-Uwe Brandt', 'kub'), ('Jan Peter', 'jap'), ('Manfred Lüttich', 'malü'), ('März Frank Pfütze', 'März Frank Pfütze_dummy'), ('Magdalena Froehlich', 'mf'), ('Michael Frömmert', 'maf'), ('Heiko Trebs', 'ht'), ('Andreas Tappert', 'art'), ('Annett Riedel', 'ar'), ('Angelika Raulien', 'arau'), ('Andrea Richter', 'Andrea Richter_dummy'), ('Nadja Topfstedt', 'dpe'), ('Norbert Töpfer', 'nt'), ('Niklas Tolkamp', 'Niklas Tolkamp_dummy'), ('Thomas Lang', 'thlang'), ('Thomas Haegeler', 'thl'), ('Antje Henselin-Rudolph', 'ahr'), ('Lutz Schmidt', 'ls'), ('Nico Fliegner', 'nf'), ('Heike Liesaus', 'hl'), ('Juliane Streich', 'just'), ('Ulrike Sauer', 'Ulrike Sauer_dummy'), ('Lisa Garn', 'Lisa Garn_dummy'), ('Lisa Berins', 'lisa'), ('Lisa Seliger', 'lis'), ('Melanie Steitz', 'mes'), ('Lisa Schliep', 'liss'), ('Laurine Schubert', 'Laurine Schubert_dummy'), ('Kendra Reinhardt', 'kir'), ('Karoline Maria Keybe', 'key'), ('Kinderwerkstatt anmeldet', 'Kinderwerkstatt anmeldet_dummy'), ('Kommentar Jonas Alder', 'Kommentar Jonas Alder_dummy'), ('Kunze Christian Kunze', 'Kunze Christian Kunze_dummy'), ('Klaus Staeubert', 'ks'), ('Kristina Ahnert', 'Kristina Ahnert_dummy'), ('Kay Würker', 'kay'), ('Kathrin Kabelitz', 'kk'), ('komplette Abstimmungsergebnis', 'komplette Abstimmungsergebnis_dummy'), ('Kim Aalders', 'Kim Aalders_dummy'), ('Kai-Uwe Arnold', 'ka'), ('Karen Arnold', 'Karen Arnold_dummy'), ('Katharina Ahlers', 'Katharina Ahlers_dummy'), ('Frank Pfütze', 'pfü'), ('Pfütze Frank', 'pfütze'), ('Meike Strüber', 'mei'), ('Michael Dick', 'midi'), ('Manfred Hainich', 'mh'), ('Nikos Natsidis', 'nn'), ('Heiko Henschel', 'Heiko Henschel_dummy'), ('Roland Heinrich', 'rohe'), ('Heinrich Lillie', 'hei'), ('Matthias Puppe', 'mpu'), ('Robert Nößler', 'nöß'), ('Roland Herold', 'rh'), ('Anne-Kathrin Sturm', '-art'), ('Ditmar Wohlgemuth', 'dem'), ('DNN-Online maf', 'doa'), ('Dominik Bath', 'dom'), ('Dominic Welters', 'do'), ('Haig Latchinian', 'hat'), ('Linda Polenz', 'lp'), ('Marco Irrgang', 'mi'), ('Matthias Roth', 'mro'), ('Miriam Ihle', 'Miriam Ihle_dummy'), ('Manuel Niemann', 'lni'), ('Mathias Orbeck', 'mo'), ('Marion von Imhoff', 'Marion von Imhoff_dummy'), ('Andreas Friedrich', 'af'), ('Birgit Schöppenthau', 'bis'), ('Bastian Schröder', 'bas'), ('Christin Grödel', 'Christin Grödel_dummy'), ('Christine Gräfe', 'cgr'), ('Steffen Brost', 'sb'), ('Barbara Osdarty', 'bos'), ('Krysta Brown', 'krysta'), ('Von Steffen Brost', 'Von Steffen Brost_dummy'), ('Benno Rougk', 'bro'), ('Frank Schmidt', 'fri'), ('Frank Müller', 'fm'), ('Nina May', 'ny'), ('Von Heike Nyari', 'Von Heike Nyari_dummy'), ('Heike Nyari', 'nyari'), ('Guido Schäfer', 'gs'), ('Janina Fleischer', 'jaf'), ('Karin Rieck', 'karin'), ('Kathleen Retzar', 'kr'), ('Stephan Lohse', 'sl'), ('Stefan Lehmann', 'Stefan Lehmann_dummy'), ('Simone Liss', 'sil'), ('Eberhard Schmiedel', 'ebs'), ('Holger Günther', 'hog'), ('Stefan Banitz', 'stb'), ('Jens Rosenkranz', 'ror'), ('melden joka', 'joka'), ('Winfried Wächter', 'witt'), ('Wilma Rücker', 'wer'), ('Lokalteil Delitzsch-Eilenburg', 'lok'), ('Andreas Dunte', 'ans'), ('Andreas Debski', 'ad'), ('Andreas Ebel', 'ade'), ('Andreas Debsk i', 'ani'), ('Frauke Sievers', 'fs'), ('Frank Schober', 'frs'), ('Anne Ulbricht', 'au'), ('Markus Werning', 'mw'), ('Mathias Wöbking', 'mwö'), ('Thomas Mayer', 'tom'), ('Thomas Meißner', 'Thomas Meißner_dummy'), ('Jens Rometsch', 'jem'), ('Jörg Reuter', 'jr'), ('Maria Keybe', 'may'), ('Michael Strohmeyer', 'mayer'), ('Michael Meyer', 'mey'), ('Uwe Köster', 'ukö'), ('Jenifer Hochhaus', 'jh'), ('Josephine Heinze', 'joh'), ('Julia Wick', 'Julia Wick_dummy'), ('Jörg Wolf', 'jw'), ('Thomas Steingen', 'totei'), ('Thomas Sparrer', 'tsa'), ('Alexander Bley', 'bly'), ('Ulrike Witt', 'uw'), ('Reik Anton', 'ra'), ('Florian Bamberg', 'fib'), ('Stefanie Büssing', 'büs'), ('Astrid Hofmann', 'ah'), ('Anke Herold', 'herold'), ('Christiane Lösch', 'chl'), ('Chris Lademann', 'Chris Lademann_dummy'), ('Christoph Lemmer', 'Christoph Lemmer_dummy'), ('Friederike Spröh', 'fes'), ('Von Thomas Steingen', 'Von Thomas Steingen_dummy'), ('Nicole Rathge-Scholz', 'Nicole Rathge-Scholz_dummy'), ('Oliver von Riegen Stefan Hantzschmann und Jörg Schurig', 'ots'), ('ter Vehn', 'tv'), ('Jörg ter Vehn', 'ttr'), ('Evelyn ter Vehn', 'er'), ('Reinhard Rädler', 'räd'), ('Carina Reinhardt', 'car'), ('Conny Hanspach', 'Conny Hanspach_dummy'), ('Christoph Springer', 'cs'), ('Christoph Stephan', 'chs'), ('Christian Kunze', 'cku'), ('Johannes Angermann', 'jas'), ('Frank Prenzel', 'fpr'), ('Frank Pfeifer', 'fp'), ('Sebastian Fink', 'sf'), ('Catrin Steinbach', 'cat'), ('Claus Schimmel', 'Claus Schimmel_dummy'), ('Frank Döring', 'fd'), ('Juliette Guttmann', 'jg'), ('Julia Grubitzsch', 'Julia Grubitzsch_dummy'), ('J. Greschner', 'J. Greschner_dummy'), ('Juliane Groh', 'Juliane Groh_dummy'), ('Christian Grube', 'cg'), ('Skadi Hofmann', 'skadi'), ('Heinz Großnick', 'hg'), ('Hanna Gerwig', 'hgw'), ('Peter Korfmacher', 'pk'), ('Insa van', 'ivn'), ('Ekkehard Schulreich', 'es'), ('Robin Seidler', 'rs'), ('Silke Hoffmann', 'ska'), ('Nora Ernst', 'noe'), ('Daniel Große', 'dg'), ('Kai Kollenberg', 'kol'), ('Kommentar Thomas Lieb', 'Kommentar Thomas Lieb_dummy'), ('Tanja Kirsten', 'tak'), ('Ines Christ', 'ic'), ('Friederike Ostwald', 'ffo'), ('Franziska Wülle', 'Franziska Wülle_dummy'), ('Frank-Thomas Wenzel', 'fsw'), ('fsw-News', 'fsw-News_dummy'), ('Kathrin Haase', 'kh'), ('Saskia Grätz', 'saskia'), ('Frank Hörügel', 'fh'), ('Ilka Fischer', 'if'), ('Johannes David', 'jd'), ('Thomas Lieb', 'tl'), ('Kay Wuerker', 'kw'), ('Kerstin Decker', 'kd'), ('Dennis Röthig', 'dir'), ('Dimo Rieß', 'rieß'), ('Sebastian Kositz', 'seko'), ('Lilly Biedermann', 'lyn'), ('Axel Kaminski', 'ak'), ('Dominik Brüggemann', 'bü'), ('Dirk Birgel', 'db'), ('Thomas Jentzsch', 'tj'), ('Matthias Jung', 'Matthias Jung_dummy'), ('Marcel Jud', 'Marcel Jud_dummy'), ('Mario Jahn', 'maj'), ('Jochen Leimert', 'jol'), ('Michael Graul', 'Michael Graul_dummy'), ('Handballer agri', 'haeg'), ('Regina Katzer', 'reka'), ('Rainer Küster', 'rk'), ('Roger Dietze', 'red'), ('Heiko Weckbrodt', 'hw'), ('Reinhard Weber', 'rnw'), ('Stephan Hönigschmid', 'Stephan Hönigschmid_dummy'), ('Sparrer Thomas Sparrer', 'sth'), ('Kerstin Leppich', 'kl'), ('Ralf Redemund', 'rau'), ('Jane Jannke', 'jaja'), ('Mario Beck', 'mario'), ('Benjamin Böhme', 'bb'), ('Mark Daniel', 'mad'), ('Olaf Büchel', 'obü'), ('Marie Frec', 'Marie Frec_dummy'), ('Robert Berlin', 'rob'), ('Robert Büssow', 'rbü'), ('Barbara Stock', 'Barbara Stock_dummy'), ('Bärbel Schumann', 'bs'), ('Arndt Beckert', 'dtb'), ('dpa Thomas Lieb', 'dpa Thomas Lieb_dummy'), ('Tobias Zinnecker', 'tz'), ('Theresa Held und Birgit Zimmermann', 'Theresa Held und Birgit Zimmermann_dummy'), ('Daniel Kaiser', 'dk'), ('Denis Korn', 'Denis Korn_dummy'), ('Decker Kerstin', 'Decker Kerstin_dummy'), ('Dirk Knofe', 'dirk'), ('David Knapp', 'David Knapp_dummy'), ('Bettina Winkler', 'Bettina Winkler_dummy'), ('Benjamin Winkler', 'bw'), ('Tobias Junghannß', 'Tobias Junghannß_dummy'), ('Martin Glass', 'mg'), ('Peggy Hamfler', 'ph'), ('Annett Böhm', 'abö'), ('André Böhmer', 'aab'), ('Denis Burkhardt', 'Denis Burkhardt_dummy'), ('Döbeln richten.', 'dbr'), ('Anne Grimm', 'agri'), ('Clemens Haug', 'cha'), ('Christine Jacob', 'cj'), ('Sabine Kreuz', 'sk'), ('Karin Tamcke', 'kt'), ('Alexander Laboda', 'Alexander Laboda_dummy'), ('Angelika Oswald', 'ao'), ('Anne Kunze', 'aku'), ('Jeannine Steinbrecher', 'Jeannine Steinbrecher_dummy'), ('Jane Sommer', 'js'), ('Jörg Schurig', 'Jörg Schurig_dummy'), ('Jan Sternberg', 'Jan Sternberg_dummy'), ('Stefan Schilde', 'sts'), ('Stefan Schramm', 'sens'), ('Anna-Luise Landgraf', 'aul'), ('Isabel Oelsner', 'io'), ('Paul Müller', 'Paul Müller_dummy'), ('Peter Matzke', 'Peter Matzke_dummy'), ('Patrick Moye', 'Patrick Moye_dummy'), ('Peter Müller', 'Peter Müller_dummy'), ('Peer Meinert', 'Peer Meinert_dummy'), ('Paul Felix Michaelis', 'pmi'), ('Pia Siemer', 'Pia Siemer_dummy'), ('Petra Mewes', 'pm'), ('Lothar Albrecht', 'loa'), ('Mathias Schönknecht', 'ms'), ('Vivian Degen', 'viv'), ('Inge Engelhardt', 'ie'), ('Ines Eisele', 'Ines Eisele_dummy'), ('Inge-Dore Engelhardt', 'Inge-Dore Engelhardt_dummy'), ('Madeleine Arndt', 'ma'), ('Alexander Prautzsch', 'allner'), ('Daniel Bachmann', 'dab'), ('Fotolia underwaterpics', 'fu'), ('Janett Petermann', 'jp'), ('Jens Paul Taubert', 'jpt'), ('Marlies Neumann', 'mn'), ('Marie Landes', 'Marie Landes_dummy'), ('mpu luc', 'mpu luc_dummy'), ('Martin Lange', 'ml'), ('Manuela Engelmann-Bunk', 'almu'), ('Dieter Wonka', 'da'), ('Jürgen Kleindienst', 'jk'), ('joka lvz', 'jkl'), ('Thomas Baumann-Hartwig', 'tbh'), ('Simone Prenzel', 'sp'), ('Wolfgang Wukasch', 'ww'), ('Manuela Engelmann', 'ug'), ('Michael Ernst', 'me'), ('Gabi Liebegall', 'gl'), ('Peter Ader', 'pa'), ('Dirk Wurzel', 'diw'), ('Sabine Hinkel', 'hinkel'), ('Steffi Robak', 'iro'), ('sagte Orosz.', 'sro'), ('Volkmar Heinz', 'vhz'), ('Claudia Carell-Domröse', 'adö'), ('Leonie Born', 'lbo'), ('Markus Bien', 'mb'), ('Mathias Bierende', 'mathias bierende'), ('Kerstin Förster', 'kefö'), ('Conrad Ziesch', 'cz'), ('Günther Hunger', 'gh'), ('Heiko Stets', 'hs'), ('Stefan Stosch', 'stets'), ('Björn Meine', 'bm'), ('Kommentar Frank Hörügel', 'kfa'), ('Petra Zimmermann', 'pz'), ('Hagen Rösner', 'hr'), ('Kommentar Jörg Wolf', 'Kommentar Jörg Wolf_dummy'), ('Gemeindechronik Nico Fliegner', 'knof'), ('Amélie Middelberg', 'Amélie Middelberg_dummy'), ('Anja Macheleid', 'am'), ('Steffen Moritz', 'sm'), ('Tatjana Böhme-Mehner', 'ajm'), ('Katharina Schultz', 'katrin'), ('Katrin Zeiß', 'katz'), ('Kerstin Staffe', 'staffe'), ('Hellmut Mauersberger', 'hmr'), ('Katharina Ecke', 'ecke'), ('Eckhard Riedel', 'Eckhard Riedel_dummy'), ('Annegudrun Heilmann', 'gruhl'), ('Leonie Ebert', 'Leonie Ebert_dummy'), ('Lena-Marie Lübker', 'la'), ('Luise Binder', 'lieb'), ('Marie-Christine Buntrock', 'mcb'), ('Christoph Bräuer', 'bräuer'), ('Marcel Braune', 'maba'), ('Amélie Middelberg am', 'Amélie Middelberg am_dummy'), ('Allner Natasha Allner', 'ala'), ('Uwe Hofmann', 'uf'), ('Ulrich Milde', 'umi'), ('Ute Hirsch', 'uh'), ('Florian Theis', 'ft'), ('Feliks Todtmann', 'Feliks Todtmann_dummy'), ('mro dapd', 'dapd'), ('Peter Idaczek', 'pd'), ('Patricia Liebling', 'pl'), ('André Neumann', 'an'), ('Evelin Böhme-Pock', 'bho'), ('Stefanie Dietz', 'sd'), ('Matthias Pöls', 'mpö'), ('cku Heinz Großnick', 'chg'), ('Christian Geinitz', 'Christian Geinitz_dummy'), ('Guido Schäfer Aus der Leipziger Volkszeitung vom Von Schäfer', 'dkms'), ('Jana Brechlin', 'jb'), ('Falko Deparade', 'dpad'), ('Steffen Enigk', 'ste'), ('Juliane Lange', 'lang'), ('Judith Sophie Schilling', 'jps'), ('Birgit Rabe', 'br'), ('Felix Forberg', 'flo'), ('Felix Kretz', 'felix'), ('Florian Reinke', 'fr'), ('Bernd Locker', 'Bernd Locker_dummy'), ('Beatrice Kasel', 'beck'), ('Gina Apitz', 'gap'), ('André Pitz', 'ap'), ('Martin Pelzl', 'martin'), ('Doreen Schellenberg', 'dsc'), ('Wolfram Lenk', 'wolf'), ('schloss Handke.', 'sch'), ('Frank Kastner', 'frank'), ('Rainer Schwurack', 'rieck'), ('Julia Wagner', 'uwe'), ('Dieter Taszarek', 'dietze'), ('Torsten Teichert', 'tonne'), ('Julia Tonne', 'jto'), ('Kommentar Frank Pfütze', 'afp'), ('Manfred Pfau', 'Manfred Pfau_dummy'), ('Ralf und Pfeifer', 'ralf'), ('Ralf Saupe', 'Ralf Saupe_dummy'), ('Sebastian Stöber', 'stöber'), ('Hörügel Frank Hörügel', 'hörügel'), ('Von Felix Kretz', 'von felix kretz'), ('Olaf Krenz', 'okz'), ('Olaf Barth', 'ob'), ('Holger Baumgärtner', 'hb'), ('Hanspeter Brodbeck', 'Hanspeter Brodbeck_dummy'), ('Peter Ruf', 'pr'), ('Philip Rißling', 'Philip Rißling_dummy'), ('Pauline Rabe', 'Pauline Rabe_dummy'), ('Susanne Weidner', 'swd'), ('Julia Carstens', 'jca'), ('Adina Rieckmann', 'ari'), ('Rigo Adelhöfer', 'Rigo Adelhöfer_dummy'), ('Uwe Köster Aus der Leipziger Volkszeitung vom Frank Schober', 'Uwe Köster Aus der Leipziger Volkszeitung vom Frank Schober_dummy'), ('Saupe Ralf und Pfeifer', 'saupe'), ('Julia Vollmer', 'jv'), ('Sparkassenverbandes erhält.', 'sparrer'), ('Dominik Ferl', 'df'), ('Döring Frank', 'Döring Frank_dummy'), ('Olaf Majer', 'om'), ('Von Heike', 'vh'), ('Yvonne Schmidt', 'ys'), ('Martin Moser', 'moser'), ('Nadine Lea Siegmund', 'nls'), ('Reinhard Urschel', 'reu'), ('René Beuckert', 'René Beuckert_dummy'), ('Robert Nößler und Matthias Roth', 'belo'), ('Sven Zschiesche', 'sz'), ('Hauke Heuer', 'hh'), ('Horst Hampe', 'Horst Hampe_dummy'), ('Von Winfried Wächter', 'von winfried wächter'), ('Katharina Goldbach', 'kg'), ('Kristin Engel', 'ke'), ('Peter Stracke', 'ps'), ('Pauline Szyltowski', 'psz'), ('Thomas Keiderling', 'tk'), ('Tatjana Kulpa', 'Tatjana Kulpa_dummy'), ('Thomas Kube', 'thk'), ('Ines Alekowa', 'ia'), ('Thomas Zinnert', 'tasz'), ('Arndt Boettcher', 'Arndt Boettcher_dummy'), ('Marc Bohländer', 'mber'), ('obü Olaf Büchel', 'boh'), ('Bjarne Johansen-Schmidt', 'bjh'), ('Katharina Ott', 'ko'), ('Natasha G. Allner', 'nga'), ('Sarah Englisch', 'she'), ('Winfried Schumacher', 'Winfried Schumacher_dummy'), ('Wolfgang Sens', 'ws'), ('Ingolf Pleil', 'ip'), ('Steffen Georgi', 'sg'), ('Jochen Schmalz', 'jhz'), ('Emillio Rappold', 'Emillio Rappold_dummy'), ('Dietrich Pätzold', 'dp'), ('Vera Podskalsky', 'Vera Podskalsky_dummy'), ('Elisabeth Triegel und Ulrike Gaudigs Eine Kooperation mit dem Bachfest Leipzig', 'Elisabeth Triegel und Ulrike Gaudigs Eine Kooperation mit dem Bachfest Leipzig_dummy'), ('Stephanie Riedel', 'Stephanie Riedel_dummy'), ('Josephine Heinze und Dirk Knofe (Foto)', 'Josephine Heinze und Dirk Knofe (Foto)_dummy'), ('Nadine Pensold', 'epd'), ('Andreas Tappert und Florian Reinke', 'Andreas Tappert und Florian Reinke_dummy'), ('Denise Peikert (Text) und Nora Börding (Fotos)', 'Denise Peikert (Text) und Nora Börding (Fotos)_dummy'), ('Schulungspartner aufgetreten', 'susa'), ('Winfried Mahr', 'wm'), ('Wilhelm Pischke', 'wim'), ('Frank-Walter Steinmeier', 'Frank-Walter Steinmeier_dummy'), ('Katharina Stork', 'kasto'), ('Anita Kecke', 'anke'), ('Anita Häußler', 'häu'), ('nga skibi', 'skibi'), ('Volkmar Beier', 'vb'), ('Adeline Bruzat', 'abz'), ('Olaf Becher', 'becher'), ('Laura Müller', 'lm'), ('Kerstin Sieblist', 'krebs'), ('es gefunden zu haben. Mit Material der dpa. lvz', 'fv'), ('Thomas Trummer', 'tt'), ('Stephanie von Aretin', 'sta'), ('Lucas Grothe', 'lucas'), ('Jan Emendörfer', 'je'), ('Torben Ibs', 'tibs'), ('Imre Grimm', 'ig'), ('Victoria Graul', 'vg'), ('Paula Drope', 'pad'), ('Claudia Carell', 'luc'), ('otb Oliver Becker', 'otb'), ('Bastian Fischer', 'bfi'), ('Wiebke Theuer', 'wt'), ('Grünheide Wendl', 'gw'), ('August Modersohn', 'august'), ('Kerstin Decker Mehr Infos aus dem Zoo Leipzig finden Sie hier!', 'kefoe'), ('Alexander Engels', 'are'), ('Ulrich Langer', 'ul'), ('Rimpar Frisch', 'paris'), ('joka nöß', 'jn'), ('Cornelia Braun', 'cb'), ('Nathalie Helene Rippich', 'nhr'), ('Martin Kloth', 'mk'), ('Matthias Klöppel', 'mkl'), ('Maximilian König', 'max'), ('Andrea Schrader', 'as'), ('Andrea Schulze', 'Andrea Schulze_dummy'), ('Ellen Paul', 'ep'), ('bf und lvz', 'flvz'), ('Pamela Geißler', 'pg'), ('Klaus Peschel', 'kul'), ('Simona Block', 'block'), ('Helene Schack', 'Helene Schack_dummy'), ('Hannah Schaefer', 'Hannah Schaefer_dummy'), ('Hendrik Schirner', 'Hendrik Schirner_dummy'), ('Hannah Suppa', 'Hannah Suppa_dummy'), ('Bernd Lähne', 'bl'), ('Völkerschlachtdenkmal PM', 'vdp'), ('Admiral Bob', 'lob'), ('Manuela Engelmann-Bunk und Olaf Büchel', 'Manuela Engelmann-Bunk und Olaf Büchel_dummy'), ('Björn Pazen', 'bp'), ('Matthias Puppe Die Kommentarfunktion steht morgen wieder zur Verfügung', 'koku'), ('Lucas Kreling', 'lk'), ('Margitta Tittel', 'mat'), ('Ulrike von Leszczynski', 'Ulrike von Leszczynski_dummy'), ('Zeynep Sentek', 'zys'), ('Ulrike Simon', 'uko'), ('Anne-Beatrice Clasmann', 'abr'), ('Karsten Kriesel', 'keil'), ('Britt-Marie Lakämper', 'lkp'), ('Florian Wedhorn', 'fw'), ('Nadja Neqqache', 'nq'), ('Nadine Marquardt', 'nqq'), ('Kathrin Kabelitz und', 'tku'), ('Marianne H.-Stars', 'mhs'), ('Stephanie Helm', 'hem'), ('Anton Zirk', 'anzi'), ('Justine Büschel', 'jbü'), ('Volly Tanner', 'vo'), ('von Christian Neffe', 'von'), ('Christian Neffe', 'cn'), ('Sophia-Caroline Kosel', 'kosel'), ('Tom Erik Richter', 'mercer'), ('Stephan Wille', 'stw'), ('Eric Dobias', 'dob'), ('Daniel Salpius', 'Daniel Salpius_dummy'), ('Daniel Dettling', 'dei'), ('Von Joachim Mangler', 'vm'), ('Von Birgit Zimmermann', 'Von Birgit Zimmermann_dummy'), ('von Winfried Mahr', 'von Winfried Mahr_dummy'), ('Nick Leukhardt', 'nl'), ('Christoph Wendt', 'Christoph Wendt_dummy'), ('Christian Wendt', 'cw'), ('Sophie Aschenbrenner', 'soa'), ('Matthias Koch', 'Matthias Koch_dummy'), ('Stephanie Jankowski', 'Stephanie Jankowski_dummy'), ('von thiko', 'thiko'), ('Lena Rath', 'lra'), ('Martin Klindtworth', 'kloth'), ('Thomas Bothe', 'thth'), ('Thomas Bothe Hier finden Sie weitere Tipps', 'fws'), ('Jörg Augsburg', 'öbu'), ('der Intendanz sei bislang keine Stellungnahme zu den Forderungen geplant', 'der Intendanz sei bislang keine Stellungnahme zu den Forderungen geplant_dummy'), ('Christian Modla', 'modla'), ('Edgar Lopez', 'elo'), ('Edgar Lopez News', 'gaps'), ('Maria Sandig', 'maria'), ('Tomas Gärtner', 'tg'), ('Lisa-Marie Leuteritz', 'lml'), ('llka Fischer', 'lf'), ('LVZ Fotos', 'llvz'), ('Maike Steuer', 'mkr'), ('Helmut Pock', 'hp'), ('Stefan Michaelis Hier finden Sie weitere Tipps', 'st'), ('Gislinde Redepenning', 'gr'), ('Constanze Dietsch', 'codi'), ('Miriam Heinbuch', 'buch'), ('Hans-Hermann Koch', 'hhk'), ('Franziska Kästner', 'fkä'), ('Uta Zangemeister', 'uz'), ('Lisa Neumann', 'lin'), ('Gerd Piper', 'gp'), ('Felix Busjaeger', 'fbu'), ('Petra Buch', 'pb'), ('Diemo Wolf', 'ewo'), ('Lotta-Clara Löwener', 'lcl'), ('Anna Flora Schade', 'afs'), ('Tricks und Infos zum Thema Sicherheit!', 'iuiu'), ('Franziska Gleißner', 'fg'), ('Sebastian Fink & Olaf Büchel', 'sbü'), ('Eberhard Ulm', 'ebu'), ('Elena Burbach', 'Elena Burbach_dummy'), ('Stefan Arndt', 'sa'), ('Niklas Guschel', 'Niklas Guschel_dummy'), ('Nadin Gabner', 'nag'), ('Vanessa Gregor', 'vag'), ('Patrick Fam', 'pf'), ('Tilman Kortenhaus', 'tik'), ('Uwe Zabell', 'ubl'), ('Von Julia Tonne', 'online'), ('Cornelia Meerkatz, Juliane Schultz und Alexander Loew', 'zu'), ('Norbert Wehrstedt', 'nw'), ('Helena Reinhardt', 'heind'), ('Ulrich Steinmetzger', 'lmg'), ('Julia Maria Grass', 'jmg'), ('Claudia Forner', 'cf'), ('Johann-Christoph Landgraf', 'onl'), ('Thomas Sparrer, Manuela Engelmann-Bunk und Nicole Grziwa', 'Thomas Sparrer, Manuela Engelmann-Bunk und Nicole Grziwa_dummy'), ('Lutz Köhler', 'ukl'), ('Lars Schmidt', 'lht'), ('Elena Boshkovska', 'eb'), ('Sonja Lauer', 'sal'), ('Grit Blümle', 'güm'), ('Carsten Hoffmann', 'ch'), ('Lilly Günthner', 'lg'), ('Lisa Konstantinidis', 'liko'), ('Luise Jahn und Victoria Kovacs', 'Luise Jahn und Victoria Kovacs_dummy'), ('Bernd Atzenroth', 'ba'), ('Sabrina Lösch', 'sabrina lösch'), ('Max Hempel', 'm hempel'), ('Tim Niklas Herholz', 'tnh'), ('Susanne Plecher', 'sup'), ('Michael Klamp', 'cmp'), ('Josa Mania-Schlegel', 'jms'), ('Robin Knies', 'rok'), ('Simon Ecker', 'sec'), ('Thomas Bremser', 'thb'), ('Corinna Schwanhold', 'cas'), ('Laura Catoni', 'lc'), ('Hartwig Hochstein', 'acs'), ('Christian Ebner', 'ce'), ('Denise Peikert', 'peik'), ('Wolfram Goertz', 'waz'), ('Philip Fiedler', 'philip fiedler')])"
     },
     "execution_count": 17,
     "metadata": {},
     "output_type": "execute_result"
    }
   ],
   "source": [
    "g_new.edges"
   ],
   "metadata": {
    "collapsed": false,
    "ExecuteTime": {
     "end_time": "2023-07-22T15:06:22.077296600Z",
     "start_time": "2023-07-22T15:06:22.066045355Z"
    }
   }
  },
  {
   "cell_type": "code",
   "execution_count": 18,
   "outputs": [
    {
     "name": "stdout",
     "output_type": "stream",
     "text": [
      "new graph has 1400 nodes and 593 edges\n"
     ]
    }
   ],
   "source": [
    "print(f\"new graph has {len(g_new.nodes)} nodes and {len(g_new.edges)} edges\")"
   ],
   "metadata": {
    "collapsed": false,
    "ExecuteTime": {
     "end_time": "2023-07-22T15:06:22.183404189Z",
     "start_time": "2023-07-22T15:06:22.067742972Z"
    }
   }
  },
  {
   "cell_type": "code",
   "execution_count": 19,
   "outputs": [
    {
     "name": "stdout",
     "output_type": "stream",
     "text": [
      "author_mapping has 593 rows\n",
      "author_mapping has 483 rows\n"
     ]
    }
   ],
   "source": [
    "# transform graph to dataframe author_mapping with columns name and abbreviation\n",
    "author_mapping = pd.DataFrame(columns=[\"name\", \"abbreviation\"], data=g_new.edges)\n",
    "author_mapping = author_mapping.astype(str)\n",
    "\n",
    "print(f\"author_mapping has {author_mapping.shape[0]} rows\")\n",
    "\n",
    "\n",
    "# remove all abbreviations that contain \"dummy\" in their name\n",
    "author_mapping = author_mapping[~author_mapping[\"abbreviation\"].str.contains(\"dummy\")]\n",
    "# print shape\n",
    "print(f\"author_mapping has {author_mapping.shape[0]} rows\")"
   ],
   "metadata": {
    "collapsed": false,
    "ExecuteTime": {
     "end_time": "2023-07-22T15:06:22.213138699Z",
     "start_time": "2023-07-22T15:06:22.130183208Z"
    }
   }
  },
  {
   "cell_type": "markdown",
   "source": [
    "### In the following there are some analyses covering the correctness of the approach"
   ],
   "metadata": {
    "collapsed": false
   }
  },
  {
   "cell_type": "code",
   "execution_count": 20,
   "outputs": [
    {
     "name": "stdout",
     "output_type": "stream",
     "text": [
      "author: Magdalena Froehlich, last_article_author: 2011-03-25 15:35:46, abbreviation: mf, last_article_abbr: 2018-06-28 10:55:16\n",
      "author: Lisa Seliger, first_article_author: 2014-01-14 19:13:00, abbreviation: lis, first_article_abbr: 2010-01-07 15:35:14\n",
      "author: Lisa Seliger, last_article_author: 2014-01-14 19:13:00, abbreviation: lis, last_article_abbr: 2021-12-14 15:31:00\n",
      "author: Kai-Uwe Arnold, first_article_author: 2020-05-13 10:01:00, abbreviation: ka, first_article_abbr: 2010-01-07 23:00:00\n",
      "author: Kai-Uwe Arnold, last_article_author: 2020-05-13 10:01:00, abbreviation: ka, last_article_abbr: 2021-12-29 14:11:47\n",
      "author: Dominik Bath, first_article_author: 2011-04-01 12:25:03, abbreviation: dom, first_article_abbr: 2010-01-21 18:05:19\n",
      "author: Dominik Bath, last_article_author: 2013-05-01 15:50:00, abbreviation: dom, last_article_abbr: 2021-12-27 08:49:57\n",
      "author: Marco Irrgang, last_article_author: 2011-08-11 02:00:00, abbreviation: mi, last_article_abbr: 2021-02-16 09:00:00\n",
      "author: Barbara Osdarty, first_article_author: 2012-02-17 21:30:31, abbreviation: bos, first_article_abbr: 2010-10-24 16:03:04\n",
      "author: Benno Rougk, first_article_author: 2021-06-20 10:56:11, abbreviation: bro, first_article_abbr: 2010-02-04 15:00:00\n",
      "author: Nina May, last_article_author: 2018-02-07 22:07:27, abbreviation: ny, last_article_abbr: 2019-07-25 07:00:00\n",
      "author: Kathleen Retzar, first_article_author: 2020-10-02 12:36:18, abbreviation: kr, first_article_abbr: 2010-02-14 13:54:25\n",
      "author: melden joka, last_article_author: 2011-01-10 17:04:41, abbreviation: joka, last_article_abbr: 2021-03-23 16:08:04\n",
      "author: Andreas Ebel, first_article_author: 2016-08-19 09:18:00, abbreviation: ade, first_article_abbr: 2010-02-25 21:32:19\n",
      "author: Andreas Ebel, last_article_author: 2016-08-19 09:18:00, abbreviation: ade, last_article_abbr: 2021-10-01 10:41:38\n",
      "author: Frauke Sievers, last_article_author: 2014-01-27 11:37:29, abbreviation: fs, last_article_abbr: 2021-10-09 10:01:00\n",
      "author: Maria Keybe, last_article_author: 2012-06-05 13:47:44, abbreviation: may, last_article_abbr: 2018-05-18 07:00:00\n",
      "author: Michael Meyer, first_article_author: 2013-07-17 17:18:00, abbreviation: mey, first_article_abbr: 2010-03-26 05:00:00\n",
      "author: Jenifer Hochhaus, last_article_author: 2016-02-26 15:18:00, abbreviation: jh, last_article_abbr: 2021-10-15 05:33:07\n",
      "author: Josephine Heinze, first_article_author: 2014-01-20 14:06:43, abbreviation: joh, first_article_abbr: 2010-06-10 10:17:50\n",
      "author: Astrid Hofmann, last_article_author: 2017-06-16 13:59:24, abbreviation: ah, last_article_abbr: 2021-06-22 21:34:00\n",
      "author: ter Vehn, last_article_author: 2017-01-18 17:58:00, abbreviation: tv, last_article_abbr: 2021-12-22 16:01:00\n",
      "author: Juliette Guttmann, last_article_author: 2011-06-14 08:33:55, abbreviation: jg, last_article_abbr: 2017-01-17 13:22:00\n",
      "author: Christian Grube, first_article_author: 2021-02-20 19:21:20, abbreviation: cg, first_article_abbr: 2010-06-26 11:04:42\n",
      "author: Friederike Ostwald, last_article_author: 2020-02-02 15:05:00, abbreviation: ffo, last_article_abbr: 2021-12-15 05:55:19\n",
      "author: Frank-Thomas Wenzel, first_article_author: 2019-01-08 13:42:00, abbreviation: fsw, first_article_abbr: 2010-08-22 11:12:21\n",
      "author: Frank-Thomas Wenzel, last_article_author: 2019-02-27 21:01:00, abbreviation: fsw, last_article_abbr: 2020-08-03 20:11:00\n",
      "author: Kay Wuerker, last_article_author: 2013-07-19 14:46:00, abbreviation: kw, last_article_abbr: 2020-01-05 09:12:00\n",
      "author: Lilly Biedermann, first_article_author: 2013-10-24 14:48:00, abbreviation: lyn, first_article_abbr: 2010-10-19 12:57:39\n",
      "author: Lilly Biedermann, last_article_author: 2014-07-28 14:25:00, abbreviation: lyn, last_article_abbr: 2018-09-27 10:34:00\n",
      "author: Thomas Jentzsch, last_article_author: 2018-12-12 06:28:00, abbreviation: tj, last_article_abbr: 2021-10-23 08:27:15\n",
      "author: Mario Jahn, first_article_author: 2012-04-19 07:36:41, abbreviation: maj, first_article_abbr: 2010-11-17 12:52:13\n",
      "author: Handballer agri, last_article_author: 2011-06-27 15:43:13, abbreviation: haeg, last_article_abbr: 2021-10-29 15:28:00\n",
      "author: Sparrer Thomas Sparrer, first_article_author: 2013-04-18 20:33:00, abbreviation: sth, first_article_abbr: 2010-12-16 18:10:38\n",
      "author: Ralf Redemund, last_article_author: 2012-08-23 08:15:01, abbreviation: rau, last_article_abbr: 2014-02-07 18:16:17\n",
      "author: Arndt Beckert, first_article_author: 2012-04-11 14:40:47, abbreviation: dtb, first_article_abbr: 2011-04-08 15:00:35\n",
      "author: Tobias Zinnecker, last_article_author: 2012-01-10 15:40:50, abbreviation: tz, last_article_abbr: 2020-08-09 13:17:00\n",
      "author: Daniel Kaiser, last_article_author: 2014-10-03 21:59:00, abbreviation: dk, last_article_abbr: 2017-01-20 16:37:48\n",
      "author: Sabine Kreuz, first_article_author: 2013-03-07 00:00:00, abbreviation: sk, first_article_abbr: 2011-06-24 07:50:53\n",
      "author: Jane Sommer, first_article_author: 2013-08-20 14:48:00, abbreviation: js, first_article_abbr: 2011-07-06 20:06:26\n",
      "author: Jane Sommer, last_article_author: 2014-02-24 14:55:00, abbreviation: js, last_article_abbr: 2018-06-04 05:00:00\n",
      "author: Petra Mewes, first_article_author: 2020-01-18 12:17:19, abbreviation: pm, first_article_abbr: 2011-08-01 13:08:41\n",
      "author: Inge Engelhardt, last_article_author: 2020-04-21 17:51:00, abbreviation: ie, last_article_abbr: 2021-12-16 17:24:00\n",
      "author: Jens Paul Taubert, first_article_author: 2016-10-11 15:07:00, abbreviation: jpt, first_article_abbr: 2011-10-11 13:44:15\n",
      "author: Martin Lange, first_article_author: 2019-04-04 08:57:00, abbreviation: ml, first_article_abbr: 2011-10-19 20:20:21\n",
      "author: Martin Lange, last_article_author: 2019-04-25 13:31:47, abbreviation: ml, last_article_abbr: 2021-04-18 06:00:00\n",
      "author: joka lvz, first_article_author: 2015-03-30 14:49:47, abbreviation: jkl, first_article_abbr: 2011-11-06 10:59:07\n",
      "author: joka lvz, last_article_author: 2015-03-30 14:49:47, abbreviation: jkl, last_article_abbr: 2021-11-25 09:10:54\n",
      "author: Peter Ader, last_article_author: 2012-07-08 17:45:00, abbreviation: pa, last_article_abbr: 2017-09-01 12:48:28\n",
      "author: sagte Orosz., first_article_author: 2015-08-09 21:12:00, abbreviation: sro, first_article_abbr: 2012-02-27 19:37:26\n",
      "author: sagte Orosz., last_article_author: 2015-08-09 21:12:00, abbreviation: sro, last_article_abbr: 2021-11-21 15:57:35\n",
      "author: Markus Bien, first_article_author: 2018-01-09 12:29:00, abbreviation: mb, first_article_abbr: 2012-03-13 19:58:51\n",
      "author: Stefan Stosch, first_article_author: 2013-04-25 17:14:00, abbreviation: stets, first_article_abbr: 2012-04-16 11:26:52\n",
      "author: Luise Binder, first_article_author: 2015-03-07 11:41:34, abbreviation: lieb, first_article_abbr: 2012-09-27 15:07:26\n",
      "author: Luise Binder, last_article_author: 2015-03-14 16:34:12, abbreviation: lieb, last_article_abbr: 2018-01-20 15:10:00\n",
      "author: Ute Hirsch, first_article_author: 2019-05-27 14:50:08, abbreviation: uh, first_article_abbr: 2012-11-02 20:44:44\n",
      "author: Florian Theis, last_article_author: 2013-10-07 18:17:00, abbreviation: ft, last_article_abbr: 2020-10-28 13:10:00\n",
      "author: Judith Sophie Schilling, last_article_author: 2017-05-28 17:31:33, abbreviation: jps, last_article_abbr: 2019-10-10 08:41:04\n",
      "author: Felix Forberg, last_article_author: 2014-02-27 22:59:00, abbreviation: flo, last_article_abbr: 2021-12-30 19:01:00\n",
      "author: Beatrice Kasel, first_article_author: 2014-07-08 19:22:00, abbreviation: beck, first_article_abbr: 2013-03-11 23:30:00\n",
      "author: Beatrice Kasel, last_article_author: 2014-07-08 19:22:00, abbreviation: beck, last_article_abbr: 2015-08-18 21:59:00\n",
      "author: Doreen Schellenberg, last_article_author: 2013-08-12 15:55:00, abbreviation: dsc, last_article_abbr: 2017-08-11 09:28:00\n",
      "author: Frank Kastner, first_article_author: 2015-01-07 12:36:42, abbreviation: frank, first_article_abbr: 2013-04-15 21:59:00\n",
      "author: Peter Ruf, first_article_author: 2016-11-27 14:35:33, abbreviation: pr, first_article_abbr: 2013-07-16 13:06:26\n",
      "author: Adina Rieckmann, first_article_author: 2017-09-07 19:23:00, abbreviation: ari, first_article_abbr: 2013-07-28 11:53:31\n",
      "author: Von Heike, last_article_author: 2013-05-05 15:36:00, abbreviation: vh, last_article_abbr: 2021-02-01 18:01:00\n",
      "author: Reinhard Urschel, last_article_author: 2015-11-10 15:17:00, abbreviation: reu, last_article_abbr: 2020-02-17 13:31:00\n",
      "author: Katharina Goldbach, last_article_author: 2015-09-27 14:35:00, abbreviation: kg, last_article_abbr: 2019-04-26 14:04:00\n",
      "author: Peter Stracke, last_article_author: 2013-10-20 18:32:00, abbreviation: ps, last_article_abbr: 2020-02-24 19:04:08\n",
      "author: Thomas Keiderling, last_article_author: 2014-02-24 13:13:00, abbreviation: tk, last_article_abbr: 2021-12-29 10:39:00\n",
      "author: Sarah Englisch, last_article_author: 2018-03-18 21:00:00, abbreviation: she, last_article_abbr: 2021-12-27 09:31:00\n",
      "author: Jochen Schmalz, last_article_author: 2014-10-05 17:26:00, abbreviation: jhz, last_article_abbr: 2021-12-28 10:03:44\n",
      "author: Nadine Pensold, first_article_author: 2020-01-17 15:02:19, abbreviation: epd, first_article_abbr: 2014-03-10 23:20:53\n",
      "author: Nadine Pensold, last_article_author: 2020-01-17 15:02:19, abbreviation: epd, last_article_abbr: 2021-12-21 11:28:34\n",
      "author: Wilhelm Pischke, first_article_author: 2021-06-01 12:19:05, abbreviation: wim, first_article_abbr: 2014-05-05 14:13:27\n",
      "author: Paula Drope, first_article_author: 2016-09-06 17:37:00, abbreviation: pad, first_article_abbr: 2015-04-07 14:40:00\n",
      "author: Alexander Engels, first_article_author: 2020-06-27 09:41:42, abbreviation: are, first_article_abbr: 2015-10-19 13:45:00\n",
      "author: bf und lvz, first_article_author: 2017-07-01 04:00:00, abbreviation: flvz, first_article_abbr: 2016-02-14 10:39:00\n",
      "author: Simona Block, first_article_author: 2018-02-12 08:34:07, abbreviation: block, first_article_abbr: 2016-04-26 08:58:55\n",
      "author: Admiral Bob, last_article_author: 2016-11-08 16:21:00, abbreviation: lob, last_article_abbr: 2019-08-20 13:15:36\n",
      "author: Marianne H.-Stars, last_article_author: 2019-06-14 08:01:00, abbreviation: mhs, last_article_abbr: 2021-12-28 10:03:53\n",
      "author: Von Joachim Mangler, last_article_author: 2017-03-13 10:16:32, abbreviation: vm, last_article_abbr: 2018-03-13 18:25:00\n",
      "author: von thiko, first_article_author: 2019-07-28 19:35:00, abbreviation: thiko, first_article_abbr: 2017-09-07 16:47:00\n",
      "author: Martin Klindtworth, first_article_author: 2020-03-19 19:01:00, abbreviation: kloth, first_article_abbr: 2017-10-27 11:40:00\n",
      "author: Christian Modla, first_article_author: 2019-07-21 16:07:48, abbreviation: modla, first_article_abbr: 2018-01-01 12:52:00\n",
      "author: Hans-Hermann Koch, last_article_author: 2020-10-19 10:13:00, abbreviation: hhk, last_article_abbr: 2021-12-26 10:54:51\n",
      "author: Diemo Wolf, last_article_author: 2020-02-01 15:08:00, abbreviation: ewo, last_article_abbr: 2021-12-31 14:06:54\n",
      "author: Nadin Gabner, last_article_author: 2019-05-10 15:08:00, abbreviation: nag, last_article_abbr: 2020-07-10 14:53:44\n",
      "author: Von Julia Tonne, last_article_author: 2019-10-07 06:08:43, abbreviation: online, last_article_abbr: 2020-12-20 17:09:57\n",
      "author: Max Hempel, abbreviation: m hempel\n",
      "there are 89 authors that were mapped to an abbreviation that exceeds the authors name writing time by more than 12 months in the time before or after\n"
     ]
    }
   ],
   "source": [
    "def has_special_umlauts(input_string):\n",
    "    umlaut_pattern = re.compile(r'[äöüÄÖÜßáéíóú]')\n",
    "    return bool(umlaut_pattern.search(input_string))\n",
    "\n",
    "# test if there is an authors that was mapped to an abbreviation that exceeds the authors name writing time by more than 6 months in the time before or after\n",
    "count = 0\n",
    "author_abbreviation_pairs_with_lifespan_difference = []\n",
    "for index, row in author_mapping.iterrows():\n",
    "    author = row[\"name\"]\n",
    "    if has_special_umlauts(author):\n",
    "        # do not handle authors with umlauts because issues with sqlite LIKE operator\n",
    "        continue\n",
    "    abbreviation = row[\"abbreviation\"]\n",
    "    author_like = f\"%\\\"{author}\\\"%\"\n",
    "    abbr_like = f\"%\\\"{abbreviation}\\\"%\"\n",
    "    try:\n",
    "        first_article_author = cur.execute(f\"SELECT MIN(published_at) FROM articles where author_array like ?\", (author_like,)).fetchone()[0]\n",
    "        first_article_abbr = cur.execute(f\"SELECT MIN(published_at) FROM articles where author_array like ?\", (abbr_like,)).fetchone()[0]\n",
    "        first_article_author = datetime.strptime(first_article_author, \"%Y-%m-%dT%H:%M:%S+00:00\")\n",
    "        first_article_abbr = datetime.strptime(first_article_abbr, \"%Y-%m-%dT%H:%M:%S+00:00\")\n",
    "\n",
    "        # check if first_article_abbr is six month ahead of first_article_author\n",
    "        if first_article_abbr < first_article_author - relativedelta.relativedelta(months=12):\n",
    "            print(f\"author: {author}, first_article_author: {first_article_author}, abbreviation: {abbreviation}, first_article_abbr: {first_article_abbr}\")\n",
    "            count += 1\n",
    "            author_abbreviation_pairs_with_lifespan_difference.append({\"author\": author, \"abbreviation\": abbreviation})\n",
    "\n",
    "        last_article_author = cur.execute(f\"SELECT MAX(published_at) FROM articles where author_array like ?\", (author_like,)).fetchone()[0]\n",
    "        last_article_abbr = cur.execute(f\"SELECT MAX(published_at) FROM articles where author_array like ?\", (abbr_like,)).fetchone()[0]\n",
    "        last_article_author = datetime.strptime(last_article_author, \"%Y-%m-%dT%H:%M:%S+00:00\")\n",
    "        last_article_abbr = datetime.strptime(last_article_abbr, \"%Y-%m-%dT%H:%M:%S+00:00\")\n",
    "\n",
    "        # check if last_article_abbr is six month behind of last_article_author\n",
    "        if last_article_abbr > last_article_author + relativedelta.relativedelta(months=12):\n",
    "            print(f\"author: {author}, last_article_author: {last_article_author}, abbreviation: {abbreviation}, last_article_abbr: {last_article_abbr}\")\n",
    "            count += 1\n",
    "            author_abbreviation_pairs_with_lifespan_difference.append({\"author\": author, \"abbreviation\": abbreviation})\n",
    "    except TypeError:\n",
    "        print(f\"author: {author}, abbreviation: {abbreviation}\")\n",
    "        continue\n",
    "\n",
    "print(f\"there are {count} authors that were mapped to an abbreviation that exceeds the authors name writing time by more than 12 months in the time before or after\")"
   ],
   "metadata": {
    "collapsed": false,
    "ExecuteTime": {
     "end_time": "2023-07-22T15:08:19.166451949Z",
     "start_time": "2023-07-22T15:06:22.133323084Z"
    }
   }
  },
  {
   "cell_type": "markdown",
   "source": [
    "We can conclude that we need a mapping that takes into account the authors' lifespans. Abbreviations can be used for more than one author. Furthermore, we need to penalize abbr-author mappings where the abbreviation has a much longer or shorter lifespan."
   ],
   "metadata": {
    "collapsed": false
   }
  },
  {
   "cell_type": "markdown",
   "source": [
    "Further, we notice that there are abbreviations that do not have an associated author. E.g. \"joka\", does not have any good fit."
   ],
   "metadata": {
    "collapsed": false
   }
  },
  {
   "cell_type": "code",
   "execution_count": 25,
   "outputs": [
    {
     "name": "stderr",
     "output_type": "stream",
     "text": [
      "/home/stoffregen/Documents/Informatik/lvzStatistics/lvz_venv/lib/python3.10/site-packages/seaborn/axisgrid.py:447: RuntimeWarning: More than 20 figures have been opened. Figures created through the pyplot interface (`matplotlib.pyplot.figure`) are retained until explicitly closed and may consume too much memory. (To control this warning, see the rcParam `figure.max_open_warning`). Consider using `matplotlib.pyplot.close()`.\n",
      "  fig = plt.figure(figsize=figsize)\n"
     ]
    },
    {
     "data": {
      "text/plain": "<Figure size 1400x1000 with 0 Axes>"
     },
     "metadata": {},
     "output_type": "display_data"
    },
    {
     "data": {
      "text/plain": "<Figure size 712.75x500 with 0 Axes>"
     },
     "metadata": {},
     "output_type": "display_data"
    },
    {
     "data": {
      "text/plain": "<Figure size 686.25x500 with 0 Axes>"
     },
     "metadata": {},
     "output_type": "display_data"
    },
    {
     "data": {
      "text/plain": "<Figure size 686.25x500 with 0 Axes>"
     },
     "metadata": {},
     "output_type": "display_data"
    },
    {
     "data": {
      "text/plain": "<Figure size 809.125x500 with 0 Axes>"
     },
     "metadata": {},
     "output_type": "display_data"
    },
    {
     "data": {
      "text/plain": "<Figure size 809.125x500 with 0 Axes>"
     },
     "metadata": {},
     "output_type": "display_data"
    },
    {
     "data": {
      "text/plain": "<Figure size 709.375x500 with 0 Axes>"
     },
     "metadata": {},
     "output_type": "display_data"
    },
    {
     "data": {
      "text/plain": "<Figure size 709.375x500 with 0 Axes>"
     },
     "metadata": {},
     "output_type": "display_data"
    },
    {
     "data": {
      "text/plain": "<Figure size 694x500 with 0 Axes>"
     },
     "metadata": {},
     "output_type": "display_data"
    },
    {
     "data": {
      "text/plain": "<Figure size 681.5x500 with 0 Axes>"
     },
     "metadata": {},
     "output_type": "display_data"
    },
    {
     "data": {
      "text/plain": "<Figure size 688x500 with 0 Axes>"
     },
     "metadata": {},
     "output_type": "display_data"
    },
    {
     "data": {
      "text/plain": "<Figure size 676.5x500 with 0 Axes>"
     },
     "metadata": {},
     "output_type": "display_data"
    },
    {
     "data": {
      "text/plain": "<Figure size 688x500 with 0 Axes>"
     },
     "metadata": {},
     "output_type": "display_data"
    },
    {
     "data": {
      "text/plain": "<Figure size 680.25x500 with 0 Axes>"
     },
     "metadata": {},
     "output_type": "display_data"
    },
    {
     "data": {
      "text/plain": "<Figure size 771.625x500 with 0 Axes>"
     },
     "metadata": {},
     "output_type": "display_data"
    },
    {
     "data": {
      "text/plain": "<Figure size 771.625x500 with 0 Axes>"
     },
     "metadata": {},
     "output_type": "display_data"
    },
    {
     "data": {
      "text/plain": "<Figure size 667.125x500 with 0 Axes>"
     },
     "metadata": {},
     "output_type": "display_data"
    },
    {
     "data": {
      "text/plain": "<Figure size 708.5x500 with 0 Axes>"
     },
     "metadata": {},
     "output_type": "display_data"
    },
    {
     "data": {
      "text/plain": "<Figure size 708.5x500 with 0 Axes>"
     },
     "metadata": {},
     "output_type": "display_data"
    },
    {
     "data": {
      "text/plain": "<Figure size 686.375x500 with 0 Axes>"
     },
     "metadata": {},
     "output_type": "display_data"
    },
    {
     "data": {
      "text/plain": "<Figure size 718.375x500 with 0 Axes>"
     },
     "metadata": {},
     "output_type": "display_data"
    },
    {
     "data": {
      "text/plain": "<Figure size 674.375x500 with 0 Axes>"
     },
     "metadata": {},
     "output_type": "display_data"
    },
    {
     "data": {
      "text/plain": "<Figure size 675.625x500 with 0 Axes>"
     },
     "metadata": {},
     "output_type": "display_data"
    },
    {
     "data": {
      "text/plain": "<Figure size 690.5x500 with 0 Axes>"
     },
     "metadata": {},
     "output_type": "display_data"
    },
    {
     "data": {
      "text/plain": "<Figure size 675.125x500 with 0 Axes>"
     },
     "metadata": {},
     "output_type": "display_data"
    },
    {
     "data": {
      "text/plain": "<Figure size 697.25x500 with 0 Axes>"
     },
     "metadata": {},
     "output_type": "display_data"
    },
    {
     "data": {
      "text/plain": "<Figure size 721.625x500 with 0 Axes>"
     },
     "metadata": {},
     "output_type": "display_data"
    },
    {
     "data": {
      "text/plain": "<Figure size 721.625x500 with 0 Axes>"
     },
     "metadata": {},
     "output_type": "display_data"
    },
    {
     "data": {
      "text/plain": "<Figure size 652.375x500 with 0 Axes>"
     },
     "metadata": {},
     "output_type": "display_data"
    },
    {
     "data": {
      "text/plain": "<Figure size 683.25x500 with 0 Axes>"
     },
     "metadata": {},
     "output_type": "display_data"
    },
    {
     "data": {
      "text/plain": "<Figure size 683.25x500 with 0 Axes>"
     },
     "metadata": {},
     "output_type": "display_data"
    },
    {
     "data": {
      "text/plain": "<Figure size 688.75x500 with 0 Axes>"
     },
     "metadata": {},
     "output_type": "display_data"
    },
    {
     "data": {
      "text/plain": "<Figure size 684.25x500 with 0 Axes>"
     },
     "metadata": {},
     "output_type": "display_data"
    },
    {
     "data": {
      "text/plain": "<Figure size 690.25x500 with 0 Axes>"
     },
     "metadata": {},
     "output_type": "display_data"
    },
    {
     "data": {
      "text/plain": "<Figure size 739.125x500 with 0 Axes>"
     },
     "metadata": {},
     "output_type": "display_data"
    },
    {
     "data": {
      "text/plain": "<Figure size 682.5x500 with 0 Axes>"
     },
     "metadata": {},
     "output_type": "display_data"
    },
    {
     "data": {
      "text/plain": "<Figure size 686.25x500 with 0 Axes>"
     },
     "metadata": {},
     "output_type": "display_data"
    },
    {
     "data": {
      "text/plain": "<Figure size 844.25x500 with 0 Axes>"
     },
     "metadata": {},
     "output_type": "display_data"
    },
    {
     "data": {
      "text/plain": "<Figure size 666.875x500 with 0 Axes>"
     },
     "metadata": {},
     "output_type": "display_data"
    },
    {
     "data": {
      "text/plain": "<Figure size 680.375x500 with 0 Axes>"
     },
     "metadata": {},
     "output_type": "display_data"
    },
    {
     "data": {
      "text/plain": "<Figure size 724.25x500 with 0 Axes>"
     },
     "metadata": {},
     "output_type": "display_data"
    },
    {
     "data": {
      "text/plain": "<Figure size 724.25x500 with 0 Axes>"
     },
     "metadata": {},
     "output_type": "display_data"
    },
    {
     "data": {
      "text/plain": "<Figure size 702.375x500 with 0 Axes>"
     },
     "metadata": {},
     "output_type": "display_data"
    },
    {
     "data": {
      "text/plain": "<Figure size 719x500 with 0 Axes>"
     },
     "metadata": {},
     "output_type": "display_data"
    },
    {
     "data": {
      "text/plain": "<Figure size 688.25x500 with 0 Axes>"
     },
     "metadata": {},
     "output_type": "display_data"
    },
    {
     "data": {
      "text/plain": "<Figure size 754.625x500 with 0 Axes>"
     },
     "metadata": {},
     "output_type": "display_data"
    },
    {
     "data": {
      "text/plain": "<Figure size 754.625x500 with 0 Axes>"
     },
     "metadata": {},
     "output_type": "display_data"
    },
    {
     "data": {
      "text/plain": "<Figure size 693.75x500 with 0 Axes>"
     },
     "metadata": {},
     "output_type": "display_data"
    },
    {
     "data": {
      "text/plain": "<Figure size 693.75x500 with 0 Axes>"
     },
     "metadata": {},
     "output_type": "display_data"
    },
    {
     "data": {
      "text/plain": "<Figure size 688.625x500 with 0 Axes>"
     },
     "metadata": {},
     "output_type": "display_data"
    },
    {
     "data": {
      "text/plain": "<Figure size 651.25x500 with 0 Axes>"
     },
     "metadata": {},
     "output_type": "display_data"
    },
    {
     "data": {
      "text/plain": "<Figure size 651.25x500 with 0 Axes>"
     },
     "metadata": {},
     "output_type": "display_data"
    },
    {
     "data": {
      "text/plain": "<Figure size 688.25x500 with 0 Axes>"
     },
     "metadata": {},
     "output_type": "display_data"
    },
    {
     "data": {
      "text/plain": "<Figure size 660.75x500 with 0 Axes>"
     },
     "metadata": {},
     "output_type": "display_data"
    },
    {
     "data": {
      "text/plain": "<Figure size 696.625x500 with 0 Axes>"
     },
     "metadata": {},
     "output_type": "display_data"
    },
    {
     "data": {
      "text/plain": "<Figure size 696.625x500 with 0 Axes>"
     },
     "metadata": {},
     "output_type": "display_data"
    },
    {
     "data": {
      "text/plain": "<Figure size 662.875x500 with 0 Axes>"
     },
     "metadata": {},
     "output_type": "display_data"
    },
    {
     "data": {
      "text/plain": "<Figure size 678x500 with 0 Axes>"
     },
     "metadata": {},
     "output_type": "display_data"
    },
    {
     "data": {
      "text/plain": "<Figure size 725x500 with 0 Axes>"
     },
     "metadata": {},
     "output_type": "display_data"
    },
    {
     "data": {
      "text/plain": "<Figure size 663.125x500 with 0 Axes>"
     },
     "metadata": {},
     "output_type": "display_data"
    },
    {
     "data": {
      "text/plain": "<Figure size 664.75x500 with 0 Axes>"
     },
     "metadata": {},
     "output_type": "display_data"
    },
    {
     "data": {
      "text/plain": "<Figure size 664.75x500 with 0 Axes>"
     },
     "metadata": {},
     "output_type": "display_data"
    },
    {
     "data": {
      "text/plain": "<Figure size 715.75x500 with 0 Axes>"
     },
     "metadata": {},
     "output_type": "display_data"
    },
    {
     "data": {
      "text/plain": "<Figure size 662.125x500 with 0 Axes>"
     },
     "metadata": {},
     "output_type": "display_data"
    },
    {
     "data": {
      "text/plain": "<Figure size 688.625x500 with 0 Axes>"
     },
     "metadata": {},
     "output_type": "display_data"
    },
    {
     "data": {
      "text/plain": "<Figure size 688.25x500 with 0 Axes>"
     },
     "metadata": {},
     "output_type": "display_data"
    },
    {
     "data": {
      "text/plain": "<Figure size 679x500 with 0 Axes>"
     },
     "metadata": {},
     "output_type": "display_data"
    },
    {
     "data": {
      "text/plain": "<Figure size 805.75x500 with 0 Axes>"
     },
     "metadata": {},
     "output_type": "display_data"
    },
    {
     "data": {
      "text/plain": "<Figure size 706.125x500 with 0 Axes>"
     },
     "metadata": {},
     "output_type": "display_data"
    },
    {
     "data": {
      "text/plain": "<Figure size 698.875x500 with 0 Axes>"
     },
     "metadata": {},
     "output_type": "display_data"
    },
    {
     "data": {
      "text/plain": "<Figure size 697x500 with 0 Axes>"
     },
     "metadata": {},
     "output_type": "display_data"
    },
    {
     "data": {
      "text/plain": "<Figure size 677.375x500 with 0 Axes>"
     },
     "metadata": {},
     "output_type": "display_data"
    },
    {
     "data": {
      "text/plain": "<Figure size 686.375x500 with 0 Axes>"
     },
     "metadata": {},
     "output_type": "display_data"
    },
    {
     "data": {
      "text/plain": "<Figure size 1165.62x500 with 0 Axes>"
     },
     "metadata": {},
     "output_type": "display_data"
    },
    {
     "data": {
      "text/plain": "<Figure size 1165.62x500 with 0 Axes>"
     },
     "metadata": {},
     "output_type": "display_data"
    },
    {
     "data": {
      "text/plain": "<Figure size 739.875x500 with 0 Axes>"
     },
     "metadata": {},
     "output_type": "display_data"
    },
    {
     "data": {
      "text/plain": "<Figure size 651.25x500 with 0 Axes>"
     },
     "metadata": {},
     "output_type": "display_data"
    },
    {
     "data": {
      "text/plain": "<Figure size 688.125x500 with 0 Axes>"
     },
     "metadata": {},
     "output_type": "display_data"
    },
    {
     "data": {
      "text/plain": "<Figure size 651.25x500 with 0 Axes>"
     },
     "metadata": {},
     "output_type": "display_data"
    },
    {
     "data": {
      "text/plain": "<Figure size 658.625x500 with 0 Axes>"
     },
     "metadata": {},
     "output_type": "display_data"
    },
    {
     "data": {
      "text/plain": "<Figure size 881.25x500 with 0 Axes>"
     },
     "metadata": {},
     "output_type": "display_data"
    },
    {
     "data": {
      "text/plain": "<Figure size 718.625x500 with 0 Axes>"
     },
     "metadata": {},
     "output_type": "display_data"
    },
    {
     "data": {
      "text/plain": "<Figure size 737.375x500 with 0 Axes>"
     },
     "metadata": {},
     "output_type": "display_data"
    },
    {
     "data": {
      "text/plain": "<Figure size 1165.62x500 with 0 Axes>"
     },
     "metadata": {},
     "output_type": "display_data"
    },
    {
     "data": {
      "text/plain": "<Figure size 696.375x500 with 0 Axes>"
     },
     "metadata": {},
     "output_type": "display_data"
    },
    {
     "data": {
      "text/plain": "<Figure size 1136.5x500 with 0 Axes>"
     },
     "metadata": {},
     "output_type": "display_data"
    },
    {
     "data": {
      "text/plain": "<Figure size 711.25x500 with 0 Axes>"
     },
     "metadata": {},
     "output_type": "display_data"
    },
    {
     "data": {
      "text/plain": "<Figure size 651.25x500 with 0 Axes>"
     },
     "metadata": {},
     "output_type": "display_data"
    },
    {
     "data": {
      "text/plain": "<Figure size 675.875x500 with 0 Axes>"
     },
     "metadata": {},
     "output_type": "display_data"
    },
    {
     "data": {
      "text/plain": "<Figure size 975.75x500 with 1 Axes>",
      "image/png": "[encoded data removed]"
     },
     "metadata": {},
     "output_type": "display_data"
    }
   ],
   "source": [
    "for row in author_abbreviation_pairs_with_lifespan_difference:\n",
    "    abbr_authors = []\n",
    "    abbr = row[\"abbreviation\"]\n",
    "    mapped_author = row[\"author\"]\n",
    "    abbr_neighbours = list(G.neighbors(abbr))\n",
    "    for author in abbr_neighbours:\n",
    "        rows = cur.execute('select ar.published_at from articles ar join article_authors aa on ar.id = aa.article_id join authors au on aa.author_id = au.id where au.name = ?', (author,)).fetchall()\n",
    "        abbr_authors.extend([{\"author\": author, \"type\": \"name\", \"published_at\": row[0]} for row in rows])\n",
    "\n",
    "\n",
    "    rows = cur.execute('select ar.published_at from articles ar join article_authors aa on ar.id = aa.article_id join authors au on aa.author_id = au.id where au.abbreviation = ?', (abbr,)).fetchall()\n",
    "    abbr_authors.extend([{\"author\": abbr, \"type\": \"abbreviation\", \"published_at\": row[0]} for row in rows])\n",
    "\n",
    "    abbr_authors = pd.DataFrame(columns=[\"author\", \"type\", \"published_at\"], data=abbr_authors)\n",
    "\n",
    "    # aggregate by quarter of the year\n",
    "    abbr_authors['published_at'] = pd.to_datetime(abbr_authors['published_at'])\n",
    "    abbr_authors['quarter'] = abbr_authors['published_at'].dt.quarter\n",
    "    abbr_authors['year'] = abbr_authors['published_at'].dt.year\n",
    "    abbr_authors['year_quarter'] = abbr_authors['year'].astype(str) + \"/\" + abbr_authors['quarter'].astype(str)\n",
    "    abbr_authors['year_semester'] = abbr_authors['year'].astype(str) + \"/\" + abbr_authors['quarter'].apply(lambda x: 1 if x <= 2 else 2).astype(str)\n",
    "    abbr_authors = abbr_authors.groupby(['year', 'year_quarter', 'author', 'type']).count()['published_at'].reset_index()\n",
    "    # rename published at to count\n",
    "    abbr_authors = abbr_authors.rename(columns={\"published_at\": \"count\"})\n",
    "\n",
    "    plt.cla()\n",
    "    plt.clf()\n",
    "    sns.relplot(kind='line', data=abbr_authors, x='year_quarter', y='count', hue='author', style='type', errorbar=None)\n",
    "    # set y title to article count\n",
    "    plt.ylabel(\"article count\")\n",
    "    plt.xlabel(\"year/quarter\")\n",
    "    sns.set(rc={'figure.figsize':(14,10)})\n",
    "    plt.xticks(rotation=-75)\n",
    "    # set ticks to every 4th\n",
    "    plt.xticks(np.arange(0, len(abbr_authors['year_quarter'].unique()), 4))\n",
    "    #plt.tight_layout()\n",
    "    plt.title(f'Articles written by abbreviation {abbr} and associated authors')\n",
    "    plt.savefig(f'../reports/figures/author_abbreviation_pairs_with_lifespan_difference/articles_written_by_abbreviation_{abbr}_and_mapped_author_{\"_\".join(mapped_author.split(\" \"))}_and_associated_authors.png',bbox_inches='tight',dpi=300)\n",
    "    plt.close()"
   ],
   "metadata": {
    "collapsed": false,
    "ExecuteTime": {
     "end_time": "2023-07-22T15:45:34.649272528Z",
     "start_time": "2023-07-22T15:39:55.644836783Z"
    }
   }
  },
  {
   "cell_type": "markdown",
   "source": [
    "We conclude that there are authors (Inge Engelhardt with abbreviation \"ie\", compare report \"articles_written_by_abbreviation_ie_and_mapped_author_Inge_Engelhardt_and_associated_authors\") where the abbreviation matches the authors writing frequency but only for a fraction of the author's writing time. Likely, the abbreviation was introduced later. Maybe the author did not have an abbreviation before. In this example we also see that the authors name has (likely) changed but the old one is still used. Thus, the abbreviation would have to match both the authors."
   ],
   "metadata": {
    "collapsed": false
   }
  },
  {
   "cell_type": "code",
   "execution_count": null,
   "outputs": [],
   "source": [
    "print(f\"new graph has {len(g_new.nodes)} nodes and {len(g_new.edges)} edges\")"
   ],
   "metadata": {
    "collapsed": false
   }
  },
  {
   "cell_type": "markdown",
   "source": [
    "There are abbr nodes that were not matched with any author. That's why we have: edges * 2 < nodes."
   ],
   "metadata": {
    "collapsed": false
   }
  },
  {
   "cell_type": "code",
   "execution_count": null,
   "outputs": [],
   "source": [
    "# test that only abbrs are not in the matches nodes\n",
    "for node in g_new.nodes:\n",
    "    if g_new.degree(node) == 0 and node in author_list:\n",
    "        print(f\"author node {node} has no edges\")\n",
    "    elif g_new.degree(node) == 0 and node in abbr_list:\n",
    "        print(f\"abbreviation node {node} has no edges\")"
   ],
   "metadata": {
    "collapsed": false
   }
  },
  {
   "cell_type": "code",
   "execution_count": null,
   "outputs": [],
   "source": [
    "# list the abbreviations that were connected to the author that the edges with zero edges were pointing to\n",
    "# so we can e.g. check if we need to enable multiple abbreviations for the same author\n",
    "for node in g_new.nodes:\n",
    "    if g_new.degree(node) == 0:\n",
    "        # check the authors of the old graph that were pointing to this abbreviation\n",
    "        old_neighbors = G.neighbors(node)\n",
    "        for old_neighbor in old_neighbors:\n",
    "            print(f\"new neighbors of old abbr {node} node neighbors {old_neighbor} are {list(g_new.neighbors(old_neighbor))}\")\n"
   ],
   "metadata": {
    "collapsed": false
   }
  },
  {
   "cell_type": "markdown",
   "source": [
    "From this we do see that some authors have several abbreviations\n",
    "For example: krysta brown has probably two abbreviations: \"krysta\" and \"brown\""
   ],
   "metadata": {
    "collapsed": false
   }
  },
  {
   "cell_type": "code",
   "execution_count": null,
   "outputs": [],
   "source": [
    "print(f\"{(len(g_new.edges))} abbreviations were matched\")\n",
    "print(f\"There are {len(g_new.nodes) - (len(g_new.edges) * 2)} abbreviations that were not matched\")"
   ],
   "metadata": {
    "collapsed": false
   }
  },
  {
   "cell_type": "code",
   "execution_count": null,
   "outputs": [],
   "source": [
    "# print not matched abbreviations\n",
    "print([node for node in g_new.nodes if g_new.degree(node) == 0])"
   ],
   "metadata": {
    "collapsed": false
   }
  },
  {
   "cell_type": "code",
   "execution_count": null,
   "outputs": [],
   "source": [
    "# test if these abbreviations have only one edge in the old graph. If so, we can append them to that author.\n",
    "unmatched_abbrs_with_only_one_edge = [node for node in g_new.nodes if g_new.degree(node) == 0 and len(list(G.neighbors(node))) == 1]\n",
    "print(f\"{len(unmatched_abbrs_with_only_one_edge)} abbreviations have only one edge in the old graph\")\n",
    "\n",
    "# list remaining abbreviations\n",
    "remaining_abbrs = [node for node in g_new.nodes if g_new.degree(node) == 0 and len(list(G.neighbors(node))) > 1]\n",
    "print(remaining_abbrs)"
   ],
   "metadata": {
    "collapsed": false
   }
  },
  {
   "cell_type": "markdown",
   "source": [
    "We conclude, that most of the unmatched abbreviations were only connected to one author originally. That means that we can append them to that author because we know now that authors can have multiple abbreviations."
   ],
   "metadata": {
    "collapsed": false
   }
  },
  {
   "cell_type": "code",
   "execution_count": null,
   "outputs": [],
   "source": [],
   "metadata": {
    "collapsed": false
   }
  }
 ],
 "metadata": {
  "kernelspec": {
   "name": "lvz_venv",
   "language": "python",
   "display_name": "lvz_venv"
  },
  "language_info": {
   "codemirror_mode": {
    "name": "ipython",
    "version": 2
   },
   "file_extension": ".py",
   "mimetype": "text/x-python",
   "name": "python",
   "nbconvert_exporter": "python",
   "pygments_lexer": "ipython2",
   "version": "2.7.6"
  }
 },
 "nbformat": 4,
 "nbformat_minor": 0
}
