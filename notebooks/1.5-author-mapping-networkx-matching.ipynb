{
 "cells": [
  {
   "cell_type": "code",
   "execution_count": 1,
   "metadata": {
    "collapsed": true,
    "ExecuteTime": {
     "end_time": "2023-07-11T17:41:37.605455Z",
     "start_time": "2023-07-11T17:41:37.291502439Z"
    }
   },
   "outputs": [],
   "source": [
    "import json\n",
    "import sqlite3\n",
    "import numpy as np\n",
    "import pandas as pd\n",
    "import seaborn as sns\n",
    "import scipy\n",
    "import networkx as nx\n",
    "import matplotlib.pyplot as plt"
   ]
  },
  {
   "cell_type": "code",
   "execution_count": 2,
   "outputs": [],
   "source": [
    "\n",
    "con = sqlite3.connect('../data/interim/articles_with_author_mapping.db')\n",
    "cur = con.cursor()\n"
   ],
   "metadata": {
    "collapsed": false,
    "ExecuteTime": {
     "end_time": "2023-07-11T17:41:37.605881260Z",
     "start_time": "2023-07-11T17:41:37.538693173Z"
    }
   }
  },
  {
   "cell_type": "markdown",
   "source": [],
   "metadata": {
    "collapsed": false
   }
  },
  {
   "cell_type": "code",
   "execution_count": 3,
   "outputs": [],
   "source": [
    "cur.execute(\"select id, name, abbreviation, matching_certainty from authors\")\n",
    "rows = cur.fetchall()\n",
    "authors = pd.DataFrame(columns=[\"id\", \"name\", \"abbreviation\", \"certainty\"], data=rows)\n",
    "authors.set_index(\"id\", inplace=True)"
   ],
   "metadata": {
    "collapsed": false,
    "ExecuteTime": {
     "end_time": "2023-07-11T17:41:38.010394146Z",
     "start_time": "2023-07-11T17:41:37.548359321Z"
    }
   }
  },
  {
   "cell_type": "code",
   "execution_count": 4,
   "outputs": [],
   "source": [
    "# convert null to nans\n",
    "authors = authors.replace(\"null\", np.nan)"
   ],
   "metadata": {
    "collapsed": false,
    "ExecuteTime": {
     "end_time": "2023-07-11T17:41:38.065163855Z",
     "start_time": "2023-07-11T17:41:38.005085931Z"
    }
   }
  },
  {
   "cell_type": "code",
   "execution_count": 5,
   "outputs": [
    {
     "name": "stderr",
     "output_type": "stream",
     "text": [
      "/tmp/ipykernel_26967/2700545868.py:2: RuntimeWarning: Mean of empty slice\n",
      "  mean_certainty = authors.groupby([\"name\", \"abbreviation\"])[\"certainty\"].transform(lambda x: np.nanmean(x))\n"
     ]
    }
   ],
   "source": [
    "# set certainty of a row to the average certainty over all rows with same name and abbreviation, ignore nan values\n",
    "mean_certainty = authors.groupby([\"name\", \"abbreviation\"])[\"certainty\"].transform(lambda x: np.nanmean(x))\n",
    "authors[\"certainty\"] = mean_certainty"
   ],
   "metadata": {
    "collapsed": false,
    "ExecuteTime": {
     "end_time": "2023-07-11T17:41:38.313187007Z",
     "start_time": "2023-07-11T17:41:38.045849015Z"
    }
   }
  },
  {
   "cell_type": "code",
   "execution_count": 6,
   "outputs": [],
   "source": [
    "authors[\"name_pointing_to_abbreviation_count\"] = authors.groupby([\"name\", \"abbreviation\"])[\"name\"].transform(\"count\")\n",
    "authors[\"abbreviation_pointing_to_name_count\"] = authors.groupby([\"name\", \"abbreviation\"])[\"abbreviation\"].transform(\"count\")"
   ],
   "metadata": {
    "collapsed": false,
    "ExecuteTime": {
     "end_time": "2023-07-11T17:41:38.369962892Z",
     "start_time": "2023-07-11T17:41:38.320309430Z"
    }
   }
  },
  {
   "cell_type": "code",
   "execution_count": 7,
   "outputs": [],
   "source": [
    "# drop duplicates based on name, abbreviation, certainty. I can drop them because ..._count saved the count\n",
    "authors.drop_duplicates(subset=[\"name\", \"abbreviation\", \"certainty\"], inplace=True)"
   ],
   "metadata": {
    "collapsed": false,
    "ExecuteTime": {
     "end_time": "2023-07-11T17:41:38.391170292Z",
     "start_time": "2023-07-11T17:41:38.365015824Z"
    }
   }
  },
  {
   "cell_type": "code",
   "execution_count": 8,
   "outputs": [],
   "source": [
    "# set the share that the name has of all names that point to that abbreviation\n",
    "authors_with_name_pointing_to_abbreviation_sum =  authors.groupby([\"abbreviation\"]).agg(names_pointing_to_abbreviation_sum=(\"name_pointing_to_abbreviation_count\", \"sum\")).reset_index()\n",
    "authors = pd.merge(authors, authors_with_name_pointing_to_abbreviation_sum, on=\"abbreviation\")\n",
    "authors[\"name_pointing_to_abbreviation_share\"] = authors[\"name_pointing_to_abbreviation_count\"] / authors[\"names_pointing_to_abbreviation_sum\"]"
   ],
   "metadata": {
    "collapsed": false,
    "ExecuteTime": {
     "end_time": "2023-07-11T17:41:38.431012425Z",
     "start_time": "2023-07-11T17:41:38.396826760Z"
    }
   }
  },
  {
   "cell_type": "code",
   "execution_count": 9,
   "outputs": [],
   "source": [
    "# set the share that the abbreviation has of all abbreviations that point to that name\n",
    "authors_with_abbreviation_pointing_to_name_sum = authors.groupby([\"name\"]).agg(abbreviations_pointing_to_name_sum=(\"abbreviation_pointing_to_name_count\", \"sum\")).reset_index()\n",
    "authors = pd.merge(authors, authors_with_abbreviation_pointing_to_name_sum, on=\"name\")\n",
    "authors[\"abbreviation_pointing_to_name_share\"] = authors[\"abbreviation_pointing_to_name_count\"] / authors[\"abbreviations_pointing_to_name_sum\"]"
   ],
   "metadata": {
    "collapsed": false,
    "ExecuteTime": {
     "end_time": "2023-07-11T17:41:38.476290826Z",
     "start_time": "2023-07-11T17:41:38.432291968Z"
    }
   }
  },
  {
   "cell_type": "code",
   "execution_count": 10,
   "outputs": [],
   "source": [
    "# calculate a final score for the weighted edge between name and abbreviation\n",
    "authors[\"score\"] = authors[\"certainty\"] + authors[\"name_pointing_to_abbreviation_share\"] + authors[\"abbreviation_pointing_to_name_share\"]"
   ],
   "metadata": {
    "collapsed": false,
    "ExecuteTime": {
     "end_time": "2023-07-11T17:41:38.503821409Z",
     "start_time": "2023-07-11T17:41:38.457687287Z"
    }
   }
  },
  {
   "cell_type": "code",
   "execution_count": 11,
   "outputs": [],
   "source": [
    "# reduce the problem space to a bipartite graph, assigning all (name, abbreviation) pairs that are not connected to the graph as final/solved\n",
    "# add pairs to final mapping where abbreviation_pointing_to_name_count == 1 or name_pointing_to_abbreviation_count == 1 and remove those from the authors df#\n",
    "#one_to_one_mappings = authors[(authors[\"abbreviations_pointing_to_name_sum\"] == 1) & (authors[\"names_pointing_to_abbreviation_sum\"] == 1)]\n",
    "#final_mapping = pd.concat([final_mapping, one_to_one_mappings[[\"name\", \"abbreviation\"]]], ignore_index=True)\n",
    "\n",
    "#authors = authors[(authors[\"abbreviations_pointing_to_name_sum\"] != 1) | (authors[\"names_pointing_to_abbreviation_sum\"] != 1)]"
   ],
   "metadata": {
    "collapsed": false,
    "ExecuteTime": {
     "end_time": "2023-07-11T17:41:38.513763546Z",
     "start_time": "2023-07-11T17:41:38.467695672Z"
    }
   }
  },
  {
   "cell_type": "code",
   "execution_count": 23,
   "outputs": [],
   "source": [
    "authors = authors[authors[\"name\"] != \"A. Krieger\"]\n"
   ],
   "metadata": {
    "collapsed": false,
    "ExecuteTime": {
     "end_time": "2023-07-11T17:44:03.631634481Z",
     "start_time": "2023-07-11T17:44:03.588391711Z"
    }
   }
  },
  {
   "cell_type": "code",
   "execution_count": 24,
   "outputs": [],
   "source": [
    "# remove self referencing nodes\n",
    "authors = authors[authors[\"name\"] != authors[\"abbreviation\"]]"
   ],
   "metadata": {
    "collapsed": false,
    "ExecuteTime": {
     "end_time": "2023-07-11T17:44:05.033144562Z",
     "start_time": "2023-07-11T17:44:05.017483529Z"
    }
   }
  },
  {
   "cell_type": "code",
   "execution_count": 25,
   "outputs": [],
   "source": [
    "# add name and abbreviation as nodes list and remove duplicates\n",
    "nodes = list(authors[\"name\"].unique()) + list(authors[\"abbreviation\"].unique())\n",
    "\n",
    "# add unique edges based on entries in the authors table\n",
    "edges = []\n",
    "for index, row in authors.iterrows():\n",
    "    edges.append((row[\"name\"], row[\"abbreviation\"]))"
   ],
   "metadata": {
    "collapsed": false,
    "ExecuteTime": {
     "end_time": "2023-07-11T17:44:05.807178666Z",
     "start_time": "2023-07-11T17:44:05.702781320Z"
    }
   }
  },
  {
   "cell_type": "code",
   "execution_count": 26,
   "outputs": [],
   "source": [
    "G = nx.Graph()\n",
    "G.clear()\n",
    "author_list = list(authors[\"name\"].unique())\n",
    "abbr_list = list(authors[authors[\"name\"].isin(author_list)][\"abbreviation\"].unique())\n",
    "G.add_nodes_from(author_list, bipartite=0)\n",
    "G.add_nodes_from(abbr_list, bipartite=1)\n",
    "dummy_nodes = [f\"{name}_dummy\" for name in author_list]\n",
    "G.add_nodes_from(dummy_nodes, bipartite=1)\n",
    "\n",
    "edges = []\n",
    "for index, row in authors[authors[\"name\"].isin(author_list) & authors[\"abbreviation\"].isin(abbr_list)].iterrows():\n",
    "    G.add_edges_from([(row[\"name\"], row[\"abbreviation\"])], weight=round(row[\"score\"],2) * -1)\n",
    "\n",
    "for name in author_list:\n",
    "    G.add_edges_from([(name, f\"{name}_dummy\")], weight=0)\n"
   ],
   "metadata": {
    "collapsed": false,
    "ExecuteTime": {
     "end_time": "2023-07-11T17:44:06.405123651Z",
     "start_time": "2023-07-11T17:44:06.297259017Z"
    }
   }
  },
  {
   "cell_type": "code",
   "execution_count": 27,
   "outputs": [],
   "source": [
    "new_edges = nx.bipartite.minimum_weight_full_matching(G, top_nodes=list(authors[\"name\"].unique()), weight=\"weight\")\n",
    "g_new = nx.Graph()\n",
    "g_new.clear()\n",
    "g_new.add_nodes_from(author_list, bipartite=0)\n",
    "g_new.add_nodes_from(abbr_list, bipartite=1)\n",
    "g_new.add_edges_from(new_edges.items())"
   ],
   "metadata": {
    "collapsed": false,
    "ExecuteTime": {
     "end_time": "2023-07-11T17:44:07.437723719Z",
     "start_time": "2023-07-11T17:44:07.386316769Z"
    }
   }
  },
  {
   "cell_type": "markdown",
   "source": [],
   "metadata": {
    "collapsed": false
   }
  },
  {
   "cell_type": "markdown",
   "source": [],
   "metadata": {
    "collapsed": false
   }
  },
  {
   "cell_type": "code",
   "execution_count": 39,
   "outputs": [
    {
     "data": {
      "text/plain": "EdgeView([('kai-uwe brandt', 'kub'), ('jan peter', 'jap'), ('manfred lüttich', 'malü'), ('märz frank pfütze', 'märz frank pfütze_dummy'), ('magdalena froehlich', 'mf'), ('michael frömmert', 'maf'), ('heiko trebs', 'ht'), ('andreas tappert', 'art'), ('annett riedel', 'ari'), ('angelika raulien', 'arau'), ('andrea richter', 'ar'), ('nadja topfstedt', 'dpe'), ('norbert töpfer', 'nt'), ('niklas tolkamp', 'niklas tolkamp_dummy'), ('thomas lang', 'thlang'), ('thomas haegeler', 'thl'), ('antje henselin-rudolph', 'ahr'), ('nico fliegner', 'nf'), ('lutz schmidt', 'ls'), ('heike liesaus', 'hl'), ('juliane streich', 'just'), ('lisa garn', 'lisa garn_dummy'), ('lisa berins', 'lisa'), ('lisa seliger', 'lis'), ('melanie steitz', 'mes'), ('lisa schliep', 'liep'), ('laurine schubert', 'laurine schubert_dummy'), ('frank pfütze', 'pfü'), ('pfütze frank', 'pfütze'), ('kendra reinhardt', 'kir'), ('karoline maria keybe', 'key'), ('kinderwerkstatt anmeldet', 'kinderwerkstatt anmeldet_dummy'), ('kommentar jonas alder', 'kommentar jonas alder_dummy'), ('kunze christian kunze', 'kunze christian kunze_dummy'), ('klaus staeubert', 'ks'), ('kristina ahnert', 'kristina ahnert_dummy'), ('kay würker', 'kay'), ('kathrin kabelitz', 'kk'), ('komplette abstimmungsergebnis', 'komplette abstimmungsergebnis_dummy'), ('kim aalders', 'kim aalders_dummy'), ('kai-uwe arnold', 'ka'), ('karen arnold', 'karen arnold_dummy'), ('meike strüber', 'mei'), ('michael dick', 'midi'), ('manfred hainich', 'mh'), ('nikos natsidis', 'nn'), ('heiko henschel', 'heiko henschel_dummy'), ('roland heinrich', 'rohe'), ('heinrich lillie', 'hei'), ('matthias puppe', 'mpu'), ('robert nößler', 'nöß'), ('roland herold', 'rh'), ('ditmar wohlgemuth', 'dem'), ('dnn-online maf', 'doa'), ('dominik bath', 'dom'), ('dominic welters', 'do'), ('anne-kathrin sturm', '-art'), ('haig latchinian', 'hat'), ('marco irrgang', 'mi'), ('matthias roth', 'mro'), ('miriam ihle', 'miriam ihle_dummy'), ('manuel niemann', 'lni'), ('mathias orbeck', 'mo'), ('marion von imhoff', 'marion von imhoff_dummy'), ('andreas friedrich', 'af'), ('birgit schöppenthau', 'bis'), ('bastian schröder', 'bas'), ('christin grödel', 'cgr'), ('christine gräfe', 'cg'), ('steffen brost', 'sb'), ('barbara osdarty', 'bos'), ('krysta brown', 'krysta'), ('von steffen brost', 'von steffen brost_dummy'), ('benno rougk', 'bro'), ('frank schmidt', 'fri'), ('frank müller', 'fm'), ('nina may', 'ny'), ('heike nyari', 'nyari'), ('guido schäfer', 'gs'), ('janina fleischer', 'jaf'), ('karin rieck', 'karin'), ('kathleen retzar', 'kr'), ('stephan lohse', 'spa'), ('stefan lehmann', 'stefan lehmann_dummy'), ('simone liss', 'sl'), ('eberhard schmiedel', 'ebs'), ('holger günther', 'hog'), ('stefan banitz', 'stb'), ('jens rosenkranz', 'jon'), ('melden joka', 'joka'), ('winfried wächter', 'witt'), ('wilma rücker', 'wer'), ('lokalteil delitzsch-eilenburg', 'lok'), ('andreas dunte', 'ans'), ('andreas debski', 'ad'), ('andreas ebel', 'ade'), ('andreas debsk i', 'ani'), ('frauke sievers', 'fs'), ('frank schober', 'frs'), ('lvz-online evelyn', 'lvz-online'), ('anne ulbricht', 'au'), ('markus werning', 'mw'), ('mathias wöbking', 'mwö'), ('thomas mayer', 'tom'), ('thomas meißner', 'thomas meißner_dummy'), ('jens rometsch', 'jem'), ('jörg reuter', 'jr'), ('maria keybe', 'may'), ('michael strohmeyer', 'mayer'), ('michael meyer', 'mey'), ('uwe köster', 'ukö'), ('jenifer hochhaus', 'jh'), ('julia wick', 'julia wick_dummy'), ('jörg wolf', 'jw'), ('thomas steingen', 'totei'), ('thomas sparrer', 'tsa'), ('alexander bley', 'bly'), ('ulrike witt', 'uw'), ('reik anton', 'ra'), ('florian bamberg', 'fib'), ('stefanie büssing', 'büs'), ('astrid hofmann', 'ah'), ('anke herold', 'herold'), ('christiane lösch', 'chl'), ('chris lademann', 'chris lademann_dummy'), ('christoph lemmer', 'christoph lemmer_dummy'), ('friederike spröh', 'fes'), ('von thomas steingen', 'ots'), ('nicole rathge-scholz', 'nicole rathge-scholz_dummy'), ('oliver von riegen stefan hantzschmann und jörg schurig', 'ovz'), ('ter vehn', 'tv'), ('jörg ter vehn', 'ttr'), ('evelyn ter vehn', 'er'), ('reinhard rädler', 'räd'), ('carina reinhardt', 'car'), ('conny hanspach', 'conny hanspach_dummy'), ('christoph stephan', 'chs'), ('christoph springer', 'cs'), ('christian kunze', 'cku'), ('johannes angermann', 'jas'), ('josephine heinze', 'joh'), ('frank prenzel', 'fpr'), ('frank pfeifer', 'fp'), ('sebastian fink', 'sf'), ('catrin steinbach', 'catrin steinbach_dummy'), ('claus schimmel', 'claus schimmel_dummy'), ('frank döring', 'fd'), ('juliette guttmann', 'jg'), ('julia grubitzsch', 'julia grubitzsch_dummy'), ('j. greschner', 'j. greschner_dummy'), ('juliane groh', 'juliane groh_dummy'), ('skadi hofmann', 'skadi'), ('heinz großnick', 'hg'), ('hanna gerwig', 'hgw'), ('peter korfmacher', 'pk'), ('insa van', 'ivn'), ('ekkehard schulreich', 'es'), ('robin seidler', 'rs'), ('silke hoffmann', 'ska'), ('nora ernst', 'noe'), ('daniel große', 'dg'), ('kai kollenberg', 'allner'), ('kommentar thomas lieb', 'kol'), ('tanja kirsten', 'tak'), ('ines christ', 'ic'), ('kathrin haase', 'kh'), ('saskia grätz', 'saskia'), ('frank hörügel', 'fh'), ('ilka fischer', 'if'), ('johannes david', 'jd'), ('thomas lieb', 'tl'), ('kay wuerker', 'kw'), ('kerstin decker', 'kd'), ('dennis röthig', 'dir'), ('dimo rieß', 'rieß'), ('sebastian kositz', 'seko'), ('lilly biedermann', 'lyn'), ('axel kaminski', 'ak'), ('dominik brüggemann', 'db'), ('thomas jentzsch', 'tj'), ('matthias jung', 'matthias jung_dummy'), ('marcel jud', 'marcel jud_dummy'), ('mario jahn', 'maj'), ('jochen leimert', 'jol'), ('michael graul', 'michael graul_dummy'), ('handballer agri', 'haeg'), ('regina katzer', 'reka'), ('rainer küster', 'rk'), ('roger dietze', 'red'), ('heiko weckbrodt', 'hw'), ('reinhard weber', 'rnw'), ('stephan hönigschmid', 'stephan hönigschmid_dummy'), ('sparrer thomas sparrer', 'sth'), ('kerstin leppich', 'sil'), ('ralf redemund', 'rau'), ('jane jannke', 'jaja'), ('mario beck', 'mario'), ('benjamin böhme', 'bb'), ('mark daniel', 'mad'), ('olaf büchel', 'obü'), ('marie frec', 'marie frec_dummy'), ('robert berlin', 'rob'), ('robert büssow', 'rbü'), ('barbara stock', 'barbara stock_dummy'), ('bärbel schumann', 'bs'), ('daniel kaiser', 'dk'), ('denis korn', 'denis korn_dummy'), ('decker kerstin', 'decker kerstin_dummy'), ('dirk knofe', 'dirk'), ('david knapp', 'david knapp_dummy'), ('tobias zinnecker', 'tz'), ('theresa held und birgit zimmermann', 'theresa held und birgit zimmermann_dummy'), ('bettina winkler', 'bettina winkler_dummy'), ('benjamin winkler', 'bw'), ('martin glass', 'mg'), ('peggy hamfler', 'ph'), ('constanze dietsch', 'codi'), ('annett böhm', 'abö'), ('andré böhmer', 'ab'), ('denis burkhardt', 'denis burkhardt_dummy'), ('döbeln richten.', 'dbr'), ('anne grimm', 'agri'), ('clemens haug', 'cha'), ('christine jacob', 'cj'), ('sabine kreuz', 'sk'), ('karin tamcke', 'kt'), ('alexander laboda', 'alexander laboda_dummy'), ('angelika oswald', 'ao'), ('anne kunze', 'aku'), ('jeannine steinbrecher', 'jeannine steinbrecher_dummy'), ('jane sommer', 'js'), ('jörg schurig', 'jörg schurig_dummy'), ('jan sternberg', 'jan sternberg_dummy'), ('stefan schilde', 'sts'), ('stefan schramm', 'sens'), ('anna-luise landgraf', 'aul'), ('isabel oelsner', 'io'), ('paul müller', 'paul müller_dummy'), ('peter matzke', 'peter matzke_dummy'), ('patrick moye', 'patrick moye_dummy'), ('peter müller', 'peter müller_dummy'), ('peer meinert', 'peer meinert_dummy'), ('paul felix michaelis', 'pmi'), ('pia siemer', 'pia siemer_dummy'), ('petra mewes', 'pm'), ('lothar albrecht', 'loa'), ('mathias schönknecht', 'ms'), ('vivian degen', 'viv'), ('inge engelhardt', 'ie'), ('ines eisele', 'ines eisele_dummy'), ('inge-dore engelhardt', 'inge-dore engelhardt_dummy'), ('madeleine arndt', 'ma'), ('alexander prautzsch', 'azs'), ('daniel bachmann', 'dab'), ('fotolia underwaterpics', 'fu'), ('janett petermann', 'jp'), ('jens paul taubert', 'jpt'), ('marlies neumann', 'mn'), ('marie landes', 'marie landes_dummy'), ('mpu luc', 'mpu luc_dummy'), ('martin lange', 'ml'), ('dieter wonka', 'da'), ('jürgen kleindienst', 'jk'), ('joka lvz', 'jkl'), ('thomas baumann-hartwig', 'tbh'), ('simone prenzel', 'sp'), ('wolfgang wukasch', 'ww'), ('manuela engelmann', 'ug'), ('michael ernst', 'me'), ('gabi liebegall', 'gl'), ('peter ader', 'pa'), ('dirk wurzel', 'diw'), ('sabine hinkel', 'hinkel'), ('steffi robak', 'iro'), ('sagte orosz.', 'sro'), ('volkmar heinz', 'vhz'), ('claudia carell-domröse', 'adö'), ('leonie born', 'lbo'), ('markus bien', 'mb'), ('mathias bierende', 'mathias bierende_dummy'), ('kerstin förster', 'kefö'), ('conrad ziesch', 'cz'), ('günther hunger', 'gh'), ('heiko stets', 'hs'), ('stefan stosch', 'stets'), ('björn meine', 'bm'), ('kommentar frank hörügel', 'kfa'), ('petra zimmermann', 'pz'), ('hagen rösner', 'hr'), ('kommentar jörg wolf', 'kommentar jörg wolf_dummy'), ('gemeindechronik nico fliegner', 'knof'), ('amélie middelberg', 'am'), ('anja macheleid', 'anja macheleid_dummy'), ('steffen moritz', 'sm'), ('tatjana böhme-mehner', 'ajm'), ('katrin zeiß', 'katz'), ('kerstin staffe', 'staffe'), ('hellmut mauersberger', 'hmr'), ('katharina ecke', 'ecke'), ('eckhard riedel', 'eckhard riedel_dummy'), ('annegudrun heilmann', 'gruhl'), ('leonie ebert', 'leonie ebert_dummy'), ('lena-marie lübker', 'la'), ('luise binder', 'lieb'), ('marie-christine buntrock', 'mcb'), ('christoph bräuer', 'bräuer'), ('marcel braune', 'maba'), ('amélie middelberg am', 'amélie middelberg am_dummy'), ('allner natasha allner', 'ala'), ('uwe hofmann', 'uf'), ('urs humpenöder', 'urs humpenöder_dummy'), ('ulrich milde', 'umi'), ('ute hirsch', 'uh'), ('florian theis', 'ft'), ('feliks todtmann', 'feliks todtmann_dummy'), ('mro dapd', 'dapd'), ('peter idaczek', 'pd'), ('patricia liebling', 'pl'), ('andré neumann', 'an'), ('evelin böhme-pock', 'bho'), ('stefanie dietz', 'sd'), ('matthias pöls', 'mpö'), ('arndt beckert', 'dtb'), ('dpa thomas lieb', 'dpa thomas lieb_dummy'), ('cku heinz großnick', 'chg'), ('christian geinitz', 'christian geinitz_dummy'), ('guido schäfer aus der leipziger volkszeitung vom von schäfer', 'dkms'), ('jana brechlin', 'jb'), ('falko deparade', 'dpad'), ('steffen enigk', 'ste'), ('juliane lange', 'lang'), ('judith sophie schilling', 'jss'), ('birgit rabe', 'br'), ('felix forberg', 'flo'), ('felix kretz', 'felix'), ('florian reinke', 'fr'), ('bernd locker', 'bernd locker_dummy'), ('beatrice kasel', 'beck'), ('gina apitz', 'gap'), ('andré pitz', 'ap'), ('martin pelzl', 'martin'), ('doreen schellenberg', 'dsc'), ('wolfram lenk', 'wolf'), ('schloss handke.', 'sch'), ('frank kastner', 'frank'), ('rainer schwurack', 'rieck'), ('julia wagner', 'uwe'), ('dieter taszarek', 'dietze'), ('julia tonne', 'jto'), ('torsten teichert', 'tonne'), ('kommentar frank pfütze', 'afp'), ('manfred pfau', 'manfred pfau_dummy'), ('ralf und pfeifer', 'ralf'), ('ralf saupe', 'ralf saupe_dummy'), ('sebastian stöber', 'stöber'), ('katharina schultz', 'katrin'), ('olaf krenz', 'okz'), ('olaf barth', 'ob'), ('holger baumgärtner', 'hb'), ('hanspeter brodbeck', 'hanspeter brodbeck_dummy'), ('peter ruf', 'pr'), ('philip rißling', 'philip rißling_dummy'), ('susanne weidner', 'swd'), ('julia carstens', 'jca'), ('rigo adelhöfer', 'rigo adelhöfer_dummy'), ('uwe köster aus der leipziger volkszeitung vom frank schober', 'uwe köster aus der leipziger volkszeitung vom frank schober_dummy'), ('saupe ralf und pfeifer', 'saupe'), ('julia vollmer', 'jv'), ('sparkassenverbandes erhält.', 'sparrer'), ('dominik ferl', 'df'), ('döring frank', 'döring frank_dummy'), ('olaf majer', 'om'), ('von heike', 'vh'), ('yvonne schmidt', 'ys'), ('martin moser', 'moser'), ('nadine lea siegmund', 'nls'), ('reinhard urschel', 'reu'), ('rené beuckert', 'rené beuckert_dummy'), ('robert nößler und matthias roth', 'belo'), ('olivia jasmin czok', 'olivia jasmin czok_dummy'), ('ovz jens rosenkranz', 'ovz jens rosenkranz_dummy'), ('die gewitter und eine deutliche abkühlung bringen soll. lvz', 'die gewitter und eine deutliche abkühlung bringen soll. lvz_dummy'), ('so odenthal. lvz', 'so odenthal. lvz_dummy'), ('von cavertitz', 'von cavertitz_dummy'), ('konstantina vezyri', 'konstantina vezyri_dummy'), ('sven zschiesche', 'sz'), ('hauke heuer', 'hh'), ('horst hampe', 'horst hampe_dummy'), ('thomas keiderling', 'tk'), ('tatjana kulpa', 'tatjana kulpa_dummy'), ('thomas kube', 'thk'), ('katharina goldbach', 'kg'), ('kristin engel', 'ke'), ('peter stracke', 'ps'), ('pauline szyltowski', 'psz'), ('ines alekowa', 'ia'), ('thomas zinnert', 'tasz'), ('arndt boettcher', 'arndt boettcher_dummy'), ('marc bohländer', 'mber'), ('obü olaf büchel', 'boh'), ('bjarne johansen-schmidt', 'bjh'), ('katharina ott', 'ko'), ('natasha g. allner', 'nga'), ('sarah englisch', 'she'), ('winfried schumacher', 'winfried schumacher_dummy'), ('wolfgang sens', 'ws'), ('von anton zirk', 'von anton zirk_dummy'), ('oschatzer allgemeine zeitung', 'oaz'), ('ingolf pleil', 'ip'), ('steffen georgi', 'sg'), ('jochen schmalz', 'jhz'), ('emillio rappold', 'emillio rappold_dummy'), ('dietrich pätzold', 'dp'), ('vera podskalsky', 'vera podskalsky_dummy'), ('elisabeth triegel und ulrike gaudigs eine kooperation mit dem bachfest leipzig', 'elisabeth triegel und ulrike gaudigs eine kooperation mit dem bachfest leipzig_dummy'), ('stephan wiegand', 'stephan wiegand_dummy'), ('stephanie riedel', 'stephanie riedel_dummy'), ('josephine heinze und dirk knofe (foto)', 'josephine heinze und dirk knofe (foto)_dummy'), ('nadine pensold', 'epd'), ('andreas tappert und florian reinke', 'andreas tappert und florian reinke_dummy'), ('schulungspartner aufgetreten', 'susa'), ('winfried mahr', 'wim'), ('katharina stork', 'kasto'), ('anita kecke', 'anke'), ('anita häußler', 'häu'), ('nga skibi', 'skibi'), ('volkmar beier', 'vb'), ('andreas zellmer', 'andreas zellmer_dummy'), ('andrea schulze', 'andrea schulze_dummy'), ('daniela salzmann', 'daniela salzmann_dummy'), ('daz-redaktion', 'daz-redaktion_dummy'), ('linda zapfe', 'daz'), ('linda polenz', 'lp'), ('adeline bruzat', 'abz'), ('olaf becher', 'becher'), ('laura müller', 'lm'), ('kerstin sieblist', 'krebs'), ('reiner scheffler', 'riess'), ('es gefunden zu haben. mit material der dpa. lvz', 'fv'), ('thomas trummer', 'tt'), ('stephanie von aretin', 'sta'), ('lucas grothe', 'lucas'), ('jan emendörfer', 'je'), ('torben ibs', 'tibs'), ('imre grimm', 'ig'), ('victoria graul', 'vg'), ('manuela engelmann-bunk', 'almu'), ('claudia carell', 'luc'), ('otb oliver becker', 'otb'), ('friederike ostwald', 'ffo'), ('franziska wülle', 'franziska wülle_dummy'), ('frank-thomas wenzel', 'fsw'), ('fsw-news', 'fsw-news_dummy'), ('bastian fischer', 'bfi'), ('wiebke theuer', 'wt'), ('grünheide wendl', 'gw'), ('august modersohn', 'august'), ('kerstin decker mehr infos aus dem zoo leipzig finden sie hier!', 'kefoe'), ('alexander engels', 'are'), ('ulrich langer', 'ul'), ('rimpar frisch', 'paris'), ('joka nöß', 'jn'), ('cornelia braun', 'cb'), ('nathalie helene rippich', 'nhr'), ('martin kloth', 'mk'), ('matthias klöppel', 'mkl'), ('maximilian könig', 'max'), ('andrea schrader', 'as'), ('ellen paul', 'ep'), ('pamela geißler', 'pg'), ('paula drope', 'pad'), ('klaus peschel', 'kul'), ('helene schack', 'helene schack_dummy'), ('hannah schaefer', 'hannah schaefer_dummy'), ('hendrik schirner', 'hendrik schirner_dummy'), ('hannah suppa', 'hannah suppa_dummy'), ('bernd lähne', 'bl'), ('völkerschlachtdenkmal pm', 'vdp'), ('admiral bob', 'lob'), ('manuela engelmann-bunk und olaf büchel', 'manuela engelmann-bunk und olaf büchel_dummy'), ('björn pazen', 'bp'), ('matthias puppe die kommentarfunktion steht morgen wieder zur verfügung', 'koku'), ('lucas kreling', 'lk'), ('margitta tittel', 'mat'), ('jan szyszka', 'jan szyszka_dummy'), ('ulrike von leszczynski', 'ulrike von leszczynski_dummy'), ('zeynep sentek', 'zys'), ('ulrike simon', 'uko'), ('anne-beatrice clasmann', 'abr'), ('karsten kriesel', 'keil'), ('britt-marie lakämper', 'lkp'), ('florian wedhorn', 'fw'), ('nadja neqqache', 'nq'), ('nadine marquardt', 'nqq'), ('kathrin kabelitz und', 'tku'), ('marianne h.-stars', 'mhs'), ('stephanie helm', 'hem'), ('anton zirk', 'anzi'), ('justine büschel', 'jbü'), ('volly tanner', 'vo'), ('von christian neffe', 'von'), ('christian neffe', 'cn'), ('sophia-caroline kosel', 'kosel'), ('tom erik richter', 'mercer'), ('stephan wille', 'stw'), ('eric dobias', 'dob'), ('daniel salpius', 'daniel salpius_dummy'), ('daniel dettling', 'dei'), ('von joachim mangler', 'vm'), ('von birgit zimmermann', 'von birgit zimmermann_dummy'), ('von winfried mahr', 'von winfried mahr_dummy'), ('nick leukhardt', 'nl'), ('christoph wendt', 'christoph wendt_dummy'), ('christian wendt', 'cw'), ('bf und lvz', 'flvz'), ('sophie aschenbrenner', 'soa'), ('matthias koch', 'matthias koch_dummy'), ('stephanie jankowski', 'stephanie jankowski_dummy'), ('von thiko', 'thiko'), ('lena rath', 'lra'), ('martin klindtworth', 'kloth'), ('thomas barth', 'thomas barth_dummy'), ('thomas bothe', 'thth'), ('thomas bothe hier finden sie weitere tipps', 'fws'), ('simona block', 'block'), ('jörg augsburg', 'öbu'), ('der intendanz sei bislang keine stellungnahme zu den forderungen geplant', 'der intendanz sei bislang keine stellungnahme zu den forderungen geplant_dummy'), ('christian modla', 'modla'), ('edgar lopez', 'elo'), ('edgar lopez news', 'gaps'), ('maria sandig', 'maria'), ('tomas gärtner', 'tg'), ('lisa-marie leuteritz', 'lml'), ('llka fischer', 'lf'), ('lvz fotos', 'llvz'), ('maike steuer', 'mkr'), ('helmut pock', 'hp'), ('stefan michaelis hier finden sie weitere tipps', 'st'), ('gislinde redepenning', 'gr'), ('miriam heinbuch', 'buch'), ('hans-hermann koch', 'hhk'), ('franziska kästner', 'fkä'), ('uta zangemeister', 'uz'), ('lisa neumann', 'lin'), ('gerd piper', 'gp'), ('petra buch', 'pb'), ('diemo wolf', 'ewo'), ('lotta-clara löwener', 'lcl'), ('anna flora schade', 'afs'), ('tricks und infos zum thema sicherheit!', 'iuiu'), ('franziska gleißner', 'fg'), ('sebastian fink & olaf büchel', 'sbü'), ('eberhard ulm', 'ebu'), ('elena burbach', 'elena burbach_dummy'), ('felix busjaeger', 'fbu'), ('stefan arndt', 'sa'), ('niklas guschel', 'niklas guschel_dummy'), ('nadin gabner', 'nag'), ('vanessa gregor', 'vag'), ('patrick fam', 'pf'), ('tilman kortenhaus', 'tik'), ('uwe zabell', 'ubl'), ('von julia tonne', 'von julia tonne_dummy'), ('cornelia meerkatz, juliane schultz und alexander loew', 'online'), ('norbert wehrstedt', 'nw'), ('helena reinhardt', 'heind'), ('ulrich steinmetzger', 'lmg'), ('julia maria grass', 'jmg'), ('claudia forner', 'cf'), ('johann-christoph landgraf', 'onl'), ('thomas sparrer, manuela engelmann-bunk und nicole grziwa', 'thomas sparrer, manuela engelmann-bunk und nicole grziwa_dummy'), ('lutz köhler', 'ukl'), ('lars schmidt', 'lht'), ('elena boshkovska', 'eb'), ('sonja lauer', 'sal'), ('grit blümle', 'güm'), ('carsten hoffmann', 'ch'), ('lilly günthner', 'lg'), ('lisa konstantinidis', 'liko'), ('luise jahn und victoria kovacs', 'luise jahn und victoria kovacs_dummy'), ('bernd atzenroth', 'ba'), ('max hempel', 'm hempel'), ('tim niklas herholz', 'tnh'), ('susanne plecher', 'sup'), ('michael klamp', 'cmp'), ('josa mania-schlegel', 'jms')])"
     },
     "execution_count": 39,
     "metadata": {},
     "output_type": "execute_result"
    }
   ],
   "source": [
    "g_new.edges"
   ],
   "metadata": {
    "collapsed": false,
    "ExecuteTime": {
     "end_time": "2023-07-11T17:52:37.846177345Z",
     "start_time": "2023-07-11T17:52:37.803192753Z"
    }
   }
  },
  {
   "cell_type": "code",
   "execution_count": 29,
   "outputs": [
    {
     "name": "stdout",
     "output_type": "stream",
     "text": [
      "new graph has 1372 nodes and 586 edges\n"
     ]
    }
   ],
   "source": [
    "print(f\"new graph has {len(g_new.nodes)} nodes and {len(g_new.edges)} edges\")\n",
    "# todo 11.07: es müssten eigentlich 1172 nodes sein, wenn es 586 Kanten also 1-1 mappings gibt, oder?"
   ],
   "metadata": {
    "collapsed": false,
    "ExecuteTime": {
     "end_time": "2023-07-11T17:44:25.944644706Z",
     "start_time": "2023-07-11T17:44:25.930524694Z"
    }
   }
  },
  {
   "cell_type": "code",
   "execution_count": 43,
   "outputs": [
    {
     "name": "stdout",
     "output_type": "stream",
     "text": [
      "author_mapping has 470 rows\n"
     ]
    }
   ],
   "source": [
    "# transform graph to dataframe author_mapping with columns name and abbreviation\n",
    "author_mapping = pd.DataFrame(columns=[\"name\", \"abbreviation\"], data=g_new.edges)\n",
    "author_mapping = author_mapping.astype(str)\n",
    "\n",
    "# remove all abbreviations that contain \"dummy\" in their name\n",
    "author_mapping = author_mapping[~author_mapping[\"abbreviation\"].str.contains(\"dummy\")]\n",
    "# print shape\n",
    "print(f\"author_mapping has {author_mapping.shape[0]} rows\")"
   ],
   "metadata": {
    "collapsed": false,
    "ExecuteTime": {
     "end_time": "2023-07-11T17:54:32.284256525Z",
     "start_time": "2023-07-11T17:54:32.237845570Z"
    }
   }
  },
  {
   "cell_type": "code",
   "execution_count": 44,
   "outputs": [
    {
     "data": {
      "text/plain": "                    name abbreviation\n0         kai-uwe brandt          kub\n1              jan peter          jap\n2        manfred lüttich         malü\n4    magdalena froehlich           mf\n5       michael frömmert          maf\n..                   ...          ...\n581           max hempel     m hempel\n582   tim niklas herholz          tnh\n583      susanne plecher          sup\n584        michael klamp          cmp\n585  josa mania-schlegel          jms\n\n[470 rows x 2 columns]",
      "text/html": "<div>\n<style scoped>\n    .dataframe tbody tr th:only-of-type {\n        vertical-align: middle;\n    }\n\n    .dataframe tbody tr th {\n        vertical-align: top;\n    }\n\n    .dataframe thead th {\n        text-align: right;\n    }\n</style>\n<table border=\"1\" class=\"dataframe\">\n  <thead>\n    <tr style=\"text-align: right;\">\n      <th></th>\n      <th>name</th>\n      <th>abbreviation</th>\n    </tr>\n  </thead>\n  <tbody>\n    <tr>\n      <th>0</th>\n      <td>kai-uwe brandt</td>\n      <td>kub</td>\n    </tr>\n    <tr>\n      <th>1</th>\n      <td>jan peter</td>\n      <td>jap</td>\n    </tr>\n    <tr>\n      <th>2</th>\n      <td>manfred lüttich</td>\n      <td>malü</td>\n    </tr>\n    <tr>\n      <th>4</th>\n      <td>magdalena froehlich</td>\n      <td>mf</td>\n    </tr>\n    <tr>\n      <th>5</th>\n      <td>michael frömmert</td>\n      <td>maf</td>\n    </tr>\n    <tr>\n      <th>...</th>\n      <td>...</td>\n      <td>...</td>\n    </tr>\n    <tr>\n      <th>581</th>\n      <td>max hempel</td>\n      <td>m hempel</td>\n    </tr>\n    <tr>\n      <th>582</th>\n      <td>tim niklas herholz</td>\n      <td>tnh</td>\n    </tr>\n    <tr>\n      <th>583</th>\n      <td>susanne plecher</td>\n      <td>sup</td>\n    </tr>\n    <tr>\n      <th>584</th>\n      <td>michael klamp</td>\n      <td>cmp</td>\n    </tr>\n    <tr>\n      <th>585</th>\n      <td>josa mania-schlegel</td>\n      <td>jms</td>\n    </tr>\n  </tbody>\n</table>\n<p>470 rows × 2 columns</p>\n</div>"
     },
     "execution_count": 44,
     "metadata": {},
     "output_type": "execute_result"
    }
   ],
   "source": [
    "author_mapping"
   ],
   "metadata": {
    "collapsed": false,
    "ExecuteTime": {
     "end_time": "2023-07-11T17:54:33.912304435Z",
     "start_time": "2023-07-11T17:54:33.879686257Z"
    }
   }
  },
  {
   "cell_type": "code",
   "execution_count": 45,
   "outputs": [
    {
     "data": {
      "text/plain": "586"
     },
     "execution_count": 45,
     "metadata": {},
     "output_type": "execute_result"
    }
   ],
   "source": [
    "len(author_list)"
   ],
   "metadata": {
    "collapsed": false,
    "ExecuteTime": {
     "end_time": "2023-07-11T18:05:45.979757549Z",
     "start_time": "2023-07-11T18:05:45.930012063Z"
    }
   }
  },
  {
   "cell_type": "code",
   "execution_count": null,
   "outputs": [],
   "source": [],
   "metadata": {
    "collapsed": false
   }
  }
 ],
 "metadata": {
  "kernelspec": {
   "name": "lvz_venv",
   "language": "python",
   "display_name": "lvz_venv"
  },
  "language_info": {
   "codemirror_mode": {
    "name": "ipython",
    "version": 2
   },
   "file_extension": ".py",
   "mimetype": "text/x-python",
   "name": "python",
   "nbconvert_exporter": "python",
   "pygments_lexer": "ipython2",
   "version": "2.7.6"
  }
 },
 "nbformat": 4,
 "nbformat_minor": 0
}
