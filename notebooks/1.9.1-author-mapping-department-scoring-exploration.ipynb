{
 "cells": [
  {
   "cell_type": "markdown",
   "source": [
    "This script aims to develop a scoring to map abbreviations to full names based on ressort membership.\n",
    "Acceptance criteria:\n",
    "- The score should be between 0 and 1\n",
    "- The higher the similarity between the abbreviation's department article distribution and the full name's department article distribution, the higher the score\n",
    "- "
   ],
   "metadata": {
    "collapsed": false
   },
   "id": "47fbb4828127852a"
  },
  {
   "cell_type": "code",
   "execution_count": 7,
   "outputs": [],
   "source": [
    "import json\n",
    "import sqlite3\n",
    "import numpy as np\n",
    "import pandas as pd\n",
    "import seaborn as sns\n",
    "import matplotlib.pyplot as plt\n",
    "import scipy\n",
    "import networkx as nx\n",
    "from dateutil import relativedelta\n",
    "from datetime import datetime\n",
    "import re\n",
    "import tqdm\n",
    "from src.models.MatchingType import MatchingType\n",
    "from scipy.stats import wasserstein_distance, spearmanr"
   ],
   "metadata": {
    "collapsed": false,
    "ExecuteTime": {
     "end_time": "2024-01-22T21:40:24.353601047Z",
     "start_time": "2024-01-22T21:40:24.275356658Z"
    }
   },
   "id": "3145378997f1fc4"
  },
  {
   "cell_type": "code",
   "execution_count": 36,
   "outputs": [
    {
     "name": "stdout",
     "output_type": "stream",
     "text": [
      "summed distance between full name and abbr1: 40\n",
      "summed distance between full name and abbr2: 40\n",
      "spearman correlation between full name and abbr1: 0.7999999999999999\n",
      "spearman correlation between full name and abbr2: 0.632455532033676\n",
      "wasserstein distance between full name and abbr1: 0.14814814814814814\n",
      "wasserstein distance between full name and abbr2: 0.2962962962962963\n"
     ]
    }
   ],
   "source": [
    "# Note: the lower the wasserstein distance, the better the match\n",
    "\n",
    "full_name_articles = [55, 50, 20, 10]\n",
    "abbr1_articles = [55, 30, 40, 10] # this is the better abbreviation match as the mismatch of article counts is closer together (idx 1,2) as in abbr2 (idx 1,3)\n",
    "abbr2_articles = [55, 30, 20, 30] \n",
    "\n",
    "def summed_distance(distr1, distr2):\n",
    "    sum = 0\n",
    "    for i in range(len(distr1)):\n",
    "        sum += abs(distr1[i] - distr2[i])\n",
    "    return sum\n",
    "\n",
    "print(f\"summed distance between full name and abbr1: {summed_distance(full_name_articles, abbr1_articles)}\")\n",
    "print(f\"summed distance between full name and abbr2: {summed_distance(full_name_articles, abbr2_articles)}\")\n",
    "print(f\"spearman correlation between full name and abbr1: {spearmanr(full_name_articles, abbr1_articles).statistic}\")\n",
    "print(f\"spearman correlation between full name and abbr2: {spearmanr(full_name_articles, abbr2_articles).statistic}\")\n",
    "print(f\"wasserstein distance between full name and abbr1: {wasserstein_distance(range(0, len(full_name_articles)), range(0, len(full_name_articles)), full_name_articles, abbr1_articles)}\")\n",
    "print(f\"wasserstein distance between full name and abbr2: {wasserstein_distance(range(0, len(full_name_articles)), range(0, len(full_name_articles)), full_name_articles, abbr2_articles)}\")\n"
   ],
   "metadata": {
    "collapsed": false,
    "ExecuteTime": {
     "end_time": "2024-01-22T22:09:23.144188488Z",
     "start_time": "2024-01-22T22:09:23.101384542Z"
    }
   },
   "id": "7a129c08b98948ca"
  },
  {
   "cell_type": "markdown",
   "source": [
    "We conclude that the Wasserstein distance is an appropriate metric to determine the differences in department membership. We must first order the departments in an ordinary fashion based on the article count. "
   ],
   "metadata": {
    "collapsed": false
   },
   "id": "1823f2c57257c596"
  },
  {
   "cell_type": "code",
   "execution_count": 9,
   "outputs": [],
   "source": [
    "con = sqlite3.connect('../data/interim/articles_with_author_mapping.db')\n",
    "cur = con.cursor()"
   ],
   "metadata": {
    "collapsed": false,
    "ExecuteTime": {
     "end_time": "2024-01-22T21:40:24.407585075Z",
     "start_time": "2024-01-22T21:40:24.394822466Z"
    }
   },
   "id": "c1f585c000cb7a7e"
  },
  {
   "cell_type": "code",
   "execution_count": 10,
   "outputs": [],
   "source": [
    "rows = cur.execute(\"SELECT ar.id, ar.article_namespace_array, ar.published_at, a.name, a.abbreviation FROM articles ar join article_authors aa on ar.id = aa.article_id join unmapped_authors a on aa.author_id = a.id where a.matching_type = ? or a.matching_type = ?\", (MatchingType.IS_FULL_NAME.name, MatchingType.IS_ABBREVIATION.name)).fetchall()"
   ],
   "metadata": {
    "collapsed": false,
    "ExecuteTime": {
     "end_time": "2024-01-22T21:40:48.671848029Z",
     "start_time": "2024-01-22T21:40:24.398999199Z"
    }
   },
   "id": "9a4804242e19806c"
  },
  {
   "cell_type": "code",
   "execution_count": 11,
   "outputs": [
    {
     "data": {
      "text/plain": "            id                   department               published_at  \\\n0         1504      [\"Region\", \"Delitzsch\"]  2021-12-10T06:22:00+00:00   \n1         1505      [\"Region\", \"Altenburg\"]  2021-12-10T05:27:19+00:00   \n2         1507       [\"Leipzig\", \"Lokales\"]  2021-12-10T06:01:00+00:00   \n3         1513          [\"Region\", \"Borna\"]  2021-12-10T06:53:43+00:00   \n4         1514   [\"Region\", \"Markkleeberg\"]  2021-12-10T08:01:00+00:00   \n...        ...                          ...                        ...   \n166023  367701       [\"Region\", \"Geithain\"]  2010-01-01T15:11:44+00:00   \n166024  367703  [\"Region\", \"Markranstaedt\"]  2010-01-01T17:14:06+00:00   \n166025  367705      [\"Region\", \"Delitzsch\"]  2010-01-01T17:32:16+00:00   \n166026  367706     [\"Region\", \"Bad-Dueben\"]  2010-01-01T17:46:10+00:00   \n166027  367709       [\"Leipzig\", \"Lokales\"]  2010-01-01T22:35:30+00:00   \n\n                       name  \n0       Mathias Schönknecht  \n1                Kay Würker  \n2             Andreas Dunte  \n3                        es  \n4             Rainer Küster  \n...                     ...  \n166023          Thomas Lang  \n166024     Kendra Reinhardt  \n166025      Thomas Steingen  \n166026        Daniel Kaiser  \n166027        Jens Rometsch  \n\n[166028 rows x 4 columns]",
      "text/html": "<div>\n<style scoped>\n    .dataframe tbody tr th:only-of-type {\n        vertical-align: middle;\n    }\n\n    .dataframe tbody tr th {\n        vertical-align: top;\n    }\n\n    .dataframe thead th {\n        text-align: right;\n    }\n</style>\n<table border=\"1\" class=\"dataframe\">\n  <thead>\n    <tr style=\"text-align: right;\">\n      <th></th>\n      <th>id</th>\n      <th>department</th>\n      <th>published_at</th>\n      <th>name</th>\n    </tr>\n  </thead>\n  <tbody>\n    <tr>\n      <th>0</th>\n      <td>1504</td>\n      <td>[\"Region\", \"Delitzsch\"]</td>\n      <td>2021-12-10T06:22:00+00:00</td>\n      <td>Mathias Schönknecht</td>\n    </tr>\n    <tr>\n      <th>1</th>\n      <td>1505</td>\n      <td>[\"Region\", \"Altenburg\"]</td>\n      <td>2021-12-10T05:27:19+00:00</td>\n      <td>Kay Würker</td>\n    </tr>\n    <tr>\n      <th>2</th>\n      <td>1507</td>\n      <td>[\"Leipzig\", \"Lokales\"]</td>\n      <td>2021-12-10T06:01:00+00:00</td>\n      <td>Andreas Dunte</td>\n    </tr>\n    <tr>\n      <th>3</th>\n      <td>1513</td>\n      <td>[\"Region\", \"Borna\"]</td>\n      <td>2021-12-10T06:53:43+00:00</td>\n      <td>es</td>\n    </tr>\n    <tr>\n      <th>4</th>\n      <td>1514</td>\n      <td>[\"Region\", \"Markkleeberg\"]</td>\n      <td>2021-12-10T08:01:00+00:00</td>\n      <td>Rainer Küster</td>\n    </tr>\n    <tr>\n      <th>...</th>\n      <td>...</td>\n      <td>...</td>\n      <td>...</td>\n      <td>...</td>\n    </tr>\n    <tr>\n      <th>166023</th>\n      <td>367701</td>\n      <td>[\"Region\", \"Geithain\"]</td>\n      <td>2010-01-01T15:11:44+00:00</td>\n      <td>Thomas Lang</td>\n    </tr>\n    <tr>\n      <th>166024</th>\n      <td>367703</td>\n      <td>[\"Region\", \"Markranstaedt\"]</td>\n      <td>2010-01-01T17:14:06+00:00</td>\n      <td>Kendra Reinhardt</td>\n    </tr>\n    <tr>\n      <th>166025</th>\n      <td>367705</td>\n      <td>[\"Region\", \"Delitzsch\"]</td>\n      <td>2010-01-01T17:32:16+00:00</td>\n      <td>Thomas Steingen</td>\n    </tr>\n    <tr>\n      <th>166026</th>\n      <td>367706</td>\n      <td>[\"Region\", \"Bad-Dueben\"]</td>\n      <td>2010-01-01T17:46:10+00:00</td>\n      <td>Daniel Kaiser</td>\n    </tr>\n    <tr>\n      <th>166027</th>\n      <td>367709</td>\n      <td>[\"Leipzig\", \"Lokales\"]</td>\n      <td>2010-01-01T22:35:30+00:00</td>\n      <td>Jens Rometsch</td>\n    </tr>\n  </tbody>\n</table>\n<p>166028 rows × 4 columns</p>\n</div>"
     },
     "execution_count": 11,
     "metadata": {},
     "output_type": "execute_result"
    }
   ],
   "source": [
    "departments = pd.DataFrame(columns=['id', 'department', 'published_at', 'name', 'abbreviation'], data=rows)\n",
    "# set name to abbreviation where name is None\n",
    "departments[\"name\"] = departments[\"name\"].fillna(departments[\"abbreviation\"])\n",
    "del departments[\"abbreviation\"]\n",
    "departments"
   ],
   "metadata": {
    "collapsed": false,
    "ExecuteTime": {
     "end_time": "2024-01-22T21:40:48.789968438Z",
     "start_time": "2024-01-22T21:40:48.715382174Z"
    }
   },
   "id": "8b0ff3f652b2ef8b"
  },
  {
   "cell_type": "code",
   "execution_count": 12,
   "outputs": [],
   "source": [
    "departments[\"department\"] = departments[\"department\"].apply(lambda x: json.loads(x))\n",
    "departments = departments.explode('department')\n",
    "# remove rows where department equals \"Region\" or \"Nachrichten\" for being to unspecific\n",
    "departments = departments[departments.department != 'Region']\n",
    "departments = departments[departments.department != 'Nachrichten']"
   ],
   "metadata": {
    "collapsed": false,
    "ExecuteTime": {
     "end_time": "2024-01-22T21:40:49.654223713Z",
     "start_time": "2024-01-22T21:40:48.796742111Z"
    }
   },
   "id": "67ac771f9cd35cef"
  },
  {
   "cell_type": "code",
   "execution_count": 13,
   "outputs": [
    {
     "data": {
      "text/plain": "            id             department               published_at name\n69297   142430                Leipzig  2018-09-27T10:34:00+00:00  lyn\n69297   142430          Polizeiticker  2018-09-27T10:34:00+00:00  lyn\n69297   142430  Polizeiticker-Leipzig  2018-09-27T10:34:00+00:00  lyn\n69384   142651      Mitteldeutschland  2018-09-26T12:35:00+00:00  lyn\n69433   142795                Leipzig  2018-09-25T10:18:00+00:00  lyn\n...        ...                    ...                        ...  ...\n159377  356487    Wirtschaft-Regional  2010-10-27T07:01:05+00:00  lyn\n159506  356723             Wirtschaft  2010-10-21T11:44:50+00:00  lyn\n159506  356723    Wirtschaft-Regional  2010-10-21T11:44:50+00:00  lyn\n159559  356819                Leipzig  2010-10-19T12:57:39+00:00  lyn\n159559  356819                Lokales  2010-10-19T12:57:39+00:00  lyn\n\n[2595 rows x 4 columns]",
      "text/html": "<div>\n<style scoped>\n    .dataframe tbody tr th:only-of-type {\n        vertical-align: middle;\n    }\n\n    .dataframe tbody tr th {\n        vertical-align: top;\n    }\n\n    .dataframe thead th {\n        text-align: right;\n    }\n</style>\n<table border=\"1\" class=\"dataframe\">\n  <thead>\n    <tr style=\"text-align: right;\">\n      <th></th>\n      <th>id</th>\n      <th>department</th>\n      <th>published_at</th>\n      <th>name</th>\n    </tr>\n  </thead>\n  <tbody>\n    <tr>\n      <th>69297</th>\n      <td>142430</td>\n      <td>Leipzig</td>\n      <td>2018-09-27T10:34:00+00:00</td>\n      <td>lyn</td>\n    </tr>\n    <tr>\n      <th>69297</th>\n      <td>142430</td>\n      <td>Polizeiticker</td>\n      <td>2018-09-27T10:34:00+00:00</td>\n      <td>lyn</td>\n    </tr>\n    <tr>\n      <th>69297</th>\n      <td>142430</td>\n      <td>Polizeiticker-Leipzig</td>\n      <td>2018-09-27T10:34:00+00:00</td>\n      <td>lyn</td>\n    </tr>\n    <tr>\n      <th>69384</th>\n      <td>142651</td>\n      <td>Mitteldeutschland</td>\n      <td>2018-09-26T12:35:00+00:00</td>\n      <td>lyn</td>\n    </tr>\n    <tr>\n      <th>69433</th>\n      <td>142795</td>\n      <td>Leipzig</td>\n      <td>2018-09-25T10:18:00+00:00</td>\n      <td>lyn</td>\n    </tr>\n    <tr>\n      <th>...</th>\n      <td>...</td>\n      <td>...</td>\n      <td>...</td>\n      <td>...</td>\n    </tr>\n    <tr>\n      <th>159377</th>\n      <td>356487</td>\n      <td>Wirtschaft-Regional</td>\n      <td>2010-10-27T07:01:05+00:00</td>\n      <td>lyn</td>\n    </tr>\n    <tr>\n      <th>159506</th>\n      <td>356723</td>\n      <td>Wirtschaft</td>\n      <td>2010-10-21T11:44:50+00:00</td>\n      <td>lyn</td>\n    </tr>\n    <tr>\n      <th>159506</th>\n      <td>356723</td>\n      <td>Wirtschaft-Regional</td>\n      <td>2010-10-21T11:44:50+00:00</td>\n      <td>lyn</td>\n    </tr>\n    <tr>\n      <th>159559</th>\n      <td>356819</td>\n      <td>Leipzig</td>\n      <td>2010-10-19T12:57:39+00:00</td>\n      <td>lyn</td>\n    </tr>\n    <tr>\n      <th>159559</th>\n      <td>356819</td>\n      <td>Lokales</td>\n      <td>2010-10-19T12:57:39+00:00</td>\n      <td>lyn</td>\n    </tr>\n  </tbody>\n</table>\n<p>2595 rows × 4 columns</p>\n</div>"
     },
     "execution_count": 13,
     "metadata": {},
     "output_type": "execute_result"
    }
   ],
   "source": [
    "departments[departments[\"name\"] == \"lyn\"]"
   ],
   "metadata": {
    "collapsed": false,
    "ExecuteTime": {
     "end_time": "2024-01-22T21:40:49.681216926Z",
     "start_time": "2024-01-22T21:40:49.652526301Z"
    }
   },
   "id": "d8d75ceb1f5b8fc3"
  },
  {
   "cell_type": "code",
   "execution_count": 14,
   "outputs": [],
   "source": [
    "# TODO: 22.08: herausfinden, wie ich verteilungen abgleichen will, wo name und abbr nicht die selbe ressorts menge haben\n",
    "# auch beachten: abbr ressorts müssen nach den name ressorts geordnet werden, nachdem die nach article count geordnet wurden oder vice versa\n",
    "# Idee: erstmal alles unter 10 artikeln in dem ressort pro name removen, weil zu unaussagend. threshold an ähnlichen ressorts, dann score auf selbem support (selbe ressorts) errechnen und dann penalizen je ressort, dass nicht in beidem vorkommt und zwar je mehr articles im ressort desto höher penalize\n",
    "# Note: this will be skewed because there are probably some departments where almost always the authors publish under their full name and vice versa (does this really skew the results?)"
   ],
   "metadata": {
    "collapsed": false,
    "ExecuteTime": {
     "end_time": "2024-01-22T21:40:49.683941797Z",
     "start_time": "2024-01-22T21:40:49.677987988Z"
    }
   },
   "id": "d023283f27c01c94"
  },
  {
   "cell_type": "code",
   "execution_count": 15,
   "outputs": [],
   "source": [
    "# filter departments for name, not matching abbr and matched abbr\n",
    "name = \"Matthias Puppe\"\n",
    "fake_abbr = \"lyn\"\n",
    "real_abbr = \"mpu\"\n",
    "abbr = real_abbr\n",
    "departments_filtered = departments[departments[\"name\"].isin([name, abbr])]"
   ],
   "metadata": {
    "collapsed": false,
    "ExecuteTime": {
     "end_time": "2024-01-22T21:40:49.753553393Z",
     "start_time": "2024-01-22T21:40:49.683742443Z"
    }
   },
   "id": "77c2bc8edebbd6f3"
  },
  {
   "cell_type": "code",
   "execution_count": 16,
   "outputs": [
    {
     "data": {
      "text/plain": "               name              department  count\n30   Matthias Puppe                 Leipzig    726\n33   Matthias Puppe       Mitteldeutschland    656\n31   Matthias Puppe                 Lokales    592\n38   Matthias Puppe           Polizeiticker    148\n51   Matthias Puppe             Sportbuzzer    110\n..              ...                     ...    ...\n96              mpu  Polizeiticker-Weltweit      1\n99              mpu           Reisereporter      1\n101             mpu              Schkeuditz      1\n102             mpu   So-koennen-Sie-helfen      1\n108             mpu    Staedtereise-Leipzig      1\n\n[116 rows x 3 columns]",
      "text/html": "<div>\n<style scoped>\n    .dataframe tbody tr th:only-of-type {\n        vertical-align: middle;\n    }\n\n    .dataframe tbody tr th {\n        vertical-align: top;\n    }\n\n    .dataframe thead th {\n        text-align: right;\n    }\n</style>\n<table border=\"1\" class=\"dataframe\">\n  <thead>\n    <tr style=\"text-align: right;\">\n      <th></th>\n      <th>name</th>\n      <th>department</th>\n      <th>count</th>\n    </tr>\n  </thead>\n  <tbody>\n    <tr>\n      <th>30</th>\n      <td>Matthias Puppe</td>\n      <td>Leipzig</td>\n      <td>726</td>\n    </tr>\n    <tr>\n      <th>33</th>\n      <td>Matthias Puppe</td>\n      <td>Mitteldeutschland</td>\n      <td>656</td>\n    </tr>\n    <tr>\n      <th>31</th>\n      <td>Matthias Puppe</td>\n      <td>Lokales</td>\n      <td>592</td>\n    </tr>\n    <tr>\n      <th>38</th>\n      <td>Matthias Puppe</td>\n      <td>Polizeiticker</td>\n      <td>148</td>\n    </tr>\n    <tr>\n      <th>51</th>\n      <td>Matthias Puppe</td>\n      <td>Sportbuzzer</td>\n      <td>110</td>\n    </tr>\n    <tr>\n      <th>...</th>\n      <td>...</td>\n      <td>...</td>\n      <td>...</td>\n    </tr>\n    <tr>\n      <th>96</th>\n      <td>mpu</td>\n      <td>Polizeiticker-Weltweit</td>\n      <td>1</td>\n    </tr>\n    <tr>\n      <th>99</th>\n      <td>mpu</td>\n      <td>Reisereporter</td>\n      <td>1</td>\n    </tr>\n    <tr>\n      <th>101</th>\n      <td>mpu</td>\n      <td>Schkeuditz</td>\n      <td>1</td>\n    </tr>\n    <tr>\n      <th>102</th>\n      <td>mpu</td>\n      <td>So-koennen-Sie-helfen</td>\n      <td>1</td>\n    </tr>\n    <tr>\n      <th>108</th>\n      <td>mpu</td>\n      <td>Staedtereise-Leipzig</td>\n      <td>1</td>\n    </tr>\n  </tbody>\n</table>\n<p>116 rows × 3 columns</p>\n</div>"
     },
     "execution_count": 16,
     "metadata": {},
     "output_type": "execute_result"
    }
   ],
   "source": [
    "author_department_count = departments_filtered.groupby(['name', 'department']).size().reset_index(name='count').sort_values(['name', 'count'], ascending=[True, False])\n",
    "author_department_count"
   ],
   "metadata": {
    "collapsed": false,
    "ExecuteTime": {
     "end_time": "2024-01-22T21:40:49.802644790Z",
     "start_time": "2024-01-22T21:40:49.708452971Z"
    }
   },
   "id": "1022f1f45969d9f3"
  },
  {
   "cell_type": "code",
   "execution_count": 17,
   "outputs": [],
   "source": [
    "# remove values where count is < 10\n",
    "author_department_count = author_department_count[author_department_count[\"count\"] >= 10]"
   ],
   "metadata": {
    "collapsed": false,
    "ExecuteTime": {
     "end_time": "2024-01-22T21:40:49.807179647Z",
     "start_time": "2024-01-22T21:40:49.732348856Z"
    }
   },
   "id": "72045cdf35acdf1d"
  },
  {
   "cell_type": "code",
   "execution_count": 18,
   "outputs": [
    {
     "data": {
      "text/plain": "    name             department  count\n83   mpu                Leipzig   1065\n94   mpu          Polizeiticker    673\n95   mpu  Polizeiticker-Leipzig    585\n85   mpu                Lokales    442\n106  mpu            Sportbuzzer    180\n79   mpu                 Kultur     80\n89   mpu      Mitteldeutschland     72\n61   mpu             BSG-Chemie     51\n105  mpu         Sport-Regional     50\n103  mpu               Specials     48\n109  mpu                  Thema     48\n98   mpu             RB-Leipzig     37\n90   mpu                   News     28\n97   mpu              RB-Archiv     25\n59   mpu              1.-FC-Lok     22\n107  mpu           Stadtpolitik     16\n114  mpu             Wirtschaft     16\n115  mpu    Wirtschaft-Regional     16\n62   mpu                Bildung     13\n82   mpu    Legida-und-Proteste     11\n74   mpu             HC-Leipzig     10\n100  mpu        SC-DHfK-Leipzig     10",
      "text/html": "<div>\n<style scoped>\n    .dataframe tbody tr th:only-of-type {\n        vertical-align: middle;\n    }\n\n    .dataframe tbody tr th {\n        vertical-align: top;\n    }\n\n    .dataframe thead th {\n        text-align: right;\n    }\n</style>\n<table border=\"1\" class=\"dataframe\">\n  <thead>\n    <tr style=\"text-align: right;\">\n      <th></th>\n      <th>name</th>\n      <th>department</th>\n      <th>count</th>\n    </tr>\n  </thead>\n  <tbody>\n    <tr>\n      <th>83</th>\n      <td>mpu</td>\n      <td>Leipzig</td>\n      <td>1065</td>\n    </tr>\n    <tr>\n      <th>94</th>\n      <td>mpu</td>\n      <td>Polizeiticker</td>\n      <td>673</td>\n    </tr>\n    <tr>\n      <th>95</th>\n      <td>mpu</td>\n      <td>Polizeiticker-Leipzig</td>\n      <td>585</td>\n    </tr>\n    <tr>\n      <th>85</th>\n      <td>mpu</td>\n      <td>Lokales</td>\n      <td>442</td>\n    </tr>\n    <tr>\n      <th>106</th>\n      <td>mpu</td>\n      <td>Sportbuzzer</td>\n      <td>180</td>\n    </tr>\n    <tr>\n      <th>79</th>\n      <td>mpu</td>\n      <td>Kultur</td>\n      <td>80</td>\n    </tr>\n    <tr>\n      <th>89</th>\n      <td>mpu</td>\n      <td>Mitteldeutschland</td>\n      <td>72</td>\n    </tr>\n    <tr>\n      <th>61</th>\n      <td>mpu</td>\n      <td>BSG-Chemie</td>\n      <td>51</td>\n    </tr>\n    <tr>\n      <th>105</th>\n      <td>mpu</td>\n      <td>Sport-Regional</td>\n      <td>50</td>\n    </tr>\n    <tr>\n      <th>103</th>\n      <td>mpu</td>\n      <td>Specials</td>\n      <td>48</td>\n    </tr>\n    <tr>\n      <th>109</th>\n      <td>mpu</td>\n      <td>Thema</td>\n      <td>48</td>\n    </tr>\n    <tr>\n      <th>98</th>\n      <td>mpu</td>\n      <td>RB-Leipzig</td>\n      <td>37</td>\n    </tr>\n    <tr>\n      <th>90</th>\n      <td>mpu</td>\n      <td>News</td>\n      <td>28</td>\n    </tr>\n    <tr>\n      <th>97</th>\n      <td>mpu</td>\n      <td>RB-Archiv</td>\n      <td>25</td>\n    </tr>\n    <tr>\n      <th>59</th>\n      <td>mpu</td>\n      <td>1.-FC-Lok</td>\n      <td>22</td>\n    </tr>\n    <tr>\n      <th>107</th>\n      <td>mpu</td>\n      <td>Stadtpolitik</td>\n      <td>16</td>\n    </tr>\n    <tr>\n      <th>114</th>\n      <td>mpu</td>\n      <td>Wirtschaft</td>\n      <td>16</td>\n    </tr>\n    <tr>\n      <th>115</th>\n      <td>mpu</td>\n      <td>Wirtschaft-Regional</td>\n      <td>16</td>\n    </tr>\n    <tr>\n      <th>62</th>\n      <td>mpu</td>\n      <td>Bildung</td>\n      <td>13</td>\n    </tr>\n    <tr>\n      <th>82</th>\n      <td>mpu</td>\n      <td>Legida-und-Proteste</td>\n      <td>11</td>\n    </tr>\n    <tr>\n      <th>74</th>\n      <td>mpu</td>\n      <td>HC-Leipzig</td>\n      <td>10</td>\n    </tr>\n    <tr>\n      <th>100</th>\n      <td>mpu</td>\n      <td>SC-DHfK-Leipzig</td>\n      <td>10</td>\n    </tr>\n  </tbody>\n</table>\n</div>"
     },
     "execution_count": 18,
     "metadata": {},
     "output_type": "execute_result"
    }
   ],
   "source": [
    "author_department_count[author_department_count[\"name\"] == abbr]"
   ],
   "metadata": {
    "collapsed": false,
    "ExecuteTime": {
     "end_time": "2024-01-22T21:40:49.811342541Z",
     "start_time": "2024-01-22T21:40:49.735280919Z"
    }
   },
   "id": "e516d5d4db3ddeb5"
  },
  {
   "cell_type": "code",
   "execution_count": 19,
   "outputs": [
    {
     "data": {
      "text/plain": "              name             department  count\n30  Matthias Puppe                Leipzig    726\n33  Matthias Puppe      Mitteldeutschland    656\n31  Matthias Puppe                Lokales    592\n38  Matthias Puppe          Polizeiticker    148\n51  Matthias Puppe            Sportbuzzer    110\n39  Matthias Puppe  Polizeiticker-Leipzig    109\n23  Matthias Puppe                 Kultur     97\n42  Matthias Puppe             RB-Leipzig     44\n41  Matthias Puppe              RB-Archiv     34\n48  Matthias Puppe               Specials     34\n53  Matthias Puppe                  Thema     34\n4   Matthias Puppe             BSG-Chemie     25\n50  Matthias Puppe         Sport-Regional     22\n0   Matthias Puppe              1.-FC-Lok     16\n34  Matthias Puppe                   News     11\n1   Matthias Puppe      Achtung-Baustelle     10",
      "text/html": "<div>\n<style scoped>\n    .dataframe tbody tr th:only-of-type {\n        vertical-align: middle;\n    }\n\n    .dataframe tbody tr th {\n        vertical-align: top;\n    }\n\n    .dataframe thead th {\n        text-align: right;\n    }\n</style>\n<table border=\"1\" class=\"dataframe\">\n  <thead>\n    <tr style=\"text-align: right;\">\n      <th></th>\n      <th>name</th>\n      <th>department</th>\n      <th>count</th>\n    </tr>\n  </thead>\n  <tbody>\n    <tr>\n      <th>30</th>\n      <td>Matthias Puppe</td>\n      <td>Leipzig</td>\n      <td>726</td>\n    </tr>\n    <tr>\n      <th>33</th>\n      <td>Matthias Puppe</td>\n      <td>Mitteldeutschland</td>\n      <td>656</td>\n    </tr>\n    <tr>\n      <th>31</th>\n      <td>Matthias Puppe</td>\n      <td>Lokales</td>\n      <td>592</td>\n    </tr>\n    <tr>\n      <th>38</th>\n      <td>Matthias Puppe</td>\n      <td>Polizeiticker</td>\n      <td>148</td>\n    </tr>\n    <tr>\n      <th>51</th>\n      <td>Matthias Puppe</td>\n      <td>Sportbuzzer</td>\n      <td>110</td>\n    </tr>\n    <tr>\n      <th>39</th>\n      <td>Matthias Puppe</td>\n      <td>Polizeiticker-Leipzig</td>\n      <td>109</td>\n    </tr>\n    <tr>\n      <th>23</th>\n      <td>Matthias Puppe</td>\n      <td>Kultur</td>\n      <td>97</td>\n    </tr>\n    <tr>\n      <th>42</th>\n      <td>Matthias Puppe</td>\n      <td>RB-Leipzig</td>\n      <td>44</td>\n    </tr>\n    <tr>\n      <th>41</th>\n      <td>Matthias Puppe</td>\n      <td>RB-Archiv</td>\n      <td>34</td>\n    </tr>\n    <tr>\n      <th>48</th>\n      <td>Matthias Puppe</td>\n      <td>Specials</td>\n      <td>34</td>\n    </tr>\n    <tr>\n      <th>53</th>\n      <td>Matthias Puppe</td>\n      <td>Thema</td>\n      <td>34</td>\n    </tr>\n    <tr>\n      <th>4</th>\n      <td>Matthias Puppe</td>\n      <td>BSG-Chemie</td>\n      <td>25</td>\n    </tr>\n    <tr>\n      <th>50</th>\n      <td>Matthias Puppe</td>\n      <td>Sport-Regional</td>\n      <td>22</td>\n    </tr>\n    <tr>\n      <th>0</th>\n      <td>Matthias Puppe</td>\n      <td>1.-FC-Lok</td>\n      <td>16</td>\n    </tr>\n    <tr>\n      <th>34</th>\n      <td>Matthias Puppe</td>\n      <td>News</td>\n      <td>11</td>\n    </tr>\n    <tr>\n      <th>1</th>\n      <td>Matthias Puppe</td>\n      <td>Achtung-Baustelle</td>\n      <td>10</td>\n    </tr>\n  </tbody>\n</table>\n</div>"
     },
     "execution_count": 19,
     "metadata": {},
     "output_type": "execute_result"
    }
   ],
   "source": [
    "author_department_count[author_department_count[\"name\"] == name]"
   ],
   "metadata": {
    "collapsed": false,
    "ExecuteTime": {
     "end_time": "2024-01-22T21:40:49.832896481Z",
     "start_time": "2024-01-22T21:40:49.783158616Z"
    }
   },
   "id": "226c46a434494c19"
  },
  {
   "cell_type": "code",
   "execution_count": 20,
   "outputs": [
    {
     "data": {
      "text/plain": "    name             department  count\n83   mpu                Leipzig   1065\n94   mpu          Polizeiticker    673\n95   mpu  Polizeiticker-Leipzig    585\n85   mpu                Lokales    442\n106  mpu            Sportbuzzer    180\n79   mpu                 Kultur     80\n89   mpu      Mitteldeutschland     72\n61   mpu             BSG-Chemie     51\n105  mpu         Sport-Regional     50\n103  mpu               Specials     48\n109  mpu                  Thema     48\n98   mpu             RB-Leipzig     37\n90   mpu                   News     28\n97   mpu              RB-Archiv     25\n59   mpu              1.-FC-Lok     22",
      "text/html": "<div>\n<style scoped>\n    .dataframe tbody tr th:only-of-type {\n        vertical-align: middle;\n    }\n\n    .dataframe tbody tr th {\n        vertical-align: top;\n    }\n\n    .dataframe thead th {\n        text-align: right;\n    }\n</style>\n<table border=\"1\" class=\"dataframe\">\n  <thead>\n    <tr style=\"text-align: right;\">\n      <th></th>\n      <th>name</th>\n      <th>department</th>\n      <th>count</th>\n    </tr>\n  </thead>\n  <tbody>\n    <tr>\n      <th>83</th>\n      <td>mpu</td>\n      <td>Leipzig</td>\n      <td>1065</td>\n    </tr>\n    <tr>\n      <th>94</th>\n      <td>mpu</td>\n      <td>Polizeiticker</td>\n      <td>673</td>\n    </tr>\n    <tr>\n      <th>95</th>\n      <td>mpu</td>\n      <td>Polizeiticker-Leipzig</td>\n      <td>585</td>\n    </tr>\n    <tr>\n      <th>85</th>\n      <td>mpu</td>\n      <td>Lokales</td>\n      <td>442</td>\n    </tr>\n    <tr>\n      <th>106</th>\n      <td>mpu</td>\n      <td>Sportbuzzer</td>\n      <td>180</td>\n    </tr>\n    <tr>\n      <th>79</th>\n      <td>mpu</td>\n      <td>Kultur</td>\n      <td>80</td>\n    </tr>\n    <tr>\n      <th>89</th>\n      <td>mpu</td>\n      <td>Mitteldeutschland</td>\n      <td>72</td>\n    </tr>\n    <tr>\n      <th>61</th>\n      <td>mpu</td>\n      <td>BSG-Chemie</td>\n      <td>51</td>\n    </tr>\n    <tr>\n      <th>105</th>\n      <td>mpu</td>\n      <td>Sport-Regional</td>\n      <td>50</td>\n    </tr>\n    <tr>\n      <th>103</th>\n      <td>mpu</td>\n      <td>Specials</td>\n      <td>48</td>\n    </tr>\n    <tr>\n      <th>109</th>\n      <td>mpu</td>\n      <td>Thema</td>\n      <td>48</td>\n    </tr>\n    <tr>\n      <th>98</th>\n      <td>mpu</td>\n      <td>RB-Leipzig</td>\n      <td>37</td>\n    </tr>\n    <tr>\n      <th>90</th>\n      <td>mpu</td>\n      <td>News</td>\n      <td>28</td>\n    </tr>\n    <tr>\n      <th>97</th>\n      <td>mpu</td>\n      <td>RB-Archiv</td>\n      <td>25</td>\n    </tr>\n    <tr>\n      <th>59</th>\n      <td>mpu</td>\n      <td>1.-FC-Lok</td>\n      <td>22</td>\n    </tr>\n  </tbody>\n</table>\n</div>"
     },
     "execution_count": 20,
     "metadata": {},
     "output_type": "execute_result"
    }
   ],
   "source": [
    "# get departments and count for author abbr where also name has an entry with that department\n",
    "abbr_same_departments_count = author_department_count[(author_department_count[\"name\"] == abbr) & (author_department_count[\"department\"].isin(author_department_count[author_department_count[\"name\"] == name][\"department\"].tolist()))]\n",
    "abbr_same_departments_count"
   ],
   "metadata": {
    "collapsed": false,
    "ExecuteTime": {
     "end_time": "2024-01-22T21:40:49.834933832Z",
     "start_time": "2024-01-22T21:40:49.783565243Z"
    }
   },
   "id": "9446aee381f991f7"
  },
  {
   "cell_type": "code",
   "execution_count": 21,
   "outputs": [
    {
     "data": {
      "text/plain": "              name             department  count\n30  Matthias Puppe                Leipzig    726\n33  Matthias Puppe      Mitteldeutschland    656\n31  Matthias Puppe                Lokales    592\n38  Matthias Puppe          Polizeiticker    148\n51  Matthias Puppe            Sportbuzzer    110\n39  Matthias Puppe  Polizeiticker-Leipzig    109\n23  Matthias Puppe                 Kultur     97\n42  Matthias Puppe             RB-Leipzig     44\n41  Matthias Puppe              RB-Archiv     34\n48  Matthias Puppe               Specials     34\n53  Matthias Puppe                  Thema     34\n4   Matthias Puppe             BSG-Chemie     25\n50  Matthias Puppe         Sport-Regional     22\n0   Matthias Puppe              1.-FC-Lok     16\n34  Matthias Puppe                   News     11",
      "text/html": "<div>\n<style scoped>\n    .dataframe tbody tr th:only-of-type {\n        vertical-align: middle;\n    }\n\n    .dataframe tbody tr th {\n        vertical-align: top;\n    }\n\n    .dataframe thead th {\n        text-align: right;\n    }\n</style>\n<table border=\"1\" class=\"dataframe\">\n  <thead>\n    <tr style=\"text-align: right;\">\n      <th></th>\n      <th>name</th>\n      <th>department</th>\n      <th>count</th>\n    </tr>\n  </thead>\n  <tbody>\n    <tr>\n      <th>30</th>\n      <td>Matthias Puppe</td>\n      <td>Leipzig</td>\n      <td>726</td>\n    </tr>\n    <tr>\n      <th>33</th>\n      <td>Matthias Puppe</td>\n      <td>Mitteldeutschland</td>\n      <td>656</td>\n    </tr>\n    <tr>\n      <th>31</th>\n      <td>Matthias Puppe</td>\n      <td>Lokales</td>\n      <td>592</td>\n    </tr>\n    <tr>\n      <th>38</th>\n      <td>Matthias Puppe</td>\n      <td>Polizeiticker</td>\n      <td>148</td>\n    </tr>\n    <tr>\n      <th>51</th>\n      <td>Matthias Puppe</td>\n      <td>Sportbuzzer</td>\n      <td>110</td>\n    </tr>\n    <tr>\n      <th>39</th>\n      <td>Matthias Puppe</td>\n      <td>Polizeiticker-Leipzig</td>\n      <td>109</td>\n    </tr>\n    <tr>\n      <th>23</th>\n      <td>Matthias Puppe</td>\n      <td>Kultur</td>\n      <td>97</td>\n    </tr>\n    <tr>\n      <th>42</th>\n      <td>Matthias Puppe</td>\n      <td>RB-Leipzig</td>\n      <td>44</td>\n    </tr>\n    <tr>\n      <th>41</th>\n      <td>Matthias Puppe</td>\n      <td>RB-Archiv</td>\n      <td>34</td>\n    </tr>\n    <tr>\n      <th>48</th>\n      <td>Matthias Puppe</td>\n      <td>Specials</td>\n      <td>34</td>\n    </tr>\n    <tr>\n      <th>53</th>\n      <td>Matthias Puppe</td>\n      <td>Thema</td>\n      <td>34</td>\n    </tr>\n    <tr>\n      <th>4</th>\n      <td>Matthias Puppe</td>\n      <td>BSG-Chemie</td>\n      <td>25</td>\n    </tr>\n    <tr>\n      <th>50</th>\n      <td>Matthias Puppe</td>\n      <td>Sport-Regional</td>\n      <td>22</td>\n    </tr>\n    <tr>\n      <th>0</th>\n      <td>Matthias Puppe</td>\n      <td>1.-FC-Lok</td>\n      <td>16</td>\n    </tr>\n    <tr>\n      <th>34</th>\n      <td>Matthias Puppe</td>\n      <td>News</td>\n      <td>11</td>\n    </tr>\n  </tbody>\n</table>\n</div>"
     },
     "execution_count": 21,
     "metadata": {},
     "output_type": "execute_result"
    }
   ],
   "source": [
    "# get departments and count for author name where also author abbr has an entry with that department\n",
    "full_name_same_departments_count = author_department_count[(author_department_count[\"name\"] == name) & (author_department_count[\"department\"].isin(author_department_count[author_department_count[\"name\"] == abbr][\"department\"].tolist()))]\n",
    "full_name_same_departments_count"
   ],
   "metadata": {
    "collapsed": false,
    "ExecuteTime": {
     "end_time": "2024-01-22T21:40:49.881261547Z",
     "start_time": "2024-01-22T21:40:49.785729327Z"
    }
   },
   "id": "9e5df2931485c8ee"
  },
  {
   "cell_type": "code",
   "execution_count": 22,
   "outputs": [],
   "source": [
    "# create a categorical with all departments in the same order as in full_name_same_departments_count\n",
    "categorical = pd.Categorical(full_name_same_departments_count[\"department\"], categories=full_name_same_departments_count[\"department\"].tolist())"
   ],
   "metadata": {
    "collapsed": false,
    "ExecuteTime": {
     "end_time": "2024-01-22T21:40:49.882662827Z",
     "start_time": "2024-01-22T21:40:49.831409919Z"
    }
   },
   "id": "284c4bfa71263951"
  },
  {
   "cell_type": "code",
   "execution_count": 23,
   "outputs": [
    {
     "data": {
      "text/plain": "               department name  count\n0                 Leipzig  mpu   1065\n1       Mitteldeutschland  mpu     72\n2                 Lokales  mpu    442\n3           Polizeiticker  mpu    673\n4             Sportbuzzer  mpu    180\n5   Polizeiticker-Leipzig  mpu    585\n6                  Kultur  mpu     80\n7              RB-Leipzig  mpu     37\n8               RB-Archiv  mpu     25\n9                Specials  mpu     48\n10                  Thema  mpu     48\n11             BSG-Chemie  mpu     51\n12         Sport-Regional  mpu     50\n13              1.-FC-Lok  mpu     22\n14                   News  mpu     28",
      "text/html": "<div>\n<style scoped>\n    .dataframe tbody tr th:only-of-type {\n        vertical-align: middle;\n    }\n\n    .dataframe tbody tr th {\n        vertical-align: top;\n    }\n\n    .dataframe thead th {\n        text-align: right;\n    }\n</style>\n<table border=\"1\" class=\"dataframe\">\n  <thead>\n    <tr style=\"text-align: right;\">\n      <th></th>\n      <th>department</th>\n      <th>name</th>\n      <th>count</th>\n    </tr>\n  </thead>\n  <tbody>\n    <tr>\n      <th>0</th>\n      <td>Leipzig</td>\n      <td>mpu</td>\n      <td>1065</td>\n    </tr>\n    <tr>\n      <th>1</th>\n      <td>Mitteldeutschland</td>\n      <td>mpu</td>\n      <td>72</td>\n    </tr>\n    <tr>\n      <th>2</th>\n      <td>Lokales</td>\n      <td>mpu</td>\n      <td>442</td>\n    </tr>\n    <tr>\n      <th>3</th>\n      <td>Polizeiticker</td>\n      <td>mpu</td>\n      <td>673</td>\n    </tr>\n    <tr>\n      <th>4</th>\n      <td>Sportbuzzer</td>\n      <td>mpu</td>\n      <td>180</td>\n    </tr>\n    <tr>\n      <th>5</th>\n      <td>Polizeiticker-Leipzig</td>\n      <td>mpu</td>\n      <td>585</td>\n    </tr>\n    <tr>\n      <th>6</th>\n      <td>Kultur</td>\n      <td>mpu</td>\n      <td>80</td>\n    </tr>\n    <tr>\n      <th>7</th>\n      <td>RB-Leipzig</td>\n      <td>mpu</td>\n      <td>37</td>\n    </tr>\n    <tr>\n      <th>8</th>\n      <td>RB-Archiv</td>\n      <td>mpu</td>\n      <td>25</td>\n    </tr>\n    <tr>\n      <th>9</th>\n      <td>Specials</td>\n      <td>mpu</td>\n      <td>48</td>\n    </tr>\n    <tr>\n      <th>10</th>\n      <td>Thema</td>\n      <td>mpu</td>\n      <td>48</td>\n    </tr>\n    <tr>\n      <th>11</th>\n      <td>BSG-Chemie</td>\n      <td>mpu</td>\n      <td>51</td>\n    </tr>\n    <tr>\n      <th>12</th>\n      <td>Sport-Regional</td>\n      <td>mpu</td>\n      <td>50</td>\n    </tr>\n    <tr>\n      <th>13</th>\n      <td>1.-FC-Lok</td>\n      <td>mpu</td>\n      <td>22</td>\n    </tr>\n    <tr>\n      <th>14</th>\n      <td>News</td>\n      <td>mpu</td>\n      <td>28</td>\n    </tr>\n  </tbody>\n</table>\n</div>"
     },
     "execution_count": 23,
     "metadata": {},
     "output_type": "execute_result"
    }
   ],
   "source": [
    "# order abbr_department_count by categorical, ignore if key is not presentb\n",
    "abbr_same_departments_count = abbr_same_departments_count.set_index(\"department\").reindex(categorical).reset_index()\n",
    "abbr_same_departments_count"
   ],
   "metadata": {
    "collapsed": false,
    "ExecuteTime": {
     "end_time": "2024-01-22T21:40:49.898948599Z",
     "start_time": "2024-01-22T21:40:49.831788409Z"
    }
   },
   "id": "13a042f3f930a951"
  },
  {
   "cell_type": "code",
   "execution_count": 24,
   "outputs": [
    {
     "data": {
      "text/plain": "[1065, 72, 442, 673, 180, 585, 80, 37, 25, 48, 48, 51, 50, 22, 28]"
     },
     "execution_count": 24,
     "metadata": {},
     "output_type": "execute_result"
    }
   ],
   "source": [
    "# get counts into a list from fake_abbr_department_count\n",
    "abbr_department_count_list = abbr_same_departments_count[\"count\"].tolist()\n",
    "abbr_department_count_list"
   ],
   "metadata": {
    "collapsed": false,
    "ExecuteTime": {
     "end_time": "2024-01-22T21:40:49.903969390Z",
     "start_time": "2024-01-22T21:40:49.832050124Z"
    }
   },
   "id": "89cf5a02c5fc6a0c"
  },
  {
   "cell_type": "code",
   "execution_count": 25,
   "outputs": [
    {
     "data": {
      "text/plain": "[726, 656, 592, 148, 110, 109, 97, 44, 34, 34, 34, 25, 22, 16, 11]"
     },
     "execution_count": 25,
     "metadata": {},
     "output_type": "execute_result"
    }
   ],
   "source": [
    "# get counts into a list from kai_uwe_brandt_department_count\n",
    "full_name_department_count_list = full_name_same_departments_count[\"count\"].tolist()\n",
    "full_name_department_count_list"
   ],
   "metadata": {
    "collapsed": false,
    "ExecuteTime": {
     "end_time": "2024-01-22T21:40:49.966457417Z",
     "start_time": "2024-01-22T21:40:49.841851472Z"
    }
   },
   "id": "47e16a8c593a6839"
  },
  {
   "cell_type": "code",
   "execution_count": 33,
   "outputs": [
    {
     "data": {
      "text/plain": "0.8671480903659147"
     },
     "execution_count": 33,
     "metadata": {},
     "output_type": "execute_result"
    }
   ],
   "source": [
    "# compare with wassersetin metric\n",
    "w_distance = wasserstein_distance(range(0, len(full_name_department_count_list)), range(0, len(abbr_department_count_list)), full_name_department_count_list, abbr_department_count_list)\n",
    "w_distance"
   ],
   "metadata": {
    "collapsed": false,
    "ExecuteTime": {
     "end_time": "2024-01-22T22:03:40.899652576Z",
     "start_time": "2024-01-22T22:03:40.854549572Z"
    }
   },
   "id": "35dcb4301044eeea"
  },
  {
   "cell_type": "markdown",
   "source": [
    "# Following: code for penalizing differences in the department array"
   ],
   "metadata": {
    "collapsed": false
   },
   "id": "f34632ec4a0bef6d"
  },
  {
   "cell_type": "code",
   "execution_count": 27,
   "outputs": [
    {
     "data": {
      "text/plain": "    name           department  count\n107  mpu         Stadtpolitik     16\n114  mpu           Wirtschaft     16\n115  mpu  Wirtschaft-Regional     16\n62   mpu              Bildung     13\n82   mpu  Legida-und-Proteste     11\n74   mpu           HC-Leipzig     10\n100  mpu      SC-DHfK-Leipzig     10",
      "text/html": "<div>\n<style scoped>\n    .dataframe tbody tr th:only-of-type {\n        vertical-align: middle;\n    }\n\n    .dataframe tbody tr th {\n        vertical-align: top;\n    }\n\n    .dataframe thead th {\n        text-align: right;\n    }\n</style>\n<table border=\"1\" class=\"dataframe\">\n  <thead>\n    <tr style=\"text-align: right;\">\n      <th></th>\n      <th>name</th>\n      <th>department</th>\n      <th>count</th>\n    </tr>\n  </thead>\n  <tbody>\n    <tr>\n      <th>107</th>\n      <td>mpu</td>\n      <td>Stadtpolitik</td>\n      <td>16</td>\n    </tr>\n    <tr>\n      <th>114</th>\n      <td>mpu</td>\n      <td>Wirtschaft</td>\n      <td>16</td>\n    </tr>\n    <tr>\n      <th>115</th>\n      <td>mpu</td>\n      <td>Wirtschaft-Regional</td>\n      <td>16</td>\n    </tr>\n    <tr>\n      <th>62</th>\n      <td>mpu</td>\n      <td>Bildung</td>\n      <td>13</td>\n    </tr>\n    <tr>\n      <th>82</th>\n      <td>mpu</td>\n      <td>Legida-und-Proteste</td>\n      <td>11</td>\n    </tr>\n    <tr>\n      <th>74</th>\n      <td>mpu</td>\n      <td>HC-Leipzig</td>\n      <td>10</td>\n    </tr>\n    <tr>\n      <th>100</th>\n      <td>mpu</td>\n      <td>SC-DHfK-Leipzig</td>\n      <td>10</td>\n    </tr>\n  </tbody>\n</table>\n</div>"
     },
     "execution_count": 27,
     "metadata": {},
     "output_type": "execute_result"
    }
   ],
   "source": [
    "# get departments and count for author abbr where name has no entry with that department\n",
    "abbr_different_departments_count = author_department_count[(author_department_count[\"name\"] == abbr) & ~(author_department_count[\"department\"].isin(author_department_count[author_department_count[\"name\"] == name][\"department\"].tolist()))]\n",
    "abbr_different_departments_count"
   ],
   "metadata": {
    "collapsed": false,
    "ExecuteTime": {
     "end_time": "2024-01-22T21:40:50.139985828Z",
     "start_time": "2024-01-22T21:40:49.895181962Z"
    }
   },
   "id": "6b81d5b7347d52b7"
  },
  {
   "cell_type": "code",
   "execution_count": 28,
   "outputs": [
    {
     "data": {
      "text/plain": "             name         department  count\n1  Matthias Puppe  Achtung-Baustelle     10",
      "text/html": "<div>\n<style scoped>\n    .dataframe tbody tr th:only-of-type {\n        vertical-align: middle;\n    }\n\n    .dataframe tbody tr th {\n        vertical-align: top;\n    }\n\n    .dataframe thead th {\n        text-align: right;\n    }\n</style>\n<table border=\"1\" class=\"dataframe\">\n  <thead>\n    <tr style=\"text-align: right;\">\n      <th></th>\n      <th>name</th>\n      <th>department</th>\n      <th>count</th>\n    </tr>\n  </thead>\n  <tbody>\n    <tr>\n      <th>1</th>\n      <td>Matthias Puppe</td>\n      <td>Achtung-Baustelle</td>\n      <td>10</td>\n    </tr>\n  </tbody>\n</table>\n</div>"
     },
     "execution_count": 28,
     "metadata": {},
     "output_type": "execute_result"
    }
   ],
   "source": [
    "\n",
    "# get departments and count for author name where author abbr has no entry with that department\n",
    "full_name_different_departments_count = author_department_count[(author_department_count[\"name\"] == name) & ~(author_department_count[\"department\"].isin(author_department_count[author_department_count[\"name\"] == abbr][\"department\"].tolist()))]\n",
    "full_name_different_departments_count"
   ],
   "metadata": {
    "collapsed": false,
    "ExecuteTime": {
     "end_time": "2024-01-22T21:42:32.540854224Z",
     "start_time": "2024-01-22T21:42:32.485729688Z"
    }
   },
   "id": "4d46b42a0dff90ff"
  },
  {
   "cell_type": "code",
   "outputs": [
    {
     "data": {
      "text/plain": "0.21052631578947367"
     },
     "execution_count": 32,
     "metadata": {},
     "output_type": "execute_result"
    }
   ],
   "source": [
    "# construct linear function that penalizes the difference in department arrays\n",
    "# it computes the score be taking the sum of the length of the two lists and divides it by the sum of all departments in that the two entities have written articles in\n",
    "# it gets scaled by a factor alpha\n",
    "# this score gets normalized\n",
    "alpha = 1\n",
    "penalization_score = alpha * (len(abbr_different_departments_count) + len(full_name_different_departments_count)) / len(author_department_count)\n",
    "penalization_score\n",
    "# TODO: normalize penalization score"
   ],
   "metadata": {
    "collapsed": false,
    "ExecuteTime": {
     "end_time": "2024-01-22T22:02:42.444034755Z",
     "start_time": "2024-01-22T22:02:42.432842313Z"
    }
   },
   "id": "2d7893d171cab870",
   "execution_count": 32
  },
  {
   "cell_type": "code",
   "outputs": [],
   "source": [
    "# subtract the penalization score from the wasserstein distance\n",
    "score = w_distance - penalization_score"
   ],
   "metadata": {
    "collapsed": false
   },
   "id": "cd482ba6b284c5b3"
  }
 ],
 "metadata": {
  "kernelspec": {
   "name": "lvz_venv",
   "language": "python",
   "display_name": "lvz_venv"
  },
  "language_info": {
   "codemirror_mode": {
    "name": "ipython",
    "version": 2
   },
   "file_extension": ".py",
   "mimetype": "text/x-python",
   "name": "python",
   "nbconvert_exporter": "python",
   "pygments_lexer": "ipython2",
   "version": "2.7.6"
  }
 },
 "nbformat": 4,
 "nbformat_minor": 5
}
