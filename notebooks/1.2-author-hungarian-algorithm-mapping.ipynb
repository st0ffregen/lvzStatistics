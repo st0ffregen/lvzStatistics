{
 "cells": [
  {
   "cell_type": "code",
   "execution_count": 1,
   "metadata": {
    "collapsed": true,
    "ExecuteTime": {
     "end_time": "2023-07-10T22:13:17.010507411Z",
     "start_time": "2023-07-10T22:13:17.001382736Z"
    }
   },
   "outputs": [],
   "source": [
    "import json\n",
    "import sqlite3\n",
    "import numpy as np\n",
    "import pandas as pd\n",
    "import seaborn as sns\n",
    "import scipy"
   ]
  },
  {
   "cell_type": "code",
   "execution_count": 2,
   "outputs": [],
   "source": [
    "con = sqlite3.connect('../data/interim/articles_with_author_mapping.db')\n",
    "cur = con.cursor()"
   ],
   "metadata": {
    "collapsed": false,
    "ExecuteTime": {
     "end_time": "2023-07-10T22:13:18.434339789Z",
     "start_time": "2023-07-10T22:13:18.389064523Z"
    }
   }
  },
  {
   "cell_type": "code",
   "execution_count": 9,
   "outputs": [],
   "source": [
    "cur.execute(\"select id, name, abbreviation, matching_certainty from authors\")\n",
    "rows = cur.fetchall()\n",
    "authors = pd.DataFrame(columns=[\"id\", \"name\", \"abbreviation\", \"certainty\"], data=rows)\n",
    "authors.set_index(\"id\", inplace=True)"
   ],
   "metadata": {
    "collapsed": false,
    "ExecuteTime": {
     "end_time": "2023-07-10T22:18:33.286394614Z",
     "start_time": "2023-07-10T22:18:33.179230427Z"
    }
   }
  },
  {
   "cell_type": "code",
   "execution_count": 10,
   "outputs": [],
   "source": [
    "# convert null to nans\n",
    "authors = authors.replace(\"null\", np.nan)"
   ],
   "metadata": {
    "collapsed": false,
    "ExecuteTime": {
     "end_time": "2023-07-10T22:18:33.856136472Z",
     "start_time": "2023-07-10T22:18:33.825536409Z"
    }
   }
  },
  {
   "cell_type": "code",
   "execution_count": 11,
   "outputs": [
    {
     "name": "stderr",
     "output_type": "stream",
     "text": [
      "/tmp/ipykernel_12700/2700545868.py:2: RuntimeWarning: Mean of empty slice\n",
      "  mean_certainty = authors.groupby([\"name\", \"abbreviation\"])[\"certainty\"].transform(lambda x: np.nanmean(x))\n"
     ]
    }
   ],
   "source": [
    "# set certainty of a row to the average certainty over all rows with same name and abbreviation, ignore nan values\n",
    "mean_certainty = authors.groupby([\"name\", \"abbreviation\"])[\"certainty\"].transform(lambda x: np.nanmean(x))\n",
    "authors[\"certainty\"] = mean_certainty"
   ],
   "metadata": {
    "collapsed": false,
    "ExecuteTime": {
     "end_time": "2023-07-10T22:18:34.979395504Z",
     "start_time": "2023-07-10T22:18:34.356978583Z"
    }
   }
  },
  {
   "cell_type": "code",
   "execution_count": 12,
   "outputs": [],
   "source": [
    "authors[\"name_pointing_to_abbreviation_count\"] = authors.groupby([\"name\", \"abbreviation\"])[\"name\"].transform(\"count\")\n",
    "authors[\"abbreviation_pointing_to_name_count\"] = authors.groupby([\"name\", \"abbreviation\"])[\"abbreviation\"].transform(\"count\")"
   ],
   "metadata": {
    "collapsed": false,
    "ExecuteTime": {
     "end_time": "2023-07-10T22:18:35.755665557Z",
     "start_time": "2023-07-10T22:18:35.639457743Z"
    }
   }
  },
  {
   "cell_type": "code",
   "execution_count": 13,
   "outputs": [],
   "source": [
    "# drop duplicates based on name, abbreviation, certainty. I can drop them because ..._count saved the count\n",
    "authors.drop_duplicates(subset=[\"name\", \"abbreviation\", \"certainty\"], inplace=True)"
   ],
   "metadata": {
    "collapsed": false,
    "ExecuteTime": {
     "end_time": "2023-07-10T22:18:36.283746392Z",
     "start_time": "2023-07-10T22:18:36.241686502Z"
    }
   }
  },
  {
   "cell_type": "code",
   "execution_count": 14,
   "outputs": [],
   "source": [
    "# set the share that the name has of all names that point to that abbreviation\n",
    "authors_with_name_pointing_to_abbreviation_sum =  authors.groupby([\"abbreviation\"]).agg(names_pointing_to_abbreviation_sum=(\"name_pointing_to_abbreviation_count\", \"sum\")).reset_index()\n",
    "authors = pd.merge(authors, authors_with_name_pointing_to_abbreviation_sum, on=\"abbreviation\")\n",
    "authors[\"name_pointing_to_abbreviation_share\"] = authors[\"name_pointing_to_abbreviation_count\"] / authors[\"names_pointing_to_abbreviation_sum\"]"
   ],
   "metadata": {
    "collapsed": false,
    "ExecuteTime": {
     "end_time": "2023-07-10T22:18:37.134832345Z",
     "start_time": "2023-07-10T22:18:37.061917142Z"
    }
   }
  },
  {
   "cell_type": "code",
   "execution_count": 15,
   "outputs": [],
   "source": [
    "# set the share that the abbreviation has of all abbreviations that point to that name\n",
    "authors_with_abbreviation_pointing_to_name_sum = authors.groupby([\"name\"]).agg(abbreviations_pointing_to_name_sum=(\"abbreviation_pointing_to_name_count\", \"sum\")).reset_index()\n",
    "authors = pd.merge(authors, authors_with_abbreviation_pointing_to_name_sum, on=\"name\")\n",
    "authors[\"abbreviation_pointing_to_name_share\"] = authors[\"abbreviation_pointing_to_name_count\"] / authors[\"abbreviations_pointing_to_name_sum\"]"
   ],
   "metadata": {
    "collapsed": false,
    "ExecuteTime": {
     "end_time": "2023-07-10T22:18:38.336876196Z",
     "start_time": "2023-07-10T22:18:38.275903554Z"
    }
   }
  },
  {
   "cell_type": "code",
   "execution_count": 21,
   "outputs": [
    {
     "data": {
      "text/plain": "                     name abbreviation  certainty  \\\n0          kai-uwe brandt          kub   0.810345   \n1               jan peter          jap   0.600000   \n2         manfred lüttich          maf   0.600000   \n3         manfred lüttich         malü   0.800000   \n4         manfred lüttich           ml   0.333333   \n...                   ...          ...        ...   \n1025   tim niklas herholz          tnh   0.800000   \n1026      susanne plecher          sup   0.602000   \n1027        michael klamp          cmp   0.300000   \n1028  josa mania-schlegel          jms   0.900000   \n1029           A. Krieger                     NaN   \n\n      name_pointing_to_abbreviation_count  \\\n0                                    29.0   \n1                                    21.0   \n2                                    99.0   \n3                                     2.0   \n4                                     3.0   \n...                                   ...   \n1025                                  2.0   \n1026                                  1.0   \n1027                                  2.0   \n1028                                  1.0   \n1029                                  1.0   \n\n      abbreviation_pointing_to_name_count  names_pointing_to_abbreviation_sum  \\\n0                                    29.0                                29.0   \n1                                    21.0                                21.0   \n2                                    99.0                              1213.0   \n3                                     2.0                                 2.0   \n4                                     3.0                                 7.0   \n...                                   ...                                 ...   \n1025                                  2.0                                 2.0   \n1026                                  1.0                                 1.0   \n1027                                  2.0                                 2.0   \n1028                                  1.0                                 1.0   \n1029                                  1.0                                 1.0   \n\n      name_pointing_to_abbreviation_share  abbreviations_pointing_to_name_sum  \\\n0                                1.000000                                29.0   \n1                                1.000000                                21.0   \n2                                0.081616                               104.0   \n3                                1.000000                               104.0   \n4                                0.428571                               104.0   \n...                                   ...                                 ...   \n1025                             1.000000                                 2.0   \n1026                             1.000000                                 1.0   \n1027                             1.000000                                 2.0   \n1028                             1.000000                                 1.0   \n1029                             1.000000                                 1.0   \n\n      abbreviation_pointing_to_name_share  \n0                                1.000000  \n1                                1.000000  \n2                                0.951923  \n3                                0.019231  \n4                                0.028846  \n...                                   ...  \n1025                             1.000000  \n1026                             1.000000  \n1027                             1.000000  \n1028                             1.000000  \n1029                             1.000000  \n\n[1030 rows x 9 columns]",
      "text/html": "<div>\n<style scoped>\n    .dataframe tbody tr th:only-of-type {\n        vertical-align: middle;\n    }\n\n    .dataframe tbody tr th {\n        vertical-align: top;\n    }\n\n    .dataframe thead th {\n        text-align: right;\n    }\n</style>\n<table border=\"1\" class=\"dataframe\">\n  <thead>\n    <tr style=\"text-align: right;\">\n      <th></th>\n      <th>name</th>\n      <th>abbreviation</th>\n      <th>certainty</th>\n      <th>name_pointing_to_abbreviation_count</th>\n      <th>abbreviation_pointing_to_name_count</th>\n      <th>names_pointing_to_abbreviation_sum</th>\n      <th>name_pointing_to_abbreviation_share</th>\n      <th>abbreviations_pointing_to_name_sum</th>\n      <th>abbreviation_pointing_to_name_share</th>\n    </tr>\n  </thead>\n  <tbody>\n    <tr>\n      <th>0</th>\n      <td>kai-uwe brandt</td>\n      <td>kub</td>\n      <td>0.810345</td>\n      <td>29.0</td>\n      <td>29.0</td>\n      <td>29.0</td>\n      <td>1.000000</td>\n      <td>29.0</td>\n      <td>1.000000</td>\n    </tr>\n    <tr>\n      <th>1</th>\n      <td>jan peter</td>\n      <td>jap</td>\n      <td>0.600000</td>\n      <td>21.0</td>\n      <td>21.0</td>\n      <td>21.0</td>\n      <td>1.000000</td>\n      <td>21.0</td>\n      <td>1.000000</td>\n    </tr>\n    <tr>\n      <th>2</th>\n      <td>manfred lüttich</td>\n      <td>maf</td>\n      <td>0.600000</td>\n      <td>99.0</td>\n      <td>99.0</td>\n      <td>1213.0</td>\n      <td>0.081616</td>\n      <td>104.0</td>\n      <td>0.951923</td>\n    </tr>\n    <tr>\n      <th>3</th>\n      <td>manfred lüttich</td>\n      <td>malü</td>\n      <td>0.800000</td>\n      <td>2.0</td>\n      <td>2.0</td>\n      <td>2.0</td>\n      <td>1.000000</td>\n      <td>104.0</td>\n      <td>0.019231</td>\n    </tr>\n    <tr>\n      <th>4</th>\n      <td>manfred lüttich</td>\n      <td>ml</td>\n      <td>0.333333</td>\n      <td>3.0</td>\n      <td>3.0</td>\n      <td>7.0</td>\n      <td>0.428571</td>\n      <td>104.0</td>\n      <td>0.028846</td>\n    </tr>\n    <tr>\n      <th>...</th>\n      <td>...</td>\n      <td>...</td>\n      <td>...</td>\n      <td>...</td>\n      <td>...</td>\n      <td>...</td>\n      <td>...</td>\n      <td>...</td>\n      <td>...</td>\n    </tr>\n    <tr>\n      <th>1025</th>\n      <td>tim niklas herholz</td>\n      <td>tnh</td>\n      <td>0.800000</td>\n      <td>2.0</td>\n      <td>2.0</td>\n      <td>2.0</td>\n      <td>1.000000</td>\n      <td>2.0</td>\n      <td>1.000000</td>\n    </tr>\n    <tr>\n      <th>1026</th>\n      <td>susanne plecher</td>\n      <td>sup</td>\n      <td>0.602000</td>\n      <td>1.0</td>\n      <td>1.0</td>\n      <td>1.0</td>\n      <td>1.000000</td>\n      <td>1.0</td>\n      <td>1.000000</td>\n    </tr>\n    <tr>\n      <th>1027</th>\n      <td>michael klamp</td>\n      <td>cmp</td>\n      <td>0.300000</td>\n      <td>2.0</td>\n      <td>2.0</td>\n      <td>2.0</td>\n      <td>1.000000</td>\n      <td>2.0</td>\n      <td>1.000000</td>\n    </tr>\n    <tr>\n      <th>1028</th>\n      <td>josa mania-schlegel</td>\n      <td>jms</td>\n      <td>0.900000</td>\n      <td>1.0</td>\n      <td>1.0</td>\n      <td>1.0</td>\n      <td>1.000000</td>\n      <td>1.0</td>\n      <td>1.000000</td>\n    </tr>\n    <tr>\n      <th>1029</th>\n      <td>A. Krieger</td>\n      <td></td>\n      <td>NaN</td>\n      <td>1.0</td>\n      <td>1.0</td>\n      <td>1.0</td>\n      <td>1.000000</td>\n      <td>1.0</td>\n      <td>1.000000</td>\n    </tr>\n  </tbody>\n</table>\n<p>1030 rows × 9 columns</p>\n</div>"
     },
     "execution_count": 21,
     "metadata": {},
     "output_type": "execute_result"
    }
   ],
   "source": [
    "authors"
   ],
   "metadata": {
    "collapsed": false,
    "ExecuteTime": {
     "end_time": "2023-07-10T22:18:46.813537390Z",
     "start_time": "2023-07-10T22:18:46.748214671Z"
    }
   }
  },
  {
   "cell_type": "code",
   "execution_count": 23,
   "outputs": [],
   "source": [
    "# calculate a final score for the weighted edge between name and abbreviation\n",
    "authors[\"score\"] = authors[\"certainty\"] + authors[\"name_pointing_to_abbreviation_share\"] + authors[\"abbreviation_pointing_to_name_share\"]"
   ],
   "metadata": {
    "collapsed": false,
    "ExecuteTime": {
     "end_time": "2023-07-10T22:25:41.591934755Z",
     "start_time": "2023-07-10T22:25:41.547973714Z"
    }
   }
  },
  {
   "cell_type": "code",
   "execution_count": 27,
   "outputs": [
    {
     "data": {
      "text/plain": "              name abbreviation  certainty  \\\n2  manfred lüttich          maf   0.600000   \n3  manfred lüttich         malü   0.800000   \n4  manfred lüttich           ml   0.333333   \n\n   name_pointing_to_abbreviation_count  abbreviation_pointing_to_name_count  \\\n2                                 99.0                                 99.0   \n3                                  2.0                                  2.0   \n4                                  3.0                                  3.0   \n\n   names_pointing_to_abbreviation_sum  name_pointing_to_abbreviation_share  \\\n2                              1213.0                             0.081616   \n3                                 2.0                             1.000000   \n4                                 7.0                             0.428571   \n\n   abbreviations_pointing_to_name_sum  abbreviation_pointing_to_name_share  \\\n2                               104.0                             0.951923   \n3                               104.0                             0.019231   \n4                               104.0                             0.028846   \n\n      score  \n2  1.633539  \n3  1.819231  \n4  0.790751  ",
      "text/html": "<div>\n<style scoped>\n    .dataframe tbody tr th:only-of-type {\n        vertical-align: middle;\n    }\n\n    .dataframe tbody tr th {\n        vertical-align: top;\n    }\n\n    .dataframe thead th {\n        text-align: right;\n    }\n</style>\n<table border=\"1\" class=\"dataframe\">\n  <thead>\n    <tr style=\"text-align: right;\">\n      <th></th>\n      <th>name</th>\n      <th>abbreviation</th>\n      <th>certainty</th>\n      <th>name_pointing_to_abbreviation_count</th>\n      <th>abbreviation_pointing_to_name_count</th>\n      <th>names_pointing_to_abbreviation_sum</th>\n      <th>name_pointing_to_abbreviation_share</th>\n      <th>abbreviations_pointing_to_name_sum</th>\n      <th>abbreviation_pointing_to_name_share</th>\n      <th>score</th>\n    </tr>\n  </thead>\n  <tbody>\n    <tr>\n      <th>2</th>\n      <td>manfred lüttich</td>\n      <td>maf</td>\n      <td>0.600000</td>\n      <td>99.0</td>\n      <td>99.0</td>\n      <td>1213.0</td>\n      <td>0.081616</td>\n      <td>104.0</td>\n      <td>0.951923</td>\n      <td>1.633539</td>\n    </tr>\n    <tr>\n      <th>3</th>\n      <td>manfred lüttich</td>\n      <td>malü</td>\n      <td>0.800000</td>\n      <td>2.0</td>\n      <td>2.0</td>\n      <td>2.0</td>\n      <td>1.000000</td>\n      <td>104.0</td>\n      <td>0.019231</td>\n      <td>1.819231</td>\n    </tr>\n    <tr>\n      <th>4</th>\n      <td>manfred lüttich</td>\n      <td>ml</td>\n      <td>0.333333</td>\n      <td>3.0</td>\n      <td>3.0</td>\n      <td>7.0</td>\n      <td>0.428571</td>\n      <td>104.0</td>\n      <td>0.028846</td>\n      <td>0.790751</td>\n    </tr>\n  </tbody>\n</table>\n</div>"
     },
     "execution_count": 27,
     "metadata": {},
     "output_type": "execute_result"
    }
   ],
   "source": [
    "authors[authors[\"name\"] == \"manfred lüttich\"]"
   ],
   "metadata": {
    "collapsed": false,
    "ExecuteTime": {
     "end_time": "2023-07-10T22:26:03.967058799Z",
     "start_time": "2023-07-10T22:26:03.864675834Z"
    }
   }
  },
  {
   "cell_type": "code",
   "execution_count": 9,
   "outputs": [],
   "source": [
    "# todo 10.07 data viz, hungarian anwenden evtl. das von scipy sonst:\n",
    "# https://docs.scipy.org/doc/scipy/reference/generated/scipy.optimize.linear_sum_assignment.html\n",
    "# https://www.hpl.hp.com/techreports/2012/HPL-2012-40R1.pdf\n",
    "# https://iopscience.iop.org/article/10.1088/1742-6596/1963/1/012104/pdf\n",
    "# evtl. auch was von networkx (vielleicht mal hier: https://towardsdatascience.com/matching-of-bipartite-graphs-using-networkx-6d355b164567)"
   ],
   "metadata": {
    "collapsed": false,
    "ExecuteTime": {
     "end_time": "2023-07-10T21:03:06.074403979Z",
     "start_time": "2023-07-10T21:03:06.060070071Z"
    }
   }
  },
  {
   "cell_type": "code",
   "execution_count": 10,
   "outputs": [
    {
     "ename": "IndexError",
     "evalue": "single positional indexer is out-of-bounds",
     "output_type": "error",
     "traceback": [
      "\u001B[0;31m---------------------------------------------------------------------------\u001B[0m",
      "\u001B[0;31mIndexError\u001B[0m                                Traceback (most recent call last)",
      "Cell \u001B[0;32mIn[10], line 28\u001B[0m\n\u001B[1;32m     25\u001B[0m     \u001B[38;5;28;01mreturn\u001B[39;00m proportion\n\u001B[1;32m     27\u001B[0m \u001B[38;5;66;03m# loop through names\u001B[39;00m\n\u001B[0;32m---> 28\u001B[0m authors[\u001B[38;5;124m\"\u001B[39m\u001B[38;5;124mabbreviation_to_name_score\u001B[39m\u001B[38;5;124m\"\u001B[39m] \u001B[38;5;241m=\u001B[39m \u001B[43mauthors\u001B[49m\u001B[38;5;241;43m.\u001B[39;49m\u001B[43mapply\u001B[49m\u001B[43m(\u001B[49m\u001B[38;5;28;43;01mlambda\u001B[39;49;00m\u001B[43m \u001B[49m\u001B[43mx\u001B[49m\u001B[43m:\u001B[49m\u001B[43m \u001B[49m\u001B[43mcalc_abbreviation_to_name_score\u001B[49m\u001B[43m(\u001B[49m\u001B[43mx\u001B[49m\u001B[43m)\u001B[49m\u001B[43m,\u001B[49m\u001B[43m \u001B[49m\u001B[43maxis\u001B[49m\u001B[38;5;241;43m=\u001B[39;49m\u001B[38;5;241;43m1\u001B[39;49m\u001B[43m)\u001B[49m\n\u001B[1;32m     29\u001B[0m authors\n",
      "File \u001B[0;32m~/Documents/Informatik/lvzStatistics/lvz_venv/lib/python3.10/site-packages/pandas/core/frame.py:9423\u001B[0m, in \u001B[0;36mDataFrame.apply\u001B[0;34m(self, func, axis, raw, result_type, args, **kwargs)\u001B[0m\n\u001B[1;32m   9412\u001B[0m \u001B[38;5;28;01mfrom\u001B[39;00m \u001B[38;5;21;01mpandas\u001B[39;00m\u001B[38;5;21;01m.\u001B[39;00m\u001B[38;5;21;01mcore\u001B[39;00m\u001B[38;5;21;01m.\u001B[39;00m\u001B[38;5;21;01mapply\u001B[39;00m \u001B[38;5;28;01mimport\u001B[39;00m frame_apply\n\u001B[1;32m   9414\u001B[0m op \u001B[38;5;241m=\u001B[39m frame_apply(\n\u001B[1;32m   9415\u001B[0m     \u001B[38;5;28mself\u001B[39m,\n\u001B[1;32m   9416\u001B[0m     func\u001B[38;5;241m=\u001B[39mfunc,\n\u001B[0;32m   (...)\u001B[0m\n\u001B[1;32m   9421\u001B[0m     kwargs\u001B[38;5;241m=\u001B[39mkwargs,\n\u001B[1;32m   9422\u001B[0m )\n\u001B[0;32m-> 9423\u001B[0m \u001B[38;5;28;01mreturn\u001B[39;00m \u001B[43mop\u001B[49m\u001B[38;5;241;43m.\u001B[39;49m\u001B[43mapply\u001B[49m\u001B[43m(\u001B[49m\u001B[43m)\u001B[49m\u001B[38;5;241m.\u001B[39m__finalize__(\u001B[38;5;28mself\u001B[39m, method\u001B[38;5;241m=\u001B[39m\u001B[38;5;124m\"\u001B[39m\u001B[38;5;124mapply\u001B[39m\u001B[38;5;124m\"\u001B[39m)\n",
      "File \u001B[0;32m~/Documents/Informatik/lvzStatistics/lvz_venv/lib/python3.10/site-packages/pandas/core/apply.py:678\u001B[0m, in \u001B[0;36mFrameApply.apply\u001B[0;34m(self)\u001B[0m\n\u001B[1;32m    675\u001B[0m \u001B[38;5;28;01melif\u001B[39;00m \u001B[38;5;28mself\u001B[39m\u001B[38;5;241m.\u001B[39mraw:\n\u001B[1;32m    676\u001B[0m     \u001B[38;5;28;01mreturn\u001B[39;00m \u001B[38;5;28mself\u001B[39m\u001B[38;5;241m.\u001B[39mapply_raw()\n\u001B[0;32m--> 678\u001B[0m \u001B[38;5;28;01mreturn\u001B[39;00m \u001B[38;5;28;43mself\u001B[39;49m\u001B[38;5;241;43m.\u001B[39;49m\u001B[43mapply_standard\u001B[49m\u001B[43m(\u001B[49m\u001B[43m)\u001B[49m\n",
      "File \u001B[0;32m~/Documents/Informatik/lvzStatistics/lvz_venv/lib/python3.10/site-packages/pandas/core/apply.py:798\u001B[0m, in \u001B[0;36mFrameApply.apply_standard\u001B[0;34m(self)\u001B[0m\n\u001B[1;32m    797\u001B[0m \u001B[38;5;28;01mdef\u001B[39;00m \u001B[38;5;21mapply_standard\u001B[39m(\u001B[38;5;28mself\u001B[39m):\n\u001B[0;32m--> 798\u001B[0m     results, res_index \u001B[38;5;241m=\u001B[39m \u001B[38;5;28;43mself\u001B[39;49m\u001B[38;5;241;43m.\u001B[39;49m\u001B[43mapply_series_generator\u001B[49m\u001B[43m(\u001B[49m\u001B[43m)\u001B[49m\n\u001B[1;32m    800\u001B[0m     \u001B[38;5;66;03m# wrap results\u001B[39;00m\n\u001B[1;32m    801\u001B[0m     \u001B[38;5;28;01mreturn\u001B[39;00m \u001B[38;5;28mself\u001B[39m\u001B[38;5;241m.\u001B[39mwrap_results(results, res_index)\n",
      "File \u001B[0;32m~/Documents/Informatik/lvzStatistics/lvz_venv/lib/python3.10/site-packages/pandas/core/apply.py:814\u001B[0m, in \u001B[0;36mFrameApply.apply_series_generator\u001B[0;34m(self)\u001B[0m\n\u001B[1;32m    811\u001B[0m \u001B[38;5;28;01mwith\u001B[39;00m option_context(\u001B[38;5;124m\"\u001B[39m\u001B[38;5;124mmode.chained_assignment\u001B[39m\u001B[38;5;124m\"\u001B[39m, \u001B[38;5;28;01mNone\u001B[39;00m):\n\u001B[1;32m    812\u001B[0m     \u001B[38;5;28;01mfor\u001B[39;00m i, v \u001B[38;5;129;01min\u001B[39;00m \u001B[38;5;28menumerate\u001B[39m(series_gen):\n\u001B[1;32m    813\u001B[0m         \u001B[38;5;66;03m# ignore SettingWithCopy here in case the user mutates\u001B[39;00m\n\u001B[0;32m--> 814\u001B[0m         results[i] \u001B[38;5;241m=\u001B[39m \u001B[38;5;28;43mself\u001B[39;49m\u001B[38;5;241;43m.\u001B[39;49m\u001B[43mf\u001B[49m\u001B[43m(\u001B[49m\u001B[43mv\u001B[49m\u001B[43m)\u001B[49m\n\u001B[1;32m    815\u001B[0m         \u001B[38;5;28;01mif\u001B[39;00m \u001B[38;5;28misinstance\u001B[39m(results[i], ABCSeries):\n\u001B[1;32m    816\u001B[0m             \u001B[38;5;66;03m# If we have a view on v, we need to make a copy because\u001B[39;00m\n\u001B[1;32m    817\u001B[0m             \u001B[38;5;66;03m#  series_generator will swap out the underlying data\u001B[39;00m\n\u001B[1;32m    818\u001B[0m             results[i] \u001B[38;5;241m=\u001B[39m results[i]\u001B[38;5;241m.\u001B[39mcopy(deep\u001B[38;5;241m=\u001B[39m\u001B[38;5;28;01mFalse\u001B[39;00m)\n",
      "Cell \u001B[0;32mIn[10], line 28\u001B[0m, in \u001B[0;36m<lambda>\u001B[0;34m(x)\u001B[0m\n\u001B[1;32m     25\u001B[0m     \u001B[38;5;28;01mreturn\u001B[39;00m proportion\n\u001B[1;32m     27\u001B[0m \u001B[38;5;66;03m# loop through names\u001B[39;00m\n\u001B[0;32m---> 28\u001B[0m authors[\u001B[38;5;124m\"\u001B[39m\u001B[38;5;124mabbreviation_to_name_score\u001B[39m\u001B[38;5;124m\"\u001B[39m] \u001B[38;5;241m=\u001B[39m authors\u001B[38;5;241m.\u001B[39mapply(\u001B[38;5;28;01mlambda\u001B[39;00m x: \u001B[43mcalc_abbreviation_to_name_score\u001B[49m\u001B[43m(\u001B[49m\u001B[43mx\u001B[49m\u001B[43m)\u001B[49m, axis\u001B[38;5;241m=\u001B[39m\u001B[38;5;241m1\u001B[39m)\n\u001B[1;32m     29\u001B[0m authors\n",
      "Cell \u001B[0;32mIn[10], line 24\u001B[0m, in \u001B[0;36mcalc_abbreviation_to_name_score\u001B[0;34m(row)\u001B[0m\n\u001B[1;32m     22\u001B[0m \u001B[38;5;66;03m# get the proportion of the name in the list\u001B[39;00m\n\u001B[1;32m     23\u001B[0m proportions \u001B[38;5;241m=\u001B[39m names\u001B[38;5;241m.\u001B[39mvalue_counts(normalize\u001B[38;5;241m=\u001B[39m\u001B[38;5;28;01mTrue\u001B[39;00m)\u001B[38;5;241m.\u001B[39mto_frame()\u001B[38;5;241m.\u001B[39mreset_index()\n\u001B[0;32m---> 24\u001B[0m proportion \u001B[38;5;241m=\u001B[39m \u001B[43mproportions\u001B[49m\u001B[43m[\u001B[49m\u001B[43mproportions\u001B[49m\u001B[43m[\u001B[49m\u001B[38;5;124;43m\"\u001B[39;49m\u001B[38;5;124;43mname\u001B[39;49m\u001B[38;5;124;43m\"\u001B[39;49m\u001B[43m]\u001B[49m\u001B[43m \u001B[49m\u001B[38;5;241;43m==\u001B[39;49m\u001B[43m \u001B[49m\u001B[43mname\u001B[49m\u001B[43m]\u001B[49m\u001B[43m[\u001B[49m\u001B[38;5;124;43m\"\u001B[39;49m\u001B[38;5;124;43mproportion\u001B[39;49m\u001B[38;5;124;43m\"\u001B[39;49m\u001B[43m]\u001B[49m\u001B[38;5;241;43m.\u001B[39;49m\u001B[43miloc\u001B[49m\u001B[43m[\u001B[49m\u001B[38;5;241;43m0\u001B[39;49m\u001B[43m]\u001B[49m\n\u001B[1;32m     25\u001B[0m \u001B[38;5;28;01mreturn\u001B[39;00m proportion\n",
      "File \u001B[0;32m~/Documents/Informatik/lvzStatistics/lvz_venv/lib/python3.10/site-packages/pandas/core/indexing.py:1103\u001B[0m, in \u001B[0;36m_LocationIndexer.__getitem__\u001B[0;34m(self, key)\u001B[0m\n\u001B[1;32m   1100\u001B[0m axis \u001B[38;5;241m=\u001B[39m \u001B[38;5;28mself\u001B[39m\u001B[38;5;241m.\u001B[39maxis \u001B[38;5;129;01mor\u001B[39;00m \u001B[38;5;241m0\u001B[39m\n\u001B[1;32m   1102\u001B[0m maybe_callable \u001B[38;5;241m=\u001B[39m com\u001B[38;5;241m.\u001B[39mapply_if_callable(key, \u001B[38;5;28mself\u001B[39m\u001B[38;5;241m.\u001B[39mobj)\n\u001B[0;32m-> 1103\u001B[0m \u001B[38;5;28;01mreturn\u001B[39;00m \u001B[38;5;28;43mself\u001B[39;49m\u001B[38;5;241;43m.\u001B[39;49m\u001B[43m_getitem_axis\u001B[49m\u001B[43m(\u001B[49m\u001B[43mmaybe_callable\u001B[49m\u001B[43m,\u001B[49m\u001B[43m \u001B[49m\u001B[43maxis\u001B[49m\u001B[38;5;241;43m=\u001B[39;49m\u001B[43maxis\u001B[49m\u001B[43m)\u001B[49m\n",
      "File \u001B[0;32m~/Documents/Informatik/lvzStatistics/lvz_venv/lib/python3.10/site-packages/pandas/core/indexing.py:1656\u001B[0m, in \u001B[0;36m_iLocIndexer._getitem_axis\u001B[0;34m(self, key, axis)\u001B[0m\n\u001B[1;32m   1653\u001B[0m     \u001B[38;5;28;01mraise\u001B[39;00m \u001B[38;5;167;01mTypeError\u001B[39;00m(\u001B[38;5;124m\"\u001B[39m\u001B[38;5;124mCannot index by location index with a non-integer key\u001B[39m\u001B[38;5;124m\"\u001B[39m)\n\u001B[1;32m   1655\u001B[0m \u001B[38;5;66;03m# validate the location\u001B[39;00m\n\u001B[0;32m-> 1656\u001B[0m \u001B[38;5;28;43mself\u001B[39;49m\u001B[38;5;241;43m.\u001B[39;49m\u001B[43m_validate_integer\u001B[49m\u001B[43m(\u001B[49m\u001B[43mkey\u001B[49m\u001B[43m,\u001B[49m\u001B[43m \u001B[49m\u001B[43maxis\u001B[49m\u001B[43m)\u001B[49m\n\u001B[1;32m   1658\u001B[0m \u001B[38;5;28;01mreturn\u001B[39;00m \u001B[38;5;28mself\u001B[39m\u001B[38;5;241m.\u001B[39mobj\u001B[38;5;241m.\u001B[39m_ixs(key, axis\u001B[38;5;241m=\u001B[39maxis)\n",
      "File \u001B[0;32m~/Documents/Informatik/lvzStatistics/lvz_venv/lib/python3.10/site-packages/pandas/core/indexing.py:1589\u001B[0m, in \u001B[0;36m_iLocIndexer._validate_integer\u001B[0;34m(self, key, axis)\u001B[0m\n\u001B[1;32m   1587\u001B[0m len_axis \u001B[38;5;241m=\u001B[39m \u001B[38;5;28mlen\u001B[39m(\u001B[38;5;28mself\u001B[39m\u001B[38;5;241m.\u001B[39mobj\u001B[38;5;241m.\u001B[39m_get_axis(axis))\n\u001B[1;32m   1588\u001B[0m \u001B[38;5;28;01mif\u001B[39;00m key \u001B[38;5;241m>\u001B[39m\u001B[38;5;241m=\u001B[39m len_axis \u001B[38;5;129;01mor\u001B[39;00m key \u001B[38;5;241m<\u001B[39m \u001B[38;5;241m-\u001B[39mlen_axis:\n\u001B[0;32m-> 1589\u001B[0m     \u001B[38;5;28;01mraise\u001B[39;00m \u001B[38;5;167;01mIndexError\u001B[39;00m(\u001B[38;5;124m\"\u001B[39m\u001B[38;5;124msingle positional indexer is out-of-bounds\u001B[39m\u001B[38;5;124m\"\u001B[39m)\n",
      "\u001B[0;31mIndexError\u001B[0m: single positional indexer is out-of-bounds"
     ]
    }
   ],
   "source": [
    "# Generate edge weights based on certainty and frequency\n",
    "\n",
    "def mapping_func(abbr):\n",
    "    abbr = calc_abbreviation_to_name_score(abbr)\n",
    "    return abbr\n",
    "\n",
    "def name_mapping_func(name):\n",
    "    print(\"Name: \" + name)\n",
    "    # get all names pointing to that abbreviation\n",
    "    abbreviations = authors[authors.name == name].abbreviation\n",
    "    certainties = authors[authors.name == name][[\"abbreviation\", \"certainty\"]].groupby(\"abbreviation\").agg({\"certainty\": \"mean\"}).reset_index()\n",
    "    frequencies = abbreviations.value_counts(normalize=True)\n",
    "    # merge certainties and frequencies on name\n",
    "    merged = pd.merge(certainties, frequencies, on=\"abbreviation\")\n",
    "    print(merged)\n",
    "    return name\n",
    "\n",
    "def calc_abbreviation_to_name_score(row):\n",
    "    abbr, name = row[\"abbreviation\"], row[\"name\"]\n",
    "    # get all names pointing to that abbreviation\n",
    "    names = authors[authors.abbreviation == abbr].name\n",
    "    # get the proportion of the name in the list\n",
    "    proportions = names.value_counts(normalize=True).to_frame().reset_index()\n",
    "    proportion = proportions[proportions[\"name\"] == name][\"proportion\"].iloc[0]\n",
    "    return proportion\n",
    "\n",
    "# loop through names\n",
    "authors[\"abbreviation_to_name_score\"] = authors.apply(lambda x: calc_abbreviation_to_name_score(x), axis=1)\n",
    "authors"
   ],
   "metadata": {
    "collapsed": false,
    "ExecuteTime": {
     "end_time": "2023-07-10T21:03:10.622978083Z",
     "start_time": "2023-07-10T21:03:06.079449090Z"
    }
   }
  },
  {
   "cell_type": "code",
   "execution_count": null,
   "outputs": [],
   "source": [],
   "metadata": {
    "collapsed": false,
    "ExecuteTime": {
     "start_time": "2023-07-10T21:03:10.618760978Z"
    }
   }
  }
 ],
 "metadata": {
  "kernelspec": {
   "name": "lvz_venv",
   "language": "python",
   "display_name": "lvz_venv"
  },
  "language_info": {
   "codemirror_mode": {
    "name": "ipython",
    "version": 2
   },
   "file_extension": ".py",
   "mimetype": "text/x-python",
   "name": "python",
   "nbconvert_exporter": "python",
   "pygments_lexer": "ipython2",
   "version": "2.7.6"
  }
 },
 "nbformat": 4,
 "nbformat_minor": 0
}
