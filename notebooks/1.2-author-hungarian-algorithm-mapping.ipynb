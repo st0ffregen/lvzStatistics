{
 "cells": [
  {
   "cell_type": "code",
   "execution_count": 2,
   "metadata": {
    "collapsed": true,
    "ExecuteTime": {
     "end_time": "2023-07-11T14:41:20.160512480Z",
     "start_time": "2023-07-11T14:41:20.110163360Z"
    }
   },
   "outputs": [],
   "source": [
    "import json\n",
    "import sqlite3\n",
    "import numpy as np\n",
    "import pandas as pd\n",
    "import seaborn as sns\n",
    "import scipy"
   ]
  },
  {
   "cell_type": "code",
   "execution_count": 3,
   "outputs": [],
   "source": [
    "con = sqlite3.connect('../data/interim/articles_with_author_mapping.db')\n",
    "cur = con.cursor()"
   ],
   "metadata": {
    "collapsed": false,
    "ExecuteTime": {
     "end_time": "2023-07-11T14:41:20.195701013Z",
     "start_time": "2023-07-11T14:41:20.151346413Z"
    }
   }
  },
  {
   "cell_type": "code",
   "execution_count": 4,
   "outputs": [],
   "source": [
    "cur.execute(\"select id, name, abbreviation, matching_certainty from authors\")\n",
    "rows = cur.fetchall()\n",
    "authors = pd.DataFrame(columns=[\"id\", \"name\", \"abbreviation\", \"certainty\"], data=rows)\n",
    "authors.set_index(\"id\", inplace=True)"
   ],
   "metadata": {
    "collapsed": false,
    "ExecuteTime": {
     "end_time": "2023-07-11T14:41:20.332214290Z",
     "start_time": "2023-07-11T14:41:20.151570638Z"
    }
   }
  },
  {
   "cell_type": "code",
   "execution_count": 24,
   "outputs": [],
   "source": [
    "final_mapping = pd.DataFrame(columns=[\"name\", \"abbreviation\"])"
   ],
   "metadata": {
    "collapsed": false,
    "ExecuteTime": {
     "end_time": "2023-07-11T14:45:34.931391189Z",
     "start_time": "2023-07-11T14:45:34.887735973Z"
    }
   }
  },
  {
   "cell_type": "code",
   "execution_count": 6,
   "outputs": [],
   "source": [
    "# convert null to nans\n",
    "authors = authors.replace(\"null\", np.nan)"
   ],
   "metadata": {
    "collapsed": false,
    "ExecuteTime": {
     "end_time": "2023-07-11T14:41:20.333126397Z",
     "start_time": "2023-07-11T14:41:20.240151339Z"
    }
   }
  },
  {
   "cell_type": "code",
   "execution_count": 7,
   "outputs": [
    {
     "name": "stderr",
     "output_type": "stream",
     "text": [
      "/tmp/ipykernel_20774/2700545868.py:2: RuntimeWarning: Mean of empty slice\n",
      "  mean_certainty = authors.groupby([\"name\", \"abbreviation\"])[\"certainty\"].transform(lambda x: np.nanmean(x))\n"
     ]
    }
   ],
   "source": [
    "# set certainty of a row to the average certainty over all rows with same name and abbreviation, ignore nan values\n",
    "mean_certainty = authors.groupby([\"name\", \"abbreviation\"])[\"certainty\"].transform(lambda x: np.nanmean(x))\n",
    "authors[\"certainty\"] = mean_certainty"
   ],
   "metadata": {
    "collapsed": false,
    "ExecuteTime": {
     "end_time": "2023-07-11T14:41:20.585312127Z",
     "start_time": "2023-07-11T14:41:20.275415334Z"
    }
   }
  },
  {
   "cell_type": "code",
   "execution_count": 8,
   "outputs": [],
   "source": [
    "authors[\"name_pointing_to_abbreviation_count\"] = authors.groupby([\"name\", \"abbreviation\"])[\"name\"].transform(\"count\")\n",
    "authors[\"abbreviation_pointing_to_name_count\"] = authors.groupby([\"name\", \"abbreviation\"])[\"abbreviation\"].transform(\"count\")"
   ],
   "metadata": {
    "collapsed": false,
    "ExecuteTime": {
     "end_time": "2023-07-11T14:41:20.648050482Z",
     "start_time": "2023-07-11T14:41:20.569784153Z"
    }
   }
  },
  {
   "cell_type": "code",
   "execution_count": 9,
   "outputs": [],
   "source": [
    "# drop duplicates based on name, abbreviation, certainty. I can drop them because ..._count saved the count\n",
    "authors.drop_duplicates(subset=[\"name\", \"abbreviation\", \"certainty\"], inplace=True)"
   ],
   "metadata": {
    "collapsed": false,
    "ExecuteTime": {
     "end_time": "2023-07-11T14:41:20.664635430Z",
     "start_time": "2023-07-11T14:41:20.615346480Z"
    }
   }
  },
  {
   "cell_type": "code",
   "execution_count": 10,
   "outputs": [],
   "source": [
    "# set the share that the name has of all names that point to that abbreviation\n",
    "authors_with_name_pointing_to_abbreviation_sum =  authors.groupby([\"abbreviation\"]).agg(names_pointing_to_abbreviation_sum=(\"name_pointing_to_abbreviation_count\", \"sum\")).reset_index()\n",
    "authors = pd.merge(authors, authors_with_name_pointing_to_abbreviation_sum, on=\"abbreviation\")\n",
    "authors[\"name_pointing_to_abbreviation_share\"] = authors[\"name_pointing_to_abbreviation_count\"] / authors[\"names_pointing_to_abbreviation_sum\"]"
   ],
   "metadata": {
    "collapsed": false,
    "ExecuteTime": {
     "end_time": "2023-07-11T14:41:20.664968590Z",
     "start_time": "2023-07-11T14:41:20.659328554Z"
    }
   }
  },
  {
   "cell_type": "code",
   "execution_count": 11,
   "outputs": [],
   "source": [
    "# set the share that the abbreviation has of all abbreviations that point to that name\n",
    "authors_with_abbreviation_pointing_to_name_sum = authors.groupby([\"name\"]).agg(abbreviations_pointing_to_name_sum=(\"abbreviation_pointing_to_name_count\", \"sum\")).reset_index()\n",
    "authors = pd.merge(authors, authors_with_abbreviation_pointing_to_name_sum, on=\"name\")\n",
    "authors[\"abbreviation_pointing_to_name_share\"] = authors[\"abbreviation_pointing_to_name_count\"] / authors[\"abbreviations_pointing_to_name_sum\"]"
   ],
   "metadata": {
    "collapsed": false,
    "ExecuteTime": {
     "end_time": "2023-07-11T14:41:20.705733029Z",
     "start_time": "2023-07-11T14:41:20.703265223Z"
    }
   }
  },
  {
   "cell_type": "code",
   "execution_count": 20,
   "outputs": [
    {
     "data": {
      "text/plain": "                     name abbreviation  certainty  \\\n0          kai-uwe brandt          kub   0.810345   \n1               jan peter          jap   0.600000   \n2         manfred lüttich          maf   0.600000   \n3         manfred lüttich         malü   0.800000   \n4         manfred lüttich           ml   0.333333   \n...                   ...          ...        ...   \n1025   tim niklas herholz          tnh   0.800000   \n1026      susanne plecher          sup   0.602000   \n1027        michael klamp          cmp   0.300000   \n1028  josa mania-schlegel          jms   0.900000   \n1029           A. Krieger                     NaN   \n\n      name_pointing_to_abbreviation_count  \\\n0                                    29.0   \n1                                    21.0   \n2                                    99.0   \n3                                     2.0   \n4                                     3.0   \n...                                   ...   \n1025                                  2.0   \n1026                                  1.0   \n1027                                  2.0   \n1028                                  1.0   \n1029                                  1.0   \n\n      abbreviation_pointing_to_name_count  names_pointing_to_abbreviation_sum  \\\n0                                    29.0                                29.0   \n1                                    21.0                                21.0   \n2                                    99.0                              1213.0   \n3                                     2.0                                 2.0   \n4                                     3.0                                 7.0   \n...                                   ...                                 ...   \n1025                                  2.0                                 2.0   \n1026                                  1.0                                 1.0   \n1027                                  2.0                                 2.0   \n1028                                  1.0                                 1.0   \n1029                                  1.0                                 1.0   \n\n      name_pointing_to_abbreviation_share  abbreviations_pointing_to_name_sum  \\\n0                                1.000000                                29.0   \n1                                1.000000                                21.0   \n2                                0.081616                               104.0   \n3                                1.000000                               104.0   \n4                                0.428571                               104.0   \n...                                   ...                                 ...   \n1025                             1.000000                                 2.0   \n1026                             1.000000                                 1.0   \n1027                             1.000000                                 2.0   \n1028                             1.000000                                 1.0   \n1029                             1.000000                                 1.0   \n\n      abbreviation_pointing_to_name_share     score  \\\n0                                1.000000  2.810345   \n1                                1.000000  2.600000   \n2                                0.951923  1.633539   \n3                                0.019231  1.819231   \n4                                0.028846  0.790751   \n...                                   ...       ...   \n1025                             1.000000  2.800000   \n1026                             1.000000  2.602000   \n1027                             1.000000  2.300000   \n1028                             1.000000  2.900000   \n1029                             1.000000       NaN   \n\n      abbreviation_to_name_score  \n0                           1.00  \n1                           1.00  \n2                           0.25  \n3                           1.00  \n4                           0.20  \n...                          ...  \n1025                        1.00  \n1026                        1.00  \n1027                        1.00  \n1028                        1.00  \n1029                        1.00  \n\n[1030 rows x 11 columns]",
      "text/html": "<div>\n<style scoped>\n    .dataframe tbody tr th:only-of-type {\n        vertical-align: middle;\n    }\n\n    .dataframe tbody tr th {\n        vertical-align: top;\n    }\n\n    .dataframe thead th {\n        text-align: right;\n    }\n</style>\n<table border=\"1\" class=\"dataframe\">\n  <thead>\n    <tr style=\"text-align: right;\">\n      <th></th>\n      <th>name</th>\n      <th>abbreviation</th>\n      <th>certainty</th>\n      <th>name_pointing_to_abbreviation_count</th>\n      <th>abbreviation_pointing_to_name_count</th>\n      <th>names_pointing_to_abbreviation_sum</th>\n      <th>name_pointing_to_abbreviation_share</th>\n      <th>abbreviations_pointing_to_name_sum</th>\n      <th>abbreviation_pointing_to_name_share</th>\n      <th>score</th>\n      <th>abbreviation_to_name_score</th>\n    </tr>\n  </thead>\n  <tbody>\n    <tr>\n      <th>0</th>\n      <td>kai-uwe brandt</td>\n      <td>kub</td>\n      <td>0.810345</td>\n      <td>29.0</td>\n      <td>29.0</td>\n      <td>29.0</td>\n      <td>1.000000</td>\n      <td>29.0</td>\n      <td>1.000000</td>\n      <td>2.810345</td>\n      <td>1.00</td>\n    </tr>\n    <tr>\n      <th>1</th>\n      <td>jan peter</td>\n      <td>jap</td>\n      <td>0.600000</td>\n      <td>21.0</td>\n      <td>21.0</td>\n      <td>21.0</td>\n      <td>1.000000</td>\n      <td>21.0</td>\n      <td>1.000000</td>\n      <td>2.600000</td>\n      <td>1.00</td>\n    </tr>\n    <tr>\n      <th>2</th>\n      <td>manfred lüttich</td>\n      <td>maf</td>\n      <td>0.600000</td>\n      <td>99.0</td>\n      <td>99.0</td>\n      <td>1213.0</td>\n      <td>0.081616</td>\n      <td>104.0</td>\n      <td>0.951923</td>\n      <td>1.633539</td>\n      <td>0.25</td>\n    </tr>\n    <tr>\n      <th>3</th>\n      <td>manfred lüttich</td>\n      <td>malü</td>\n      <td>0.800000</td>\n      <td>2.0</td>\n      <td>2.0</td>\n      <td>2.0</td>\n      <td>1.000000</td>\n      <td>104.0</td>\n      <td>0.019231</td>\n      <td>1.819231</td>\n      <td>1.00</td>\n    </tr>\n    <tr>\n      <th>4</th>\n      <td>manfred lüttich</td>\n      <td>ml</td>\n      <td>0.333333</td>\n      <td>3.0</td>\n      <td>3.0</td>\n      <td>7.0</td>\n      <td>0.428571</td>\n      <td>104.0</td>\n      <td>0.028846</td>\n      <td>0.790751</td>\n      <td>0.20</td>\n    </tr>\n    <tr>\n      <th>...</th>\n      <td>...</td>\n      <td>...</td>\n      <td>...</td>\n      <td>...</td>\n      <td>...</td>\n      <td>...</td>\n      <td>...</td>\n      <td>...</td>\n      <td>...</td>\n      <td>...</td>\n      <td>...</td>\n    </tr>\n    <tr>\n      <th>1025</th>\n      <td>tim niklas herholz</td>\n      <td>tnh</td>\n      <td>0.800000</td>\n      <td>2.0</td>\n      <td>2.0</td>\n      <td>2.0</td>\n      <td>1.000000</td>\n      <td>2.0</td>\n      <td>1.000000</td>\n      <td>2.800000</td>\n      <td>1.00</td>\n    </tr>\n    <tr>\n      <th>1026</th>\n      <td>susanne plecher</td>\n      <td>sup</td>\n      <td>0.602000</td>\n      <td>1.0</td>\n      <td>1.0</td>\n      <td>1.0</td>\n      <td>1.000000</td>\n      <td>1.0</td>\n      <td>1.000000</td>\n      <td>2.602000</td>\n      <td>1.00</td>\n    </tr>\n    <tr>\n      <th>1027</th>\n      <td>michael klamp</td>\n      <td>cmp</td>\n      <td>0.300000</td>\n      <td>2.0</td>\n      <td>2.0</td>\n      <td>2.0</td>\n      <td>1.000000</td>\n      <td>2.0</td>\n      <td>1.000000</td>\n      <td>2.300000</td>\n      <td>1.00</td>\n    </tr>\n    <tr>\n      <th>1028</th>\n      <td>josa mania-schlegel</td>\n      <td>jms</td>\n      <td>0.900000</td>\n      <td>1.0</td>\n      <td>1.0</td>\n      <td>1.0</td>\n      <td>1.000000</td>\n      <td>1.0</td>\n      <td>1.000000</td>\n      <td>2.900000</td>\n      <td>1.00</td>\n    </tr>\n    <tr>\n      <th>1029</th>\n      <td>A. Krieger</td>\n      <td></td>\n      <td>NaN</td>\n      <td>1.0</td>\n      <td>1.0</td>\n      <td>1.0</td>\n      <td>1.000000</td>\n      <td>1.0</td>\n      <td>1.000000</td>\n      <td>NaN</td>\n      <td>1.00</td>\n    </tr>\n  </tbody>\n</table>\n<p>1030 rows × 11 columns</p>\n</div>"
     },
     "execution_count": 20,
     "metadata": {},
     "output_type": "execute_result"
    }
   ],
   "source": [
    "authors"
   ],
   "metadata": {
    "collapsed": false,
    "ExecuteTime": {
     "end_time": "2023-07-11T14:41:50.295812553Z",
     "start_time": "2023-07-11T14:41:50.244996681Z"
    }
   }
  },
  {
   "cell_type": "code",
   "execution_count": 13,
   "outputs": [],
   "source": [
    "# calculate a final score for the weighted edge between name and abbreviation\n",
    "authors[\"score\"] = authors[\"certainty\"] + authors[\"name_pointing_to_abbreviation_share\"] + authors[\"abbreviation_pointing_to_name_share\"]"
   ],
   "metadata": {
    "collapsed": false,
    "ExecuteTime": {
     "end_time": "2023-07-11T14:41:20.846057320Z",
     "start_time": "2023-07-11T14:41:20.774791505Z"
    }
   }
  },
  {
   "cell_type": "code",
   "execution_count": 14,
   "outputs": [
    {
     "data": {
      "text/plain": "              name abbreviation  certainty  \\\n2  manfred lüttich          maf   0.600000   \n3  manfred lüttich         malü   0.800000   \n4  manfred lüttich           ml   0.333333   \n\n   name_pointing_to_abbreviation_count  abbreviation_pointing_to_name_count  \\\n2                                 99.0                                 99.0   \n3                                  2.0                                  2.0   \n4                                  3.0                                  3.0   \n\n   names_pointing_to_abbreviation_sum  name_pointing_to_abbreviation_share  \\\n2                              1213.0                             0.081616   \n3                                 2.0                             1.000000   \n4                                 7.0                             0.428571   \n\n   abbreviations_pointing_to_name_sum  abbreviation_pointing_to_name_share  \\\n2                               104.0                             0.951923   \n3                               104.0                             0.019231   \n4                               104.0                             0.028846   \n\n      score  \n2  1.633539  \n3  1.819231  \n4  0.790751  ",
      "text/html": "<div>\n<style scoped>\n    .dataframe tbody tr th:only-of-type {\n        vertical-align: middle;\n    }\n\n    .dataframe tbody tr th {\n        vertical-align: top;\n    }\n\n    .dataframe thead th {\n        text-align: right;\n    }\n</style>\n<table border=\"1\" class=\"dataframe\">\n  <thead>\n    <tr style=\"text-align: right;\">\n      <th></th>\n      <th>name</th>\n      <th>abbreviation</th>\n      <th>certainty</th>\n      <th>name_pointing_to_abbreviation_count</th>\n      <th>abbreviation_pointing_to_name_count</th>\n      <th>names_pointing_to_abbreviation_sum</th>\n      <th>name_pointing_to_abbreviation_share</th>\n      <th>abbreviations_pointing_to_name_sum</th>\n      <th>abbreviation_pointing_to_name_share</th>\n      <th>score</th>\n    </tr>\n  </thead>\n  <tbody>\n    <tr>\n      <th>2</th>\n      <td>manfred lüttich</td>\n      <td>maf</td>\n      <td>0.600000</td>\n      <td>99.0</td>\n      <td>99.0</td>\n      <td>1213.0</td>\n      <td>0.081616</td>\n      <td>104.0</td>\n      <td>0.951923</td>\n      <td>1.633539</td>\n    </tr>\n    <tr>\n      <th>3</th>\n      <td>manfred lüttich</td>\n      <td>malü</td>\n      <td>0.800000</td>\n      <td>2.0</td>\n      <td>2.0</td>\n      <td>2.0</td>\n      <td>1.000000</td>\n      <td>104.0</td>\n      <td>0.019231</td>\n      <td>1.819231</td>\n    </tr>\n    <tr>\n      <th>4</th>\n      <td>manfred lüttich</td>\n      <td>ml</td>\n      <td>0.333333</td>\n      <td>3.0</td>\n      <td>3.0</td>\n      <td>7.0</td>\n      <td>0.428571</td>\n      <td>104.0</td>\n      <td>0.028846</td>\n      <td>0.790751</td>\n    </tr>\n  </tbody>\n</table>\n</div>"
     },
     "execution_count": 14,
     "metadata": {},
     "output_type": "execute_result"
    }
   ],
   "source": [
    "authors[authors[\"name\"] == \"manfred lüttich\"]"
   ],
   "metadata": {
    "collapsed": false,
    "ExecuteTime": {
     "end_time": "2023-07-11T14:41:20.846578917Z",
     "start_time": "2023-07-11T14:41:20.775016547Z"
    }
   }
  },
  {
   "cell_type": "code",
   "execution_count": 15,
   "outputs": [],
   "source": [
    "# todo 10.07 data viz, hungarian anwenden evtl. das von scipy sonst:\n",
    "# https://docs.scipy.org/doc/scipy/reference/generated/scipy.optimize.linear_sum_assignment.html\n",
    "# https://www.hpl.hp.com/techreports/2012/HPL-2012-40R1.pdf\n",
    "# https://iopscience.iop.org/article/10.1088/1742-6596/1963/1/012104/pdf\n",
    "# https://link.springer.com/article/10.1007/BF02278710\n",
    "# evtl. auch was von networkx (vielleicht mal hier: https://towardsdatascience.com/matching-of-bipartite-graphs-using-networkx-6d355b164567)\n",
    "# https://link.springer.com/content/pdf/10.1007/s10479-010-0757-3.pdf"
   ],
   "metadata": {
    "collapsed": false,
    "ExecuteTime": {
     "end_time": "2023-07-11T14:41:20.847812089Z",
     "start_time": "2023-07-11T14:41:20.778195126Z"
    }
   }
  },
  {
   "cell_type": "code",
   "execution_count": 33,
   "outputs": [],
   "source": [
    "# reduce the problem space to a bipartite graph, assigning all (name, abbreviation) pairs that are not connected to the graph as final/solved\n",
    "# add pairs to final mapping where abbreviation_pointing_to_name_count == 1 or name_pointing_to_abbreviation_count == 1 and remove those from the authors df\n",
    "one_to_one_mappings = authors[(authors[\"abbreviations_pointing_to_name_sum\"] == 1) & (authors[\"names_pointing_to_abbreviation_sum\"] == 1)]\n",
    "final_mapping = pd.concat([final_mapping, one_to_one_mappings[[\"name\", \"abbreviation\"]]], ignore_index=True)\n",
    "\n",
    "authors = authors[(authors[\"abbreviations_pointing_to_name_sum\"] != 1) | (authors[\"names_pointing_to_abbreviation_sum\"] != 1)]"
   ],
   "metadata": {
    "collapsed": false,
    "ExecuteTime": {
     "end_time": "2023-07-11T14:50:05.231716273Z",
     "start_time": "2023-07-11T14:50:05.188986992Z"
    }
   }
  },
  {
   "cell_type": "code",
   "execution_count": 35,
   "outputs": [
    {
     "data": {
      "text/plain": "                                name abbreviation  certainty  \\\n0                     kai-uwe brandt          kub   0.810345   \n1                          jan peter          jap   0.600000   \n2                    manfred lüttich          maf   0.600000   \n3                    manfred lüttich         malü   0.800000   \n4                    manfred lüttich           ml   0.333333   \n...                              ...          ...        ...   \n1019                  lilly günthner           lg   0.900000   \n1020             lisa konstantinidis         liko   0.800000   \n1021  luise jahn und victoria kovacs         liko   0.500000   \n1025              tim niklas herholz          tnh   0.800000   \n1027                   michael klamp          cmp   0.300000   \n\n      name_pointing_to_abbreviation_count  \\\n0                                    29.0   \n1                                    21.0   \n2                                    99.0   \n3                                     2.0   \n4                                     3.0   \n...                                   ...   \n1019                                 13.0   \n1020                                 42.0   \n1021                                  6.0   \n1025                                  2.0   \n1027                                  2.0   \n\n      abbreviation_pointing_to_name_count  names_pointing_to_abbreviation_sum  \\\n0                                    29.0                                29.0   \n1                                    21.0                                21.0   \n2                                    99.0                              1213.0   \n3                                     2.0                                 2.0   \n4                                     3.0                                 7.0   \n...                                   ...                                 ...   \n1019                                 13.0                                13.0   \n1020                                 42.0                                48.0   \n1021                                  6.0                                48.0   \n1025                                  2.0                                 2.0   \n1027                                  2.0                                 2.0   \n\n      name_pointing_to_abbreviation_share  abbreviations_pointing_to_name_sum  \\\n0                                1.000000                                29.0   \n1                                1.000000                                21.0   \n2                                0.081616                               104.0   \n3                                1.000000                               104.0   \n4                                0.428571                               104.0   \n...                                   ...                                 ...   \n1019                             1.000000                                13.0   \n1020                             0.875000                                42.0   \n1021                             0.125000                                 6.0   \n1025                             1.000000                                 2.0   \n1027                             1.000000                                 2.0   \n\n      abbreviation_pointing_to_name_share     score  \\\n0                                1.000000  2.810345   \n1                                1.000000  2.600000   \n2                                0.951923  1.633539   \n3                                0.019231  1.819231   \n4                                0.028846  0.790751   \n...                                   ...       ...   \n1019                             1.000000  2.900000   \n1020                             1.000000  2.675000   \n1021                             1.000000  1.625000   \n1025                             1.000000  2.800000   \n1027                             1.000000  2.300000   \n\n      abbreviation_to_name_score  \n0                           1.00  \n1                           1.00  \n2                           0.25  \n3                           1.00  \n4                           0.20  \n...                          ...  \n1019                        1.00  \n1020                        0.50  \n1021                        0.50  \n1025                        1.00  \n1027                        1.00  \n\n[936 rows x 11 columns]",
      "text/html": "<div>\n<style scoped>\n    .dataframe tbody tr th:only-of-type {\n        vertical-align: middle;\n    }\n\n    .dataframe tbody tr th {\n        vertical-align: top;\n    }\n\n    .dataframe thead th {\n        text-align: right;\n    }\n</style>\n<table border=\"1\" class=\"dataframe\">\n  <thead>\n    <tr style=\"text-align: right;\">\n      <th></th>\n      <th>name</th>\n      <th>abbreviation</th>\n      <th>certainty</th>\n      <th>name_pointing_to_abbreviation_count</th>\n      <th>abbreviation_pointing_to_name_count</th>\n      <th>names_pointing_to_abbreviation_sum</th>\n      <th>name_pointing_to_abbreviation_share</th>\n      <th>abbreviations_pointing_to_name_sum</th>\n      <th>abbreviation_pointing_to_name_share</th>\n      <th>score</th>\n      <th>abbreviation_to_name_score</th>\n    </tr>\n  </thead>\n  <tbody>\n    <tr>\n      <th>0</th>\n      <td>kai-uwe brandt</td>\n      <td>kub</td>\n      <td>0.810345</td>\n      <td>29.0</td>\n      <td>29.0</td>\n      <td>29.0</td>\n      <td>1.000000</td>\n      <td>29.0</td>\n      <td>1.000000</td>\n      <td>2.810345</td>\n      <td>1.00</td>\n    </tr>\n    <tr>\n      <th>1</th>\n      <td>jan peter</td>\n      <td>jap</td>\n      <td>0.600000</td>\n      <td>21.0</td>\n      <td>21.0</td>\n      <td>21.0</td>\n      <td>1.000000</td>\n      <td>21.0</td>\n      <td>1.000000</td>\n      <td>2.600000</td>\n      <td>1.00</td>\n    </tr>\n    <tr>\n      <th>2</th>\n      <td>manfred lüttich</td>\n      <td>maf</td>\n      <td>0.600000</td>\n      <td>99.0</td>\n      <td>99.0</td>\n      <td>1213.0</td>\n      <td>0.081616</td>\n      <td>104.0</td>\n      <td>0.951923</td>\n      <td>1.633539</td>\n      <td>0.25</td>\n    </tr>\n    <tr>\n      <th>3</th>\n      <td>manfred lüttich</td>\n      <td>malü</td>\n      <td>0.800000</td>\n      <td>2.0</td>\n      <td>2.0</td>\n      <td>2.0</td>\n      <td>1.000000</td>\n      <td>104.0</td>\n      <td>0.019231</td>\n      <td>1.819231</td>\n      <td>1.00</td>\n    </tr>\n    <tr>\n      <th>4</th>\n      <td>manfred lüttich</td>\n      <td>ml</td>\n      <td>0.333333</td>\n      <td>3.0</td>\n      <td>3.0</td>\n      <td>7.0</td>\n      <td>0.428571</td>\n      <td>104.0</td>\n      <td>0.028846</td>\n      <td>0.790751</td>\n      <td>0.20</td>\n    </tr>\n    <tr>\n      <th>...</th>\n      <td>...</td>\n      <td>...</td>\n      <td>...</td>\n      <td>...</td>\n      <td>...</td>\n      <td>...</td>\n      <td>...</td>\n      <td>...</td>\n      <td>...</td>\n      <td>...</td>\n      <td>...</td>\n    </tr>\n    <tr>\n      <th>1019</th>\n      <td>lilly günthner</td>\n      <td>lg</td>\n      <td>0.900000</td>\n      <td>13.0</td>\n      <td>13.0</td>\n      <td>13.0</td>\n      <td>1.000000</td>\n      <td>13.0</td>\n      <td>1.000000</td>\n      <td>2.900000</td>\n      <td>1.00</td>\n    </tr>\n    <tr>\n      <th>1020</th>\n      <td>lisa konstantinidis</td>\n      <td>liko</td>\n      <td>0.800000</td>\n      <td>42.0</td>\n      <td>42.0</td>\n      <td>48.0</td>\n      <td>0.875000</td>\n      <td>42.0</td>\n      <td>1.000000</td>\n      <td>2.675000</td>\n      <td>0.50</td>\n    </tr>\n    <tr>\n      <th>1021</th>\n      <td>luise jahn und victoria kovacs</td>\n      <td>liko</td>\n      <td>0.500000</td>\n      <td>6.0</td>\n      <td>6.0</td>\n      <td>48.0</td>\n      <td>0.125000</td>\n      <td>6.0</td>\n      <td>1.000000</td>\n      <td>1.625000</td>\n      <td>0.50</td>\n    </tr>\n    <tr>\n      <th>1025</th>\n      <td>tim niklas herholz</td>\n      <td>tnh</td>\n      <td>0.800000</td>\n      <td>2.0</td>\n      <td>2.0</td>\n      <td>2.0</td>\n      <td>1.000000</td>\n      <td>2.0</td>\n      <td>1.000000</td>\n      <td>2.800000</td>\n      <td>1.00</td>\n    </tr>\n    <tr>\n      <th>1027</th>\n      <td>michael klamp</td>\n      <td>cmp</td>\n      <td>0.300000</td>\n      <td>2.0</td>\n      <td>2.0</td>\n      <td>2.0</td>\n      <td>1.000000</td>\n      <td>2.0</td>\n      <td>1.000000</td>\n      <td>2.300000</td>\n      <td>1.00</td>\n    </tr>\n  </tbody>\n</table>\n<p>936 rows × 11 columns</p>\n</div>"
     },
     "execution_count": 35,
     "metadata": {},
     "output_type": "execute_result"
    }
   ],
   "source": [
    "authors"
   ],
   "metadata": {
    "collapsed": false,
    "ExecuteTime": {
     "end_time": "2023-07-11T14:50:10.213800355Z",
     "start_time": "2023-07-11T14:50:10.185530639Z"
    }
   }
  },
  {
   "cell_type": "code",
   "execution_count": 18,
   "outputs": [],
   "source": [],
   "metadata": {
    "collapsed": false,
    "ExecuteTime": {
     "end_time": "2023-07-11T14:41:24.227912217Z",
     "start_time": "2023-07-11T14:41:24.222849926Z"
    }
   }
  }
 ],
 "metadata": {
  "kernelspec": {
   "name": "lvz_venv",
   "language": "python",
   "display_name": "lvz_venv"
  },
  "language_info": {
   "codemirror_mode": {
    "name": "ipython",
    "version": 2
   },
   "file_extension": ".py",
   "mimetype": "text/x-python",
   "name": "python",
   "nbconvert_exporter": "python",
   "pygments_lexer": "ipython2",
   "version": "2.7.6"
  }
 },
 "nbformat": 4,
 "nbformat_minor": 0
}
