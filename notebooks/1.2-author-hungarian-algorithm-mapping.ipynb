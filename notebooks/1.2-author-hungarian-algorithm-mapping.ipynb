{
 "cells": [
  {
   "cell_type": "code",
   "execution_count": 2,
   "metadata": {
    "collapsed": true,
    "ExecuteTime": {
     "end_time": "2023-08-08T09:32:40.016356331Z",
     "start_time": "2023-08-08T09:32:40.005005074Z"
    }
   },
   "outputs": [],
   "source": [
    "import json\n",
    "import sqlite3\n",
    "import numpy as np\n",
    "import pandas as pd\n",
    "import seaborn as sns\n",
    "import scipy\n",
    "from src.models.MatchingType import MatchingType"
   ]
  },
  {
   "cell_type": "code",
   "execution_count": 3,
   "outputs": [],
   "source": [
    "con = sqlite3.connect('../data/interim/articles_with_author_mapping.db')\n",
    "cur = con.cursor()"
   ],
   "metadata": {
    "collapsed": false,
    "ExecuteTime": {
     "end_time": "2023-08-08T09:32:42.050840518Z",
     "start_time": "2023-08-08T09:32:42.047925124Z"
    }
   }
  },
  {
   "cell_type": "code",
   "execution_count": 4,
   "outputs": [],
   "source": [
    "def get_abbreviations_with_names():\n",
    "    cur.execute(\"select id, name, abbreviation, matching_certainty from unmapped_authors where matching_type = ? or matching_type = ?\", (MatchingType.FUZZY_MATCH.name, MatchingType.DIRECT_MATCH.name))\n",
    "    rows = cur.fetchall()\n",
    "    authors = pd.DataFrame(columns=[\"id\", \"name\", \"abbreviation\", \"certainty\"], data=rows)\n",
    "    authors.set_index(\"id\", inplace=True)\n",
    "    return authors\n",
    "\n",
    "authors = get_abbreviations_with_names()"
   ],
   "metadata": {
    "collapsed": false,
    "ExecuteTime": {
     "end_time": "2023-08-08T09:32:43.357434623Z",
     "start_time": "2023-08-08T09:32:42.867083578Z"
    }
   }
  },
  {
   "cell_type": "code",
   "execution_count": 5,
   "outputs": [],
   "source": [
    "final_mapping = pd.DataFrame(columns=[\"name\", \"abbreviation\"])"
   ],
   "metadata": {
    "collapsed": false,
    "ExecuteTime": {
     "end_time": "2023-08-08T09:32:44.542506226Z",
     "start_time": "2023-08-08T09:32:44.539680088Z"
    }
   }
  },
  {
   "cell_type": "code",
   "execution_count": 7,
   "outputs": [],
   "source": [
    "# set certainty of a row to the average certainty over all rows with same name and abbreviation, ignore nan values\n",
    "mean_certainty = authors.groupby([\"name\", \"abbreviation\"])[\"certainty\"].transform(lambda x: np.nanmean(x))\n",
    "authors[\"certainty\"] = mean_certainty"
   ],
   "metadata": {
    "collapsed": false,
    "ExecuteTime": {
     "end_time": "2023-08-08T09:32:45.805026980Z",
     "start_time": "2023-08-08T09:32:45.766084487Z"
    }
   }
  },
  {
   "cell_type": "code",
   "execution_count": 8,
   "outputs": [],
   "source": [
    "authors[\"name_pointing_to_abbreviation_count\"] = authors.groupby([\"name\", \"abbreviation\"])[\"name\"].transform(\"count\")\n",
    "authors[\"abbreviation_pointing_to_name_count\"] = authors.groupby([\"name\", \"abbreviation\"])[\"abbreviation\"].transform(\"count\")"
   ],
   "metadata": {
    "collapsed": false,
    "ExecuteTime": {
     "end_time": "2023-08-08T09:32:46.830290576Z",
     "start_time": "2023-08-08T09:32:46.807292752Z"
    }
   }
  },
  {
   "cell_type": "code",
   "execution_count": 9,
   "outputs": [],
   "source": [
    "# drop duplicates based on name, abbreviation, certainty. I can drop them because ..._count saved the count\n",
    "authors.drop_duplicates(subset=[\"name\", \"abbreviation\", \"certainty\"], inplace=True)"
   ],
   "metadata": {
    "collapsed": false,
    "ExecuteTime": {
     "end_time": "2023-08-08T09:32:47.964558986Z",
     "start_time": "2023-08-08T09:32:47.956072568Z"
    }
   }
  },
  {
   "cell_type": "code",
   "execution_count": 10,
   "outputs": [],
   "source": [
    "# set the share that the name has of all names that point to that abbreviation\n",
    "authors_with_name_pointing_to_abbreviation_sum =  authors.groupby([\"abbreviation\"]).agg(names_pointing_to_abbreviation_sum=(\"name_pointing_to_abbreviation_count\", \"sum\")).reset_index()\n",
    "authors = pd.merge(authors, authors_with_name_pointing_to_abbreviation_sum, on=\"abbreviation\")\n",
    "authors[\"name_pointing_to_abbreviation_share\"] = authors[\"name_pointing_to_abbreviation_count\"] / authors[\"names_pointing_to_abbreviation_sum\"]"
   ],
   "metadata": {
    "collapsed": false,
    "ExecuteTime": {
     "end_time": "2023-08-08T09:32:49.279431229Z",
     "start_time": "2023-08-08T09:32:49.276610322Z"
    }
   }
  },
  {
   "cell_type": "code",
   "execution_count": 11,
   "outputs": [],
   "source": [
    "# set the share that the abbreviation has of all abbreviations that point to that name\n",
    "authors_with_abbreviation_pointing_to_name_sum = authors.groupby([\"name\"]).agg(abbreviations_pointing_to_name_sum=(\"abbreviation_pointing_to_name_count\", \"sum\")).reset_index()\n",
    "authors = pd.merge(authors, authors_with_abbreviation_pointing_to_name_sum, on=\"name\")\n",
    "authors[\"abbreviation_pointing_to_name_share\"] = authors[\"abbreviation_pointing_to_name_count\"] / authors[\"abbreviations_pointing_to_name_sum\"]"
   ],
   "metadata": {
    "collapsed": false,
    "ExecuteTime": {
     "end_time": "2023-08-08T09:32:49.884000237Z",
     "start_time": "2023-08-08T09:32:49.876205220Z"
    }
   }
  },
  {
   "cell_type": "code",
   "execution_count": 12,
   "outputs": [
    {
     "data": {
      "text/plain": "                     name          abbreviation  certainty  \\\n0          Kai-Uwe Brandt                   kub   0.800000   \n1          Kai-Uwe Brandt                    ka   0.422200   \n2         Nadja Topfstedt                   jap   0.300000   \n3         Andreas Tappert                   art   0.691664   \n4         Andreas Tappert                   ast   0.711140   \n..                    ...                   ...        ...   \n327        Lilly Günthner                    lg   0.900000   \n328        Yvonne Schmidt                    ys   0.800000   \n329  Gislinde Redepenning  Gislinde Redepenning   0.800000   \n330    Tim Niklas Herholz                   tnh   0.800000   \n331           Simon Ecker                   sec   0.570450   \n\n     name_pointing_to_abbreviation_count  abbreviation_pointing_to_name_count  \\\n0                                     35                                   35   \n1                                     15                                   15   \n2                                     21                                   21   \n3                                    137                                  137   \n4                                     43                                   43   \n..                                   ...                                  ...   \n327                                   70                                   70   \n328                                   78                                   78   \n329                                    2                                    2   \n330                                   77                                   77   \n331                                   20                                   20   \n\n     names_pointing_to_abbreviation_sum  name_pointing_to_abbreviation_share  \\\n0                                    35                             1.000000   \n1                                   449                             0.033408   \n2                                    21                             1.000000   \n3                                   137                             1.000000   \n4                                    43                             1.000000   \n..                                  ...                                  ...   \n327                                  70                             1.000000   \n328                                  78                             1.000000   \n329                                   2                             1.000000   \n330                                  77                             1.000000   \n331                                  20                             1.000000   \n\n     abbreviations_pointing_to_name_sum  abbreviation_pointing_to_name_share  \n0                                    50                             0.700000  \n1                                    50                             0.300000  \n2                                    21                             1.000000  \n3                                   202                             0.678218  \n4                                   202                             0.212871  \n..                                  ...                                  ...  \n327                                  70                             1.000000  \n328                                  78                             1.000000  \n329                                   2                             1.000000  \n330                                  77                             1.000000  \n331                                  20                             1.000000  \n\n[332 rows x 9 columns]",
      "text/html": "<div>\n<style scoped>\n    .dataframe tbody tr th:only-of-type {\n        vertical-align: middle;\n    }\n\n    .dataframe tbody tr th {\n        vertical-align: top;\n    }\n\n    .dataframe thead th {\n        text-align: right;\n    }\n</style>\n<table border=\"1\" class=\"dataframe\">\n  <thead>\n    <tr style=\"text-align: right;\">\n      <th></th>\n      <th>name</th>\n      <th>abbreviation</th>\n      <th>certainty</th>\n      <th>name_pointing_to_abbreviation_count</th>\n      <th>abbreviation_pointing_to_name_count</th>\n      <th>names_pointing_to_abbreviation_sum</th>\n      <th>name_pointing_to_abbreviation_share</th>\n      <th>abbreviations_pointing_to_name_sum</th>\n      <th>abbreviation_pointing_to_name_share</th>\n    </tr>\n  </thead>\n  <tbody>\n    <tr>\n      <th>0</th>\n      <td>Kai-Uwe Brandt</td>\n      <td>kub</td>\n      <td>0.800000</td>\n      <td>35</td>\n      <td>35</td>\n      <td>35</td>\n      <td>1.000000</td>\n      <td>50</td>\n      <td>0.700000</td>\n    </tr>\n    <tr>\n      <th>1</th>\n      <td>Kai-Uwe Brandt</td>\n      <td>ka</td>\n      <td>0.422200</td>\n      <td>15</td>\n      <td>15</td>\n      <td>449</td>\n      <td>0.033408</td>\n      <td>50</td>\n      <td>0.300000</td>\n    </tr>\n    <tr>\n      <th>2</th>\n      <td>Nadja Topfstedt</td>\n      <td>jap</td>\n      <td>0.300000</td>\n      <td>21</td>\n      <td>21</td>\n      <td>21</td>\n      <td>1.000000</td>\n      <td>21</td>\n      <td>1.000000</td>\n    </tr>\n    <tr>\n      <th>3</th>\n      <td>Andreas Tappert</td>\n      <td>art</td>\n      <td>0.691664</td>\n      <td>137</td>\n      <td>137</td>\n      <td>137</td>\n      <td>1.000000</td>\n      <td>202</td>\n      <td>0.678218</td>\n    </tr>\n    <tr>\n      <th>4</th>\n      <td>Andreas Tappert</td>\n      <td>ast</td>\n      <td>0.711140</td>\n      <td>43</td>\n      <td>43</td>\n      <td>43</td>\n      <td>1.000000</td>\n      <td>202</td>\n      <td>0.212871</td>\n    </tr>\n    <tr>\n      <th>...</th>\n      <td>...</td>\n      <td>...</td>\n      <td>...</td>\n      <td>...</td>\n      <td>...</td>\n      <td>...</td>\n      <td>...</td>\n      <td>...</td>\n      <td>...</td>\n    </tr>\n    <tr>\n      <th>327</th>\n      <td>Lilly Günthner</td>\n      <td>lg</td>\n      <td>0.900000</td>\n      <td>70</td>\n      <td>70</td>\n      <td>70</td>\n      <td>1.000000</td>\n      <td>70</td>\n      <td>1.000000</td>\n    </tr>\n    <tr>\n      <th>328</th>\n      <td>Yvonne Schmidt</td>\n      <td>ys</td>\n      <td>0.800000</td>\n      <td>78</td>\n      <td>78</td>\n      <td>78</td>\n      <td>1.000000</td>\n      <td>78</td>\n      <td>1.000000</td>\n    </tr>\n    <tr>\n      <th>329</th>\n      <td>Gislinde Redepenning</td>\n      <td>Gislinde Redepenning</td>\n      <td>0.800000</td>\n      <td>2</td>\n      <td>2</td>\n      <td>2</td>\n      <td>1.000000</td>\n      <td>2</td>\n      <td>1.000000</td>\n    </tr>\n    <tr>\n      <th>330</th>\n      <td>Tim Niklas Herholz</td>\n      <td>tnh</td>\n      <td>0.800000</td>\n      <td>77</td>\n      <td>77</td>\n      <td>77</td>\n      <td>1.000000</td>\n      <td>77</td>\n      <td>1.000000</td>\n    </tr>\n    <tr>\n      <th>331</th>\n      <td>Simon Ecker</td>\n      <td>sec</td>\n      <td>0.570450</td>\n      <td>20</td>\n      <td>20</td>\n      <td>20</td>\n      <td>1.000000</td>\n      <td>20</td>\n      <td>1.000000</td>\n    </tr>\n  </tbody>\n</table>\n<p>332 rows × 9 columns</p>\n</div>"
     },
     "execution_count": 12,
     "metadata": {},
     "output_type": "execute_result"
    }
   ],
   "source": [
    "authors"
   ],
   "metadata": {
    "collapsed": false,
    "ExecuteTime": {
     "end_time": "2023-08-08T09:32:50.922622035Z",
     "start_time": "2023-08-08T09:32:50.913390874Z"
    }
   }
  },
  {
   "cell_type": "code",
   "execution_count": 17,
   "outputs": [],
   "source": [
    "# calculate a final score for the weighted edge between name and abbreviation\n",
    "authors[\"score\"] = authors[\"certainty\"] + authors[\"name_pointing_to_abbreviation_share\"] + authors[\"abbreviation_pointing_to_name_share\"]"
   ],
   "metadata": {
    "collapsed": false,
    "ExecuteTime": {
     "end_time": "2023-08-08T09:51:31.212572366Z",
     "start_time": "2023-08-08T09:51:31.165648112Z"
    }
   }
  },
  {
   "cell_type": "code",
   "execution_count": 18,
   "outputs": [
    {
     "data": {
      "text/plain": "             name abbreviation  certainty  \\\n0  Kai-Uwe Brandt          kub     0.8000   \n1  Kai-Uwe Brandt           ka     0.4222   \n\n   name_pointing_to_abbreviation_count  abbreviation_pointing_to_name_count  \\\n0                                   35                                   35   \n1                                   15                                   15   \n\n   names_pointing_to_abbreviation_sum  name_pointing_to_abbreviation_share  \\\n0                                  35                             1.000000   \n1                                 449                             0.033408   \n\n   abbreviations_pointing_to_name_sum  abbreviation_pointing_to_name_share  \\\n0                                  50                                  0.7   \n1                                  50                                  0.3   \n\n      score  \n0  2.500000  \n1  0.755608  ",
      "text/html": "<div>\n<style scoped>\n    .dataframe tbody tr th:only-of-type {\n        vertical-align: middle;\n    }\n\n    .dataframe tbody tr th {\n        vertical-align: top;\n    }\n\n    .dataframe thead th {\n        text-align: right;\n    }\n</style>\n<table border=\"1\" class=\"dataframe\">\n  <thead>\n    <tr style=\"text-align: right;\">\n      <th></th>\n      <th>name</th>\n      <th>abbreviation</th>\n      <th>certainty</th>\n      <th>name_pointing_to_abbreviation_count</th>\n      <th>abbreviation_pointing_to_name_count</th>\n      <th>names_pointing_to_abbreviation_sum</th>\n      <th>name_pointing_to_abbreviation_share</th>\n      <th>abbreviations_pointing_to_name_sum</th>\n      <th>abbreviation_pointing_to_name_share</th>\n      <th>score</th>\n    </tr>\n  </thead>\n  <tbody>\n    <tr>\n      <th>0</th>\n      <td>Kai-Uwe Brandt</td>\n      <td>kub</td>\n      <td>0.8000</td>\n      <td>35</td>\n      <td>35</td>\n      <td>35</td>\n      <td>1.000000</td>\n      <td>50</td>\n      <td>0.7</td>\n      <td>2.500000</td>\n    </tr>\n    <tr>\n      <th>1</th>\n      <td>Kai-Uwe Brandt</td>\n      <td>ka</td>\n      <td>0.4222</td>\n      <td>15</td>\n      <td>15</td>\n      <td>449</td>\n      <td>0.033408</td>\n      <td>50</td>\n      <td>0.3</td>\n      <td>0.755608</td>\n    </tr>\n  </tbody>\n</table>\n</div>"
     },
     "execution_count": 18,
     "metadata": {},
     "output_type": "execute_result"
    }
   ],
   "source": [
    "authors[authors[\"name\"] == \"Kai-Uwe Brandt\"]"
   ],
   "metadata": {
    "collapsed": false,
    "ExecuteTime": {
     "end_time": "2023-08-08T09:51:33.010789173Z",
     "start_time": "2023-08-08T09:51:33.002213315Z"
    }
   }
  },
  {
   "cell_type": "code",
   "execution_count": 15,
   "outputs": [],
   "source": [
    "# todo 10.07 data viz, hungarian anwenden evtl. das von scipy sonst:\n",
    "# https://docs.scipy.org/doc/scipy/reference/generated/scipy.optimize.linear_sum_assignment.html\n",
    "# https://www.hpl.hp.com/techreports/2012/HPL-2012-40R1.pdf\n",
    "# https://iopscience.iop.org/article/10.1088/1742-6596/1963/1/012104/pdf\n",
    "# https://link.springer.com/article/10.1007/BF02278710\n",
    "# evtl. auch was von networkx (vielleicht mal hier: https://towardsdatascience.com/matching-of-bipartite-graphs-using-networkx-6d355b164567)\n",
    "# https://link.springer.com/content/pdf/10.1007/s10479-010-0757-3.pdf"
   ],
   "metadata": {
    "collapsed": false,
    "ExecuteTime": {
     "end_time": "2023-07-11T14:41:20.847812089Z",
     "start_time": "2023-07-11T14:41:20.778195126Z"
    }
   }
  },
  {
   "cell_type": "code",
   "execution_count": 19,
   "outputs": [],
   "source": [
    "# reduce the problem space to a bipartite graph, assigning all (name, abbreviation) pairs that are not connected to the graph as final/solved\n",
    "# add pairs to final mapping where abbreviation_pointing_to_name_count == 1 or name_pointing_to_abbreviation_count == 1 and remove those from the authors df\n",
    "one_to_one_mappings = authors[(authors[\"abbreviations_pointing_to_name_sum\"] == 1) & (authors[\"names_pointing_to_abbreviation_sum\"] == 1)]\n",
    "final_mapping = pd.concat([final_mapping, one_to_one_mappings[[\"name\", \"abbreviation\"]]], ignore_index=True)\n",
    "\n",
    "authors = authors[(authors[\"abbreviations_pointing_to_name_sum\"] != 1) | (authors[\"names_pointing_to_abbreviation_sum\"] != 1)]"
   ],
   "metadata": {
    "collapsed": false,
    "ExecuteTime": {
     "end_time": "2023-08-08T09:51:42.244372247Z",
     "start_time": "2023-08-08T09:51:42.197071467Z"
    }
   }
  },
  {
   "cell_type": "code",
   "execution_count": 20,
   "outputs": [
    {
     "data": {
      "text/plain": "                     name          abbreviation  certainty  \\\n0          Kai-Uwe Brandt                   kub   0.800000   \n1          Kai-Uwe Brandt                    ka   0.422200   \n2         Nadja Topfstedt                   jap   0.300000   \n3         Andreas Tappert                   art   0.691664   \n4         Andreas Tappert                   ast   0.711140   \n..                    ...                   ...        ...   \n327        Lilly Günthner                    lg   0.900000   \n328        Yvonne Schmidt                    ys   0.800000   \n329  Gislinde Redepenning  Gislinde Redepenning   0.800000   \n330    Tim Niklas Herholz                   tnh   0.800000   \n331           Simon Ecker                   sec   0.570450   \n\n     name_pointing_to_abbreviation_count  abbreviation_pointing_to_name_count  \\\n0                                     35                                   35   \n1                                     15                                   15   \n2                                     21                                   21   \n3                                    137                                  137   \n4                                     43                                   43   \n..                                   ...                                  ...   \n327                                   70                                   70   \n328                                   78                                   78   \n329                                    2                                    2   \n330                                   77                                   77   \n331                                   20                                   20   \n\n     names_pointing_to_abbreviation_sum  name_pointing_to_abbreviation_share  \\\n0                                    35                             1.000000   \n1                                   449                             0.033408   \n2                                    21                             1.000000   \n3                                   137                             1.000000   \n4                                    43                             1.000000   \n..                                  ...                                  ...   \n327                                  70                             1.000000   \n328                                  78                             1.000000   \n329                                   2                             1.000000   \n330                                  77                             1.000000   \n331                                  20                             1.000000   \n\n     abbreviations_pointing_to_name_sum  abbreviation_pointing_to_name_share  \\\n0                                    50                             0.700000   \n1                                    50                             0.300000   \n2                                    21                             1.000000   \n3                                   202                             0.678218   \n4                                   202                             0.212871   \n..                                  ...                                  ...   \n327                                  70                             1.000000   \n328                                  78                             1.000000   \n329                                   2                             1.000000   \n330                                  77                             1.000000   \n331                                  20                             1.000000   \n\n        score  \n0    2.500000  \n1    0.755608  \n2    2.300000  \n3    2.369882  \n4    1.924011  \n..        ...  \n327  2.900000  \n328  2.800000  \n329  2.800000  \n330  2.800000  \n331  2.570450  \n\n[332 rows x 10 columns]",
      "text/html": "<div>\n<style scoped>\n    .dataframe tbody tr th:only-of-type {\n        vertical-align: middle;\n    }\n\n    .dataframe tbody tr th {\n        vertical-align: top;\n    }\n\n    .dataframe thead th {\n        text-align: right;\n    }\n</style>\n<table border=\"1\" class=\"dataframe\">\n  <thead>\n    <tr style=\"text-align: right;\">\n      <th></th>\n      <th>name</th>\n      <th>abbreviation</th>\n      <th>certainty</th>\n      <th>name_pointing_to_abbreviation_count</th>\n      <th>abbreviation_pointing_to_name_count</th>\n      <th>names_pointing_to_abbreviation_sum</th>\n      <th>name_pointing_to_abbreviation_share</th>\n      <th>abbreviations_pointing_to_name_sum</th>\n      <th>abbreviation_pointing_to_name_share</th>\n      <th>score</th>\n    </tr>\n  </thead>\n  <tbody>\n    <tr>\n      <th>0</th>\n      <td>Kai-Uwe Brandt</td>\n      <td>kub</td>\n      <td>0.800000</td>\n      <td>35</td>\n      <td>35</td>\n      <td>35</td>\n      <td>1.000000</td>\n      <td>50</td>\n      <td>0.700000</td>\n      <td>2.500000</td>\n    </tr>\n    <tr>\n      <th>1</th>\n      <td>Kai-Uwe Brandt</td>\n      <td>ka</td>\n      <td>0.422200</td>\n      <td>15</td>\n      <td>15</td>\n      <td>449</td>\n      <td>0.033408</td>\n      <td>50</td>\n      <td>0.300000</td>\n      <td>0.755608</td>\n    </tr>\n    <tr>\n      <th>2</th>\n      <td>Nadja Topfstedt</td>\n      <td>jap</td>\n      <td>0.300000</td>\n      <td>21</td>\n      <td>21</td>\n      <td>21</td>\n      <td>1.000000</td>\n      <td>21</td>\n      <td>1.000000</td>\n      <td>2.300000</td>\n    </tr>\n    <tr>\n      <th>3</th>\n      <td>Andreas Tappert</td>\n      <td>art</td>\n      <td>0.691664</td>\n      <td>137</td>\n      <td>137</td>\n      <td>137</td>\n      <td>1.000000</td>\n      <td>202</td>\n      <td>0.678218</td>\n      <td>2.369882</td>\n    </tr>\n    <tr>\n      <th>4</th>\n      <td>Andreas Tappert</td>\n      <td>ast</td>\n      <td>0.711140</td>\n      <td>43</td>\n      <td>43</td>\n      <td>43</td>\n      <td>1.000000</td>\n      <td>202</td>\n      <td>0.212871</td>\n      <td>1.924011</td>\n    </tr>\n    <tr>\n      <th>...</th>\n      <td>...</td>\n      <td>...</td>\n      <td>...</td>\n      <td>...</td>\n      <td>...</td>\n      <td>...</td>\n      <td>...</td>\n      <td>...</td>\n      <td>...</td>\n      <td>...</td>\n    </tr>\n    <tr>\n      <th>327</th>\n      <td>Lilly Günthner</td>\n      <td>lg</td>\n      <td>0.900000</td>\n      <td>70</td>\n      <td>70</td>\n      <td>70</td>\n      <td>1.000000</td>\n      <td>70</td>\n      <td>1.000000</td>\n      <td>2.900000</td>\n    </tr>\n    <tr>\n      <th>328</th>\n      <td>Yvonne Schmidt</td>\n      <td>ys</td>\n      <td>0.800000</td>\n      <td>78</td>\n      <td>78</td>\n      <td>78</td>\n      <td>1.000000</td>\n      <td>78</td>\n      <td>1.000000</td>\n      <td>2.800000</td>\n    </tr>\n    <tr>\n      <th>329</th>\n      <td>Gislinde Redepenning</td>\n      <td>Gislinde Redepenning</td>\n      <td>0.800000</td>\n      <td>2</td>\n      <td>2</td>\n      <td>2</td>\n      <td>1.000000</td>\n      <td>2</td>\n      <td>1.000000</td>\n      <td>2.800000</td>\n    </tr>\n    <tr>\n      <th>330</th>\n      <td>Tim Niklas Herholz</td>\n      <td>tnh</td>\n      <td>0.800000</td>\n      <td>77</td>\n      <td>77</td>\n      <td>77</td>\n      <td>1.000000</td>\n      <td>77</td>\n      <td>1.000000</td>\n      <td>2.800000</td>\n    </tr>\n    <tr>\n      <th>331</th>\n      <td>Simon Ecker</td>\n      <td>sec</td>\n      <td>0.570450</td>\n      <td>20</td>\n      <td>20</td>\n      <td>20</td>\n      <td>1.000000</td>\n      <td>20</td>\n      <td>1.000000</td>\n      <td>2.570450</td>\n    </tr>\n  </tbody>\n</table>\n<p>332 rows × 10 columns</p>\n</div>"
     },
     "execution_count": 20,
     "metadata": {},
     "output_type": "execute_result"
    }
   ],
   "source": [
    "authors"
   ],
   "metadata": {
    "collapsed": false,
    "ExecuteTime": {
     "end_time": "2023-08-08T09:51:43.793285736Z",
     "start_time": "2023-08-08T09:51:43.790566640Z"
    }
   }
  },
  {
   "cell_type": "code",
   "execution_count": 18,
   "outputs": [],
   "source": [],
   "metadata": {
    "collapsed": false,
    "ExecuteTime": {
     "end_time": "2023-07-11T14:41:24.227912217Z",
     "start_time": "2023-07-11T14:41:24.222849926Z"
    }
   }
  }
 ],
 "metadata": {
  "kernelspec": {
   "name": "lvz_venv",
   "language": "python",
   "display_name": "lvz_venv"
  },
  "language_info": {
   "codemirror_mode": {
    "name": "ipython",
    "version": 2
   },
   "file_extension": ".py",
   "mimetype": "text/x-python",
   "name": "python",
   "nbconvert_exporter": "python",
   "pygments_lexer": "ipython2",
   "version": "2.7.6"
  }
 },
 "nbformat": 4,
 "nbformat_minor": 0
}
