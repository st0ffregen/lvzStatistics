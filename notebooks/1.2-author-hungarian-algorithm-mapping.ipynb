{
 "cells": [
  {
   "cell_type": "code",
   "execution_count": 21,
   "metadata": {
    "collapsed": true,
    "ExecuteTime": {
     "end_time": "2023-08-08T11:01:02.256081205Z",
     "start_time": "2023-08-08T11:01:02.214535776Z"
    }
   },
   "outputs": [],
   "source": [
    "import json\n",
    "import sqlite3\n",
    "import numpy as np\n",
    "import pandas as pd\n",
    "import seaborn as sns\n",
    "import scipy\n",
    "from src.models.MatchingType import MatchingType"
   ]
  },
  {
   "cell_type": "code",
   "execution_count": 22,
   "outputs": [],
   "source": [
    "con = sqlite3.connect('../data/interim/articles_with_author_mapping.db')\n",
    "cur = con.cursor()"
   ],
   "metadata": {
    "collapsed": false,
    "ExecuteTime": {
     "end_time": "2023-08-08T11:01:02.651385555Z",
     "start_time": "2023-08-08T11:01:02.647605504Z"
    }
   }
  },
  {
   "cell_type": "code",
   "execution_count": 23,
   "outputs": [],
   "source": [
    "def get_abbreviations_with_names():\n",
    "    cur.execute(\"select id, name, abbreviation, matching_certainty from unmapped_authors where matching_type = ? or matching_type = ?\", (MatchingType.FUZZY_MATCH.name, MatchingType.DIRECT_MATCH.name))\n",
    "    rows = cur.fetchall()\n",
    "    authors = pd.DataFrame(columns=[\"id\", \"name\", \"abbreviation\", \"certainty\"], data=rows)\n",
    "    authors.set_index(\"id\", inplace=True)\n",
    "    return authors\n",
    "\n",
    "authors = get_abbreviations_with_names()"
   ],
   "metadata": {
    "collapsed": false,
    "ExecuteTime": {
     "end_time": "2023-08-08T11:01:03.096353010Z",
     "start_time": "2023-08-08T11:01:03.040367087Z"
    }
   }
  },
  {
   "cell_type": "code",
   "execution_count": 24,
   "outputs": [],
   "source": [
    "final_mapping = pd.DataFrame(columns=[\"name\", \"abbreviation\"])"
   ],
   "metadata": {
    "collapsed": false,
    "ExecuteTime": {
     "end_time": "2023-08-08T11:01:03.489794156Z",
     "start_time": "2023-08-08T11:01:03.483327901Z"
    }
   }
  },
  {
   "cell_type": "code",
   "execution_count": 25,
   "outputs": [],
   "source": [
    "# set certainty of a row to the average certainty over all rows with same name and abbreviation, ignore nan values\n",
    "mean_certainty = authors.groupby([\"name\", \"abbreviation\"])[\"certainty\"].transform(lambda x: np.nanmean(x))\n",
    "authors[\"certainty\"] = mean_certainty"
   ],
   "metadata": {
    "collapsed": false,
    "ExecuteTime": {
     "end_time": "2023-08-08T11:01:04.083906777Z",
     "start_time": "2023-08-08T11:01:04.049070852Z"
    }
   }
  },
  {
   "cell_type": "code",
   "execution_count": 26,
   "outputs": [],
   "source": [
    "authors[\"name_pointing_to_abbreviation_count\"] = authors.groupby([\"name\", \"abbreviation\"])[\"name\"].transform(\"count\")\n",
    "authors[\"abbreviation_pointing_to_name_count\"] = authors.groupby([\"name\", \"abbreviation\"])[\"abbreviation\"].transform(\"count\")"
   ],
   "metadata": {
    "collapsed": false,
    "ExecuteTime": {
     "end_time": "2023-08-08T11:01:04.423069657Z",
     "start_time": "2023-08-08T11:01:04.405061868Z"
    }
   }
  },
  {
   "cell_type": "code",
   "execution_count": 27,
   "outputs": [],
   "source": [
    "# drop duplicates based on name, abbreviation, certainty. I can drop them because ..._count saved the count\n",
    "authors.drop_duplicates(subset=[\"name\", \"abbreviation\", \"certainty\"], inplace=True)"
   ],
   "metadata": {
    "collapsed": false,
    "ExecuteTime": {
     "end_time": "2023-08-08T11:01:04.840060021Z",
     "start_time": "2023-08-08T11:01:04.830633087Z"
    }
   }
  },
  {
   "cell_type": "code",
   "execution_count": 28,
   "outputs": [],
   "source": [
    "# set the share that the name has of all names that point to that abbreviation\n",
    "authors_with_name_pointing_to_abbreviation_sum =  authors.groupby([\"abbreviation\"]).agg(names_pointing_to_abbreviation_sum=(\"name_pointing_to_abbreviation_count\", \"sum\")).reset_index()\n",
    "authors = pd.merge(authors, authors_with_name_pointing_to_abbreviation_sum, on=\"abbreviation\")\n",
    "authors[\"name_pointing_to_abbreviation_share\"] = authors[\"name_pointing_to_abbreviation_count\"] / authors[\"names_pointing_to_abbreviation_sum\"]"
   ],
   "metadata": {
    "collapsed": false,
    "ExecuteTime": {
     "end_time": "2023-08-08T11:01:05.153532246Z",
     "start_time": "2023-08-08T11:01:05.150278399Z"
    }
   }
  },
  {
   "cell_type": "code",
   "execution_count": 29,
   "outputs": [],
   "source": [
    "# set the share that the abbreviation has of all abbreviations that point to that name\n",
    "authors_with_abbreviation_pointing_to_name_sum = authors.groupby([\"name\"]).agg(abbreviations_pointing_to_name_sum=(\"abbreviation_pointing_to_name_count\", \"sum\")).reset_index()\n",
    "authors = pd.merge(authors, authors_with_abbreviation_pointing_to_name_sum, on=\"name\")\n",
    "authors[\"abbreviation_pointing_to_name_share\"] = authors[\"abbreviation_pointing_to_name_count\"] / authors[\"abbreviations_pointing_to_name_sum\"]"
   ],
   "metadata": {
    "collapsed": false,
    "ExecuteTime": {
     "end_time": "2023-08-08T11:01:05.513244362Z",
     "start_time": "2023-08-08T11:01:05.505454894Z"
    }
   }
  },
  {
   "cell_type": "code",
   "execution_count": 30,
   "outputs": [
    {
     "data": {
      "text/plain": "                     name          abbreviation  certainty  \\\n0          Kai-Uwe Brandt                   kub   0.800000   \n1          Kai-Uwe Brandt                    ka   0.422200   \n2         Nadja Topfstedt                   jap   0.300000   \n3         Andreas Tappert                   art   0.691664   \n4         Andreas Tappert                   ast   0.711140   \n..                    ...                   ...        ...   \n273        Lilly Günthner                    lg   0.900000   \n274        Yvonne Schmidt                    ys   0.800000   \n275  Gislinde Redepenning  gislinde redepenning   0.800000   \n276    Tim Niklas Herholz                   tnh   0.800000   \n277           Simon Ecker                   sec   0.570450   \n\n     name_pointing_to_abbreviation_count  abbreviation_pointing_to_name_count  \\\n0                                     35                                   35   \n1                                     15                                   15   \n2                                     21                                   21   \n3                                    137                                  137   \n4                                     43                                   43   \n..                                   ...                                  ...   \n273                                   70                                   70   \n274                                   78                                   78   \n275                                    2                                    2   \n276                                   77                                   77   \n277                                   20                                   20   \n\n     names_pointing_to_abbreviation_sum  name_pointing_to_abbreviation_share  \\\n0                                    35                             1.000000   \n1                                   452                             0.033186   \n2                                    21                             1.000000   \n3                                   137                             1.000000   \n4                                    43                             1.000000   \n..                                  ...                                  ...   \n273                                  70                             1.000000   \n274                                  78                             1.000000   \n275                                   2                             1.000000   \n276                                  77                             1.000000   \n277                                  20                             1.000000   \n\n     abbreviations_pointing_to_name_sum  abbreviation_pointing_to_name_share  \n0                                    50                             0.700000  \n1                                    50                             0.300000  \n2                                    21                             1.000000  \n3                                   202                             0.678218  \n4                                   202                             0.212871  \n..                                  ...                                  ...  \n273                                  70                             1.000000  \n274                                  78                             1.000000  \n275                                   2                             1.000000  \n276                                  77                             1.000000  \n277                                  20                             1.000000  \n\n[278 rows x 9 columns]",
      "text/html": "<div>\n<style scoped>\n    .dataframe tbody tr th:only-of-type {\n        vertical-align: middle;\n    }\n\n    .dataframe tbody tr th {\n        vertical-align: top;\n    }\n\n    .dataframe thead th {\n        text-align: right;\n    }\n</style>\n<table border=\"1\" class=\"dataframe\">\n  <thead>\n    <tr style=\"text-align: right;\">\n      <th></th>\n      <th>name</th>\n      <th>abbreviation</th>\n      <th>certainty</th>\n      <th>name_pointing_to_abbreviation_count</th>\n      <th>abbreviation_pointing_to_name_count</th>\n      <th>names_pointing_to_abbreviation_sum</th>\n      <th>name_pointing_to_abbreviation_share</th>\n      <th>abbreviations_pointing_to_name_sum</th>\n      <th>abbreviation_pointing_to_name_share</th>\n    </tr>\n  </thead>\n  <tbody>\n    <tr>\n      <th>0</th>\n      <td>Kai-Uwe Brandt</td>\n      <td>kub</td>\n      <td>0.800000</td>\n      <td>35</td>\n      <td>35</td>\n      <td>35</td>\n      <td>1.000000</td>\n      <td>50</td>\n      <td>0.700000</td>\n    </tr>\n    <tr>\n      <th>1</th>\n      <td>Kai-Uwe Brandt</td>\n      <td>ka</td>\n      <td>0.422200</td>\n      <td>15</td>\n      <td>15</td>\n      <td>452</td>\n      <td>0.033186</td>\n      <td>50</td>\n      <td>0.300000</td>\n    </tr>\n    <tr>\n      <th>2</th>\n      <td>Nadja Topfstedt</td>\n      <td>jap</td>\n      <td>0.300000</td>\n      <td>21</td>\n      <td>21</td>\n      <td>21</td>\n      <td>1.000000</td>\n      <td>21</td>\n      <td>1.000000</td>\n    </tr>\n    <tr>\n      <th>3</th>\n      <td>Andreas Tappert</td>\n      <td>art</td>\n      <td>0.691664</td>\n      <td>137</td>\n      <td>137</td>\n      <td>137</td>\n      <td>1.000000</td>\n      <td>202</td>\n      <td>0.678218</td>\n    </tr>\n    <tr>\n      <th>4</th>\n      <td>Andreas Tappert</td>\n      <td>ast</td>\n      <td>0.711140</td>\n      <td>43</td>\n      <td>43</td>\n      <td>43</td>\n      <td>1.000000</td>\n      <td>202</td>\n      <td>0.212871</td>\n    </tr>\n    <tr>\n      <th>...</th>\n      <td>...</td>\n      <td>...</td>\n      <td>...</td>\n      <td>...</td>\n      <td>...</td>\n      <td>...</td>\n      <td>...</td>\n      <td>...</td>\n      <td>...</td>\n    </tr>\n    <tr>\n      <th>273</th>\n      <td>Lilly Günthner</td>\n      <td>lg</td>\n      <td>0.900000</td>\n      <td>70</td>\n      <td>70</td>\n      <td>70</td>\n      <td>1.000000</td>\n      <td>70</td>\n      <td>1.000000</td>\n    </tr>\n    <tr>\n      <th>274</th>\n      <td>Yvonne Schmidt</td>\n      <td>ys</td>\n      <td>0.800000</td>\n      <td>78</td>\n      <td>78</td>\n      <td>78</td>\n      <td>1.000000</td>\n      <td>78</td>\n      <td>1.000000</td>\n    </tr>\n    <tr>\n      <th>275</th>\n      <td>Gislinde Redepenning</td>\n      <td>gislinde redepenning</td>\n      <td>0.800000</td>\n      <td>2</td>\n      <td>2</td>\n      <td>2</td>\n      <td>1.000000</td>\n      <td>2</td>\n      <td>1.000000</td>\n    </tr>\n    <tr>\n      <th>276</th>\n      <td>Tim Niklas Herholz</td>\n      <td>tnh</td>\n      <td>0.800000</td>\n      <td>77</td>\n      <td>77</td>\n      <td>77</td>\n      <td>1.000000</td>\n      <td>77</td>\n      <td>1.000000</td>\n    </tr>\n    <tr>\n      <th>277</th>\n      <td>Simon Ecker</td>\n      <td>sec</td>\n      <td>0.570450</td>\n      <td>20</td>\n      <td>20</td>\n      <td>20</td>\n      <td>1.000000</td>\n      <td>20</td>\n      <td>1.000000</td>\n    </tr>\n  </tbody>\n</table>\n<p>278 rows × 9 columns</p>\n</div>"
     },
     "execution_count": 30,
     "metadata": {},
     "output_type": "execute_result"
    }
   ],
   "source": [
    "authors"
   ],
   "metadata": {
    "collapsed": false,
    "ExecuteTime": {
     "end_time": "2023-08-08T11:01:05.894046356Z",
     "start_time": "2023-08-08T11:01:05.890135506Z"
    }
   }
  },
  {
   "cell_type": "code",
   "execution_count": 31,
   "outputs": [],
   "source": [
    "# calculate a final score for the weighted edge between name and abbreviation\n",
    "authors[\"score\"] = authors[\"certainty\"] + authors[\"name_pointing_to_abbreviation_share\"] + authors[\"abbreviation_pointing_to_name_share\"]"
   ],
   "metadata": {
    "collapsed": false,
    "ExecuteTime": {
     "end_time": "2023-08-08T11:01:06.476162796Z",
     "start_time": "2023-08-08T11:01:06.474093278Z"
    }
   }
  },
  {
   "cell_type": "code",
   "execution_count": 32,
   "outputs": [
    {
     "data": {
      "text/plain": "             name abbreviation  certainty  \\\n0  Kai-Uwe Brandt          kub     0.8000   \n1  Kai-Uwe Brandt           ka     0.4222   \n\n   name_pointing_to_abbreviation_count  abbreviation_pointing_to_name_count  \\\n0                                   35                                   35   \n1                                   15                                   15   \n\n   names_pointing_to_abbreviation_sum  name_pointing_to_abbreviation_share  \\\n0                                  35                             1.000000   \n1                                 452                             0.033186   \n\n   abbreviations_pointing_to_name_sum  abbreviation_pointing_to_name_share  \\\n0                                  50                                  0.7   \n1                                  50                                  0.3   \n\n      score  \n0  2.500000  \n1  0.755386  ",
      "text/html": "<div>\n<style scoped>\n    .dataframe tbody tr th:only-of-type {\n        vertical-align: middle;\n    }\n\n    .dataframe tbody tr th {\n        vertical-align: top;\n    }\n\n    .dataframe thead th {\n        text-align: right;\n    }\n</style>\n<table border=\"1\" class=\"dataframe\">\n  <thead>\n    <tr style=\"text-align: right;\">\n      <th></th>\n      <th>name</th>\n      <th>abbreviation</th>\n      <th>certainty</th>\n      <th>name_pointing_to_abbreviation_count</th>\n      <th>abbreviation_pointing_to_name_count</th>\n      <th>names_pointing_to_abbreviation_sum</th>\n      <th>name_pointing_to_abbreviation_share</th>\n      <th>abbreviations_pointing_to_name_sum</th>\n      <th>abbreviation_pointing_to_name_share</th>\n      <th>score</th>\n    </tr>\n  </thead>\n  <tbody>\n    <tr>\n      <th>0</th>\n      <td>Kai-Uwe Brandt</td>\n      <td>kub</td>\n      <td>0.8000</td>\n      <td>35</td>\n      <td>35</td>\n      <td>35</td>\n      <td>1.000000</td>\n      <td>50</td>\n      <td>0.7</td>\n      <td>2.500000</td>\n    </tr>\n    <tr>\n      <th>1</th>\n      <td>Kai-Uwe Brandt</td>\n      <td>ka</td>\n      <td>0.4222</td>\n      <td>15</td>\n      <td>15</td>\n      <td>452</td>\n      <td>0.033186</td>\n      <td>50</td>\n      <td>0.3</td>\n      <td>0.755386</td>\n    </tr>\n  </tbody>\n</table>\n</div>"
     },
     "execution_count": 32,
     "metadata": {},
     "output_type": "execute_result"
    }
   ],
   "source": [
    "authors[authors[\"name\"] == \"Kai-Uwe Brandt\"]"
   ],
   "metadata": {
    "collapsed": false,
    "ExecuteTime": {
     "end_time": "2023-08-08T11:01:07.028209848Z",
     "start_time": "2023-08-08T11:01:07.021833877Z"
    }
   }
  },
  {
   "cell_type": "code",
   "execution_count": 33,
   "outputs": [],
   "source": [
    "# todo 10.07 data viz, hungarian anwenden evtl. das von scipy sonst:\n",
    "# https://docs.scipy.org/doc/scipy/reference/generated/scipy.optimize.linear_sum_assignment.html\n",
    "# https://www.hpl.hp.com/techreports/2012/HPL-2012-40R1.pdf\n",
    "# https://iopscience.iop.org/article/10.1088/1742-6596/1963/1/012104/pdf\n",
    "# https://link.springer.com/article/10.1007/BF02278710\n",
    "# evtl. auch was von networkx (vielleicht mal hier: https://towardsdatascience.com/matching-of-bipartite-graphs-using-networkx-6d355b164567)\n",
    "# https://link.springer.com/content/pdf/10.1007/s10479-010-0757-3.pdf"
   ],
   "metadata": {
    "collapsed": false,
    "ExecuteTime": {
     "end_time": "2023-08-08T11:01:08.176012106Z",
     "start_time": "2023-08-08T11:01:08.134263414Z"
    }
   }
  },
  {
   "cell_type": "code",
   "execution_count": 34,
   "outputs": [],
   "source": [
    "# reduce the problem space to a bipartite graph, assigning all (name, abbreviation) pairs that are not connected to the graph as final/solved\n",
    "# add pairs to final mapping where abbreviation_pointing_to_name_count == 1 or name_pointing_to_abbreviation_count == 1 and remove those from the authors df\n",
    "one_to_one_mappings = authors[(authors[\"abbreviations_pointing_to_name_sum\"] == 1) & (authors[\"names_pointing_to_abbreviation_sum\"] == 1)]\n",
    "final_mapping = pd.concat([final_mapping, one_to_one_mappings[[\"name\", \"abbreviation\"]]], ignore_index=True)\n",
    "\n",
    "authors = authors[(authors[\"abbreviations_pointing_to_name_sum\"] != 1) | (authors[\"names_pointing_to_abbreviation_sum\"] != 1)]"
   ],
   "metadata": {
    "collapsed": false,
    "ExecuteTime": {
     "end_time": "2023-08-08T11:01:08.739150260Z",
     "start_time": "2023-08-08T11:01:08.733947931Z"
    }
   }
  },
  {
   "cell_type": "code",
   "execution_count": 35,
   "outputs": [
    {
     "data": {
      "text/plain": "                     name          abbreviation  certainty  \\\n0          Kai-Uwe Brandt                   kub   0.800000   \n1          Kai-Uwe Brandt                    ka   0.422200   \n2         Nadja Topfstedt                   jap   0.300000   \n3         Andreas Tappert                   art   0.691664   \n4         Andreas Tappert                   ast   0.711140   \n..                    ...                   ...        ...   \n273        Lilly Günthner                    lg   0.900000   \n274        Yvonne Schmidt                    ys   0.800000   \n275  Gislinde Redepenning  gislinde redepenning   0.800000   \n276    Tim Niklas Herholz                   tnh   0.800000   \n277           Simon Ecker                   sec   0.570450   \n\n     name_pointing_to_abbreviation_count  abbreviation_pointing_to_name_count  \\\n0                                     35                                   35   \n1                                     15                                   15   \n2                                     21                                   21   \n3                                    137                                  137   \n4                                     43                                   43   \n..                                   ...                                  ...   \n273                                   70                                   70   \n274                                   78                                   78   \n275                                    2                                    2   \n276                                   77                                   77   \n277                                   20                                   20   \n\n     names_pointing_to_abbreviation_sum  name_pointing_to_abbreviation_share  \\\n0                                    35                             1.000000   \n1                                   452                             0.033186   \n2                                    21                             1.000000   \n3                                   137                             1.000000   \n4                                    43                             1.000000   \n..                                  ...                                  ...   \n273                                  70                             1.000000   \n274                                  78                             1.000000   \n275                                   2                             1.000000   \n276                                  77                             1.000000   \n277                                  20                             1.000000   \n\n     abbreviations_pointing_to_name_sum  abbreviation_pointing_to_name_share  \\\n0                                    50                             0.700000   \n1                                    50                             0.300000   \n2                                    21                             1.000000   \n3                                   202                             0.678218   \n4                                   202                             0.212871   \n..                                  ...                                  ...   \n273                                  70                             1.000000   \n274                                  78                             1.000000   \n275                                   2                             1.000000   \n276                                  77                             1.000000   \n277                                  20                             1.000000   \n\n        score  \n0    2.500000  \n1    0.755386  \n2    2.300000  \n3    2.369882  \n4    1.924011  \n..        ...  \n273  2.900000  \n274  2.800000  \n275  2.800000  \n276  2.800000  \n277  2.570450  \n\n[278 rows x 10 columns]",
      "text/html": "<div>\n<style scoped>\n    .dataframe tbody tr th:only-of-type {\n        vertical-align: middle;\n    }\n\n    .dataframe tbody tr th {\n        vertical-align: top;\n    }\n\n    .dataframe thead th {\n        text-align: right;\n    }\n</style>\n<table border=\"1\" class=\"dataframe\">\n  <thead>\n    <tr style=\"text-align: right;\">\n      <th></th>\n      <th>name</th>\n      <th>abbreviation</th>\n      <th>certainty</th>\n      <th>name_pointing_to_abbreviation_count</th>\n      <th>abbreviation_pointing_to_name_count</th>\n      <th>names_pointing_to_abbreviation_sum</th>\n      <th>name_pointing_to_abbreviation_share</th>\n      <th>abbreviations_pointing_to_name_sum</th>\n      <th>abbreviation_pointing_to_name_share</th>\n      <th>score</th>\n    </tr>\n  </thead>\n  <tbody>\n    <tr>\n      <th>0</th>\n      <td>Kai-Uwe Brandt</td>\n      <td>kub</td>\n      <td>0.800000</td>\n      <td>35</td>\n      <td>35</td>\n      <td>35</td>\n      <td>1.000000</td>\n      <td>50</td>\n      <td>0.700000</td>\n      <td>2.500000</td>\n    </tr>\n    <tr>\n      <th>1</th>\n      <td>Kai-Uwe Brandt</td>\n      <td>ka</td>\n      <td>0.422200</td>\n      <td>15</td>\n      <td>15</td>\n      <td>452</td>\n      <td>0.033186</td>\n      <td>50</td>\n      <td>0.300000</td>\n      <td>0.755386</td>\n    </tr>\n    <tr>\n      <th>2</th>\n      <td>Nadja Topfstedt</td>\n      <td>jap</td>\n      <td>0.300000</td>\n      <td>21</td>\n      <td>21</td>\n      <td>21</td>\n      <td>1.000000</td>\n      <td>21</td>\n      <td>1.000000</td>\n      <td>2.300000</td>\n    </tr>\n    <tr>\n      <th>3</th>\n      <td>Andreas Tappert</td>\n      <td>art</td>\n      <td>0.691664</td>\n      <td>137</td>\n      <td>137</td>\n      <td>137</td>\n      <td>1.000000</td>\n      <td>202</td>\n      <td>0.678218</td>\n      <td>2.369882</td>\n    </tr>\n    <tr>\n      <th>4</th>\n      <td>Andreas Tappert</td>\n      <td>ast</td>\n      <td>0.711140</td>\n      <td>43</td>\n      <td>43</td>\n      <td>43</td>\n      <td>1.000000</td>\n      <td>202</td>\n      <td>0.212871</td>\n      <td>1.924011</td>\n    </tr>\n    <tr>\n      <th>...</th>\n      <td>...</td>\n      <td>...</td>\n      <td>...</td>\n      <td>...</td>\n      <td>...</td>\n      <td>...</td>\n      <td>...</td>\n      <td>...</td>\n      <td>...</td>\n      <td>...</td>\n    </tr>\n    <tr>\n      <th>273</th>\n      <td>Lilly Günthner</td>\n      <td>lg</td>\n      <td>0.900000</td>\n      <td>70</td>\n      <td>70</td>\n      <td>70</td>\n      <td>1.000000</td>\n      <td>70</td>\n      <td>1.000000</td>\n      <td>2.900000</td>\n    </tr>\n    <tr>\n      <th>274</th>\n      <td>Yvonne Schmidt</td>\n      <td>ys</td>\n      <td>0.800000</td>\n      <td>78</td>\n      <td>78</td>\n      <td>78</td>\n      <td>1.000000</td>\n      <td>78</td>\n      <td>1.000000</td>\n      <td>2.800000</td>\n    </tr>\n    <tr>\n      <th>275</th>\n      <td>Gislinde Redepenning</td>\n      <td>gislinde redepenning</td>\n      <td>0.800000</td>\n      <td>2</td>\n      <td>2</td>\n      <td>2</td>\n      <td>1.000000</td>\n      <td>2</td>\n      <td>1.000000</td>\n      <td>2.800000</td>\n    </tr>\n    <tr>\n      <th>276</th>\n      <td>Tim Niklas Herholz</td>\n      <td>tnh</td>\n      <td>0.800000</td>\n      <td>77</td>\n      <td>77</td>\n      <td>77</td>\n      <td>1.000000</td>\n      <td>77</td>\n      <td>1.000000</td>\n      <td>2.800000</td>\n    </tr>\n    <tr>\n      <th>277</th>\n      <td>Simon Ecker</td>\n      <td>sec</td>\n      <td>0.570450</td>\n      <td>20</td>\n      <td>20</td>\n      <td>20</td>\n      <td>1.000000</td>\n      <td>20</td>\n      <td>1.000000</td>\n      <td>2.570450</td>\n    </tr>\n  </tbody>\n</table>\n<p>278 rows × 10 columns</p>\n</div>"
     },
     "execution_count": 35,
     "metadata": {},
     "output_type": "execute_result"
    }
   ],
   "source": [
    "authors"
   ],
   "metadata": {
    "collapsed": false,
    "ExecuteTime": {
     "end_time": "2023-08-08T11:01:09.894814943Z",
     "start_time": "2023-08-08T11:01:09.891173482Z"
    }
   }
  },
  {
   "cell_type": "code",
   "execution_count": 18,
   "outputs": [],
   "source": [],
   "metadata": {
    "collapsed": false,
    "ExecuteTime": {
     "end_time": "2023-07-11T14:41:24.227912217Z",
     "start_time": "2023-07-11T14:41:24.222849926Z"
    }
   }
  }
 ],
 "metadata": {
  "kernelspec": {
   "name": "lvz_venv",
   "language": "python",
   "display_name": "lvz_venv"
  },
  "language_info": {
   "codemirror_mode": {
    "name": "ipython",
    "version": 2
   },
   "file_extension": ".py",
   "mimetype": "text/x-python",
   "name": "python",
   "nbconvert_exporter": "python",
   "pygments_lexer": "ipython2",
   "version": "2.7.6"
  }
 },
 "nbformat": 4,
 "nbformat_minor": 0
}
