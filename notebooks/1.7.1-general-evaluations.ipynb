{
 "cells": [
  {
   "cell_type": "code",
   "execution_count": 2,
   "id": "initial_id",
   "metadata": {
    "collapsed": true,
    "ExecuteTime": {
     "end_time": "2024-01-25T20:08:33.495013302Z",
     "start_time": "2024-01-25T20:08:33.488331609Z"
    }
   },
   "outputs": [],
   "source": [
    "import sqlite3\n",
    "from src.models.MatchingType import MatchingType"
   ]
  },
  {
   "cell_type": "code",
   "outputs": [],
   "source": [
    "con = sqlite3.connect('../data/interim/articles_with_author_mapping.db')\n",
    "cur = con.cursor()"
   ],
   "metadata": {
    "collapsed": false,
    "ExecuteTime": {
     "end_time": "2024-01-25T20:08:34.219923965Z",
     "start_time": "2024-01-25T20:08:34.216697331Z"
    }
   },
   "id": "2eb8d283ba879c42",
   "execution_count": 3
  },
  {
   "cell_type": "code",
   "outputs": [
    {
     "name": "stdout",
     "output_type": "stream",
     "text": [
      "Percentage of full names: 0.7888187534632712\n",
      "Percentage of abbreviations: 0.21118124653672873\n"
     ]
    }
   ],
   "source": [
    "# find out percentage of abbreviations/full_names of written articles\n",
    "\n",
    "n_full_names = cur.execute('select count(ar.id) from articles ar join article_authors aa on ar.id = aa.article_id join unmapped_authors ua on aa.author_id = ua.id where ar.organization = \"lvz\" and ua.matching_type = ?', (MatchingType.IS_FULL_NAME.name, )).fetchone()[0]\n",
    "\n",
    "n_abbreviations = cur.execute('select count(ar.id) from articles ar join article_authors aa on ar.id = aa.article_id join unmapped_authors ua on aa.author_id = ua.id where ar.organization = \"lvz\" and ua.matching_type != ? and ua.matching_type != ?', (MatchingType.IS_FULL_NAME.name, MatchingType.ORGANIZATION_MATCH.name)).fetchone()[0]\n",
    "\n",
    "print(f'Percentage of full names: {n_full_names / (n_full_names + n_abbreviations)}')\n",
    "print(f'Percentage of abbreviations: {n_abbreviations / (n_full_names + n_abbreviations)}')"
   ],
   "metadata": {
    "collapsed": false,
    "ExecuteTime": {
     "end_time": "2024-01-25T20:09:00.627529142Z",
     "start_time": "2024-01-25T20:08:34.951925821Z"
    }
   },
   "id": "2d2feb8cafc5547b",
   "execution_count": 4
  },
  {
   "cell_type": "code",
   "outputs": [
    {
     "data": {
      "text/plain": "<Figure size 640x480 with 1 Axes>",
      "image/png": "[encoded data removed]"
     },
     "metadata": {},
     "output_type": "display_data"
    }
   ],
   "source": [
    "import numpy as np\n",
    "import matplotlib.pyplot as plt\n",
    "from matplotlib.patches import Rectangle\n",
    "from matplotlib.animation import FuncAnimation\n",
    "\n",
    "# Generate some random data for demonstration\n",
    "data = np.random.rand(10, 20)\n",
    "\n",
    "# Set up the initial bar plot\n",
    "fig, ax = plt.subplots()\n",
    "bars = ax.bar(range(len(data[0])), data[0])\n",
    "\n",
    "# Set up the rectangle parameters\n",
    "rect_width = 3.0  # Width of the moving rectangle\n",
    "rect_height = ax.get_ylim()[1]  # Height of the moving rectangle (same as the plot)\n",
    "\n",
    "# Create the initial rectangle\n",
    "rect = Rectangle((0, 0), rect_width, rect_height, alpha=0.3, color='red')\n",
    "ax.add_patch(rect)\n",
    "\n",
    "# Function to update the plot for each animation frame\n",
    "def update(frame):\n",
    "    # Update the position of the rectangle\n",
    "    rect.set_x(frame)\n",
    "\n",
    "    return (rect,)  # Return a tuple containing only the rectangle\n",
    "\n",
    "# Set the number of frames (equal to the number of rows in your data)\n",
    "num_frames = len(data)\n",
    "\n",
    "# Create the animation\n",
    "animation = FuncAnimation(fig, update, frames=num_frames, interval=200, blit=True)\n",
    "\n",
    "# Save the animation as a GIF\n",
    "animation.save('animated_rectangle.gif', writer='imagemagick')\n",
    "\n",
    "plt.show()\n"
   ],
   "metadata": {
    "collapsed": false,
    "ExecuteTime": {
     "end_time": "2024-01-25T21:05:15.221982666Z",
     "start_time": "2024-01-25T21:05:13.906069209Z"
    }
   },
   "id": "b850f6787c1dfa0",
   "execution_count": 12
  },
  {
   "cell_type": "code",
   "outputs": [],
   "source": [],
   "metadata": {
    "collapsed": false
   },
   "id": "b4b14a138c0ddafb"
  }
 ],
 "metadata": {
  "kernelspec": {
   "display_name": "Python 3",
   "language": "python",
   "name": "python3"
  },
  "language_info": {
   "codemirror_mode": {
    "name": "ipython",
    "version": 2
   },
   "file_extension": ".py",
   "mimetype": "text/x-python",
   "name": "python",
   "nbconvert_exporter": "python",
   "pygments_lexer": "ipython2",
   "version": "2.7.6"
  }
 },
 "nbformat": 4,
 "nbformat_minor": 5
}
