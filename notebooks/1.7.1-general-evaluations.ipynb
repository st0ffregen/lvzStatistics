{
 "cells": [
  {
   "cell_type": "code",
   "execution_count": 1,
   "id": "initial_id",
   "metadata": {
    "collapsed": true,
    "ExecuteTime": {
     "end_time": "2024-01-27T13:09:23.754243466Z",
     "start_time": "2024-01-27T13:09:23.753373389Z"
    }
   },
   "outputs": [],
   "source": [
    "import sqlite3\n",
    "\n",
    "import pandas as pd\n",
    "\n",
    "from src.models.MatchingType import MatchingType"
   ]
  },
  {
   "cell_type": "code",
   "outputs": [],
   "source": [
    "con = sqlite3.connect('../data/interim/articles_with_author_mapping.db')\n",
    "cur = con.cursor()"
   ],
   "metadata": {
    "collapsed": false,
    "ExecuteTime": {
     "end_time": "2024-01-27T13:09:25.089618977Z",
     "start_time": "2024-01-27T13:09:25.085670843Z"
    }
   },
   "id": "2eb8d283ba879c42",
   "execution_count": 2
  },
  {
   "cell_type": "code",
   "outputs": [
    {
     "name": "stdout",
     "output_type": "stream",
     "text": [
      "Percentage of full names: 0.7888187534632712\n",
      "Percentage of abbreviations: 0.21118124653672873\n"
     ]
    }
   ],
   "source": [
    "# find out percentage of abbreviations/full_names of written articles\n",
    "\n",
    "n_full_names = cur.execute('select count(ar.id) from articles ar join article_authors aa on ar.id = aa.article_id join unmapped_authors ua on aa.author_id = ua.id where ar.organization = \"lvz\" and ua.matching_type = ?', (MatchingType.IS_FULL_NAME.name, )).fetchone()[0]\n",
    "\n",
    "n_abbreviations = cur.execute('select count(ar.id) from articles ar join article_authors aa on ar.id = aa.article_id join unmapped_authors ua on aa.author_id = ua.id where ar.organization = \"lvz\" and ua.matching_type != ? and ua.matching_type != ?', (MatchingType.IS_FULL_NAME.name, MatchingType.ORGANIZATION_MATCH.name)).fetchone()[0]\n",
    "\n",
    "print(f'Percentage of full names: {n_full_names / (n_full_names + n_abbreviations)}')\n",
    "print(f'Percentage of abbreviations: {n_abbreviations / (n_full_names + n_abbreviations)}')"
   ],
   "metadata": {
    "collapsed": false,
    "ExecuteTime": {
     "end_time": "2024-01-26T12:58:07.234980167Z",
     "start_time": "2024-01-26T12:57:42.059639369Z"
    }
   },
   "id": "2d2feb8cafc5547b",
   "execution_count": 3
  }
 ],
 "metadata": {
  "kernelspec": {
   "name": "lvz_venv",
   "language": "python",
   "display_name": "lvz_venv"
  },
  "language_info": {
   "codemirror_mode": {
    "name": "ipython",
    "version": 2
   },
   "file_extension": ".py",
   "mimetype": "text/x-python",
   "name": "python",
   "nbconvert_exporter": "python",
   "pygments_lexer": "ipython2",
   "version": "2.7.6"
  }
 },
 "nbformat": 4,
 "nbformat_minor": 5
}
