{
 "cells": [
  {
   "cell_type": "code",
   "execution_count": 2,
   "id": "initial_id",
   "metadata": {
    "collapsed": true,
    "ExecuteTime": {
     "end_time": "2024-01-27T18:14:40.651646758Z",
     "start_time": "2024-01-27T18:14:40.644095929Z"
    }
   },
   "outputs": [],
   "source": [
    "import sqlite3\n",
    "\n",
    "import pandas as pd\n",
    "\n",
    "from src.models.MatchingType import MatchingType"
   ]
  },
  {
   "cell_type": "code",
   "outputs": [],
   "source": [
    "con = sqlite3.connect('../data/interim/articles_with_author_mapping.db')\n",
    "cur = con.cursor()"
   ],
   "metadata": {
    "collapsed": false,
    "ExecuteTime": {
     "end_time": "2024-01-27T18:14:41.038073918Z",
     "start_time": "2024-01-27T18:14:41.034166443Z"
    }
   },
   "id": "2eb8d283ba879c42",
   "execution_count": 3
  },
  {
   "cell_type": "code",
   "outputs": [
    {
     "name": "stdout",
     "output_type": "stream",
     "text": [
      "Percentage of full names: 0.7888187534632712\n",
      "Percentage of abbreviations: 0.21118124653672873\n"
     ]
    }
   ],
   "source": [
    "# find out percentage of abbreviations/full_names of written articles\n",
    "\n",
    "n_full_names = cur.execute('select count(ar.id) from articles ar join article_authors aa on ar.id = aa.article_id join unmapped_authors ua on aa.author_id = ua.id where ar.organization = \"lvz\" and ua.matching_type = ?', (MatchingType.IS_FULL_NAME.name, )).fetchone()[0]\n",
    "\n",
    "n_abbreviations = cur.execute('select count(ar.id) from articles ar join article_authors aa on ar.id = aa.article_id join unmapped_authors ua on aa.author_id = ua.id where ar.organization = \"lvz\" and ua.matching_type != ? and ua.matching_type != ?', (MatchingType.IS_FULL_NAME.name, MatchingType.ORGANIZATION_MATCH.name)).fetchone()[0]\n",
    "\n",
    "print(f'Percentage of full names: {n_full_names / (n_full_names + n_abbreviations)}')\n",
    "print(f'Percentage of abbreviations: {n_abbreviations / (n_full_names + n_abbreviations)}')"
   ],
   "metadata": {
    "collapsed": false,
    "ExecuteTime": {
     "end_time": "2024-01-26T12:58:07.234980167Z",
     "start_time": "2024-01-26T12:57:42.059639369Z"
    }
   },
   "id": "2d2feb8cafc5547b",
   "execution_count": 3
  },
  {
   "cell_type": "markdown",
   "source": [
    "### The following checks how many articles the unmatched abbreviation have on average"
   ],
   "metadata": {
    "collapsed": false
   },
   "id": "4f2781081e89945c"
  },
  {
   "cell_type": "code",
   "outputs": [
    {
     "name": "stdout",
     "output_type": "stream",
     "text": [
      "Number of distinct abbreviations: 174\n"
     ]
    }
   ],
   "source": [
    "# get total number of distinct abbreviations\n",
    "n_distinct_abbreviations = cur.execute('select count(distinct ua.abbreviation) from articles ar join article_authors aa on ar.id = aa.article_id join unmapped_authors ua on aa.author_id = ua.id where ar.organization = \"lvz\" and ua.matching_type != ? and ua.matching_type != ?', (MatchingType.IS_FULL_NAME.name, MatchingType.ORGANIZATION_MATCH.name)).fetchone()[0]\n",
    "print(f'Number of distinct abbreviations: {n_distinct_abbreviations}')"
   ],
   "metadata": {
    "collapsed": false,
    "ExecuteTime": {
     "end_time": "2024-01-27T18:06:00.597943520Z",
     "start_time": "2024-01-27T18:05:58.345267356Z"
    }
   },
   "id": "f182fe0c23c57cd5",
   "execution_count": 4
  },
  {
   "cell_type": "code",
   "outputs": [],
   "source": [
    "# get distinct abbreviations\n",
    "distinct_abbreviations = [abbr[0] for abbr in cur.execute('select ua.abbreviation from articles ar join article_authors aa on ar.id = aa.article_id join unmapped_authors ua on aa.author_id = ua.id where ar.organization = \"lvz\" and ua.matching_type != ? and ua.matching_type != ?', (MatchingType.IS_FULL_NAME.name, MatchingType.ORGANIZATION_MATCH.name)).fetchall()]"
   ],
   "metadata": {
    "collapsed": false,
    "ExecuteTime": {
     "end_time": "2024-01-27T18:15:12.969744103Z",
     "start_time": "2024-01-27T18:15:12.827196310Z"
    }
   },
   "id": "c9d0227b9b21413c",
   "execution_count": 8
  },
  {
   "cell_type": "code",
   "outputs": [
    {
     "data": {
      "text/plain": "['es',\n 'es',\n 'sec',\n 'hgw',\n 'pm',\n 'lmg',\n 'ka',\n 'hgw',\n 'es',\n 'an',\n 'epd',\n 'nn',\n 'an',\n 'lis',\n 'mo',\n 'hgw',\n 'lg',\n 'an',\n 'mo',\n 'lg',\n 'ys',\n 'es',\n 'sec',\n 'es',\n 'kfm',\n 'an',\n 'sp',\n 'sec',\n 'epd',\n 'an',\n 'mhs',\n 'jaf',\n 'es',\n 'cn',\n 'sec',\n 'an',\n 'es',\n 'ka',\n 'ka',\n 'if',\n 'she',\n 'okz',\n 'jhz',\n 'es',\n 'bm',\n 'ys',\n 'es',\n 'es',\n 'kol',\n 'lis',\n 'an',\n 'jaf',\n 'anzi',\n 'es',\n 'kol',\n 'bw',\n 'jto',\n 'es',\n 'jaf',\n 'ka',\n 'kol',\n 'jhz',\n 'sp',\n 'an',\n 'red',\n 'jaf',\n 'mro',\n 'lg',\n 'sp',\n 'anzi',\n 'es',\n 'she',\n 'es',\n 'ka',\n 'es',\n 'es',\n 'es',\n 'sec',\n 'lis',\n 'she',\n 'jaf',\n 'nöß',\n 'kol',\n 'nöß',\n 'mot',\n 'mot',\n 'an',\n 'es',\n 'mwö',\n 'sg',\n 'sg',\n 'jto',\n 'es',\n 'an',\n 'thl',\n 'bm',\n 'thl',\n 'flo',\n 'sp',\n 'sec',\n 'es',\n 'an',\n 'obü',\n 'es',\n 'mhs',\n 'lis',\n 'cj',\n 'tv',\n 'sp',\n 'es',\n 'jaf',\n 'jkl',\n 'sp',\n 'es',\n 'flo',\n 'mpu',\n 'obü',\n 'es',\n 'tnh',\n 'lg',\n 'es',\n 'bm',\n 'tnh',\n 'an',\n 'sec',\n 'es',\n 'ka',\n 'hgw',\n 'flo',\n 'nn',\n 'okz',\n 'she',\n 'obü',\n 'obü',\n 'an',\n 'sp',\n 'epd',\n 'es',\n 'lis',\n 'mo',\n 'jhz',\n 'at',\n 'nöß',\n 'jhz',\n 'mo',\n 'sp',\n 'obü',\n 'fd',\n 'sec',\n 'an',\n 'mhs',\n 'ka',\n 'lis',\n 'cj',\n 'es',\n 'lg',\n 'obü',\n 'es',\n 'hs',\n 'bro',\n 'mo',\n 'jhz',\n 'an',\n 'an',\n 'an',\n 'kub',\n 'sro',\n 'jaf',\n 'sro',\n 'jhz',\n 'jhz',\n 'okz',\n 'nn',\n 'jhz',\n 'nn',\n 'ka',\n 'es',\n 'es',\n 'bm',\n 'she',\n 'mro',\n 'abö',\n 'mro',\n 'flo',\n 'es',\n 'mo',\n 'mo',\n 'es',\n 'es',\n 'mhs',\n 'ka',\n 'lis',\n 'obü',\n 'thl',\n 'fd',\n 'sro',\n 'pm',\n 'lmg',\n 'obü',\n 'ski',\n 'if',\n 'ka',\n 'mhs',\n 'fd',\n 'es',\n 'an',\n 'es',\n 'okz',\n 'jhz',\n 'tv',\n 'jto',\n 'mwö',\n 'pm',\n 'lmg',\n 'mro',\n 'okz',\n 'es',\n 'okz',\n 'okz',\n 'cn',\n 'es',\n 'sp',\n 'obü',\n 'ka',\n 'okz',\n 'an',\n 'es',\n 'flo',\n 'mro',\n 'sp',\n 'lg',\n 'ks',\n 'es',\n 'an',\n 'nn',\n 'cn',\n 'she',\n 'mwö',\n 'cn',\n 'flo',\n 'vag',\n 'okz',\n 'flo',\n 'mhs',\n 'es',\n 'okz',\n 'mhs',\n 'ka',\n 'mro',\n 'at',\n 'kfm',\n 'cj',\n 'an',\n 'pm',\n 'lmg',\n 'ka',\n 'okz',\n 'okz',\n 'es',\n 'mhs',\n 'mro',\n 'es',\n 'abö',\n 'ski',\n 'sg',\n 'pm',\n 'lmg',\n 'mhs',\n 'mhs',\n 'sg',\n 'sg',\n 'es',\n 'es',\n 'es',\n 'cn',\n 'obü',\n 'nöß',\n 'nöß',\n 'nöß',\n 'nöß',\n 'ka',\n 'es',\n 'cn',\n 'mhs',\n 'an',\n 'es',\n 'es',\n 'es',\n 'an',\n 'nn',\n 'sp',\n 'thl',\n 'pm',\n 'lmg',\n 'sg',\n 'nöß',\n 'anzi',\n 'dom',\n 'pm',\n 'lmg',\n 'nöß',\n 'obü',\n 'es',\n 'jto',\n 'sp',\n 'fd',\n 'pm',\n 'lmg',\n 'okz',\n 'pm',\n 'lmg',\n 'flo',\n 'ka',\n 'nöß',\n 'bfi',\n 'lmg',\n 'lmg',\n 'at',\n 'mot',\n 'es',\n 'es',\n 'pm',\n 'lmg',\n 'es',\n 'kol',\n 'sp',\n 'bfi',\n 'obü',\n 'kol',\n 'mhs',\n 'sp',\n 'mro',\n 'mro',\n 'mro',\n 'mro',\n 'an',\n 'obü',\n 'bfi',\n 'haeg',\n 'bfi',\n 'obü',\n 'sro',\n 'mot',\n 'nöß',\n 'an',\n 'bfi',\n 'vag',\n 'obü',\n 'jto',\n 'fd',\n 'es',\n 'nn',\n 'obü',\n 'dom',\n 'sro',\n 'lg',\n 'cc',\n 'nn',\n 'flo',\n 'flo',\n 'mro',\n 'pm',\n 'lmg',\n 'es',\n 'cc',\n 'mhs',\n 'anzi',\n 'bro',\n 'anzi',\n 'flo',\n 'es',\n 'sp',\n 'kub',\n 'okz',\n 'kub',\n 'nöß',\n 'cc',\n 'lis',\n 'es',\n 'okz',\n 'es',\n 'mot',\n 'okz',\n 'bro',\n 'sec',\n 'mot',\n 'es',\n 'es',\n 'okz',\n 'mot',\n 'bro',\n 'if',\n 'cj',\n 'mhs',\n 'diw',\n 'sro',\n 'mwö',\n 'mhs',\n 'okz',\n 'es',\n 'es',\n 'es',\n 'mhs',\n 'okz',\n 'flo',\n 'an',\n 'pm',\n 'lmg',\n 'es',\n 'mhs',\n 'sec',\n 'es',\n 'es',\n 'flo',\n 'flo',\n 'dom',\n 'es',\n 'lg',\n 'sg',\n 'pm',\n 'lmg',\n 'es',\n 'an',\n 'okz',\n 'es',\n 'ka',\n 'mot',\n 'mot',\n 'mot',\n 'mot',\n 'es',\n 'sg',\n 'es',\n 'mot',\n 'es',\n 'es',\n 'es',\n 'lg',\n 'okz',\n 'vag',\n 'ka',\n 'lis',\n 'mhs',\n 'nöß',\n 'flo',\n 'an',\n 'pm',\n 'lmg',\n 'es',\n 'sec',\n 'obü',\n 'epd',\n 'pfü',\n 'cj',\n 'ka',\n 'es',\n 'es',\n 'es',\n 'an',\n 'pm',\n 'lmg',\n 'es',\n 'bm',\n 'lis',\n 'flo',\n 'es',\n 'fp',\n 'es',\n 'kasto',\n 'ks',\n 'flo',\n 'epd',\n 'okz',\n 'es',\n 'mo',\n 'pm',\n 'lmg',\n 'mwö',\n 'es',\n 'ka',\n 'sec',\n 'es',\n 'es',\n 'ka',\n 'ks',\n 'nn',\n 'es',\n 'es',\n 'ka',\n 'mhs',\n 'es',\n 'cj',\n 'bm',\n 'pfü',\n 'pm',\n 'lmg',\n 'epd',\n 'obü',\n 'bm',\n 'flo',\n 'epd',\n 'sp',\n 'okz',\n 'es',\n 'es',\n 'okz',\n 'jto',\n 'es',\n 'sec',\n 'obü',\n 'okz',\n 'mhs',\n 'anzi',\n 'nn',\n 'es',\n 'obü',\n 'fs',\n 'gs',\n 'kol',\n 'es',\n 'anzi',\n 'thl',\n 'anzi',\n 'lmg',\n 'pm',\n 'sec',\n 'es',\n 'es',\n 'ka',\n 'ka',\n 'es',\n 'es',\n 'es',\n 'jaf',\n 'bm',\n 'ka',\n 'es',\n 'cj',\n 'obü',\n 'anzi',\n 'mro',\n 'jto',\n 'es',\n 'es',\n 'es',\n 'kfm',\n 'es',\n 'cc',\n 'ka',\n 'es',\n 'jto',\n 'es',\n 'es',\n 'sro',\n 'sp',\n 'es',\n 'an',\n 'es',\n 'jaf',\n 'es',\n 'obü',\n 'es',\n 'obü',\n 'jhz',\n 'lg',\n 'es',\n 'mro',\n 'sp',\n 'flo',\n 'ka',\n 'she',\n 'es',\n 'cj',\n 'vag',\n 'sp',\n 'cn',\n 'sec',\n 'she',\n 'sro',\n 'ade',\n 'tnh',\n 'okz',\n 'es',\n 'okz',\n 'ka',\n 'hs',\n 'flo',\n 'obü',\n 'cj',\n 'es',\n 'cj',\n 'es',\n 'obü',\n 'es',\n 'mwö',\n 'flo',\n 'sp',\n 'bfi',\n 'es',\n 'pm',\n 'lmg',\n 'anzi',\n 'bm',\n 'an',\n 'mot',\n 'mot',\n 'es',\n 'mot',\n 'ka',\n 'flo',\n 'flo',\n 'mot',\n 'bfi',\n 'ka',\n 'sp',\n 'nn',\n 'sec',\n 'ka',\n 'bro',\n 'hgw',\n 'es',\n 'bfi',\n 'jkl',\n 'tnh',\n 'mot',\n 'ahr',\n 'ka',\n 'es',\n 'vag',\n 'ks',\n 'es',\n 'anzi',\n 'an',\n 'mathias bierende',\n 'es',\n 'flo',\n 'cn',\n 'jto',\n 'sp',\n 'ka',\n 'hgw',\n 'anzi',\n 'she',\n 'cj',\n 'dom',\n 'jhz',\n 'mro',\n 'an',\n 'es',\n 'es',\n 'obü',\n 'tnh',\n 'an',\n 'obü',\n 'tnh',\n 'an',\n 'es',\n 'an',\n 'jhz',\n 'cn',\n 'es',\n 'mathias bierende',\n 'cn',\n 'jhz',\n 'flo',\n 'lmg',\n 'bm',\n 'an',\n 'es',\n 'mpu',\n 'kol',\n 'jhz',\n 'cn',\n 'ka',\n 'es',\n 'es',\n 'cn',\n 'es',\n 'anzi',\n 'pm',\n 'lmg',\n 'bm',\n 'flo',\n 'es',\n 'cn',\n 'ka',\n 'an',\n 'abö',\n 'sp',\n 'obü',\n 'lg',\n 'bm',\n 'nöß',\n 'cn',\n 'ks',\n 'sp',\n 'epd',\n 'abö',\n 'flo',\n 'es',\n 'vag',\n 'es',\n 'obü',\n 'obü',\n 'ks',\n 'es',\n 'jaf',\n 'lg',\n 'okz',\n 'es',\n 'es',\n 'pm',\n 'lmg',\n 'obü',\n 'cn',\n 'es',\n 'lg',\n 'ka',\n 'bfi',\n 'haeg',\n 'es',\n 'lg',\n 'obü',\n 'ka',\n 'es',\n 'es',\n 'mwö',\n 'bm',\n 'es',\n 'es',\n 'nöß',\n 'lis',\n 'pm',\n 'lmg',\n 'hs',\n 'sp',\n 'tv',\n 'obü',\n 'an',\n 'lg',\n 'sp',\n 'vag',\n 'jto',\n 'okz',\n 'es',\n 'tv',\n 'lg',\n 'epd',\n 'pm',\n 'lmg',\n 'pm',\n 'lmg',\n 'ka',\n 'pm',\n 'lmg',\n 'lg',\n 'pm',\n 'lmg',\n 'ka',\n 'okz',\n 'bm',\n 'mwö',\n 'kr',\n 'es',\n 'vag',\n 'es',\n 'art',\n 'tv',\n 'bro',\n 'ka',\n 'flo',\n 'cn',\n 'obü',\n 'sp',\n 'nöß',\n 'es',\n 'es',\n 'nöß',\n 'nöß',\n 'nöß',\n 'jhz',\n 'mhs',\n 'nf',\n 'es',\n 'es',\n 'es',\n 'es',\n 'cn',\n 'nöß',\n 'nöß',\n 'anzi',\n 'flo',\n 'bm',\n 'flo',\n 'hs',\n 'hs',\n 'mwö',\n 'ka',\n 'cn',\n 'es',\n 'sp',\n 'ie',\n 'lis',\n 'mhs',\n 'sp',\n 'es',\n 'kr',\n 'es',\n 'jkl',\n 'flo',\n 'cn',\n 'nöß',\n 'ka',\n 'cn',\n 'jhz',\n 'flo',\n 'jaf',\n 'fd',\n 'mo',\n 'es',\n 'cc',\n 'jto',\n 'sp',\n 'hgw',\n 'tv',\n 'es',\n 'pm',\n 'red',\n 'mwö',\n 'cc',\n 'cc',\n 'pm',\n 'lmg',\n 'nöß',\n 'obü',\n 'es',\n 'tv',\n 'mwö',\n 'nöß',\n 'lg',\n 'es',\n 'nf',\n 'cc',\n 'thl',\n 'jkl',\n 'sp',\n 'lg',\n 'lg',\n 'es',\n 'es',\n 'epd',\n 'vag',\n 'nöß',\n 'mo',\n 'cc',\n 'sp',\n 'cc',\n 'abö',\n 'cn',\n 'es',\n 'cc',\n 'lg',\n 'sp',\n 'lg',\n 'abö',\n 'jkl',\n 'epd',\n 'obü',\n 'es',\n 'obü',\n 'es',\n 'sp',\n 'tv',\n 'lg',\n 'es',\n 'cj',\n 'kol',\n 'jaf',\n 'obü',\n 'diw',\n 'tv',\n 'tv',\n 'mo',\n 'jhz',\n 'sp',\n 'flo',\n 'es',\n 'jkl',\n 'mo',\n 'obü',\n 'es',\n 'sp',\n 'cn',\n 'jhz',\n 'obü',\n 'jhz',\n 'es',\n 'obü',\n 'diw',\n 'hs',\n 'obü',\n 'es',\n 'vag',\n 'ka',\n 'kasto',\n 'jhz',\n 'an',\n 'jhz',\n 'es',\n 'pm',\n 'lmg',\n 'jhz',\n 'sp',\n 'es',\n 'tnh',\n 'tnh',\n 'tnh',\n 'tnh',\n 'tnh',\n 'jaf',\n 'jhz',\n 'lg',\n 'es',\n 'cc',\n 'epd',\n 'tnh',\n 'tnh',\n 'sp',\n 'fd',\n 'ade',\n 'nöß',\n 'ms',\n 'okz',\n 'epd',\n 'fd',\n 'nöß',\n 'sp',\n 'ks',\n 'tnh',\n 'cn',\n 'tnh',\n 'bro',\n 'lg',\n 'nöß',\n 'abö',\n 'an',\n 'es',\n 'an',\n 'jhz',\n 'cn',\n 'obü',\n 'lg',\n 'lg',\n 'mot',\n 'mot',\n 'bfi',\n 'ie',\n 'an',\n 'cn',\n 'an',\n 'jhz',\n 'cn',\n 'an',\n 'kol',\n 'jhz',\n 'cn',\n 'nn',\n 'okz',\n 'okz',\n 'ka',\n 'obü',\n 'nöß',\n 'mro',\n 'an',\n 'okz',\n 'pm',\n 'lmg',\n 'okz',\n 'an',\n 'cn',\n 'dom',\n 'anzi',\n 'anzi',\n 'ks',\n 'obü',\n 'jhz',\n 'cn',\n 'kh',\n 'ms',\n 'kub',\n 'an',\n 'kr',\n 'anzi',\n 'hgw',\n 'vag',\n 'nöß',\n 'anzi',\n 'nöß',\n 'nöß',\n 'kh',\n ...]"
     },
     "execution_count": 9,
     "metadata": {},
     "output_type": "execute_result"
    }
   ],
   "source": [
    "distinct_abbreviations"
   ],
   "metadata": {
    "collapsed": false,
    "ExecuteTime": {
     "end_time": "2024-01-27T18:15:13.117801772Z",
     "start_time": "2024-01-27T18:15:13.114780820Z"
    }
   },
   "id": "942a192a4e672818",
   "execution_count": 9
  },
  {
   "cell_type": "code",
   "outputs": [],
   "source": [
    "# mapped abbreviations taken from 1.6.3 notebook\n",
    "mapped_abbreviations = ['kub', 'jap', 'art', 'ar', 'ahr', 'jaf', 'lis', 'nf', 'pfü', 'karin', 'ks', 'ka', 'kol', 'nn', 'mpu', 'nöß', 'dom', 'midi', 'mro', 'mi', 'mo', 'bis', 'cg', 'cgr', 'bro', 'gs', 'kr', 'sl', 'hog', 'stb', 'joka', 'ade', 'jr', 'mey', 'fs', 'ukö', 'jw', 'ts', 'tsa', 'bly', 'uw', 'ra', 'chl', 'rohe', 'the', 'mwö', 'tv', 'lyn', 'jca', 'jas', 'jhz', 'fp', 'cs', 'fd', 'noe', 'ic', 'kh', 'if', 'thl', 'kfm', 'saskia', 'ski', 'sk', 'hgw', 'rk', 'red', 'mario', 'mf', 'maf', 'rob', 'bw', 'abö', 'dbr', 'agri', 'sabine', 'aku', 'cj', 'pm', 'es', 'ie', 'allner', 'jkl', 'sp', 'obü', 'sro', 'bm', 'diw', 'ala', 'uh', 'an', 'chg', 'thlang', 'lang', 'flo', 'fr', 'frank', 'rieck', 'almu', 'ap', 'swd', 'jv', 'ps', 'boh', 'sg', 'mes', 'mhs', 'kasto', 'luc', 'fsw', 'jto', 'bfi', 'nhr', 'gap', 'as', 'okz', 'hs', 'nqq', 'she', 'anzi', 'cn', 'soa', 'thiko', 'thth', 'lin', 'pb', 'lcl', 'afs', 'ebu', 'vag', 'lmg', 'lg', 'ys', 'tnh', 'sec', 'sabine kreuz', 'mathias bierende', 'gislinde redepenning']"
   ],
   "metadata": {
    "collapsed": false,
    "ExecuteTime": {
     "end_time": "2024-01-27T18:16:36.954159247Z",
     "start_time": "2024-01-27T18:16:36.910390832Z"
    }
   },
   "id": "f1e8785032f7db53",
   "execution_count": 10
  },
  {
   "cell_type": "code",
   "outputs": [
    {
     "name": "stdout",
     "output_type": "stream",
     "text": [
      "Number of unmapped abbreviations: 37\n"
     ]
    }
   ],
   "source": [
    "# compute intersection\n",
    "intersection = set(distinct_abbreviations) - set(mapped_abbreviations)\n",
    "# print length\n",
    "print(f'Number of unmapped abbreviations: {len(intersection)}')"
   ],
   "metadata": {
    "collapsed": false,
    "ExecuteTime": {
     "end_time": "2024-01-27T18:17:24.421801462Z",
     "start_time": "2024-01-27T18:17:24.414557869Z"
    }
   },
   "id": "28914e1200cc3ca8",
   "execution_count": 14
  },
  {
   "cell_type": "code",
   "outputs": [
    {
     "name": "stdout",
     "output_type": "stream",
     "text": [
      "Average article count for unmapped abbreviations: 89.89189189189189\n"
     ]
    }
   ],
   "source": [
    "# get average article count for these abbreviations\n",
    "n_article_count = cur.execute('select count(*) from unmapped_authors ua where ua.abbreviation in ({})'.format(','.join(['?'] * len(intersection))), tuple(intersection)).fetchone()[0]\n",
    "print(f'Average article count for unmapped abbreviations: {n_article_count / len(intersection)}')\n",
    "# TODO: this number is quite high!"
   ],
   "metadata": {
    "collapsed": false,
    "ExecuteTime": {
     "end_time": "2024-01-27T18:20:55.132535861Z",
     "start_time": "2024-01-27T18:20:55.089760127Z"
    }
   },
   "id": "40da680b7464ee9c",
   "execution_count": 16
  },
  {
   "cell_type": "code",
   "outputs": [],
   "source": [],
   "metadata": {
    "collapsed": false
   },
   "id": "f9fa7ad802818e83"
  }
 ],
 "metadata": {
  "kernelspec": {
   "name": "lvz_venv",
   "language": "python",
   "display_name": "lvz_venv"
  },
  "language_info": {
   "codemirror_mode": {
    "name": "ipython",
    "version": 2
   },
   "file_extension": ".py",
   "mimetype": "text/x-python",
   "name": "python",
   "nbconvert_exporter": "python",
   "pygments_lexer": "ipython2",
   "version": "2.7.6"
  }
 },
 "nbformat": 4,
 "nbformat_minor": 5
}
