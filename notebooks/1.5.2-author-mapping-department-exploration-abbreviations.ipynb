{
 "cells": [
  {
   "cell_type": "markdown",
   "source": [
    "This script is dedicated to explore the departments (de: Ressort) with relation to the author mapping."
   ],
   "metadata": {
    "collapsed": false
   },
   "id": "47fbb4828127852a"
  },
  {
   "cell_type": "code",
   "execution_count": 1,
   "outputs": [],
   "source": [
    "import json\n",
    "import sqlite3\n",
    "import numpy as np\n",
    "import pandas as pd\n",
    "import seaborn as sns\n",
    "import matplotlib.pyplot as plt\n",
    "import scipy\n",
    "import networkx as nx\n",
    "from dateutil import relativedelta\n",
    "from datetime import datetime\n",
    "import re\n",
    "import tqdm\n",
    "from src.models.MatchingType import MatchingType"
   ],
   "metadata": {
    "collapsed": false,
    "ExecuteTime": {
     "end_time": "2023-08-09T17:09:11.289394670Z",
     "start_time": "2023-08-09T17:09:11.241646345Z"
    }
   },
   "id": "3145378997f1fc4"
  },
  {
   "cell_type": "code",
   "execution_count": 2,
   "outputs": [],
   "source": [
    "con = sqlite3.connect('../data/interim/articles_with_author_mapping.db')\n",
    "cur = con.cursor()"
   ],
   "metadata": {
    "collapsed": false,
    "ExecuteTime": {
     "end_time": "2023-08-09T17:09:11.289676484Z",
     "start_time": "2023-08-09T17:09:11.289262167Z"
    }
   },
   "id": "c1f585c000cb7a7e"
  },
  {
   "cell_type": "code",
   "execution_count": 3,
   "outputs": [],
   "source": [
    "# get top 30 authors\n",
    "rows = cur.execute('select abbreviation from unmapped_authors where matching_type = ? or matching_type = ? group by name order by count(*) desc limit 50', (MatchingType.DIRECT_MATCH.name, MatchingType.FUZZY_MATCH.name)).fetchall()\n",
    "authors = [row[0] for row in rows]"
   ],
   "metadata": {
    "collapsed": false,
    "ExecuteTime": {
     "end_time": "2023-08-09T17:09:11.292125718Z",
     "start_time": "2023-08-09T17:09:11.289526518Z"
    }
   },
   "id": "9a4804242e19806c"
  },
  {
   "cell_type": "code",
   "execution_count": 4,
   "outputs": [],
   "source": [
    "# remove  None from authors\n",
    "authors = [author for author in authors if author is not None]"
   ],
   "metadata": {
    "collapsed": false,
    "ExecuteTime": {
     "end_time": "2023-08-09T17:09:11.347652211Z",
     "start_time": "2023-08-09T17:09:11.291940091Z"
    }
   },
   "id": "67ac771f9cd35cef"
  },
  {
   "cell_type": "code",
   "execution_count": 5,
   "outputs": [
    {
     "data": {
      "text/plain": "['joka',\n 'nöß',\n 'mape',\n 'jhz',\n 'lyn',\n 'es',\n 'mro',\n 'luc',\n 'boh',\n 'agri',\n 'maf',\n 'chg',\n 'cgr',\n 'th',\n 'ra',\n 'cn',\n 'ahr',\n 'swd',\n 'gap',\n 'ts',\n 'ic',\n 'nf',\n 'chl',\n 'anzi',\n 'okz',\n 'cj',\n 'sl',\n 'maf',\n 'ebu',\n 'ap',\n 'bro',\n 'lcl',\n 'joh',\n 'kfm',\n 'joh',\n 'obü',\n 'ttr',\n 'aku',\n 'rob',\n 'mhs',\n 'sie',\n 'ala',\n 'mey',\n 'red',\n 'art',\n 'bm',\n 'ka',\n 'pm',\n 'rohe',\n 'sro']"
     },
     "execution_count": 5,
     "metadata": {},
     "output_type": "execute_result"
    }
   ],
   "source": [
    "authors"
   ],
   "metadata": {
    "collapsed": false,
    "ExecuteTime": {
     "end_time": "2023-08-09T17:09:11.348224845Z",
     "start_time": "2023-08-09T17:09:11.333183354Z"
    }
   },
   "id": "4443b11eb7bfeef0"
  },
  {
   "cell_type": "code",
   "execution_count": 6,
   "outputs": [],
   "source": [
    "json_authors = [json.dumps(author) for author in authors]"
   ],
   "metadata": {
    "collapsed": false,
    "ExecuteTime": {
     "end_time": "2023-08-09T17:09:11.348389075Z",
     "start_time": "2023-08-09T17:09:11.333429680Z"
    }
   },
   "id": "e5a2062aa436df45"
  },
  {
   "cell_type": "code",
   "execution_count": 7,
   "outputs": [
    {
     "data": {
      "text/plain": "'(\"joka\",\"n\\\\u00f6\\\\u00df\",\"mape\",\"jhz\",\"lyn\",\"es\",\"mro\",\"luc\",\"boh\",\"agri\",\"maf\",\"chg\",\"cgr\",\"th\",\"ra\",\"cn\",\"ahr\",\"swd\",\"gap\",\"ts\",\"ic\",\"nf\",\"chl\",\"anzi\",\"okz\",\"cj\",\"sl\",\"maf\",\"ebu\",\"ap\",\"bro\",\"lcl\",\"joh\",\"kfm\",\"joh\",\"ob\\\\u00fc\",\"ttr\",\"aku\",\"rob\",\"mhs\",\"sie\",\"ala\",\"mey\",\"red\",\"art\",\"bm\",\"ka\",\"pm\",\"rohe\",\"sro\")'"
     },
     "execution_count": 7,
     "metadata": {},
     "output_type": "execute_result"
    }
   ],
   "source": [
    "'(' + ','.join(json_authors) + ')'"
   ],
   "metadata": {
    "collapsed": false,
    "ExecuteTime": {
     "end_time": "2023-08-09T17:09:11.348712275Z",
     "start_time": "2023-08-09T17:09:11.333570530Z"
    }
   },
   "id": "e41efe88711cced1"
  },
  {
   "cell_type": "code",
   "execution_count": 8,
   "outputs": [],
   "source": [
    "rows = cur.execute(\"SELECT ar.id, ar.article_namespace_array, ar.published_at, a.abbreviation FROM articles ar join article_authors aa on ar.id = aa.article_id join unmapped_authors a on aa.author_id = a.id where a.abbreviation in \" + '(' + ','.join(json_authors) + ')').fetchall()"
   ],
   "metadata": {
    "collapsed": false,
    "ExecuteTime": {
     "end_time": "2023-08-09T17:09:12.116781362Z",
     "start_time": "2023-08-09T17:09:11.333704011Z"
    }
   },
   "id": "7f4eaa265d4dcda0"
  },
  {
   "cell_type": "code",
   "execution_count": 9,
   "outputs": [],
   "source": [
    "departments = pd.DataFrame(columns=['id', 'department', 'published_at', 'name'], data=rows)"
   ],
   "metadata": {
    "collapsed": false,
    "ExecuteTime": {
     "end_time": "2023-08-09T17:09:12.169980417Z",
     "start_time": "2023-08-09T17:09:12.125347665Z"
    }
   },
   "id": "12440598d1c49f72"
  },
  {
   "cell_type": "code",
   "execution_count": 10,
   "outputs": [
    {
     "data": {
      "text/plain": "           id                                         department  \\\n0        1513                                [\"Region\", \"Borna\"]   \n1        1515                                [\"Region\", \"Borna\"]   \n2        1530  [\"Thema\", \"Specials\", \"Zoo-Leipzig\", \"Zoo-Nach...   \n3        1541                            [\"Region\", \"Eilenburg\"]   \n4        1626                                [\"Region\", \"Borna\"]   \n...       ...                                                ...   \n20451  367465                            [\"Region\", \"Delitzsch\"]   \n20452  367521  [\"Leipzig\", \"Polizeiticker\", \"Polizeiticker-Le...   \n20453  367539                             [\"Leipzig\", \"Lokales\"]   \n20454  367635                             [\"Leipzig\", \"Lokales\"]   \n20455  367644                           [\"Region\", \"Schkeuditz\"]   \n\n                    published_at name  \n0      2021-12-10T06:53:43+00:00   es  \n1      2021-12-10T07:01:28+00:00   es  \n2      2021-12-10T09:59:44+00:00   pm  \n3      2021-12-10T11:43:25+00:00   ka  \n4      2021-12-09T09:49:38+00:00   es  \n...                          ...  ...  \n20451  2010-01-07T15:35:14+00:00   nf  \n20452  2010-01-06T15:16:44+00:00  maf  \n20453  2010-01-06T21:03:44+00:00  maf  \n20454  2010-01-04T15:25:21+00:00  maf  \n20455  2010-01-04T16:58:18+00:00  art  \n\n[20456 rows x 4 columns]",
      "text/html": "<div>\n<style scoped>\n    .dataframe tbody tr th:only-of-type {\n        vertical-align: middle;\n    }\n\n    .dataframe tbody tr th {\n        vertical-align: top;\n    }\n\n    .dataframe thead th {\n        text-align: right;\n    }\n</style>\n<table border=\"1\" class=\"dataframe\">\n  <thead>\n    <tr style=\"text-align: right;\">\n      <th></th>\n      <th>id</th>\n      <th>department</th>\n      <th>published_at</th>\n      <th>name</th>\n    </tr>\n  </thead>\n  <tbody>\n    <tr>\n      <th>0</th>\n      <td>1513</td>\n      <td>[\"Region\", \"Borna\"]</td>\n      <td>2021-12-10T06:53:43+00:00</td>\n      <td>es</td>\n    </tr>\n    <tr>\n      <th>1</th>\n      <td>1515</td>\n      <td>[\"Region\", \"Borna\"]</td>\n      <td>2021-12-10T07:01:28+00:00</td>\n      <td>es</td>\n    </tr>\n    <tr>\n      <th>2</th>\n      <td>1530</td>\n      <td>[\"Thema\", \"Specials\", \"Zoo-Leipzig\", \"Zoo-Nach...</td>\n      <td>2021-12-10T09:59:44+00:00</td>\n      <td>pm</td>\n    </tr>\n    <tr>\n      <th>3</th>\n      <td>1541</td>\n      <td>[\"Region\", \"Eilenburg\"]</td>\n      <td>2021-12-10T11:43:25+00:00</td>\n      <td>ka</td>\n    </tr>\n    <tr>\n      <th>4</th>\n      <td>1626</td>\n      <td>[\"Region\", \"Borna\"]</td>\n      <td>2021-12-09T09:49:38+00:00</td>\n      <td>es</td>\n    </tr>\n    <tr>\n      <th>...</th>\n      <td>...</td>\n      <td>...</td>\n      <td>...</td>\n      <td>...</td>\n    </tr>\n    <tr>\n      <th>20451</th>\n      <td>367465</td>\n      <td>[\"Region\", \"Delitzsch\"]</td>\n      <td>2010-01-07T15:35:14+00:00</td>\n      <td>nf</td>\n    </tr>\n    <tr>\n      <th>20452</th>\n      <td>367521</td>\n      <td>[\"Leipzig\", \"Polizeiticker\", \"Polizeiticker-Le...</td>\n      <td>2010-01-06T15:16:44+00:00</td>\n      <td>maf</td>\n    </tr>\n    <tr>\n      <th>20453</th>\n      <td>367539</td>\n      <td>[\"Leipzig\", \"Lokales\"]</td>\n      <td>2010-01-06T21:03:44+00:00</td>\n      <td>maf</td>\n    </tr>\n    <tr>\n      <th>20454</th>\n      <td>367635</td>\n      <td>[\"Leipzig\", \"Lokales\"]</td>\n      <td>2010-01-04T15:25:21+00:00</td>\n      <td>maf</td>\n    </tr>\n    <tr>\n      <th>20455</th>\n      <td>367644</td>\n      <td>[\"Region\", \"Schkeuditz\"]</td>\n      <td>2010-01-04T16:58:18+00:00</td>\n      <td>art</td>\n    </tr>\n  </tbody>\n</table>\n<p>20456 rows × 4 columns</p>\n</div>"
     },
     "execution_count": 10,
     "metadata": {},
     "output_type": "execute_result"
    }
   ],
   "source": [
    "departments"
   ],
   "metadata": {
    "collapsed": false,
    "ExecuteTime": {
     "end_time": "2023-08-09T17:09:12.171516900Z",
     "start_time": "2023-08-09T17:09:12.169560497Z"
    }
   },
   "id": "45c6e6c43c487364"
  },
  {
   "cell_type": "code",
   "execution_count": 11,
   "outputs": [],
   "source": [
    "departments[\"department\"] = departments[\"department\"].apply(lambda x: json.loads(x))"
   ],
   "metadata": {
    "collapsed": false,
    "ExecuteTime": {
     "end_time": "2023-08-09T17:09:12.174125554Z",
     "start_time": "2023-08-09T17:09:12.170291837Z"
    }
   },
   "id": "58c87bc04e673b0b"
  },
  {
   "cell_type": "code",
   "execution_count": 12,
   "outputs": [],
   "source": [
    "departments = departments.explode('department')"
   ],
   "metadata": {
    "collapsed": false,
    "ExecuteTime": {
     "end_time": "2023-08-09T17:09:12.251383487Z",
     "start_time": "2023-08-09T17:09:12.170593073Z"
    }
   },
   "id": "29385f3df9b7c56f"
  },
  {
   "cell_type": "code",
   "execution_count": 13,
   "outputs": [
    {
     "data": {
      "text/plain": "           id   department               published_at name\n0        1513        Borna  2021-12-10T06:53:43+00:00   es\n1        1515        Borna  2021-12-10T07:01:28+00:00   es\n2        1530        Thema  2021-12-10T09:59:44+00:00   pm\n2        1530     Specials  2021-12-10T09:59:44+00:00   pm\n2        1530  Zoo-Leipzig  2021-12-10T09:59:44+00:00   pm\n...       ...          ...                        ...  ...\n20453  367539      Leipzig  2010-01-06T21:03:44+00:00  maf\n20453  367539      Lokales  2010-01-06T21:03:44+00:00  maf\n20454  367635      Leipzig  2010-01-04T15:25:21+00:00  maf\n20454  367635      Lokales  2010-01-04T15:25:21+00:00  maf\n20455  367644   Schkeuditz  2010-01-04T16:58:18+00:00  art\n\n[43556 rows x 4 columns]",
      "text/html": "<div>\n<style scoped>\n    .dataframe tbody tr th:only-of-type {\n        vertical-align: middle;\n    }\n\n    .dataframe tbody tr th {\n        vertical-align: top;\n    }\n\n    .dataframe thead th {\n        text-align: right;\n    }\n</style>\n<table border=\"1\" class=\"dataframe\">\n  <thead>\n    <tr style=\"text-align: right;\">\n      <th></th>\n      <th>id</th>\n      <th>department</th>\n      <th>published_at</th>\n      <th>name</th>\n    </tr>\n  </thead>\n  <tbody>\n    <tr>\n      <th>0</th>\n      <td>1513</td>\n      <td>Borna</td>\n      <td>2021-12-10T06:53:43+00:00</td>\n      <td>es</td>\n    </tr>\n    <tr>\n      <th>1</th>\n      <td>1515</td>\n      <td>Borna</td>\n      <td>2021-12-10T07:01:28+00:00</td>\n      <td>es</td>\n    </tr>\n    <tr>\n      <th>2</th>\n      <td>1530</td>\n      <td>Thema</td>\n      <td>2021-12-10T09:59:44+00:00</td>\n      <td>pm</td>\n    </tr>\n    <tr>\n      <th>2</th>\n      <td>1530</td>\n      <td>Specials</td>\n      <td>2021-12-10T09:59:44+00:00</td>\n      <td>pm</td>\n    </tr>\n    <tr>\n      <th>2</th>\n      <td>1530</td>\n      <td>Zoo-Leipzig</td>\n      <td>2021-12-10T09:59:44+00:00</td>\n      <td>pm</td>\n    </tr>\n    <tr>\n      <th>...</th>\n      <td>...</td>\n      <td>...</td>\n      <td>...</td>\n      <td>...</td>\n    </tr>\n    <tr>\n      <th>20453</th>\n      <td>367539</td>\n      <td>Leipzig</td>\n      <td>2010-01-06T21:03:44+00:00</td>\n      <td>maf</td>\n    </tr>\n    <tr>\n      <th>20453</th>\n      <td>367539</td>\n      <td>Lokales</td>\n      <td>2010-01-06T21:03:44+00:00</td>\n      <td>maf</td>\n    </tr>\n    <tr>\n      <th>20454</th>\n      <td>367635</td>\n      <td>Leipzig</td>\n      <td>2010-01-04T15:25:21+00:00</td>\n      <td>maf</td>\n    </tr>\n    <tr>\n      <th>20454</th>\n      <td>367635</td>\n      <td>Lokales</td>\n      <td>2010-01-04T15:25:21+00:00</td>\n      <td>maf</td>\n    </tr>\n    <tr>\n      <th>20455</th>\n      <td>367644</td>\n      <td>Schkeuditz</td>\n      <td>2010-01-04T16:58:18+00:00</td>\n      <td>art</td>\n    </tr>\n  </tbody>\n</table>\n<p>43556 rows × 4 columns</p>\n</div>"
     },
     "execution_count": 13,
     "metadata": {},
     "output_type": "execute_result"
    }
   ],
   "source": [
    "# remove rows where department equals \"Region\" or \"Nachrichten\" for being to unspecific\n",
    "departments = departments[departments.department != 'Region']\n",
    "departments = departments[departments.department != 'Nachrichten']\n",
    "departments"
   ],
   "metadata": {
    "collapsed": false,
    "ExecuteTime": {
     "end_time": "2023-08-09T17:09:12.268585206Z",
     "start_time": "2023-08-09T17:09:12.213114416Z"
    }
   },
   "id": "72bbe279c4f129bc"
  },
  {
   "cell_type": "code",
   "execution_count": 14,
   "outputs": [],
   "source": [
    "# create pandas data frame with author name and their department in that they wrote the most articles\n",
    "author_departments = departments.groupby(['name', 'department']).agg('count').sort_values(by='id', ascending=False).reset_index()\n",
    "# for each author get row with highest count\n",
    "author_departments = author_departments.groupby('name').head(1)\n",
    "# drop column id\n",
    "author_departments = author_departments.drop(columns=['id'])\n",
    "# rename column published_at to article_count\n",
    "author_departments = author_departments.rename(columns={'published_at': 'article_count'})"
   ],
   "metadata": {
    "collapsed": false,
    "ExecuteTime": {
     "end_time": "2023-08-09T17:09:12.269228540Z",
     "start_time": "2023-08-09T17:09:12.213382537Z"
    }
   },
   "id": "1ea49c4d5f572e5d"
  },
  {
   "cell_type": "code",
   "execution_count": 15,
   "outputs": [
    {
     "data": {
      "text/plain": "     name         department  article_count\n0    joka            Leipzig           1743\n2     jhz            Leipzig           1088\n4     chg            Leipzig            902\n5     lyn            Leipzig            830\n7     luc            Leipzig            741\n8     maf            Leipzig            713\n11    boh            Leipzig            607\n14   agri            Leipzig            551\n17     es           Geithain            515\n18    mro            Leipzig            497\n23     ra            Leipzig            416\n25    ahr            Leipzig            387\n26    swd            Leipzig            384\n27     pm           Specials            382\n36     cn            Leipzig            334\n37     cj          Delitzsch            331\n39   anzi            Leipzig            318\n42     ic            Leipzig            291\n43     ap            Doebeln            289\n44    okz              Borna            286\n46    lcl            Leipzig            268\n48    chl            Leipzig            261\n50    ebu            Leipzig            257\n58     ka          Eilenburg            229\n63    mey         Schkeuditz            216\n69    mhs          Delitzsch            182\n70     bm            Leipzig            176\n73   rohe         Schkeuditz            161\n76    ala            Leipzig            155\n79    rob            Leipzig            152\n83    gap              Borna            134\n84    aku            Leipzig            133\n85    red           Specials            127\n87     nf         Bad-Dueben            121\n88     sl  Mitteldeutschland            120\n92    bro         Bad-Dueben            109\n101   art         Schkeuditz             97\n120   sro            Doebeln             80\n178   kfm             Kultur             33\n195    ts            Doebeln             28\n216   cgr            Leipzig             23\n222    th            Leipzig             22\n251   ttr  Mitteldeutschland             18\n275  mape            Leipzig             14\n276   sie            Leipzig             14\n326   joh         Wirtschaft             10",
      "text/html": "<div>\n<style scoped>\n    .dataframe tbody tr th:only-of-type {\n        vertical-align: middle;\n    }\n\n    .dataframe tbody tr th {\n        vertical-align: top;\n    }\n\n    .dataframe thead th {\n        text-align: right;\n    }\n</style>\n<table border=\"1\" class=\"dataframe\">\n  <thead>\n    <tr style=\"text-align: right;\">\n      <th></th>\n      <th>name</th>\n      <th>department</th>\n      <th>article_count</th>\n    </tr>\n  </thead>\n  <tbody>\n    <tr>\n      <th>0</th>\n      <td>joka</td>\n      <td>Leipzig</td>\n      <td>1743</td>\n    </tr>\n    <tr>\n      <th>2</th>\n      <td>jhz</td>\n      <td>Leipzig</td>\n      <td>1088</td>\n    </tr>\n    <tr>\n      <th>4</th>\n      <td>chg</td>\n      <td>Leipzig</td>\n      <td>902</td>\n    </tr>\n    <tr>\n      <th>5</th>\n      <td>lyn</td>\n      <td>Leipzig</td>\n      <td>830</td>\n    </tr>\n    <tr>\n      <th>7</th>\n      <td>luc</td>\n      <td>Leipzig</td>\n      <td>741</td>\n    </tr>\n    <tr>\n      <th>8</th>\n      <td>maf</td>\n      <td>Leipzig</td>\n      <td>713</td>\n    </tr>\n    <tr>\n      <th>11</th>\n      <td>boh</td>\n      <td>Leipzig</td>\n      <td>607</td>\n    </tr>\n    <tr>\n      <th>14</th>\n      <td>agri</td>\n      <td>Leipzig</td>\n      <td>551</td>\n    </tr>\n    <tr>\n      <th>17</th>\n      <td>es</td>\n      <td>Geithain</td>\n      <td>515</td>\n    </tr>\n    <tr>\n      <th>18</th>\n      <td>mro</td>\n      <td>Leipzig</td>\n      <td>497</td>\n    </tr>\n    <tr>\n      <th>23</th>\n      <td>ra</td>\n      <td>Leipzig</td>\n      <td>416</td>\n    </tr>\n    <tr>\n      <th>25</th>\n      <td>ahr</td>\n      <td>Leipzig</td>\n      <td>387</td>\n    </tr>\n    <tr>\n      <th>26</th>\n      <td>swd</td>\n      <td>Leipzig</td>\n      <td>384</td>\n    </tr>\n    <tr>\n      <th>27</th>\n      <td>pm</td>\n      <td>Specials</td>\n      <td>382</td>\n    </tr>\n    <tr>\n      <th>36</th>\n      <td>cn</td>\n      <td>Leipzig</td>\n      <td>334</td>\n    </tr>\n    <tr>\n      <th>37</th>\n      <td>cj</td>\n      <td>Delitzsch</td>\n      <td>331</td>\n    </tr>\n    <tr>\n      <th>39</th>\n      <td>anzi</td>\n      <td>Leipzig</td>\n      <td>318</td>\n    </tr>\n    <tr>\n      <th>42</th>\n      <td>ic</td>\n      <td>Leipzig</td>\n      <td>291</td>\n    </tr>\n    <tr>\n      <th>43</th>\n      <td>ap</td>\n      <td>Doebeln</td>\n      <td>289</td>\n    </tr>\n    <tr>\n      <th>44</th>\n      <td>okz</td>\n      <td>Borna</td>\n      <td>286</td>\n    </tr>\n    <tr>\n      <th>46</th>\n      <td>lcl</td>\n      <td>Leipzig</td>\n      <td>268</td>\n    </tr>\n    <tr>\n      <th>48</th>\n      <td>chl</td>\n      <td>Leipzig</td>\n      <td>261</td>\n    </tr>\n    <tr>\n      <th>50</th>\n      <td>ebu</td>\n      <td>Leipzig</td>\n      <td>257</td>\n    </tr>\n    <tr>\n      <th>58</th>\n      <td>ka</td>\n      <td>Eilenburg</td>\n      <td>229</td>\n    </tr>\n    <tr>\n      <th>63</th>\n      <td>mey</td>\n      <td>Schkeuditz</td>\n      <td>216</td>\n    </tr>\n    <tr>\n      <th>69</th>\n      <td>mhs</td>\n      <td>Delitzsch</td>\n      <td>182</td>\n    </tr>\n    <tr>\n      <th>70</th>\n      <td>bm</td>\n      <td>Leipzig</td>\n      <td>176</td>\n    </tr>\n    <tr>\n      <th>73</th>\n      <td>rohe</td>\n      <td>Schkeuditz</td>\n      <td>161</td>\n    </tr>\n    <tr>\n      <th>76</th>\n      <td>ala</td>\n      <td>Leipzig</td>\n      <td>155</td>\n    </tr>\n    <tr>\n      <th>79</th>\n      <td>rob</td>\n      <td>Leipzig</td>\n      <td>152</td>\n    </tr>\n    <tr>\n      <th>83</th>\n      <td>gap</td>\n      <td>Borna</td>\n      <td>134</td>\n    </tr>\n    <tr>\n      <th>84</th>\n      <td>aku</td>\n      <td>Leipzig</td>\n      <td>133</td>\n    </tr>\n    <tr>\n      <th>85</th>\n      <td>red</td>\n      <td>Specials</td>\n      <td>127</td>\n    </tr>\n    <tr>\n      <th>87</th>\n      <td>nf</td>\n      <td>Bad-Dueben</td>\n      <td>121</td>\n    </tr>\n    <tr>\n      <th>88</th>\n      <td>sl</td>\n      <td>Mitteldeutschland</td>\n      <td>120</td>\n    </tr>\n    <tr>\n      <th>92</th>\n      <td>bro</td>\n      <td>Bad-Dueben</td>\n      <td>109</td>\n    </tr>\n    <tr>\n      <th>101</th>\n      <td>art</td>\n      <td>Schkeuditz</td>\n      <td>97</td>\n    </tr>\n    <tr>\n      <th>120</th>\n      <td>sro</td>\n      <td>Doebeln</td>\n      <td>80</td>\n    </tr>\n    <tr>\n      <th>178</th>\n      <td>kfm</td>\n      <td>Kultur</td>\n      <td>33</td>\n    </tr>\n    <tr>\n      <th>195</th>\n      <td>ts</td>\n      <td>Doebeln</td>\n      <td>28</td>\n    </tr>\n    <tr>\n      <th>216</th>\n      <td>cgr</td>\n      <td>Leipzig</td>\n      <td>23</td>\n    </tr>\n    <tr>\n      <th>222</th>\n      <td>th</td>\n      <td>Leipzig</td>\n      <td>22</td>\n    </tr>\n    <tr>\n      <th>251</th>\n      <td>ttr</td>\n      <td>Mitteldeutschland</td>\n      <td>18</td>\n    </tr>\n    <tr>\n      <th>275</th>\n      <td>mape</td>\n      <td>Leipzig</td>\n      <td>14</td>\n    </tr>\n    <tr>\n      <th>276</th>\n      <td>sie</td>\n      <td>Leipzig</td>\n      <td>14</td>\n    </tr>\n    <tr>\n      <th>326</th>\n      <td>joh</td>\n      <td>Wirtschaft</td>\n      <td>10</td>\n    </tr>\n  </tbody>\n</table>\n</div>"
     },
     "execution_count": 15,
     "metadata": {},
     "output_type": "execute_result"
    }
   ],
   "source": [
    "author_departments"
   ],
   "metadata": {
    "collapsed": false,
    "ExecuteTime": {
     "end_time": "2023-08-09T17:09:12.276122771Z",
     "start_time": "2023-08-09T17:09:12.226275220Z"
    }
   },
   "id": "998512318b52472a"
  },
  {
   "cell_type": "code",
   "execution_count": 16,
   "outputs": [
    {
     "data": {
      "text/plain": "     name         department  article_count  \\\n0    joka            Leipzig           1743   \n2     jhz            Leipzig           1088   \n4     chg            Leipzig            902   \n5     lyn            Leipzig            830   \n7     luc            Leipzig            741   \n8     maf            Leipzig            713   \n11    boh            Leipzig            607   \n14   agri            Leipzig            551   \n17     es           Geithain            515   \n18    mro            Leipzig            497   \n23     ra            Leipzig            416   \n25    ahr            Leipzig            387   \n26    swd            Leipzig            384   \n27     pm           Specials            382   \n36     cn            Leipzig            334   \n37     cj          Delitzsch            331   \n39   anzi            Leipzig            318   \n42     ic            Leipzig            291   \n43     ap            Doebeln            289   \n44    okz              Borna            286   \n46    lcl            Leipzig            268   \n48    chl            Leipzig            261   \n50    ebu            Leipzig            257   \n58     ka          Eilenburg            229   \n63    mey         Schkeuditz            216   \n69    mhs          Delitzsch            182   \n70     bm            Leipzig            176   \n73   rohe         Schkeuditz            161   \n76    ala            Leipzig            155   \n79    rob            Leipzig            152   \n83    gap              Borna            134   \n84    aku            Leipzig            133   \n85    red           Specials            127   \n87     nf         Bad-Dueben            121   \n88     sl  Mitteldeutschland            120   \n92    bro         Bad-Dueben            109   \n101   art         Schkeuditz             97   \n120   sro            Doebeln             80   \n178   kfm             Kultur             33   \n195    ts            Doebeln             28   \n216   cgr            Leipzig             23   \n222    th            Leipzig             22   \n251   ttr  Mitteldeutschland             18   \n275  mape            Leipzig             14   \n276   sie            Leipzig             14   \n326   joh         Wirtschaft             10   \n\n                                               color  \n0                (0.86, 0.3712, 0.33999999999999997)  \n2                (0.86, 0.3712, 0.33999999999999997)  \n4                (0.86, 0.3712, 0.33999999999999997)  \n5                (0.86, 0.3712, 0.33999999999999997)  \n7                (0.86, 0.3712, 0.33999999999999997)  \n8                (0.86, 0.3712, 0.33999999999999997)  \n11               (0.86, 0.3712, 0.33999999999999997)  \n14               (0.86, 0.3712, 0.33999999999999997)  \n17               (0.86, 0.6312, 0.33999999999999997)  \n18               (0.86, 0.3712, 0.33999999999999997)  \n23               (0.86, 0.3712, 0.33999999999999997)  \n25               (0.86, 0.3712, 0.33999999999999997)  \n26               (0.86, 0.3712, 0.33999999999999997)  \n27   (0.8287999999999999, 0.86, 0.33999999999999997)  \n36               (0.86, 0.3712, 0.33999999999999997)  \n37   (0.5688000000000001, 0.86, 0.33999999999999997)  \n39               (0.86, 0.3712, 0.33999999999999997)  \n42               (0.86, 0.3712, 0.33999999999999997)  \n43               (0.33999999999999997, 0.86, 0.3712)  \n44               (0.33999999999999997, 0.86, 0.6312)  \n46               (0.86, 0.3712, 0.33999999999999997)  \n48               (0.86, 0.3712, 0.33999999999999997)  \n50               (0.86, 0.3712, 0.33999999999999997)  \n58   (0.33999999999999997, 0.8287999999999999, 0.86)  \n63   (0.33999999999999997, 0.5688000000000001, 0.86)  \n69   (0.5688000000000001, 0.86, 0.33999999999999997)  \n70               (0.86, 0.3712, 0.33999999999999997)  \n73   (0.33999999999999997, 0.5688000000000001, 0.86)  \n76               (0.86, 0.3712, 0.33999999999999997)  \n79               (0.86, 0.3712, 0.33999999999999997)  \n83               (0.33999999999999997, 0.86, 0.6312)  \n84               (0.86, 0.3712, 0.33999999999999997)  \n85   (0.8287999999999999, 0.86, 0.33999999999999997)  \n87               (0.3712, 0.33999999999999997, 0.86)  \n88   (0.6311999999999998, 0.33999999999999997, 0.86)  \n92               (0.3712, 0.33999999999999997, 0.86)  \n101  (0.33999999999999997, 0.5688000000000001, 0.86)  \n120              (0.33999999999999997, 0.86, 0.3712)  \n178  (0.86, 0.33999999999999997, 0.8287999999999999)  \n195              (0.33999999999999997, 0.86, 0.3712)  \n216              (0.86, 0.3712, 0.33999999999999997)  \n222              (0.86, 0.3712, 0.33999999999999997)  \n251  (0.6311999999999998, 0.33999999999999997, 0.86)  \n275              (0.86, 0.3712, 0.33999999999999997)  \n276              (0.86, 0.3712, 0.33999999999999997)  \n326  (0.86, 0.33999999999999997, 0.5688000000000001)  ",
      "text/html": "<div>\n<style scoped>\n    .dataframe tbody tr th:only-of-type {\n        vertical-align: middle;\n    }\n\n    .dataframe tbody tr th {\n        vertical-align: top;\n    }\n\n    .dataframe thead th {\n        text-align: right;\n    }\n</style>\n<table border=\"1\" class=\"dataframe\">\n  <thead>\n    <tr style=\"text-align: right;\">\n      <th></th>\n      <th>name</th>\n      <th>department</th>\n      <th>article_count</th>\n      <th>color</th>\n    </tr>\n  </thead>\n  <tbody>\n    <tr>\n      <th>0</th>\n      <td>joka</td>\n      <td>Leipzig</td>\n      <td>1743</td>\n      <td>(0.86, 0.3712, 0.33999999999999997)</td>\n    </tr>\n    <tr>\n      <th>2</th>\n      <td>jhz</td>\n      <td>Leipzig</td>\n      <td>1088</td>\n      <td>(0.86, 0.3712, 0.33999999999999997)</td>\n    </tr>\n    <tr>\n      <th>4</th>\n      <td>chg</td>\n      <td>Leipzig</td>\n      <td>902</td>\n      <td>(0.86, 0.3712, 0.33999999999999997)</td>\n    </tr>\n    <tr>\n      <th>5</th>\n      <td>lyn</td>\n      <td>Leipzig</td>\n      <td>830</td>\n      <td>(0.86, 0.3712, 0.33999999999999997)</td>\n    </tr>\n    <tr>\n      <th>7</th>\n      <td>luc</td>\n      <td>Leipzig</td>\n      <td>741</td>\n      <td>(0.86, 0.3712, 0.33999999999999997)</td>\n    </tr>\n    <tr>\n      <th>8</th>\n      <td>maf</td>\n      <td>Leipzig</td>\n      <td>713</td>\n      <td>(0.86, 0.3712, 0.33999999999999997)</td>\n    </tr>\n    <tr>\n      <th>11</th>\n      <td>boh</td>\n      <td>Leipzig</td>\n      <td>607</td>\n      <td>(0.86, 0.3712, 0.33999999999999997)</td>\n    </tr>\n    <tr>\n      <th>14</th>\n      <td>agri</td>\n      <td>Leipzig</td>\n      <td>551</td>\n      <td>(0.86, 0.3712, 0.33999999999999997)</td>\n    </tr>\n    <tr>\n      <th>17</th>\n      <td>es</td>\n      <td>Geithain</td>\n      <td>515</td>\n      <td>(0.86, 0.6312, 0.33999999999999997)</td>\n    </tr>\n    <tr>\n      <th>18</th>\n      <td>mro</td>\n      <td>Leipzig</td>\n      <td>497</td>\n      <td>(0.86, 0.3712, 0.33999999999999997)</td>\n    </tr>\n    <tr>\n      <th>23</th>\n      <td>ra</td>\n      <td>Leipzig</td>\n      <td>416</td>\n      <td>(0.86, 0.3712, 0.33999999999999997)</td>\n    </tr>\n    <tr>\n      <th>25</th>\n      <td>ahr</td>\n      <td>Leipzig</td>\n      <td>387</td>\n      <td>(0.86, 0.3712, 0.33999999999999997)</td>\n    </tr>\n    <tr>\n      <th>26</th>\n      <td>swd</td>\n      <td>Leipzig</td>\n      <td>384</td>\n      <td>(0.86, 0.3712, 0.33999999999999997)</td>\n    </tr>\n    <tr>\n      <th>27</th>\n      <td>pm</td>\n      <td>Specials</td>\n      <td>382</td>\n      <td>(0.8287999999999999, 0.86, 0.33999999999999997)</td>\n    </tr>\n    <tr>\n      <th>36</th>\n      <td>cn</td>\n      <td>Leipzig</td>\n      <td>334</td>\n      <td>(0.86, 0.3712, 0.33999999999999997)</td>\n    </tr>\n    <tr>\n      <th>37</th>\n      <td>cj</td>\n      <td>Delitzsch</td>\n      <td>331</td>\n      <td>(0.5688000000000001, 0.86, 0.33999999999999997)</td>\n    </tr>\n    <tr>\n      <th>39</th>\n      <td>anzi</td>\n      <td>Leipzig</td>\n      <td>318</td>\n      <td>(0.86, 0.3712, 0.33999999999999997)</td>\n    </tr>\n    <tr>\n      <th>42</th>\n      <td>ic</td>\n      <td>Leipzig</td>\n      <td>291</td>\n      <td>(0.86, 0.3712, 0.33999999999999997)</td>\n    </tr>\n    <tr>\n      <th>43</th>\n      <td>ap</td>\n      <td>Doebeln</td>\n      <td>289</td>\n      <td>(0.33999999999999997, 0.86, 0.3712)</td>\n    </tr>\n    <tr>\n      <th>44</th>\n      <td>okz</td>\n      <td>Borna</td>\n      <td>286</td>\n      <td>(0.33999999999999997, 0.86, 0.6312)</td>\n    </tr>\n    <tr>\n      <th>46</th>\n      <td>lcl</td>\n      <td>Leipzig</td>\n      <td>268</td>\n      <td>(0.86, 0.3712, 0.33999999999999997)</td>\n    </tr>\n    <tr>\n      <th>48</th>\n      <td>chl</td>\n      <td>Leipzig</td>\n      <td>261</td>\n      <td>(0.86, 0.3712, 0.33999999999999997)</td>\n    </tr>\n    <tr>\n      <th>50</th>\n      <td>ebu</td>\n      <td>Leipzig</td>\n      <td>257</td>\n      <td>(0.86, 0.3712, 0.33999999999999997)</td>\n    </tr>\n    <tr>\n      <th>58</th>\n      <td>ka</td>\n      <td>Eilenburg</td>\n      <td>229</td>\n      <td>(0.33999999999999997, 0.8287999999999999, 0.86)</td>\n    </tr>\n    <tr>\n      <th>63</th>\n      <td>mey</td>\n      <td>Schkeuditz</td>\n      <td>216</td>\n      <td>(0.33999999999999997, 0.5688000000000001, 0.86)</td>\n    </tr>\n    <tr>\n      <th>69</th>\n      <td>mhs</td>\n      <td>Delitzsch</td>\n      <td>182</td>\n      <td>(0.5688000000000001, 0.86, 0.33999999999999997)</td>\n    </tr>\n    <tr>\n      <th>70</th>\n      <td>bm</td>\n      <td>Leipzig</td>\n      <td>176</td>\n      <td>(0.86, 0.3712, 0.33999999999999997)</td>\n    </tr>\n    <tr>\n      <th>73</th>\n      <td>rohe</td>\n      <td>Schkeuditz</td>\n      <td>161</td>\n      <td>(0.33999999999999997, 0.5688000000000001, 0.86)</td>\n    </tr>\n    <tr>\n      <th>76</th>\n      <td>ala</td>\n      <td>Leipzig</td>\n      <td>155</td>\n      <td>(0.86, 0.3712, 0.33999999999999997)</td>\n    </tr>\n    <tr>\n      <th>79</th>\n      <td>rob</td>\n      <td>Leipzig</td>\n      <td>152</td>\n      <td>(0.86, 0.3712, 0.33999999999999997)</td>\n    </tr>\n    <tr>\n      <th>83</th>\n      <td>gap</td>\n      <td>Borna</td>\n      <td>134</td>\n      <td>(0.33999999999999997, 0.86, 0.6312)</td>\n    </tr>\n    <tr>\n      <th>84</th>\n      <td>aku</td>\n      <td>Leipzig</td>\n      <td>133</td>\n      <td>(0.86, 0.3712, 0.33999999999999997)</td>\n    </tr>\n    <tr>\n      <th>85</th>\n      <td>red</td>\n      <td>Specials</td>\n      <td>127</td>\n      <td>(0.8287999999999999, 0.86, 0.33999999999999997)</td>\n    </tr>\n    <tr>\n      <th>87</th>\n      <td>nf</td>\n      <td>Bad-Dueben</td>\n      <td>121</td>\n      <td>(0.3712, 0.33999999999999997, 0.86)</td>\n    </tr>\n    <tr>\n      <th>88</th>\n      <td>sl</td>\n      <td>Mitteldeutschland</td>\n      <td>120</td>\n      <td>(0.6311999999999998, 0.33999999999999997, 0.86)</td>\n    </tr>\n    <tr>\n      <th>92</th>\n      <td>bro</td>\n      <td>Bad-Dueben</td>\n      <td>109</td>\n      <td>(0.3712, 0.33999999999999997, 0.86)</td>\n    </tr>\n    <tr>\n      <th>101</th>\n      <td>art</td>\n      <td>Schkeuditz</td>\n      <td>97</td>\n      <td>(0.33999999999999997, 0.5688000000000001, 0.86)</td>\n    </tr>\n    <tr>\n      <th>120</th>\n      <td>sro</td>\n      <td>Doebeln</td>\n      <td>80</td>\n      <td>(0.33999999999999997, 0.86, 0.3712)</td>\n    </tr>\n    <tr>\n      <th>178</th>\n      <td>kfm</td>\n      <td>Kultur</td>\n      <td>33</td>\n      <td>(0.86, 0.33999999999999997, 0.8287999999999999)</td>\n    </tr>\n    <tr>\n      <th>195</th>\n      <td>ts</td>\n      <td>Doebeln</td>\n      <td>28</td>\n      <td>(0.33999999999999997, 0.86, 0.3712)</td>\n    </tr>\n    <tr>\n      <th>216</th>\n      <td>cgr</td>\n      <td>Leipzig</td>\n      <td>23</td>\n      <td>(0.86, 0.3712, 0.33999999999999997)</td>\n    </tr>\n    <tr>\n      <th>222</th>\n      <td>th</td>\n      <td>Leipzig</td>\n      <td>22</td>\n      <td>(0.86, 0.3712, 0.33999999999999997)</td>\n    </tr>\n    <tr>\n      <th>251</th>\n      <td>ttr</td>\n      <td>Mitteldeutschland</td>\n      <td>18</td>\n      <td>(0.6311999999999998, 0.33999999999999997, 0.86)</td>\n    </tr>\n    <tr>\n      <th>275</th>\n      <td>mape</td>\n      <td>Leipzig</td>\n      <td>14</td>\n      <td>(0.86, 0.3712, 0.33999999999999997)</td>\n    </tr>\n    <tr>\n      <th>276</th>\n      <td>sie</td>\n      <td>Leipzig</td>\n      <td>14</td>\n      <td>(0.86, 0.3712, 0.33999999999999997)</td>\n    </tr>\n    <tr>\n      <th>326</th>\n      <td>joh</td>\n      <td>Wirtschaft</td>\n      <td>10</td>\n      <td>(0.86, 0.33999999999999997, 0.5688000000000001)</td>\n    </tr>\n  </tbody>\n</table>\n</div>"
     },
     "execution_count": 16,
     "metadata": {},
     "output_type": "execute_result"
    }
   ],
   "source": [
    "# for every department chose a random color and append it as a color column to the dataframe\n",
    "colors = sns.color_palette(\"hls\", len(author_departments.department.unique()))\n",
    "author_departments['color'] = author_departments.department.apply(lambda x: colors[list(author_departments.department.unique()).index(x)])\n",
    "author_departments"
   ],
   "metadata": {
    "collapsed": false,
    "ExecuteTime": {
     "end_time": "2023-08-09T17:09:12.278021248Z",
     "start_time": "2023-08-09T17:09:12.269108936Z"
    }
   },
   "id": "82c7e955604cbca0"
  },
  {
   "cell_type": "code",
   "execution_count": 17,
   "outputs": [
    {
     "data": {
      "text/plain": "           id name\n39       2862  mhs\n40       2862   cj\n52       3162  mhs\n53       3162   ka\n54       3162   cj\n...       ...  ...\n20174  363383  chl\n20249  364160   nf\n20250  364160   ts\n20257  364262  bro\n20258  364262   nf\n\n[1475 rows x 2 columns]",
      "text/html": "<div>\n<style scoped>\n    .dataframe tbody tr th:only-of-type {\n        vertical-align: middle;\n    }\n\n    .dataframe tbody tr th {\n        vertical-align: top;\n    }\n\n    .dataframe thead th {\n        text-align: right;\n    }\n</style>\n<table border=\"1\" class=\"dataframe\">\n  <thead>\n    <tr style=\"text-align: right;\">\n      <th></th>\n      <th>id</th>\n      <th>name</th>\n    </tr>\n  </thead>\n  <tbody>\n    <tr>\n      <th>39</th>\n      <td>2862</td>\n      <td>mhs</td>\n    </tr>\n    <tr>\n      <th>40</th>\n      <td>2862</td>\n      <td>cj</td>\n    </tr>\n    <tr>\n      <th>52</th>\n      <td>3162</td>\n      <td>mhs</td>\n    </tr>\n    <tr>\n      <th>53</th>\n      <td>3162</td>\n      <td>ka</td>\n    </tr>\n    <tr>\n      <th>54</th>\n      <td>3162</td>\n      <td>cj</td>\n    </tr>\n    <tr>\n      <th>...</th>\n      <td>...</td>\n      <td>...</td>\n    </tr>\n    <tr>\n      <th>20174</th>\n      <td>363383</td>\n      <td>chl</td>\n    </tr>\n    <tr>\n      <th>20249</th>\n      <td>364160</td>\n      <td>nf</td>\n    </tr>\n    <tr>\n      <th>20250</th>\n      <td>364160</td>\n      <td>ts</td>\n    </tr>\n    <tr>\n      <th>20257</th>\n      <td>364262</td>\n      <td>bro</td>\n    </tr>\n    <tr>\n      <th>20258</th>\n      <td>364262</td>\n      <td>nf</td>\n    </tr>\n  </tbody>\n</table>\n<p>1475 rows × 2 columns</p>\n</div>"
     },
     "execution_count": 17,
     "metadata": {},
     "output_type": "execute_result"
    }
   ],
   "source": [
    "# get articles with authors that are in the top 30\n",
    "rows = cur.execute(\"SELECT ar.id, a.abbreviation FROM articles ar join article_authors aa on ar.id = aa.article_id join unmapped_authors a on aa.author_id = a.id where a.abbreviation in \" + '(' + ','.join(json_authors) + ')').fetchall()\n",
    "authors_with_articles = pd.DataFrame(columns=['id', 'name'], data=rows)\n",
    "\n",
    "# remove the rows where the id does not occur in the whole dataframe more than once\n",
    "authors_with_articles = authors_with_articles[authors_with_articles.id.isin(authors_with_articles.id.value_counts()[authors_with_articles.id.value_counts() > 1].index)]\n",
    "authors_with_articles"
   ],
   "metadata": {
    "collapsed": false,
    "ExecuteTime": {
     "end_time": "2023-08-09T17:09:12.445249229Z",
     "start_time": "2023-08-09T17:09:12.269385953Z"
    }
   },
   "id": "f7a7cedfeb6f581d"
  },
  {
   "cell_type": "code",
   "execution_count": 18,
   "outputs": [
    {
     "data": {
      "text/plain": "[['mhs', 'cj'],\n ['mhs', 'ka', 'cj'],\n ['mhs', 'ka'],\n ['es', 'okz'],\n ['bro', 'cj', 'mhs'],\n ['ka', 'mhs'],\n ['anzi', 'mro'],\n ['es', 'okz'],\n ['ka', 'bro'],\n ['jhz', 'mro'],\n ['bro', 'ka'],\n ['pm', 'red'],\n ['nf', 'bro', 'cj'],\n ['pm', 'red'],\n ['mro', 'jhz'],\n ['mhs', 'cj'],\n ['pm', 'red'],\n ['pm', 'red'],\n ['pm', 'red'],\n ['nf', 'ka', 'bro', 'mhs'],\n ['pm', 'red'],\n ['cj', 'mhs'],\n ['es', 'okz'],\n ['cj', 'nf', 'mhs'],\n ['pm', 'red'],\n ['pm', 'red'],\n ['pm', 'red'],\n ['pm', 'red'],\n ['mhs', 'ka'],\n ['cj', 'pm'],\n ['ka', 'bro', 'mhs'],\n ['cj', 'pm'],\n ['cj', 'pm'],\n ['pm', 'red'],\n ['pm', 'red'],\n ['nf', 'mhs'],\n ['cj', 'pm'],\n ['pm', 'red'],\n ['cj', 'pm'],\n ['pm', 'red'],\n ['nf', 'ka'],\n ['ts', 'sro'],\n ['nf', 'mhs', 'ka', 'bro', 'cj'],\n ['ka', 'bro', 'nf'],\n ['pm', 'red'],\n ['pm', 'red'],\n ['es', 'okz'],\n ['cn', 'anzi', 'jhz'],\n ['pm', 'red'],\n ['ka', 'cj'],\n ['ka', 'bro', 'ap'],\n ['cn', 'mro'],\n ['anzi', 'joka'],\n ['es', 'okz'],\n ['nf', 'mhs'],\n ['ka', 'bro'],\n ['ka', 'mhs'],\n ['cj', 'ka'],\n ['pm', 'red'],\n ['ka', 'mhs'],\n ['pm', 'red'],\n ['pm', 'red'],\n ['pm', 'red'],\n ['pm', 'red'],\n ['pm', 'red'],\n ['pm', 'red'],\n ['pm', 'red'],\n ['pm', 'red'],\n ['pm', 'red'],\n ['pm', 'red'],\n ['pm', 'red'],\n ['nf', 'ka'],\n ['pm', 'red'],\n ['cn', 'jhz'],\n ['ka', 'nf'],\n ['pm', 'red'],\n ['pm', 'red'],\n ['anzi', 'lcl'],\n ['pm', 'red'],\n ['pm', 'red'],\n ['pm', 'red'],\n ['cn', 'jhz', 'cj'],\n ['red', 'pm'],\n ['red', 'pm'],\n ['red', 'pm'],\n ['joka', 'lcl'],\n ['pm', 'red'],\n ['pm', 'red'],\n ['pm', 'red'],\n ['ebu', 'jhz'],\n ['pm', 'red'],\n ['pm', 'red'],\n ['pm', 'red'],\n ['anzi', 'cn'],\n ['ts', 'sro'],\n ['pm', 'red'],\n ['mro', 'jhz'],\n ['pm', 'red'],\n ['mro', 'anzi'],\n ['ka', 'bro'],\n ['jhz', 'lcl'],\n ['pm', 'red'],\n ['pm', 'red'],\n ['pm', 'red'],\n ['pm', 'red'],\n ['pm', 'red'],\n ['pm', 'red'],\n ['pm', 'red'],\n ['pm', 'red'],\n ['cj', 'nf'],\n ['pm', 'red'],\n ['pm', 'red'],\n ['pm', 'red'],\n ['ka', 'bro'],\n ['cn', 'luc'],\n ['mro', 'jhz'],\n ['sro', 'ap'],\n ['sro', 'ap'],\n ['ka', 'cj', 'mhs', 'bro'],\n ['sro', 'ap'],\n ['cn', 'mro'],\n ['nf', 'ka'],\n ['sro', 'ts'],\n ['nf', 'bro'],\n ['pm', 'red'],\n ['sro', 'ap'],\n ['ka', 'cj', 'nf'],\n ['pm', 'red'],\n ['cn', 'jhz'],\n ['pm', 'red'],\n ['cn', 'mro'],\n ['pm', 'red'],\n ['pm', 'red'],\n ['pm', 'red'],\n ['kfm', 'mro'],\n ['lcl', 'jhz'],\n ['jhz', 'luc'],\n ['pm', 'red'],\n ['pm', 'red'],\n ['pm', 'red'],\n ['ka', 'nf'],\n ['pm', 'red'],\n ['ka', 'nf'],\n ['ka', 'mhs'],\n ['pm', 'red'],\n ['pm', 'red'],\n ['pm', 'red'],\n ['mro', 'jhz'],\n ['luc', 'joka'],\n ['ts', 'ap'],\n ['pm', 'red'],\n ['ts', 'ap'],\n ['ts', 'ap'],\n ['ts', 'ap'],\n ['ts', 'ap'],\n ['pm', 'red'],\n ['pm', 'red'],\n ['sro', 'ap'],\n ['pm', 'red'],\n ['pm', 'red'],\n ['luc', 'mro'],\n ['pm', 'red'],\n ['pm', 'red'],\n ['pm', 'red'],\n ['pm', 'red'],\n ['pm', 'red'],\n ['ap', 'sro'],\n ['pm', 'red'],\n ['luc', 'cn'],\n ['pm', 'red'],\n ['pm', 'red'],\n ['pm', 'red'],\n ['pm', 'red'],\n ['pm', 'red'],\n ['pm', 'red'],\n ['pm', 'red'],\n ['gap', 'cn'],\n ['pm', 'red'],\n ['pm', 'red'],\n ['pm', 'red'],\n ['pm', 'red'],\n ['pm', 'red'],\n ['pm', 'red'],\n ['pm', 'red'],\n ['pm', 'red'],\n ['cn', 'jhz'],\n ['jhz', 'mro'],\n ['pm', 'red'],\n ['pm', 'red'],\n ['pm', 'red'],\n ['joka', 'mro', 'jhz'],\n ['sro', 'ap'],\n ['pm', 'red'],\n ['pm', 'red'],\n ['pm', 'red'],\n ['joka', 'cn'],\n ['bro', 'ka'],\n ['mro', 'jhz'],\n ['cn', 'jhz'],\n ['ebu', 'bm'],\n ['mro', 'jhz'],\n ['pm', 'red'],\n ['ts', 'ap'],\n ['cj', 'ka', 'nf'],\n ['ka', 'cj', 'nf'],\n ['ka', 'cj', 'nf'],\n ['pm', 'red'],\n ['pm', 'red'],\n ['mro', 'jhz'],\n ['ap', 'ts'],\n ['pm', 'red'],\n ['pm', 'red'],\n ['joh', 'jhz'],\n ['jhz', 'bm'],\n ['ap', 'ts'],\n ['lcl', 'jhz'],\n ['pm', 'red'],\n ['pm', 'red'],\n ['pm', 'red'],\n ['red', 'pm'],\n ['gap', 'okz', 'es'],\n ['pm', 'red'],\n ['jhz', 'cn'],\n ['pm', 'red'],\n ['ts', 'ap'],\n ['okz', 'es'],\n ['jhz', 'cn'],\n ['jhz', 'mro'],\n ['nf', 'ka'],\n ['nf', 'ka'],\n ['luc', 'anzi'],\n ['mro', 'cn'],\n ['ka', 'nf'],\n ['ahr', 'es'],\n ['anzi', 'bm'],\n ['gap', 'jhz'],\n ['anzi', 'luc'],\n ['jhz', 'lyn'],\n ['bro', 'ka', 'cj'],\n ['mey', 'art'],\n ['mro', 'art'],\n ['lyn', 'jhz'],\n ['bm', 'joka'],\n ['lyn', 'jhz'],\n ['joka', 'lyn'],\n ['luc', 'jhz'],\n ['joka', 'jhz'],\n ['lyn', 'joka'],\n ['lyn', 'mro'],\n ['jhz', 'luc'],\n ['mro', 'joka'],\n ['jhz', 'es'],\n ['art', 'rohe'],\n ['lyn', 'th'],\n ['es', 'luc'],\n ['luc', 'jhz'],\n ['luc', 'jhz'],\n ['mro', 'pm'],\n ['gap', 'lyn'],\n ['joka', 'gap'],\n ['luc', 'lyn'],\n ['mey', 'rohe'],\n ['lyn', 'bm'],\n ['joka', 'lyn'],\n ['anzi', 'luc'],\n ['jhz', 'mro'],\n ['jhz', 'lyn'],\n ['cj', 'jhz'],\n ['ts', 'nf'],\n ['jhz', 'luc'],\n ['ahr', 'mro'],\n ['lyn', 'luc'],\n ['bm', 'red'],\n ['pm', 'red'],\n ['luc', 'jhz'],\n ['luc', 'jhz'],\n ['mey', 'art'],\n ['lyn', 'joka'],\n ['lyn', 'mro'],\n ['mro', 'jhz'],\n ['jhz', 'joka'],\n ['mro', 'mape'],\n ['joka', 'mro'],\n ['lyn', 'joka'],\n ['pm', 'chl'],\n ['ka', 'cj'],\n ['pm', 'chl'],\n ['chg', 'luc'],\n ['joka', 'lyn'],\n ['jhz', 'sl'],\n ['mhs', 'es'],\n ['cj', 'ka', 'ts'],\n ['luc', 'chg'],\n ['joka', 'lyn'],\n ['jhz', 'chg'],\n ['pm', 'chl'],\n ['mro', 'chg'],\n ['pm', 'chl'],\n ['jhz', 'mro'],\n ['mro', 'joka'],\n ['lyn', 'luc'],\n ['luc', 'bm'],\n ['luc', 'jhz'],\n ['lyn', 'mro', 'joka'],\n ['joka', 'luc'],\n ['bm', 'mro', 'luc'],\n ['agri', 'joka'],\n ['mro', 'agri'],\n ['chg', 'mro'],\n ['es', 'okz'],\n ['pm', 'chl'],\n ['jhz', 'luc'],\n ['lyn', 'luc'],\n ['es', 'okz'],\n ['pm', 'red'],\n ['pm', 'chl'],\n ['joka', 'lyn'],\n ['ka', 'bro'],\n ['jhz', 'joka'],\n ['mro', 'chg'],\n ['lyn', 'agri', 'jhz'],\n ['chg', 'jhz'],\n ['mro', 'luc'],\n ['chg', 'luc'],\n ['agri', 'luc'],\n ['chl', 'pm'],\n ['jhz', 'boh'],\n ['es', 'okz'],\n ['chg', 'mape'],\n ['jhz', 'chg'],\n ['jhz', 'lyn'],\n ['red', 'pm'],\n ['kfm', 'agri'],\n ['ka', 'okz'],\n ['mro', 'chg'],\n ['art', 'mey'],\n ['pm', 'red'],\n ['luc', 'chg'],\n ['chl', 'red'],\n ['luc', 'chg'],\n ['joka', 'jhz'],\n ['jhz', 'boh'],\n ['ka', 'jhz'],\n ['bm', 'mro', 'agri'],\n ['lyn', 'agri'],\n ['joka', 'boh'],\n ['chg', 'agri'],\n ['joka', 'chg'],\n ['mro', 'lyn', 'agri'],\n ['lyn', 'mro'],\n ['lyn', 'maf'],\n ['lyn', 'jhz'],\n ['mro', 'agri'],\n ['luc', 'joka'],\n ['mey', 'art'],\n ['mro', 'maf'],\n ['chg', 'agri'],\n ['mape', 'maf'],\n ['joka', 'chg'],\n ['mro', 'jhz'],\n ['luc', 'chg'],\n ['maf', 'jhz'],\n ['chg', 'boh'],\n ['jhz', 'joka'],\n ['maf', 'jhz'],\n ['art', 'rohe'],\n ['agri', 'joka'],\n ['joka', 'boh'],\n ['maf', 'luc'],\n ['lyn', 'maf'],\n ['lyn', 'maf'],\n ['mro', 'chg'],\n ['maf', 'mro'],\n ['joka', 'luc'],\n ['jhz', 'luc'],\n ['mey', 'rohe'],\n ['lyn', 'boh'],\n ['joka', 'boh'],\n ['chg', 'mro'],\n ['luc', 'agri'],\n ['chg', 'agri'],\n ['mro', 'lyn'],\n ['jhz', 'maf'],\n ['jhz', 'boh'],\n ['lyn', 'maf'],\n ['maf', 'lyn'],\n ['chg', 'mro'],\n ['joka', 'boh'],\n ['maf', 'jhz'],\n ['mey', 'rohe'],\n ['jhz', 'chg'],\n ['maf', 'joka'],\n ['joka', 'jhz'],\n ['joka', 'agri'],\n ['lyn', 'bm', 'maf'],\n ['lyn', 'art'],\n ['chg', 'boh'],\n ['chg', 'boh'],\n ['art', 'mey'],\n ['jhz', 'boh'],\n ['joka', 'lyn'],\n ['maf', 'boh'],\n ['joka', 'maf'],\n ['joka', 'maf'],\n ['cj', 'nf'],\n ['maf', 'lyn'],\n ['sl', 'mro'],\n ['maf', 'mro'],\n ['boh', 'mro'],\n ['ka', 'chg'],\n ['maf', 'mro'],\n ['nf', 'ka'],\n ['ka', 'nf'],\n ['mro', 'agri'],\n ['bm', 'boh'],\n ['chg', 'lyn'],\n ['chg', 'agri'],\n ['cj', 'ka'],\n ['mro', 'boh'],\n ['joka', 'boh'],\n ['ka', 'art'],\n ['chg', 'mro'],\n ['cj', 'ap'],\n ['lyn', 'mro', 'maf'],\n ['sl', 'mro'],\n ['mro', 'agri'],\n ['maf', 'mro'],\n ['chg', 'mro'],\n ['sl', 'mro'],\n ['lyn', 'joka'],\n ['es', 'mro', 'boh'],\n ['lyn', 'chg'],\n ['lyn', 'joka'],\n ['ttr', 'sl'],\n ['chg', 'boh'],\n ['mey', 'art'],\n ['lyn', 'joka'],\n ['lyn', 'joka'],\n ['chg', 'lyn'],\n ['boh', 'chg'],\n ['boh', 'lyn'],\n ['joka', 'boh'],\n ['maf', 'chg'],\n ['lyn', 'swd'],\n ['lyn', 'boh'],\n ['lyn', 'mro'],\n ['agri', 'swd'],\n ['chg', 'lyn'],\n ['mey', 'rohe'],\n ['joka', 'lyn'],\n ['maf', 'agri'],\n ['art', 'rohe'],\n ['maf', 'boh'],\n ['mro', 'chg'],\n ['maf', 'agri'],\n ['mey', 'rohe'],\n ['lyn', 'chg'],\n ['mey', 'rohe'],\n ['mey', 'rohe'],\n ['mro', 'maf'],\n ['lyn', 'swd'],\n ['joka', 'maf'],\n ['mey', 'art'],\n ['maf', 'joka'],\n ['agri', 'maf'],\n ['mey', 'rohe'],\n ['boh', 'mro'],\n ['ka', 'boh'],\n ['lyn', 'maf'],\n ['mey', 'rohe'],\n ['mey', 'art'],\n ['mey', 'rohe'],\n ['mey', 'rohe'],\n ['ap', 'cj'],\n ['lyn', 'maf'],\n ['mey', 'art'],\n ['mey', 'art'],\n ['joka', 'swd'],\n ['mey', 'rohe'],\n ['joka', 'lyn'],\n ['joka', 'swd'],\n ['joka', 'lyn'],\n ['lyn', 'swd'],\n ['mro', 'agri'],\n ['agri', 'swd'],\n ['maf', 'mro'],\n ['maf', 'mro'],\n ['mey', 'rohe'],\n ['mey', 'rohe'],\n ['mey', 'rohe'],\n ['ttr', 'sl'],\n ['mro', 'agri'],\n ['mey', 'art'],\n ['mey', 'rohe'],\n ['maf', 'lyn'],\n ['chg', 'mro'],\n ['chg', 'mro'],\n ['joka', 'chg'],\n ['chg', 'ra'],\n ['mey', 'rohe'],\n ['joka', 'lyn'],\n ['maf', 'swd'],\n ['sl', 'ra'],\n ['nf', 'cj'],\n ['mey', 'rohe'],\n ['mey', 'rohe'],\n ['mey', 'rohe'],\n ['ra', 'lyn'],\n ['lyn', 'agri'],\n ['rohe', 'mey'],\n ['art', 'mey'],\n ['art', 'mey'],\n ['swd', 'ra'],\n ['chg', 'mro'],\n ['art', 'mey'],\n ['lyn', 'joka'],\n ['ka', 'nf'],\n ['chg', 'ka'],\n ['mey', 'art'],\n ['mey', 'art'],\n ['maf', 'lyn'],\n ['rohe', 'mey'],\n ['lyn', 'ra'],\n ['maf', 'mro'],\n ['sl', 'ttr'],\n ['joka', 'lyn'],\n ['joka', 'lyn'],\n ['ts', 'mro'],\n ['mey', 'rohe'],\n ['maf', 'ra'],\n ['lyn', 'ala'],\n ['lyn', 'maf'],\n ['ra', 'chg'],\n ['mey', 'rohe'],\n ['agri', 'ra'],\n ['mro', 'lyn'],\n ['agri', 'rob', 'mro'],\n ['sl', 'lyn'],\n ['mro', 'agri'],\n ['mro', 'agri'],\n ['lyn', 'ala'],\n ['lyn', 'ala'],\n ['mro', 'ra'],\n ['lyn', 'mro', 'ra'],\n ['lyn', 'sie'],\n ['lyn', 'rob'],\n ['rob', 'joh', 'ra'],\n ['mro', 'joka'],\n ['mey', 'rohe'],\n ['ra', 'maf'],\n ['mro', 'ala'],\n ['mey', 'art'],\n ['joka', 'ra', 'ala'],\n ['joka', 'agri'],\n ['maf', 'mro'],\n ['ts', 'cj'],\n ['mro', 'maf'],\n ['art', 'mro'],\n ['mro', 'rob'],\n ['ra', 'chl'],\n ['aku', 'mro'],\n ['ka', 'nf'],\n ['mey', 'art'],\n ['es', 'red'],\n ['agri', 'red'],\n ['mro', 'pm'],\n ['mro', 'ra'],\n ['ic', 'ra'],\n ['lyn', 'agri'],\n ['mro', 'aku'],\n ['joka', 'chl'],\n ['art', 'rohe'],\n ['maf', 'lyn'],\n ['chl', 'aku'],\n ['joka', 'rob'],\n ['rohe', 'mey'],\n ['aku', 'ra'],\n ['lyn', 'ic'],\n ['es', 'red'],\n ['mey', 'rohe'],\n ['maf', 'mro'],\n ['art', 'mey'],\n ['maf', 'agri'],\n ['art', 'mey'],\n ['aku', 'ra'],\n ['ic', 'maf', 'mro'],\n ['sro', 'bm'],\n ['es', 'red'],\n ['lyn', 'rob'],\n ['rob', 'ra'],\n ['maf', 'chl'],\n ['ic', 'mro'],\n ['art', 'mey'],\n ['maf', 'lyn'],\n ['maf', 'mro'],\n ['ic', 'mro'],\n ['aku', 'rob'],\n ['es', 'red'],\n ['rob', 'mro'],\n ['rob', 'maf'],\n ['maf', 'mro'],\n ['art', 'mey'],\n ['mro', 'ra'],\n ['mro', 'maf'],\n ['chl', 'aku'],\n ['ic', 'lyn'],\n ['ic', 'ra'],\n ['rob', 'mro'],\n ['joka', 'ic'],\n ['joka', 'ra'],\n ['art', 'mey'],\n ['maf', 'chl'],\n ['chl', 'joka'],\n ['maf', 'chl'],\n ['joka', 'chl'],\n ['ra', 'mro'],\n ['maf', 'lyn'],\n ['lyn', 'maf'],\n ['mro', 'rob'],\n ['ka', 'bro'],\n ['mey', 'art'],\n ['lyn', 'bro'],\n ['mey', 'art'],\n ['mey', 'art'],\n ['maf', 'ra'],\n ['maf', 'agri'],\n ['ahr', 'ic'],\n ['joka', 'mro'],\n ['lyn', 'maf'],\n ['lyn', 'maf'],\n ['mey', 'rohe'],\n ['rob', 'chl'],\n ['mey', 'art'],\n ['mey', 'art'],\n ['lyn', 'maf'],\n ['mey', 'art'],\n ['maf', 'rob'],\n ['maf', 'joka'],\n ['maf', 'aku'],\n ['mey', 'rohe'],\n ['mey', 'rohe'],\n ['mey', 'rohe'],\n ['mey', 'rohe'],\n ['art', 'mey'],\n ['aku', 'mro'],\n ['chl', 'ic'],\n ['ic', 'mro'],\n ['lyn', 'maf'],\n ['mey', 'art'],\n ['mey', 'art'],\n ['ahr', 'mro'],\n ['mape', 'mro'],\n ['lyn', 'maf'],\n ['art', 'ka'],\n ['chl', 'ahr'],\n ['chl', 'ahr'],\n ['ic', 'joka'],\n ['mey', 'art'],\n ['mro', 'maf'],\n ['mey', 'rohe'],\n ['ic', 'mro'],\n ['maf', 'lyn'],\n ['lyn', 'mro', 'joh'],\n ['maf', 'mro'],\n ['maf', 'mro'],\n ['mey', 'rohe'],\n ['chl', 'ic'],\n ['mey', 'art'],\n ['mey', 'art'],\n ['mro', 'ra'],\n ['mey', 'art'],\n ['lyn', 'mro'],\n ['nf', 'cgr', 'ka'],\n ['mey', 'rohe'],\n ['rohe', 'mey'],\n ['rohe', 'mey'],\n ['ra', 'red'],\n ['lyn', 'maf'],\n ['joka', 'ra'],\n ['chl', 'sl'],\n ['mro', 'ahr'],\n ['art', 'mey'],\n ['lyn', 'ahr'],\n ['maf', 'lyn'],\n ['mro', 'chl'],\n ['mro', 'maf'],\n ['rohe', 'mey'],\n ['sl', 'maf'],\n ['mey', 'art'],\n ['maf', 'chl'],\n ['ka', 'nf'],\n ['bro', 'ka'],\n ['chl', 'ic'],\n ['mey', 'rohe'],\n ['ahr', 'mro'],\n ['ka', 'bro'],\n ['mey', 'art'],\n ['mey', 'art'],\n ['art', 'mey'],\n ['mey', 'rohe'],\n ['mey', 'art'],\n ['mey', 'art'],\n ['mey', 'art'],\n ['art', 'mey'],\n ['mey', 'rohe'],\n ['mey', 'rohe'],\n ['ahr', 'sl'],\n ['mey', 'rohe'],\n ['sl', 'maf'],\n ['ahr', 'sl'],\n ['sl', 'chl'],\n ['art', 'mey'],\n ['mey', 'art'],\n ['maf', 'chl'],\n ['sl', 'mro'],\n ['ahr', 'chl'],\n ['nf', 'ts'],\n ['bro', 'nf']]"
     },
     "execution_count": 18,
     "metadata": {},
     "output_type": "execute_result"
    }
   ],
   "source": [
    "edges = authors_with_articles.groupby('id')['name'].apply(list).tolist()\n",
    "edges"
   ],
   "metadata": {
    "collapsed": false,
    "ExecuteTime": {
     "end_time": "2023-08-09T17:09:12.486648437Z",
     "start_time": "2023-08-09T17:09:12.369665657Z"
    }
   },
   "id": "e0f7eff758c28f92"
  },
  {
   "cell_type": "code",
   "execution_count": 19,
   "outputs": [
    {
     "name": "stdout",
     "output_type": "stream",
     "text": [
      "718\n"
     ]
    }
   ],
   "source": [
    "# print len edges\n",
    "print(len(edges))"
   ],
   "metadata": {
    "collapsed": false,
    "ExecuteTime": {
     "end_time": "2023-08-09T17:09:12.487303198Z",
     "start_time": "2023-08-09T17:09:12.392556240Z"
    }
   },
   "id": "4d5738d90ba7fe37"
  },
  {
   "cell_type": "code",
   "execution_count": 20,
   "outputs": [],
   "source": [
    "# remove edges with more than 2 names\n",
    "modified_edges = []\n",
    "for edge in edges:\n",
    "    if len(edge) > 2:\n",
    "        for i in range(len(edge)):\n",
    "            for j in range(i+1, len(edge)):\n",
    "                modified_edges.append([edge[i], edge[j]])\n",
    "    else:\n",
    "        modified_edges.append(edge)"
   ],
   "metadata": {
    "collapsed": false,
    "ExecuteTime": {
     "end_time": "2023-08-09T17:09:12.487526997Z",
     "start_time": "2023-08-09T17:09:12.394653205Z"
    }
   },
   "id": "fdaab6b90333d30c"
  },
  {
   "cell_type": "code",
   "execution_count": 21,
   "outputs": [],
   "source": [
    "edges = modified_edges"
   ],
   "metadata": {
    "collapsed": false,
    "ExecuteTime": {
     "end_time": "2023-08-09T17:09:12.488219237Z",
     "start_time": "2023-08-09T17:09:12.398669271Z"
    }
   },
   "id": "2544f90faea4ca66"
  },
  {
   "cell_type": "code",
   "execution_count": 22,
   "outputs": [],
   "source": [
    "static_color_map = {'Altenburg': (0.984313725490196, 0.6039215686274509, 0.6),\n",
    " 'Bad-Dueben': (0.9921568627450981, 0.7490196078431373, 0.43529411764705883),\n",
    " 'Borna': (0.8901960784313725, 0.10196078431372549, 0.10980392156862745),\n",
    " 'Delitzsch': (0.12156862745098039, 0.47058823529411764, 0.7058823529411765),\n",
    " 'Doebeln': (0.6980392156862745, 0.8745098039215686, 0.5411764705882353),\n",
    " 'Eilenburg': (1.0, 1.0, 0.6),\n",
    " 'Geithain': (0.6509803921568628, 0.807843137254902, 0.8901960784313725),\n",
    " 'Grimma': (0.6941176470588235, 0.34901960784313724, 0.1568627450980392),\n",
    " 'Kultur': (0.41568627450980394, 0.23921568627450981, 0.6039215686274509),\n",
    " 'Leipzig': (0.2, 0.6274509803921569, 0.17254901960784313),\n",
    " 'Mitteldeutschland': (0.6980392156862745, 0.8745098039215686, .5411764705882353),\n",
    " 'Schkeuditz': (1.0, 0.4980392156862745, 0.0),\n",
    " 'Specials': (0.12156862745098039, 0.47058823529411764, 0.7058823529411765),\n",
    " 'Sportbuzzer': (0.6509803921568628, 0.807843137254902, 0.8901960784313725),\n",
    " 'Wurzen': (0.792156862745098, 0.6980392156862745, 0.8392156862745098)}"
   ],
   "metadata": {
    "collapsed": false,
    "ExecuteTime": {
     "end_time": "2023-08-09T17:09:12.488424846Z",
     "start_time": "2023-08-09T17:09:12.441023602Z"
    }
   },
   "id": "827902d43761d48"
  },
  {
   "cell_type": "code",
   "execution_count": 30,
   "outputs": [
    {
     "data": {
      "text/plain": "<Figure size 600x600 with 1 Axes>",
      "image/png": "[encoded data removed]"
     },
     "metadata": {},
     "output_type": "display_data"
    }
   ],
   "source": [
    "graph = nx.Graph()\n",
    "graph.clear()\n",
    "\n",
    "# Count the occurrences of each edge\n",
    "edge_counts = {}\n",
    "for edge in edges:\n",
    "    key = tuple(sorted(edge))\n",
    "    edge_counts[key] = edge_counts.get(key, 0) + 1\n",
    "\n",
    "color_map = []\n",
    "\n",
    "# Add nodes and weighted edges to the graph\n",
    "for edge, count in edge_counts.items():\n",
    "    node1, node2 = edge\n",
    "    if count < 5:\n",
    "        continue\n",
    "    if not graph.has_node(node1):\n",
    "        graph.add_node(node1)\n",
    "        # add a color to the node\n",
    "        color_map.append(static_color_map[author_departments[author_departments.name == node1].department.values[0]])\n",
    "    if not graph.has_node(node2):\n",
    "        graph.add_node(node2)\n",
    "        # add a color to the node\n",
    "        color_map.append(static_color_map[author_departments[author_departments.name == node1].department.values[0]])\n",
    "    graph.add_edge(node1, node2, weight=count)\n",
    "\n",
    "# display graph\n",
    "plt.figure(figsize=[6, 6])\n",
    "plt.title('Abbreviations connected by co-authorship\\n colored by department membership')\n",
    "nx.draw(graph, node_color=color_map, node_size=100, font_size=6.5, font_weight='bold', edge_color='gray')\n",
    "# Create a dummy plot for the legend (this won't be visible, but it's necessary to create a legend)\n",
    "import matplotlib.patches as mpatches\n",
    "legend_patches = [mpatches.Patch(color=color, label=label) for label, color in static_color_map.items()]\n",
    "plt.legend(handles=legend_patches, title='Department', loc='lower right')\n",
    "plt.savefig('../reports/figures/department_exploration/abbreviations_co_authors_department_membership.png', dpi=200)"
   ],
   "metadata": {
    "collapsed": false,
    "ExecuteTime": {
     "end_time": "2023-08-09T17:09:50.126493239Z",
     "start_time": "2023-08-09T17:09:49.859924521Z"
    }
   },
   "id": "29cfe4be6d713066"
  },
  {
   "cell_type": "code",
   "execution_count": null,
   "outputs": [],
   "source": [],
   "metadata": {
    "collapsed": false
   },
   "id": "e2f32922d6d3ba06"
  }
 ],
 "metadata": {
  "kernelspec": {
   "name": "lvz_venv",
   "language": "python",
   "display_name": "lvz_venv"
  },
  "language_info": {
   "codemirror_mode": {
    "name": "ipython",
    "version": 2
   },
   "file_extension": ".py",
   "mimetype": "text/x-python",
   "name": "python",
   "nbconvert_exporter": "python",
   "pygments_lexer": "ipython2",
   "version": "2.7.6"
  }
 },
 "nbformat": 4,
 "nbformat_minor": 5
}
