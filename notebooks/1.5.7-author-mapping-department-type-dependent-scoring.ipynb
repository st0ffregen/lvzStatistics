{
 "cells": [
  {
   "cell_type": "markdown",
   "source": [
    "This notebook computes the full_name/abbreviation share for each department that takes into account the departments likelihood to publish articles under the full name or the abbreviation. We can then scale the number of articles written in that department by the factor 50/abbreviation_share if the author entity is an abbreviation and 50/full_name_share if the author entity is a full name."
   ],
   "metadata": {
    "collapsed": false
   },
   "id": "f199f0664df45184"
  },
  {
   "cell_type": "code",
   "execution_count": 1,
   "id": "initial_id",
   "metadata": {
    "collapsed": true,
    "ExecuteTime": {
     "end_time": "2024-01-24T09:38:09.054348970Z",
     "start_time": "2024-01-24T09:38:09.050104884Z"
    }
   },
   "outputs": [],
   "source": [
    "import json\n",
    "import sqlite3\n",
    "\n",
    "import pandas as pd\n",
    "\n",
    "from src.models.MatchingType import MatchingType"
   ]
  },
  {
   "cell_type": "code",
   "outputs": [],
   "source": [
    "con = sqlite3.connect('../data/interim/articles_with_author_mapping.db')\n",
    "cur = con.cursor()"
   ],
   "metadata": {
    "collapsed": false,
    "ExecuteTime": {
     "end_time": "2024-01-24T09:38:09.055357578Z",
     "start_time": "2024-01-24T09:38:09.052736395Z"
    }
   },
   "id": "fa6fc88e70846f2b",
   "execution_count": 2
  },
  {
   "cell_type": "code",
   "outputs": [],
   "source": [
    "# get all articles with affiliated authors that are not organizations\n",
    "rows = cur.execute(\"SELECT ar.id, ar.article_namespace_array, ar.published_at, a.name, a.abbreviation, a.matching_type FROM articles ar join unmapped_article_authors aa on ar.id = aa.article_id join unmapped_authors a on aa.author_id = a.id where a.matching_type != ?\", (MatchingType.ORGANIZATION_MATCH.name, )).fetchall()"
   ],
   "metadata": {
    "collapsed": false,
    "ExecuteTime": {
     "end_time": "2024-01-24T09:38:29.813335786Z",
     "start_time": "2024-01-24T09:38:09.054646908Z"
    }
   },
   "id": "364a95f63742a5de",
   "execution_count": 3
  },
  {
   "cell_type": "code",
   "outputs": [],
   "source": [
    "departments = pd.DataFrame(columns=['id', 'department', 'published_at', 'name', 'abbreviation', 'matching_type'], data=rows)"
   ],
   "metadata": {
    "collapsed": false,
    "ExecuteTime": {
     "end_time": "2024-01-24T10:09:17.808448713Z",
     "start_time": "2024-01-24T10:09:17.732660846Z"
    }
   },
   "id": "7a5a55208b8c9aaf",
   "execution_count": 56
  },
  {
   "cell_type": "code",
   "outputs": [],
   "source": [
    "departments[\"department\"] = departments[\"department\"].apply(lambda x: json.loads(x))\n",
    "departments = departments.explode('department')"
   ],
   "metadata": {
    "collapsed": false,
    "ExecuteTime": {
     "end_time": "2024-01-24T10:09:18.612130590Z",
     "start_time": "2024-01-24T10:09:18.062706796Z"
    }
   },
   "id": "c154939638a1cb3b",
   "execution_count": 57
  },
  {
   "cell_type": "code",
   "outputs": [],
   "source": [
    "departments.loc[departments[\"matching_type\"] == MatchingType.FUZZY_MATCH, \"matching_type\"] = MatchingType.IS_ABBREVIATION\n",
    "departments.loc[departments[\"matching_type\"] == MatchingType.DIRECT_MATCH, \"matching_type\"] = MatchingType.IS_ABBREVIATION"
   ],
   "metadata": {
    "collapsed": false,
    "ExecuteTime": {
     "end_time": "2024-01-24T10:09:18.657007780Z",
     "start_time": "2024-01-24T10:09:18.623012942Z"
    }
   },
   "id": "1b48a3b3cea4e2ae",
   "execution_count": 58
  },
  {
   "cell_type": "code",
   "outputs": [],
   "source": [
    "# filter out departments that do not have both the matching_types\n",
    "departments = departments.groupby('department').filter(lambda x: all(match_type in x['matching_type'].values for match_type in ['IS_ABBREVIATION', 'IS_FULL_NAME']))"
   ],
   "metadata": {
    "collapsed": false,
    "ExecuteTime": {
     "end_time": "2024-01-24T10:09:18.846830605Z",
     "start_time": "2024-01-24T10:09:18.672431580Z"
    }
   },
   "id": "497e588b2e1667e8",
   "execution_count": 59
  },
  {
   "cell_type": "code",
   "outputs": [],
   "source": [
    "# get count for matching type\n",
    "grouped_departments = departments.groupby([\"department\", \"matching_type\"]).size().reset_index(name='count').sort_values(['department', 'matching_type', 'count'], ascending=[True, True, False])\n"
   ],
   "metadata": {
    "collapsed": false,
    "ExecuteTime": {
     "end_time": "2024-01-24T10:09:18.903171025Z",
     "start_time": "2024-01-24T10:09:18.854860278Z"
    }
   },
   "id": "dee49fc29458df86",
   "execution_count": 60
  },
  {
   "cell_type": "code",
   "outputs": [],
   "source": [
    "# Convert 'matching_type' column to categorical to ensure proper sorting\n",
    "grouped_departments['matching_type'] = pd.Categorical(grouped_departments['matching_type'], categories=['IS_ABBREVIATION', 'IS_FULL_NAME'], ordered=True)\n",
    "\n",
    "# Pivot the DataFrame to have separate columns for each matching type\n",
    "pivoted_departments = grouped_departments.pivot(index='department', columns='matching_type', values='count').reset_index()\n",
    "\n",
    "# Calculate shares\n",
    "pivoted_departments['abbreviation_share'] = pivoted_departments['IS_ABBREVIATION'] / (pivoted_departments['IS_ABBREVIATION'] + pivoted_departments['IS_FULL_NAME'])\n",
    "pivoted_departments['full_name_share'] = pivoted_departments['IS_FULL_NAME'] / (pivoted_departments['IS_ABBREVIATION'] + pivoted_departments['IS_FULL_NAME'])\n",
    "\n",
    "# create new df with ['department', 'abbreviation_share', 'full_name_share'] and a normal index\n",
    "departments_scaler_score = pivoted_departments[['department', 'abbreviation_share', 'full_name_share']].copy()\n",
    "# set default index name\n",
    "departments_scaler_score.index = range(len(departments_scaler_score))\n"
   ],
   "metadata": {
    "collapsed": false,
    "ExecuteTime": {
     "end_time": "2024-01-24T10:09:38.446262372Z",
     "start_time": "2024-01-24T10:09:38.405852744Z"
    }
   },
   "id": "9c88f5044efdece9",
   "execution_count": 62
  },
  {
   "cell_type": "markdown",
   "source": [
    "Note: the departments_scaler_score df keeps the name matching_type as the index name for some reason. TODO: fix this  \n"
   ],
   "metadata": {
    "collapsed": false
   },
   "id": "2eb2e25ef44dc9df"
  },
  {
   "cell_type": "markdown",
   "source": [
    "The scaler is then given by 50/share for each department. Each gets multiplied with the article count of each department for the entity."
   ],
   "metadata": {
    "collapsed": false
   },
   "id": "955802ebe8368864"
  },
  {
   "cell_type": "code",
   "outputs": [
    {
     "data": {
      "text/plain": "matching_type                      department  abbreviation_share  \\\n0                                   1.-FC-Lok            0.539062   \n1              30-Jahre-Friedliche-Revolution            0.100000   \n2                            7-Seen-Wanderung            0.666667   \n3                                         Abo            0.147059   \n4                           Achtung-Baustelle            0.465517   \n..                                        ...                 ...   \n140                       Wirtschaft-Regional            0.245983   \n141                                    Wissen            0.500000   \n142                                    Wurzen            0.084559   \n143                               Zoo-Leipzig            0.915789   \n144                           Zoo-Nachrichten            0.932432   \n\nmatching_type  full_name_share  \n0                     0.460938  \n1                     0.900000  \n2                     0.333333  \n3                     0.852941  \n4                     0.534483  \n..                         ...  \n140                   0.754017  \n141                   0.500000  \n142                   0.915441  \n143                   0.084211  \n144                   0.067568  \n\n[145 rows x 3 columns]",
      "text/html": "<div>\n<style scoped>\n    .dataframe tbody tr th:only-of-type {\n        vertical-align: middle;\n    }\n\n    .dataframe tbody tr th {\n        vertical-align: top;\n    }\n\n    .dataframe thead th {\n        text-align: right;\n    }\n</style>\n<table border=\"1\" class=\"dataframe\">\n  <thead>\n    <tr style=\"text-align: right;\">\n      <th>matching_type</th>\n      <th>department</th>\n      <th>abbreviation_share</th>\n      <th>full_name_share</th>\n    </tr>\n  </thead>\n  <tbody>\n    <tr>\n      <th>0</th>\n      <td>1.-FC-Lok</td>\n      <td>0.539062</td>\n      <td>0.460938</td>\n    </tr>\n    <tr>\n      <th>1</th>\n      <td>30-Jahre-Friedliche-Revolution</td>\n      <td>0.100000</td>\n      <td>0.900000</td>\n    </tr>\n    <tr>\n      <th>2</th>\n      <td>7-Seen-Wanderung</td>\n      <td>0.666667</td>\n      <td>0.333333</td>\n    </tr>\n    <tr>\n      <th>3</th>\n      <td>Abo</td>\n      <td>0.147059</td>\n      <td>0.852941</td>\n    </tr>\n    <tr>\n      <th>4</th>\n      <td>Achtung-Baustelle</td>\n      <td>0.465517</td>\n      <td>0.534483</td>\n    </tr>\n    <tr>\n      <th>...</th>\n      <td>...</td>\n      <td>...</td>\n      <td>...</td>\n    </tr>\n    <tr>\n      <th>140</th>\n      <td>Wirtschaft-Regional</td>\n      <td>0.245983</td>\n      <td>0.754017</td>\n    </tr>\n    <tr>\n      <th>141</th>\n      <td>Wissen</td>\n      <td>0.500000</td>\n      <td>0.500000</td>\n    </tr>\n    <tr>\n      <th>142</th>\n      <td>Wurzen</td>\n      <td>0.084559</td>\n      <td>0.915441</td>\n    </tr>\n    <tr>\n      <th>143</th>\n      <td>Zoo-Leipzig</td>\n      <td>0.915789</td>\n      <td>0.084211</td>\n    </tr>\n    <tr>\n      <th>144</th>\n      <td>Zoo-Nachrichten</td>\n      <td>0.932432</td>\n      <td>0.067568</td>\n    </tr>\n  </tbody>\n</table>\n<p>145 rows × 3 columns</p>\n</div>"
     },
     "execution_count": 64,
     "metadata": {},
     "output_type": "execute_result"
    }
   ],
   "source": [
    "departments_scaler_score"
   ],
   "metadata": {
    "collapsed": false,
    "ExecuteTime": {
     "end_time": "2024-01-24T10:10:04.987457967Z",
     "start_time": "2024-01-24T10:10:04.972972139Z"
    }
   },
   "id": "d66d65ab7edafd16",
   "execution_count": 64
  }
 ],
 "metadata": {
  "kernelspec": {
   "name": "lvz_venv",
   "language": "python",
   "display_name": "lvz_venv"
  },
  "language_info": {
   "codemirror_mode": {
    "name": "ipython",
    "version": 2
   },
   "file_extension": ".py",
   "mimetype": "text/x-python",
   "name": "python",
   "nbconvert_exporter": "python",
   "pygments_lexer": "ipython2",
   "version": "2.7.6"
  }
 },
 "nbformat": 4,
 "nbformat_minor": 5
}
