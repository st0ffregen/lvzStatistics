{
 "cells": [
  {
   "cell_type": "markdown",
   "source": [
    "This script computes a score between 0 and 1 that indicates how similar the departments of an author entity are to the departments of an abbreviation entity. The score is computed by comparing the two department arrays with the wasserstein distance and penalizing the score by the percentage of departments that are not in both arrays. The score is normalized by the maximum wasserstein distance and the maximum penalization score. The score is closer to 0 if the two department arrays are identical and 1 if they are completely different."
   ],
   "metadata": {
    "collapsed": false
   },
   "id": "47fbb4828127852a"
  },
  {
   "cell_type": "code",
   "execution_count": 1,
   "outputs": [],
   "source": [
    "import json\n",
    "import sqlite3\n",
    "\n",
    "import matplotlib.pyplot as plt\n",
    "import numpy as np\n",
    "import pandas as pd\n",
    "import seaborn as sns\n",
    "import tqdm\n",
    "from scipy.stats import wasserstein_distance\n",
    "\n",
    "from src.models.MatchingType import MatchingType\n",
    "from src.utils.author_mapping.determine_department_entity_shares import determine_departments_abbreviation_and_full_name_shares\n"
   ],
   "metadata": {
    "collapsed": false,
    "ExecuteTime": {
     "end_time": "2024-01-24T21:07:05.137717425Z",
     "start_time": "2024-01-24T21:07:05.126942620Z"
    }
   },
   "id": "3145378997f1fc4"
  },
  {
   "cell_type": "code",
   "outputs": [],
   "source": [
    "DEPARTMENT_THRESHOLD = 10\n",
    "PENALIZATION_SCORE_SCALAR = 1\n",
    "SMALL_DEPARTMENT_NUMBER_PENALTY_Y_INTERSECT = 0.2\n",
    "SMALL_DEPARTMENT_NUMBER_PENALTY_SLOPE = -0.05"
   ],
   "metadata": {
    "collapsed": false,
    "ExecuteTime": {
     "end_time": "2024-01-24T21:07:05.758905771Z",
     "start_time": "2024-01-24T21:07:05.751147779Z"
    }
   },
   "id": "3641485d06318877",
   "execution_count": 2
  },
  {
   "cell_type": "markdown",
   "source": [
    "## Fetch and prepare the data"
   ],
   "metadata": {
    "collapsed": false
   },
   "id": "d802f11ac59cf83"
  },
  {
   "cell_type": "code",
   "execution_count": 3,
   "outputs": [],
   "source": [
    "con = sqlite3.connect('../data/interim/articles_with_author_mapping.db')\n",
    "cur = con.cursor()"
   ],
   "metadata": {
    "collapsed": false,
    "ExecuteTime": {
     "end_time": "2024-01-24T21:07:07.350367222Z",
     "start_time": "2024-01-24T21:07:07.305814806Z"
    }
   },
   "id": "c1f585c000cb7a7e"
  },
  {
   "cell_type": "code",
   "execution_count": 34,
   "outputs": [],
   "source": [
    "# get all articles with affiliated authors that are not organizations\n",
    "rows = cur.execute(\"SELECT ar.id, ar.article_namespace_array, ar.published_at, a.name, a.abbreviation, a.matching_type FROM articles ar join unmapped_article_authors aa on ar.id = aa.article_id join unmapped_authors a on aa.author_id = a.id where a.matching_type != ?\", (MatchingType.ORGANIZATION_MATCH.name, )).fetchall()"
   ],
   "metadata": {
    "collapsed": false,
    "ExecuteTime": {
     "end_time": "2024-01-24T21:15:33.860664311Z",
     "start_time": "2024-01-24T21:15:32.965141310Z"
    }
   },
   "id": "9a4804242e19806c"
  },
  {
   "cell_type": "code",
   "execution_count": 35,
   "outputs": [],
   "source": [
    "department_affiliation = pd.DataFrame(columns=['id', 'department', 'published_at', 'name', 'abbreviation', 'matching_type'], data=rows)"
   ],
   "metadata": {
    "collapsed": false,
    "ExecuteTime": {
     "end_time": "2024-01-24T21:15:34.458880830Z",
     "start_time": "2024-01-24T21:15:34.415275560Z"
    }
   },
   "id": "8b0ff3f652b2ef8b"
  },
  {
   "cell_type": "code",
   "outputs": [],
   "source": [
    "# get names where matching_type is only IS_FULL_NAME and never has another value\n",
    "not_matched_authors = department_affiliation.groupby('name').filter(\n",
    "    lambda x: all(match_type == MatchingType.IS_FULL_NAME for match_type in x['matching_type'].values))\n",
    "\n",
    "# remove rows where name in names_with_only_full_name\n",
    "department_affiliation = department_affiliation[~department_affiliation[\"name\"].isin(not_matched_authors[\"name\"].tolist())]"
   ],
   "metadata": {
    "collapsed": false,
    "ExecuteTime": {
     "end_time": "2024-01-24T21:15:34.909886871Z",
     "start_time": "2024-01-24T21:15:34.756892755Z"
    }
   },
   "id": "e273cfb5d894cf37",
   "execution_count": 36
  },
  {
   "cell_type": "code",
   "execution_count": 37,
   "outputs": [],
   "source": [
    "department_affiliation[\"department\"] = department_affiliation[\"department\"].apply(lambda x: json.loads(x))\n",
    "department_affiliation = department_affiliation.explode('department')"
   ],
   "metadata": {
    "collapsed": false,
    "ExecuteTime": {
     "end_time": "2024-01-24T21:15:35.929894421Z",
     "start_time": "2024-01-24T21:15:35.252680444Z"
    }
   },
   "id": "67ac771f9cd35cef"
  },
  {
   "cell_type": "code",
   "outputs": [
    {
     "data": {
      "text/plain": "            id     department               published_at                 name  \\\n0         1504         Region  2021-12-10T06:22:00+00:00  Mathias Schönknecht   \n0         1504      Delitzsch  2021-12-10T06:22:00+00:00  Mathias Schönknecht   \n1         1505         Region  2021-12-10T05:27:19+00:00           Kay Würker   \n1         1505      Altenburg  2021-12-10T05:27:19+00:00           Kay Würker   \n2         1507        Leipzig  2021-12-10T06:01:00+00:00        Andreas Dunte   \n...        ...            ...                        ...                  ...   \n166024  367703  Markranstaedt  2010-01-01T17:14:06+00:00     Kendra Reinhardt   \n166025  367705         Region  2010-01-01T17:32:16+00:00      Thomas Steingen   \n166025  367705      Delitzsch  2010-01-01T17:32:16+00:00      Thomas Steingen   \n166027  367709        Leipzig  2010-01-01T22:35:30+00:00        Jens Rometsch   \n166027  367709        Lokales  2010-01-01T22:35:30+00:00        Jens Rometsch   \n\n       abbreviation matching_type  \n0              None  IS_FULL_NAME  \n0              None  IS_FULL_NAME  \n1              None  IS_FULL_NAME  \n1              None  IS_FULL_NAME  \n2              None  IS_FULL_NAME  \n...             ...           ...  \n166024         None  IS_FULL_NAME  \n166025         None  IS_FULL_NAME  \n166025         None  IS_FULL_NAME  \n166027         None  IS_FULL_NAME  \n166027         None  IS_FULL_NAME  \n\n[302630 rows x 6 columns]",
      "text/html": "<div>\n<style scoped>\n    .dataframe tbody tr th:only-of-type {\n        vertical-align: middle;\n    }\n\n    .dataframe tbody tr th {\n        vertical-align: top;\n    }\n\n    .dataframe thead th {\n        text-align: right;\n    }\n</style>\n<table border=\"1\" class=\"dataframe\">\n  <thead>\n    <tr style=\"text-align: right;\">\n      <th></th>\n      <th>id</th>\n      <th>department</th>\n      <th>published_at</th>\n      <th>name</th>\n      <th>abbreviation</th>\n      <th>matching_type</th>\n    </tr>\n  </thead>\n  <tbody>\n    <tr>\n      <th>0</th>\n      <td>1504</td>\n      <td>Region</td>\n      <td>2021-12-10T06:22:00+00:00</td>\n      <td>Mathias Schönknecht</td>\n      <td>None</td>\n      <td>IS_FULL_NAME</td>\n    </tr>\n    <tr>\n      <th>0</th>\n      <td>1504</td>\n      <td>Delitzsch</td>\n      <td>2021-12-10T06:22:00+00:00</td>\n      <td>Mathias Schönknecht</td>\n      <td>None</td>\n      <td>IS_FULL_NAME</td>\n    </tr>\n    <tr>\n      <th>1</th>\n      <td>1505</td>\n      <td>Region</td>\n      <td>2021-12-10T05:27:19+00:00</td>\n      <td>Kay Würker</td>\n      <td>None</td>\n      <td>IS_FULL_NAME</td>\n    </tr>\n    <tr>\n      <th>1</th>\n      <td>1505</td>\n      <td>Altenburg</td>\n      <td>2021-12-10T05:27:19+00:00</td>\n      <td>Kay Würker</td>\n      <td>None</td>\n      <td>IS_FULL_NAME</td>\n    </tr>\n    <tr>\n      <th>2</th>\n      <td>1507</td>\n      <td>Leipzig</td>\n      <td>2021-12-10T06:01:00+00:00</td>\n      <td>Andreas Dunte</td>\n      <td>None</td>\n      <td>IS_FULL_NAME</td>\n    </tr>\n    <tr>\n      <th>...</th>\n      <td>...</td>\n      <td>...</td>\n      <td>...</td>\n      <td>...</td>\n      <td>...</td>\n      <td>...</td>\n    </tr>\n    <tr>\n      <th>166024</th>\n      <td>367703</td>\n      <td>Markranstaedt</td>\n      <td>2010-01-01T17:14:06+00:00</td>\n      <td>Kendra Reinhardt</td>\n      <td>None</td>\n      <td>IS_FULL_NAME</td>\n    </tr>\n    <tr>\n      <th>166025</th>\n      <td>367705</td>\n      <td>Region</td>\n      <td>2010-01-01T17:32:16+00:00</td>\n      <td>Thomas Steingen</td>\n      <td>None</td>\n      <td>IS_FULL_NAME</td>\n    </tr>\n    <tr>\n      <th>166025</th>\n      <td>367705</td>\n      <td>Delitzsch</td>\n      <td>2010-01-01T17:32:16+00:00</td>\n      <td>Thomas Steingen</td>\n      <td>None</td>\n      <td>IS_FULL_NAME</td>\n    </tr>\n    <tr>\n      <th>166027</th>\n      <td>367709</td>\n      <td>Leipzig</td>\n      <td>2010-01-01T22:35:30+00:00</td>\n      <td>Jens Rometsch</td>\n      <td>None</td>\n      <td>IS_FULL_NAME</td>\n    </tr>\n    <tr>\n      <th>166027</th>\n      <td>367709</td>\n      <td>Lokales</td>\n      <td>2010-01-01T22:35:30+00:00</td>\n      <td>Jens Rometsch</td>\n      <td>None</td>\n      <td>IS_FULL_NAME</td>\n    </tr>\n  </tbody>\n</table>\n<p>302630 rows × 6 columns</p>\n</div>"
     },
     "execution_count": 38,
     "metadata": {},
     "output_type": "execute_result"
    }
   ],
   "source": [
    "department_affiliation"
   ],
   "metadata": {
    "collapsed": false,
    "ExecuteTime": {
     "end_time": "2024-01-24T21:15:36.020041520Z",
     "start_time": "2024-01-24T21:15:36.018618307Z"
    }
   },
   "id": "4d921bb4622af564",
   "execution_count": 38
  },
  {
   "cell_type": "code",
   "outputs": [],
   "source": [
    "# Get unique name, abbreviation pairs where abbreviation or name is not nan\n",
    "name_abbreviation_dict = department_affiliation[(~department_affiliation[\"name\"].isna()) & (~department_affiliation[\"abbreviation\"].isna())][[\"name\", \"abbreviation\"]].drop_duplicates().values.tolist()"
   ],
   "metadata": {
    "collapsed": false,
    "ExecuteTime": {
     "end_time": "2024-01-24T21:15:38.101348719Z",
     "start_time": "2024-01-24T21:15:38.013779292Z"
    }
   },
   "id": "291efa31ef6ddde7",
   "execution_count": 39
  },
  {
   "cell_type": "markdown",
   "source": [
    "## Clean the data"
   ],
   "metadata": {
    "collapsed": false
   },
   "id": "7cdde3b3c218bb9c"
  },
  {
   "cell_type": "code",
   "outputs": [],
   "source": [
    "# remove rows where department equals \"Region\" or \"Nachrichten\" for being to unspecific\n",
    "department_affiliation = department_affiliation[department_affiliation.department != 'Region']\n",
    "department_affiliation = department_affiliation[department_affiliation.department != 'Nachrichten']"
   ],
   "metadata": {
    "collapsed": false,
    "ExecuteTime": {
     "end_time": "2024-01-24T21:15:39.474627884Z",
     "start_time": "2024-01-24T21:15:39.407441641Z"
    }
   },
   "id": "6420dc525ae7fc85",
   "execution_count": 40
  },
  {
   "cell_type": "code",
   "outputs": [],
   "source": [
    "# set name to None in rows that where matched to prevent from names being matched to articles where the abbreviation is connected to but not the name (e.g. prevent like we are before the proximity matching)\n",
    "department_affiliation.loc[~department_affiliation[\"abbreviation\"].isna(), \"name\"] = None"
   ],
   "metadata": {
    "collapsed": false,
    "ExecuteTime": {
     "end_time": "2024-01-24T21:15:39.857230081Z",
     "start_time": "2024-01-24T21:15:39.840925681Z"
    }
   },
   "id": "2d37bd1d3308e1f4",
   "execution_count": 41
  },
  {
   "cell_type": "markdown",
   "source": [
    "## Calculate the score"
   ],
   "metadata": {
    "collapsed": false
   },
   "id": "c6778439036cab47"
  },
  {
   "cell_type": "code",
   "outputs": [],
   "source": [
    "results = pd.DataFrame(columns=['name', 'abbreviation', 'wasserstein_distance', 'n_departments', 'n_not_overlapping_departments', 'penalization_score', 'score'])"
   ],
   "metadata": {
    "collapsed": false,
    "ExecuteTime": {
     "end_time": "2024-01-24T21:16:15.171316772Z",
     "start_time": "2024-01-24T21:16:15.163724933Z"
    }
   },
   "id": "ae630a97a020d4a9",
   "execution_count": 49
  },
  {
   "cell_type": "code",
   "outputs": [],
   "source": [
    "def scale_department_count(department_count: pd.DataFrame, departments_scaler_score: pd.DataFrame, key) -> pd.DataFrame:\n",
    "    # apply the scaling to each row\n",
    "    department_count[\"count\"] = department_count.apply(lambda x: scale_function(x, departments_scaler_score, key), axis=1)\n",
    "\n",
    "    return department_count\n",
    "\n",
    "def scale_function(row, departments_scaler_score, share_key):\n",
    "    # Note: does not scale if department name is not in departments_scaler_score\n",
    "\n",
    "    return int(row[\"count\"] * 0.5/departments_scaler_score[departments_scaler_score[\"department\"] == row[\"department\"]][share_key].values[0]) if row[\"department\"] in departments_scaler_score[\"department\"].tolist() else row[\"count\"]\n"
   ],
   "metadata": {
    "collapsed": false,
    "ExecuteTime": {
     "end_time": "2024-01-24T21:16:15.642386697Z",
     "start_time": "2024-01-24T21:16:15.639438409Z"
    }
   },
   "id": "f21d8b0ca0e6fa52",
   "execution_count": 50
  },
  {
   "cell_type": "code",
   "outputs": [
    {
     "name": "stderr",
     "output_type": "stream",
     "text": [
      "100%|██████████| 1/1 [00:00<00:00, 37.36it/s]\n"
     ]
    }
   ],
   "source": [
    "departments_scaler_score = determine_departments_abbreviation_and_full_name_shares(cur)\n",
    "\n",
    "# Iterate over all names and their abbreviations and fill the results dataframe\n",
    "for name, abbr in tqdm.tqdm(name_abbreviation_dict):\n",
    "    \n",
    "    departments_filtered_for_name = department_affiliation[(department_affiliation[\"name\"] == name)]\n",
    "    name_department_count = departments_filtered_for_name.groupby(['name', 'department']).size().reset_index(name='count').sort_values(['name', 'count'], ascending=[True, False])\n",
    "    \n",
    "    departments_filtered_for_abbr = department_affiliation[(department_affiliation[\"abbreviation\"] == abbr)]\n",
    "    abbr_department_count = departments_filtered_for_abbr.groupby(['abbreviation', 'department']).size().reset_index(name='count').sort_values(['abbreviation', 'count'], ascending=[True, False])\n",
    "    \n",
    "    # scale the article count up or down depending on the full_name/abbreviation share of the department\n",
    "    #abbr_department_count = scale_department_count(abbr_department_count, departments_scaler_score, \"abbreviation_share\")\n",
    "    #name_department_count = scale_department_count(name_department_count, departments_scaler_score, \"full_name_share\")\n",
    "\n",
    "    # remove departments with less than 10 articles to get rid of noise\n",
    "    # Note: this might result in a department not being in both lists anymore because it had less than 10 articles for one of the two entities (e.g. increasing the penalty)\n",
    "    name_department_count = name_department_count[name_department_count[\"count\"] >= DEPARTMENT_THRESHOLD]\n",
    "    abbr_department_count = abbr_department_count[abbr_department_count[\"count\"] >= DEPARTMENT_THRESHOLD]\n",
    "    \n",
    "    # get number of departments that for the author entity\n",
    "    n_departments_for_author = len(set(name_department_count[\"department\"].tolist() + abbr_department_count[\"department\"].tolist()))\n",
    "    \n",
    "    # get number of departments that are not in both lists (needed for penalization later)\n",
    "    n_not_overlapping_departments = len(set(name_department_count[\"department\"].tolist()) ^ set(abbr_department_count[\"department\"].tolist()))\n",
    "    \n",
    "    # remove departments that are not in both lists\n",
    "    name_department_count = name_department_count[name_department_count[\"department\"].isin(abbr_department_count[\"department\"].tolist())]\n",
    "    abbr_department_count = abbr_department_count[abbr_department_count[\"department\"].isin(name_department_count[\"department\"].tolist())]\n",
    "    \n",
    "    # create lists of the departments for each entity\n",
    "    name_department_list = name_department_count[\"department\"].tolist()\n",
    "    abbr_department_list = abbr_department_count[\"department\"].tolist()\n",
    "    \n",
    "    # order the two dataframes by the same order of departments\n",
    "    categorical = pd.Categorical(name_department_count[\"department\"], categories=name_department_count[\"department\"].tolist())\n",
    "    abbr_department_count = abbr_department_count.set_index(\"department\").reindex(categorical).reset_index()\n",
    "    \n",
    "    # get counts into a list each\n",
    "    name_department_count_list = name_department_count[\"count\"].tolist()\n",
    "    abbr_department_count_list = abbr_department_count[\"count\"].tolist()\n",
    "    \n",
    "    # if the two lists do not have any overlap, set the distance to one (worst case) as it is the same for the worst normalized score\n",
    "    # test if any element in abbr_department_count_list is in full_name_department_count_list\n",
    "    if not any(elem in name_department_list for elem in abbr_department_list):\n",
    "        score = 1\n",
    "        # add to results with loc\n",
    "        results.loc[len(results)] = [name, abbr, np.nan, n_departments_for_author, n_not_overlapping_departments, np.nan, 1]\n",
    "        continue\n",
    "        \n",
    "    # compare with wasserstein metric\n",
    "    w_distance = wasserstein_distance(range(0, len(name_department_count_list)), range(0, len(abbr_department_count_list)), name_department_count_list, abbr_department_count_list)\n",
    "    \n",
    "    # calculate penalization score\n",
    "    # construct linear function that penalizes the difference in department arrays\n",
    "    # it computes the score be taking the percentage of not overlapping departments \n",
    "    # it gets scaled by a factor alpha\n",
    "    small_department_number_penalty = max(0, SMALL_DEPARTMENT_NUMBER_PENALTY_Y_INTERSECT + (SMALL_DEPARTMENT_NUMBER_PENALTY_SLOPE * n_departments_for_author))  # add a small penalty for small numbers of departments\n",
    "    penalization_score = PENALIZATION_SCORE_SCALAR * (n_not_overlapping_departments / n_departments_for_author + small_department_number_penalty)\n",
    "    \n",
    "    # fill score later after normalization of both wasserstein distance and penalization score\n",
    "    score = np.nan\n",
    "        \n",
    "    # add to results\n",
    "    results.loc[len(results)] = [name, abbr, w_distance, n_departments_for_author, n_not_overlapping_departments, penalization_score, score]\n",
    "    "
   ],
   "metadata": {
    "collapsed": false,
    "ExecuteTime": {
     "end_time": "2024-01-24T21:16:18.311450836Z",
     "start_time": "2024-01-24T21:16:16.396845718Z"
    }
   },
   "id": "763b8d468c4dc27d",
   "execution_count": 51
  },
  {
   "cell_type": "code",
   "outputs": [],
   "source": [
    "# normalize wasserstein distance\n",
    "results[\"wasserstein_distance_normalized\"] = (results[\"wasserstein_distance\"] - results[\"wasserstein_distance\"].min()) / (results[\"wasserstein_distance\"].max() - results[\"wasserstein_distance\"].min())\n",
    "\n",
    "# normalize penalization score\n",
    "results[\"penalization_score_normalized\"] = (results[\"penalization_score\"] - results[\"penalization_score\"].min()) / (results[\"penalization_score\"].max() - results[\"penalization_score\"].min())  \n",
    "\n",
    "# compute score for rows where it is not set to 1\n",
    "results.loc[results[\"score\"].isna(), \"score\"] = 1/2 * (results[\"wasserstein_distance_normalized\"] + results[\"penalization_score_normalized\"])"
   ],
   "metadata": {
    "collapsed": false,
    "ExecuteTime": {
     "end_time": "2024-01-24T21:16:06.218872968Z",
     "start_time": "2024-01-24T21:16:06.176928971Z"
    }
   },
   "id": "67c262a35fb60631",
   "execution_count": 45
  },
  {
   "cell_type": "code",
   "outputs": [
    {
     "data": {
      "text/plain": "                    name abbreviation  wasserstein_distance  n_departments  \\\n0            Julia Tonne          jto              0.000000              7   \n1    Ekkehard Schulreich           es              0.270415              5   \n2          André Neumann           an              0.000000              3   \n3           Roger Dietze          red              0.000000             12   \n4       Janina Fleischer          jaf              0.063181              4   \n..                   ...          ...                   ...            ...   \n270        Jens Rometsch          joh              0.000000             11   \n271     Kendra Reinhardt           ka                   NaN              5   \n272      Nadja Topfstedt          jap                   NaN              2   \n273        Stefan Banitz          stb              0.128161              7   \n274      Christin Grödel          cgr                   NaN              3   \n\n     n_not_overlapping_departments  penalization_score     score  \\\n0                                6            0.857143  0.451128   \n1                                1            0.200000  0.146063   \n2                                2            0.716667  0.377193   \n3                               11            0.916667  0.482456   \n4                                2            0.500000  0.272691   \n..                             ...                 ...       ...   \n270                              9            0.818182  0.430622   \n271                              5                 NaN  1.000000   \n272                              2                 NaN  1.000000   \n273                              1            0.142857  0.094525   \n274                              3                 NaN  1.000000   \n\n     wasserstein_distance_normalized  penalization_score_normalized  \n0                           0.000000                       0.902256  \n1                           0.081600                       0.210526  \n2                           0.000000                       0.754386  \n3                           0.000000                       0.964912  \n4                           0.019065                       0.526316  \n..                               ...                            ...  \n270                         0.000000                       0.861244  \n271                              NaN                            NaN  \n272                              NaN                            NaN  \n273                         0.038674                       0.150376  \n274                              NaN                            NaN  \n\n[275 rows x 9 columns]",
      "text/html": "<div>\n<style scoped>\n    .dataframe tbody tr th:only-of-type {\n        vertical-align: middle;\n    }\n\n    .dataframe tbody tr th {\n        vertical-align: top;\n    }\n\n    .dataframe thead th {\n        text-align: right;\n    }\n</style>\n<table border=\"1\" class=\"dataframe\">\n  <thead>\n    <tr style=\"text-align: right;\">\n      <th></th>\n      <th>name</th>\n      <th>abbreviation</th>\n      <th>wasserstein_distance</th>\n      <th>n_departments</th>\n      <th>n_not_overlapping_departments</th>\n      <th>penalization_score</th>\n      <th>score</th>\n      <th>wasserstein_distance_normalized</th>\n      <th>penalization_score_normalized</th>\n    </tr>\n  </thead>\n  <tbody>\n    <tr>\n      <th>0</th>\n      <td>Julia Tonne</td>\n      <td>jto</td>\n      <td>0.000000</td>\n      <td>7</td>\n      <td>6</td>\n      <td>0.857143</td>\n      <td>0.451128</td>\n      <td>0.000000</td>\n      <td>0.902256</td>\n    </tr>\n    <tr>\n      <th>1</th>\n      <td>Ekkehard Schulreich</td>\n      <td>es</td>\n      <td>0.270415</td>\n      <td>5</td>\n      <td>1</td>\n      <td>0.200000</td>\n      <td>0.146063</td>\n      <td>0.081600</td>\n      <td>0.210526</td>\n    </tr>\n    <tr>\n      <th>2</th>\n      <td>André Neumann</td>\n      <td>an</td>\n      <td>0.000000</td>\n      <td>3</td>\n      <td>2</td>\n      <td>0.716667</td>\n      <td>0.377193</td>\n      <td>0.000000</td>\n      <td>0.754386</td>\n    </tr>\n    <tr>\n      <th>3</th>\n      <td>Roger Dietze</td>\n      <td>red</td>\n      <td>0.000000</td>\n      <td>12</td>\n      <td>11</td>\n      <td>0.916667</td>\n      <td>0.482456</td>\n      <td>0.000000</td>\n      <td>0.964912</td>\n    </tr>\n    <tr>\n      <th>4</th>\n      <td>Janina Fleischer</td>\n      <td>jaf</td>\n      <td>0.063181</td>\n      <td>4</td>\n      <td>2</td>\n      <td>0.500000</td>\n      <td>0.272691</td>\n      <td>0.019065</td>\n      <td>0.526316</td>\n    </tr>\n    <tr>\n      <th>...</th>\n      <td>...</td>\n      <td>...</td>\n      <td>...</td>\n      <td>...</td>\n      <td>...</td>\n      <td>...</td>\n      <td>...</td>\n      <td>...</td>\n      <td>...</td>\n    </tr>\n    <tr>\n      <th>270</th>\n      <td>Jens Rometsch</td>\n      <td>joh</td>\n      <td>0.000000</td>\n      <td>11</td>\n      <td>9</td>\n      <td>0.818182</td>\n      <td>0.430622</td>\n      <td>0.000000</td>\n      <td>0.861244</td>\n    </tr>\n    <tr>\n      <th>271</th>\n      <td>Kendra Reinhardt</td>\n      <td>ka</td>\n      <td>NaN</td>\n      <td>5</td>\n      <td>5</td>\n      <td>NaN</td>\n      <td>1.000000</td>\n      <td>NaN</td>\n      <td>NaN</td>\n    </tr>\n    <tr>\n      <th>272</th>\n      <td>Nadja Topfstedt</td>\n      <td>jap</td>\n      <td>NaN</td>\n      <td>2</td>\n      <td>2</td>\n      <td>NaN</td>\n      <td>1.000000</td>\n      <td>NaN</td>\n      <td>NaN</td>\n    </tr>\n    <tr>\n      <th>273</th>\n      <td>Stefan Banitz</td>\n      <td>stb</td>\n      <td>0.128161</td>\n      <td>7</td>\n      <td>1</td>\n      <td>0.142857</td>\n      <td>0.094525</td>\n      <td>0.038674</td>\n      <td>0.150376</td>\n    </tr>\n    <tr>\n      <th>274</th>\n      <td>Christin Grödel</td>\n      <td>cgr</td>\n      <td>NaN</td>\n      <td>3</td>\n      <td>3</td>\n      <td>NaN</td>\n      <td>1.000000</td>\n      <td>NaN</td>\n      <td>NaN</td>\n    </tr>\n  </tbody>\n</table>\n<p>275 rows × 9 columns</p>\n</div>"
     },
     "execution_count": 46,
     "metadata": {},
     "output_type": "execute_result"
    }
   ],
   "source": [
    "results"
   ],
   "metadata": {
    "collapsed": false,
    "ExecuteTime": {
     "end_time": "2024-01-24T21:16:06.678228623Z",
     "start_time": "2024-01-24T21:16:06.667908265Z"
    }
   },
   "id": "35095613084f81c6",
   "execution_count": 46
  },
  {
   "cell_type": "markdown",
   "source": [
    "## Visualizations that should be moved into another notebook"
   ],
   "metadata": {
    "collapsed": false
   },
   "id": "374db725068aa469"
  },
  {
   "cell_type": "markdown",
   "source": [
    "For this, manipulate the name_abbreviation_dict to only contain the entities that should be visualized and re-run the cells above. Note that the normalization then does not have any effect anymore."
   ],
   "metadata": {
    "collapsed": false
   },
   "id": "3181d951badad4b9"
  },
  {
   "cell_type": "code",
   "outputs": [],
   "source": [
    "full_name = (\"Matthias Puppe\")\n",
    "abbreviation = \"mpu\"\n",
    "name_abbreviation_dict = [(full_name, abbreviation)]"
   ],
   "metadata": {
    "collapsed": false,
    "ExecuteTime": {
     "end_time": "2024-01-24T21:16:09.744393207Z",
     "start_time": "2024-01-24T21:16:09.740675374Z"
    }
   },
   "id": "a4a4d0879f19a09d",
   "execution_count": 47
  },
  {
   "cell_type": "code",
   "outputs": [
    {
     "data": {
      "text/plain": "0.3139012233858309"
     },
     "execution_count": 48,
     "metadata": {},
     "output_type": "execute_result"
    }
   ],
   "source": [
    "# Note: run this directly after the running of the cells above with all the authors\n",
    "\n",
    "viz_d_wasserstein = results[(results[\"name\"] == full_name) & (results[\"abbreviation\"] == abbreviation)][\"wasserstein_distance\"].tolist()[0]\n",
    "viz_penalization_score = results[(results[\"name\"] == full_name) & (results[\"abbreviation\"] == abbreviation)][\"penalization_score\"].tolist()[0]\n",
    "viz_score = results[(results[\"name\"] == full_name) & (results[\"abbreviation\"] == abbreviation)][\"score\"].tolist()[0]\n",
    "viz_score"
   ],
   "metadata": {
    "collapsed": false,
    "ExecuteTime": {
     "end_time": "2024-01-24T21:16:10.190077580Z",
     "start_time": "2024-01-24T21:16:10.186068355Z"
    }
   },
   "id": "1fd4d4c5ed4b3469",
   "execution_count": 48
  },
  {
   "cell_type": "code",
   "outputs": [],
   "source": [
    "viz_data = pd.DataFrame(columns=['author_entity', 'department', 'count', 'entity_type'])\n",
    "# insert row for every row in name_department_list into viz_data with entity_type = \"author\" and name = full_name\n",
    "for department in name_department_list[:10]:\n",
    "    viz_data.loc[len(viz_data)] = [full_name, department, name_department_count[name_department_count[\"department\"] == department][\"count\"].tolist()[0], \"full name\"]\n",
    "# insert row for every row in abbr_department_list into viz_data with entity_type = \"abbreviation\" and name = abbreviation\n",
    "for department in abbr_department_list[:10]:\n",
    "    viz_data.loc[len(viz_data)] = [abbreviation, department, abbr_department_count[abbr_department_count[\"department\"] == department][\"count\"].tolist()[0], \"abbreviation\"]\n"
   ],
   "metadata": {
    "collapsed": false,
    "ExecuteTime": {
     "end_time": "2024-01-24T21:16:22.167106347Z",
     "start_time": "2024-01-24T21:16:22.161574306Z"
    }
   },
   "id": "60b7eabc6c7d2d33",
   "execution_count": 52
  },
  {
   "cell_type": "code",
   "outputs": [
    {
     "data": {
      "text/plain": "     author_entity             department  count   entity_type\n0   Matthias Puppe                Leipzig    726     full name\n1   Matthias Puppe      Mitteldeutschland    656     full name\n2   Matthias Puppe                Lokales    592     full name\n3   Matthias Puppe          Polizeiticker    148     full name\n4   Matthias Puppe            Sportbuzzer    110     full name\n5   Matthias Puppe  Polizeiticker-Leipzig    109     full name\n6   Matthias Puppe                 Kultur     97     full name\n7   Matthias Puppe             RB-Leipzig     44     full name\n8   Matthias Puppe              RB-Archiv     34     full name\n9   Matthias Puppe               Specials     34     full name\n10             mpu                Leipzig   1065  abbreviation\n11             mpu          Polizeiticker    673  abbreviation\n12             mpu  Polizeiticker-Leipzig    585  abbreviation\n13             mpu                Lokales    442  abbreviation\n14             mpu            Sportbuzzer    180  abbreviation\n15             mpu                 Kultur     80  abbreviation\n16             mpu      Mitteldeutschland     72  abbreviation\n17             mpu             BSG-Chemie     51  abbreviation\n18             mpu         Sport-Regional     50  abbreviation\n19             mpu               Specials     48  abbreviation",
      "text/html": "<div>\n<style scoped>\n    .dataframe tbody tr th:only-of-type {\n        vertical-align: middle;\n    }\n\n    .dataframe tbody tr th {\n        vertical-align: top;\n    }\n\n    .dataframe thead th {\n        text-align: right;\n    }\n</style>\n<table border=\"1\" class=\"dataframe\">\n  <thead>\n    <tr style=\"text-align: right;\">\n      <th></th>\n      <th>author_entity</th>\n      <th>department</th>\n      <th>count</th>\n      <th>entity_type</th>\n    </tr>\n  </thead>\n  <tbody>\n    <tr>\n      <th>0</th>\n      <td>Matthias Puppe</td>\n      <td>Leipzig</td>\n      <td>726</td>\n      <td>full name</td>\n    </tr>\n    <tr>\n      <th>1</th>\n      <td>Matthias Puppe</td>\n      <td>Mitteldeutschland</td>\n      <td>656</td>\n      <td>full name</td>\n    </tr>\n    <tr>\n      <th>2</th>\n      <td>Matthias Puppe</td>\n      <td>Lokales</td>\n      <td>592</td>\n      <td>full name</td>\n    </tr>\n    <tr>\n      <th>3</th>\n      <td>Matthias Puppe</td>\n      <td>Polizeiticker</td>\n      <td>148</td>\n      <td>full name</td>\n    </tr>\n    <tr>\n      <th>4</th>\n      <td>Matthias Puppe</td>\n      <td>Sportbuzzer</td>\n      <td>110</td>\n      <td>full name</td>\n    </tr>\n    <tr>\n      <th>5</th>\n      <td>Matthias Puppe</td>\n      <td>Polizeiticker-Leipzig</td>\n      <td>109</td>\n      <td>full name</td>\n    </tr>\n    <tr>\n      <th>6</th>\n      <td>Matthias Puppe</td>\n      <td>Kultur</td>\n      <td>97</td>\n      <td>full name</td>\n    </tr>\n    <tr>\n      <th>7</th>\n      <td>Matthias Puppe</td>\n      <td>RB-Leipzig</td>\n      <td>44</td>\n      <td>full name</td>\n    </tr>\n    <tr>\n      <th>8</th>\n      <td>Matthias Puppe</td>\n      <td>RB-Archiv</td>\n      <td>34</td>\n      <td>full name</td>\n    </tr>\n    <tr>\n      <th>9</th>\n      <td>Matthias Puppe</td>\n      <td>Specials</td>\n      <td>34</td>\n      <td>full name</td>\n    </tr>\n    <tr>\n      <th>10</th>\n      <td>mpu</td>\n      <td>Leipzig</td>\n      <td>1065</td>\n      <td>abbreviation</td>\n    </tr>\n    <tr>\n      <th>11</th>\n      <td>mpu</td>\n      <td>Polizeiticker</td>\n      <td>673</td>\n      <td>abbreviation</td>\n    </tr>\n    <tr>\n      <th>12</th>\n      <td>mpu</td>\n      <td>Polizeiticker-Leipzig</td>\n      <td>585</td>\n      <td>abbreviation</td>\n    </tr>\n    <tr>\n      <th>13</th>\n      <td>mpu</td>\n      <td>Lokales</td>\n      <td>442</td>\n      <td>abbreviation</td>\n    </tr>\n    <tr>\n      <th>14</th>\n      <td>mpu</td>\n      <td>Sportbuzzer</td>\n      <td>180</td>\n      <td>abbreviation</td>\n    </tr>\n    <tr>\n      <th>15</th>\n      <td>mpu</td>\n      <td>Kultur</td>\n      <td>80</td>\n      <td>abbreviation</td>\n    </tr>\n    <tr>\n      <th>16</th>\n      <td>mpu</td>\n      <td>Mitteldeutschland</td>\n      <td>72</td>\n      <td>abbreviation</td>\n    </tr>\n    <tr>\n      <th>17</th>\n      <td>mpu</td>\n      <td>BSG-Chemie</td>\n      <td>51</td>\n      <td>abbreviation</td>\n    </tr>\n    <tr>\n      <th>18</th>\n      <td>mpu</td>\n      <td>Sport-Regional</td>\n      <td>50</td>\n      <td>abbreviation</td>\n    </tr>\n    <tr>\n      <th>19</th>\n      <td>mpu</td>\n      <td>Specials</td>\n      <td>48</td>\n      <td>abbreviation</td>\n    </tr>\n  </tbody>\n</table>\n</div>"
     },
     "execution_count": 53,
     "metadata": {},
     "output_type": "execute_result"
    }
   ],
   "source": [
    "viz_data"
   ],
   "metadata": {
    "collapsed": false,
    "ExecuteTime": {
     "end_time": "2024-01-24T21:16:23.302911086Z",
     "start_time": "2024-01-24T21:16:23.277475930Z"
    }
   },
   "id": "198d250008e32899",
   "execution_count": 53
  },
  {
   "cell_type": "code",
   "outputs": [
    {
     "data": {
      "text/plain": "<Figure size 2000x1000 with 1 Axes>",
      "image/png": "[encoded data removed]"
     },
     "metadata": {},
     "output_type": "display_data"
    }
   ],
   "source": [
    "# increase figsize\n",
    "plt.rcParams['figure.figsize'] = [20, 10]\n",
    "sns.barplot(x=\"department\", y=\"count\", hue=\"entity_type\", data=viz_data)\n",
    "# set title\n",
    "plt.title(\"Department distribution for full name \\\"\" + full_name + \"\\\" and abbreviation \\\"\" + abbreviation + \"\\\" \\nwith wasserstein distance \" + str(round(viz_d_wasserstein, 2)) + \", penalization score \" + str(round(viz_penalization_score, 2)) + \" and score \" + str(round(viz_score, 2)), fontsize=16)\n",
    "\n",
    "# set x label\n",
    "plt.xlabel(\"Department\")\n",
    "# set y label\n",
    "plt.ylabel(\"Article Count\")\n",
    "# set legend title\n",
    "plt.legend(title=\"Entity type\")\n",
    "# save plot\n",
    "# TODO: set with or without scaling when running this\n",
    "plt.savefig(\"../reports/figures/department_exploration/department_distribution_\" + full_name.replace(' ', '_').lower() + \"_\" + abbreviation.replace(' ', '_').lower() + \"_without_department_scaling.png\")\n"
   ],
   "metadata": {
    "collapsed": false,
    "ExecuteTime": {
     "end_time": "2024-01-24T21:16:26.708223652Z",
     "start_time": "2024-01-24T21:16:26.311564491Z"
    }
   },
   "id": "b1c31c80049df5e0",
   "execution_count": 54
  },
  {
   "cell_type": "code",
   "outputs": [],
   "source": [],
   "metadata": {
    "collapsed": false
   },
   "id": "623e5de3141e9913"
  }
 ],
 "metadata": {
  "kernelspec": {
   "name": "lvz_venv",
   "language": "python",
   "display_name": "lvz_venv"
  },
  "language_info": {
   "codemirror_mode": {
    "name": "ipython",
    "version": 2
   },
   "file_extension": ".py",
   "mimetype": "text/x-python",
   "name": "python",
   "nbconvert_exporter": "python",
   "pygments_lexer": "ipython2",
   "version": "2.7.6"
  }
 },
 "nbformat": 4,
 "nbformat_minor": 5
}
