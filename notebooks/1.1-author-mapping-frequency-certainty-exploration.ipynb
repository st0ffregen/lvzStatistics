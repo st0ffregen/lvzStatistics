{
 "cells": [
  {
   "cell_type": "code",
   "execution_count": 7,
   "metadata": {
    "ExecuteTime": {
     "end_time": "2023-08-08T09:22:27.653571742Z",
     "start_time": "2023-08-08T09:22:27.646730875Z"
    }
   },
   "outputs": [],
   "source": [
    "import json\n",
    "import sqlite3\n",
    "import pandas as pd\n",
    "import seaborn as sns\n",
    "from src.models.MatchingType import MatchingType"
   ]
  },
  {
   "cell_type": "code",
   "execution_count": 2,
   "metadata": {
    "ExecuteTime": {
     "end_time": "2023-08-08T09:14:38.230955122Z",
     "start_time": "2023-08-08T09:14:38.216379884Z"
    }
   },
   "outputs": [],
   "source": [
    "con = sqlite3.connect('../data/interim/articles_with_author_mapping.db')\n",
    "cur = con.cursor()"
   ]
  },
  {
   "cell_type": "code",
   "execution_count": 15,
   "metadata": {
    "ExecuteTime": {
     "end_time": "2023-08-08T09:26:56.183350219Z",
     "start_time": "2023-08-08T09:26:56.117495645Z"
    }
   },
   "outputs": [],
   "source": [
    "def get_abbreviations_with_names():\n",
    "    cur.execute(\"select id, name, abbreviation, matching_certainty from unmapped_authors where matching_type = ? or matching_type = ?\", (MatchingType.FUZZY_MATCH.name, MatchingType.DIRECT_MATCH.name))\n",
    "    rows = cur.fetchall()\n",
    "    authors = pd.DataFrame(columns=[\"id\", \"name\", \"abbreviation\", \"certainty\"], data=rows)\n",
    "    authors.set_index(\"id\", inplace=True)\n",
    "    return authors\n",
    "\n",
    "authors = get_abbreviations_with_names()"
   ]
  },
  {
   "cell_type": "code",
   "execution_count": 16,
   "outputs": [
    {
     "data": {
      "text/plain": "                    name abbreviation  certainty\nid                                              \n421388    Kai-Uwe Brandt          kub      0.800\n421416   Nadja Topfstedt          jap      0.300\n421429   Andreas Tappert          art      0.672\n421447    Kai-Uwe Brandt          kub      0.800\n421465   Andreas Tappert          ast      0.786\n...                  ...          ...        ...\n631392      Roger Dietze          red      0.843\n631401  Janina Fleischer          jaf      0.900\n631419     Matthias Roth          mro      0.800\n631424    Lilly Günthner           lg      0.900\n631442    Simone Prenzel           sp      0.800\n\n[32456 rows x 3 columns]",
      "text/html": "<div>\n<style scoped>\n    .dataframe tbody tr th:only-of-type {\n        vertical-align: middle;\n    }\n\n    .dataframe tbody tr th {\n        vertical-align: top;\n    }\n\n    .dataframe thead th {\n        text-align: right;\n    }\n</style>\n<table border=\"1\" class=\"dataframe\">\n  <thead>\n    <tr style=\"text-align: right;\">\n      <th></th>\n      <th>name</th>\n      <th>abbreviation</th>\n      <th>certainty</th>\n    </tr>\n    <tr>\n      <th>id</th>\n      <th></th>\n      <th></th>\n      <th></th>\n    </tr>\n  </thead>\n  <tbody>\n    <tr>\n      <th>421388</th>\n      <td>Kai-Uwe Brandt</td>\n      <td>kub</td>\n      <td>0.800</td>\n    </tr>\n    <tr>\n      <th>421416</th>\n      <td>Nadja Topfstedt</td>\n      <td>jap</td>\n      <td>0.300</td>\n    </tr>\n    <tr>\n      <th>421429</th>\n      <td>Andreas Tappert</td>\n      <td>art</td>\n      <td>0.672</td>\n    </tr>\n    <tr>\n      <th>421447</th>\n      <td>Kai-Uwe Brandt</td>\n      <td>kub</td>\n      <td>0.800</td>\n    </tr>\n    <tr>\n      <th>421465</th>\n      <td>Andreas Tappert</td>\n      <td>ast</td>\n      <td>0.786</td>\n    </tr>\n    <tr>\n      <th>...</th>\n      <td>...</td>\n      <td>...</td>\n      <td>...</td>\n    </tr>\n    <tr>\n      <th>631392</th>\n      <td>Roger Dietze</td>\n      <td>red</td>\n      <td>0.843</td>\n    </tr>\n    <tr>\n      <th>631401</th>\n      <td>Janina Fleischer</td>\n      <td>jaf</td>\n      <td>0.900</td>\n    </tr>\n    <tr>\n      <th>631419</th>\n      <td>Matthias Roth</td>\n      <td>mro</td>\n      <td>0.800</td>\n    </tr>\n    <tr>\n      <th>631424</th>\n      <td>Lilly Günthner</td>\n      <td>lg</td>\n      <td>0.900</td>\n    </tr>\n    <tr>\n      <th>631442</th>\n      <td>Simone Prenzel</td>\n      <td>sp</td>\n      <td>0.800</td>\n    </tr>\n  </tbody>\n</table>\n<p>32456 rows × 3 columns</p>\n</div>"
     },
     "execution_count": 16,
     "metadata": {},
     "output_type": "execute_result"
    }
   ],
   "source": [
    "authors"
   ],
   "metadata": {
    "collapsed": false,
    "ExecuteTime": {
     "end_time": "2023-08-08T09:26:56.838565865Z",
     "start_time": "2023-08-08T09:26:56.824611984Z"
    }
   }
  },
  {
   "cell_type": "markdown",
   "metadata": {},
   "source": [
    "### Potential Final mapping of an abbreviation to a name\n",
    "Test if significant shares of an abbreviation to same name exist. If theres is a dominant share, assign this as a final mapping"
   ]
  },
  {
   "cell_type": "code",
   "execution_count": 18,
   "metadata": {
    "ExecuteTime": {
     "end_time": "2023-08-08T09:30:41.391847661Z",
     "start_time": "2023-08-08T09:30:41.246247104Z"
    }
   },
   "outputs": [
    {
     "name": "stdout",
     "output_type": "stream",
     "text": [
      "Abbreviation: kub\n",
      "             name  certainty  proportion  score\n",
      "0  Kai-Uwe Brandt        0.8         1.0    0.8\n",
      "Abbreviation: jap\n",
      "              name  certainty  proportion  score\n",
      "0  Nadja Topfstedt        0.3         1.0    0.3\n",
      "Abbreviation: art\n",
      "              name  certainty  proportion     score\n",
      "0  Andreas Tappert   0.691664         1.0  0.691664\n",
      "Abbreviation: kub\n",
      "             name  certainty  proportion  score\n",
      "0  Kai-Uwe Brandt        0.8         1.0    0.8\n",
      "Abbreviation: ast\n",
      "              name  certainty  proportion    score\n",
      "0  Andreas Tappert    0.71114         1.0  0.71114\n",
      "Abbreviation: ar\n",
      "               name  certainty  proportion     score\n",
      "0    Andrea Richter   0.822222    0.136364  0.112121\n",
      "1  Angelika Raulien   0.900000    0.015152  0.013636\n",
      "2     Annett Riedel   0.900000    0.848485  0.763636\n",
      "Abbreviation: jap\n",
      "              name  certainty  proportion  score\n",
      "0  Nadja Topfstedt        0.3         1.0    0.3\n",
      "Abbreviation: ar\n",
      "               name  certainty  proportion     score\n",
      "0    Andrea Richter   0.822222    0.136364  0.112121\n",
      "1  Angelika Raulien   0.900000    0.015152  0.013636\n",
      "2     Annett Riedel   0.900000    0.848485  0.763636\n",
      "Abbreviation: jap\n",
      "              name  certainty  proportion  score\n",
      "0  Nadja Topfstedt        0.3         1.0    0.3\n",
      "Abbreviation: ahr\n",
      "                     name  certainty  proportion     score\n",
      "0          Andrea Richter        0.6    0.002037  0.001222\n",
      "1  Antje Henselin-Rudolph        0.8    0.997963  0.798371\n",
      "Abbreviation: lis\n",
      "               name  certainty  proportion     score\n",
      "0     Heike Liesaus   0.400000    0.445283  0.178113\n",
      "1  Janina Fleischer   0.300000    0.007547  0.002264\n",
      "2   Juliane Streich   0.443167    0.045283  0.020068\n",
      "3       Lisa Berins   0.502102    0.184906  0.092842\n",
      "4      Lisa Schliep   0.647234    0.290566  0.188064\n",
      "5    Melanie Steitz   0.383571    0.026415  0.010132\n",
      "Abbreviation: nf\n",
      "            name  certainty  proportion     score\n",
      "0  Nico Fliegner   0.816406         1.0  0.816406\n",
      "Abbreviation: pfü\n",
      "           name  certainty  proportion     score\n",
      "0  Frank Pfütze   0.399797         1.0  0.399797\n",
      "Abbreviation: ka\n",
      "                   name  certainty  proportion     score\n",
      "0        Kai Kollenberg   0.472571    0.031180  0.014735\n",
      "1        Kai-Uwe Brandt   0.422200    0.033408  0.014105\n",
      "2           Karin Rieck   0.401200    0.011136  0.004468\n",
      "3          Karin Tamcke   0.382000    0.002227  0.000851\n",
      "4  Karoline Maria Keybe   0.453613    0.069042  0.031318\n",
      "5      Kathrin Kabelitz   0.437390    0.222717  0.097414\n",
      "6            Kay Würker   0.460089    0.427617  0.196742\n",
      "7      Kendra Reinhardt   0.577429    0.015590  0.009002\n",
      "8       Klaus Staeubert   0.445155    0.187082  0.083281\n",
      "Abbreviation: ast\n",
      "              name  certainty  proportion    score\n",
      "0  Andreas Tappert    0.71114         1.0  0.71114\n",
      "Abbreviation: ka\n",
      "                   name  certainty  proportion     score\n",
      "0        Kai Kollenberg   0.472571    0.031180  0.014735\n",
      "1        Kai-Uwe Brandt   0.422200    0.033408  0.014105\n",
      "2           Karin Rieck   0.401200    0.011136  0.004468\n",
      "3          Karin Tamcke   0.382000    0.002227  0.000851\n",
      "4  Karoline Maria Keybe   0.453613    0.069042  0.031318\n",
      "5      Kathrin Kabelitz   0.437390    0.222717  0.097414\n",
      "6            Kay Würker   0.460089    0.427617  0.196742\n",
      "7      Kendra Reinhardt   0.577429    0.015590  0.009002\n",
      "8       Klaus Staeubert   0.445155    0.187082  0.083281\n",
      "Abbreviation: ar\n",
      "               name  certainty  proportion     score\n",
      "0    Andrea Richter   0.822222    0.136364  0.112121\n",
      "1  Angelika Raulien   0.900000    0.015152  0.013636\n",
      "2     Annett Riedel   0.900000    0.848485  0.763636\n",
      "Abbreviation: ahr\n",
      "                     name  certainty  proportion     score\n",
      "0          Andrea Richter        0.6    0.002037  0.001222\n",
      "1  Antje Henselin-Rudolph        0.8    0.997963  0.798371\n",
      "Abbreviation: ar\n",
      "               name  certainty  proportion     score\n",
      "0    Andrea Richter   0.822222    0.136364  0.112121\n",
      "1  Angelika Raulien   0.900000    0.015152  0.013636\n",
      "2     Annett Riedel   0.900000    0.848485  0.763636\n",
      "Abbreviation: ahr\n",
      "                     name  certainty  proportion     score\n",
      "0          Andrea Richter        0.6    0.002037  0.001222\n",
      "1  Antje Henselin-Rudolph        0.8    0.997963  0.798371\n"
     ]
    },
    {
     "data": {
      "text/plain": "id\n421388    kub\n421416    jap\n421429    art\n421447    kub\n421465    ast\n421466     ar\n421485    jap\n421499     ar\n421521    jap\n421525    ahr\n421528    lis\n421529     nf\n421548    pfü\n421549     ka\n421564    ast\n421587     ka\n421597     ar\n421629    ahr\n421631     ar\n421657    ahr\nName: abbreviation, dtype: object"
     },
     "execution_count": 18,
     "metadata": {},
     "output_type": "execute_result"
    }
   ],
   "source": [
    "def mapping_func(abbr):\n",
    "    abbr = abbr_mapping_func(abbr)\n",
    "    return abbr\n",
    "\n",
    "def abbr_mapping_func(abbr):\n",
    "    print(\"Abbreviation: \" + abbr)\n",
    "    # get all names pointing to that abbreviation\n",
    "    names = authors[authors.abbreviation == abbr].name\n",
    "    certainties = authors[authors.abbreviation == abbr][[\"name\", \"certainty\"]].groupby(\"name\").agg({\"certainty\": \"mean\"}).reset_index()\n",
    "    frequencies = names.value_counts(normalize=True)\n",
    "    # merge certainties and frequencies on name\n",
    "    merged = pd.merge(certainties, frequencies, on=\"name\")\n",
    "    merged[\"score\"] = merged.certainty * merged.proportion\n",
    "    print(merged)\n",
    "    return abbr\n",
    "    \n",
    "# loop through names\n",
    "authors.head(20)[\"abbreviation\"].apply(mapping_func)"
   ]
  },
  {
   "cell_type": "markdown",
   "source": [
    "### Potential Final mapping of a name to an abbreviation\n",
    "Test if significant shares of name to same abbreviation exist. If theres is a dominant share, assign this as a final mapping"
   ],
   "metadata": {
    "collapsed": false
   }
  },
  {
   "cell_type": "code",
   "execution_count": 19,
   "outputs": [
    {
     "name": "stdout",
     "output_type": "stream",
     "text": [
      "Name: Kai-Uwe Brandt\n",
      "  abbreviation  certainty  proportion\n",
      "0           ka     0.4222         0.3\n",
      "1          kub     0.8000         0.7\n",
      "Name: Nadja Topfstedt\n",
      "  abbreviation  certainty  proportion\n",
      "0          jap        0.3         1.0\n",
      "Name: Andreas Tappert\n",
      "  abbreviation  certainty  proportion\n",
      "0           AT   0.800000    0.108911\n",
      "1          art   0.691664    0.678218\n",
      "2          ast   0.711140    0.212871\n",
      "Name: Kai-Uwe Brandt\n",
      "  abbreviation  certainty  proportion\n",
      "0           ka     0.4222         0.3\n",
      "1          kub     0.8000         0.7\n",
      "Name: Andreas Tappert\n",
      "  abbreviation  certainty  proportion\n",
      "0           AT   0.800000    0.108911\n",
      "1          art   0.691664    0.678218\n",
      "2          ast   0.711140    0.212871\n"
     ]
    },
    {
     "data": {
      "text/plain": "id\n421388     Kai-Uwe Brandt\n421416    Nadja Topfstedt\n421429    Andreas Tappert\n421447     Kai-Uwe Brandt\n421465    Andreas Tappert\nName: name, dtype: object"
     },
     "execution_count": 19,
     "metadata": {},
     "output_type": "execute_result"
    }
   ],
   "source": [
    "def name_mapping_func(name):\n",
    "    print(\"Name: \" + name)\n",
    "    # get all names pointing to that abbreviation\n",
    "    abbreviations = authors[authors.name == name].abbreviation\n",
    "    certainties = authors[authors.name == name][[\"abbreviation\", \"certainty\"]].groupby(\"abbreviation\").agg({\"certainty\": \"mean\"}).reset_index()\n",
    "    frequencies = abbreviations.value_counts(normalize=True)\n",
    "    # merge certainties and frequencies on name\n",
    "    merged = pd.merge(certainties, frequencies, on=\"abbreviation\")\n",
    "    print(merged)\n",
    "    return name\n",
    "\n",
    "# loop through names\n",
    "authors.head(5)[\"name\"].apply(lambda row: name_mapping_func(row))"
   ],
   "metadata": {
    "collapsed": false,
    "ExecuteTime": {
     "end_time": "2023-08-08T09:30:44.184385446Z",
     "start_time": "2023-08-08T09:30:44.153885060Z"
    }
   }
  },
  {
   "cell_type": "code",
   "execution_count": null,
   "outputs": [],
   "source": [],
   "metadata": {
    "collapsed": false
   }
  }
 ],
 "metadata": {
  "kernelspec": {
   "display_name": "Python 3 (ipykernel)",
   "language": "python",
   "name": "python3"
  },
  "language_info": {
   "codemirror_mode": {
    "name": "ipython",
    "version": 3
   },
   "file_extension": ".py",
   "mimetype": "text/x-python",
   "name": "python",
   "nbconvert_exporter": "python",
   "pygments_lexer": "ipython3",
   "version": "3.10.10"
  }
 },
 "nbformat": 4,
 "nbformat_minor": 1
}
