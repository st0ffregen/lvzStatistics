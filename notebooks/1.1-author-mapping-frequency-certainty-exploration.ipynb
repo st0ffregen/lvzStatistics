{
 "cells": [
  {
   "cell_type": "code",
   "execution_count": 1,
   "metadata": {
    "ExecuteTime": {
     "end_time": "2023-07-09T15:03:44.104323291Z",
     "start_time": "2023-07-09T15:03:44.061165540Z"
    }
   },
   "outputs": [],
   "source": [
    "import json\n",
    "import sqlite3\n",
    "import pandas as pd\n",
    "import seaborn as sns"
   ]
  },
  {
   "cell_type": "code",
   "execution_count": 2,
   "metadata": {
    "ExecuteTime": {
     "end_time": "2023-07-09T15:03:44.104857610Z",
     "start_time": "2023-07-09T15:03:44.104031218Z"
    }
   },
   "outputs": [],
   "source": [
    "con = sqlite3.connect('../data/interim/articles_with_author_mapping.db')\n",
    "cur = con.cursor()"
   ]
  },
  {
   "cell_type": "code",
   "execution_count": 3,
   "metadata": {
    "ExecuteTime": {
     "end_time": "2023-07-09T15:03:44.206904223Z",
     "start_time": "2023-07-09T15:03:44.104662857Z"
    }
   },
   "outputs": [],
   "source": [
    "cur.execute(\"select id, name, abbreviation, matching_certainty from authors\")\n",
    "rows = cur.fetchall()\n",
    "authors = pd.DataFrame(columns=[\"id\", \"name\", \"abbreviation\", \"certainty\"], data=rows)\n",
    "authors.set_index(\"id\", inplace=True)"
   ]
  },
  {
   "cell_type": "markdown",
   "source": [],
   "metadata": {
    "collapsed": false
   }
  },
  {
   "cell_type": "markdown",
   "metadata": {},
   "source": [
    "### Potential Final mapping of an abbreviation to a name\n",
    "Test if significant shares of an abbreviation to same name exist. If theres is a dominant share, assign this as a final mapping"
   ]
  },
  {
   "cell_type": "code",
   "execution_count": 16,
   "metadata": {
    "ExecuteTime": {
     "end_time": "2023-07-09T15:52:08.713952791Z",
     "start_time": "2023-07-09T15:52:08.392831600Z"
    }
   },
   "outputs": [
    {
     "name": "stdout",
     "output_type": "stream",
     "text": [
      "Abbreviation: kub\n",
      "             name certainty  proportion     score\n",
      "0  kai-uwe brandt  0.810345         1.0  0.810345\n",
      "Abbreviation: jap\n",
      "        name certainty  proportion score\n",
      "0  jan peter       0.6         1.0   0.6\n",
      "Abbreviation: maf\n",
      "                  name certainty  proportion     score\n",
      "0  magdalena froehlich   0.89771    0.215993  0.193899\n",
      "1      manfred lüttich       0.6    0.081616  0.048969\n",
      "2     michael frömmert  0.751442    0.687552  0.516655\n",
      "3    märz frank pfütze       0.6    0.014839  0.008904\n",
      "Abbreviation: ht\n",
      "          name certainty  proportion score\n",
      "0  heiko trebs       0.8         1.0   0.8\n",
      "Abbreviation: art\n",
      "              name certainty  proportion     score\n",
      "0  andreas tappert  0.685579         1.0  0.685579\n",
      "Abbreviation: kub\n",
      "             name certainty  proportion     score\n",
      "0  kai-uwe brandt  0.810345         1.0  0.810345\n",
      "Abbreviation: ar\n",
      "               name certainty  proportion     score\n",
      "0    andrea richter  0.888889    0.136364  0.121212\n",
      "1  angelika raulien       0.9    0.015152  0.013636\n",
      "2     annett riedel       0.9    0.848485  0.763636\n",
      "Abbreviation: ast\n",
      "              name certainty  proportion    score\n",
      "0  andreas tappert   0.71114         1.0  0.71114\n",
      "Abbreviation: LVZ\n",
      "  name certainty  proportion score\n",
      "0  LVZ       1.0         1.0   1.0\n",
      "Abbreviation: nt\n",
      "              name certainty  proportion     score\n",
      "0  nadja topfstedt       0.9    0.285714  0.257143\n",
      "1   niklas tolkamp       0.8    0.071429  0.057143\n",
      "2   norbert töpfer  0.822222    0.642857  0.528571\n"
     ]
    },
    {
     "data": {
      "text/plain": "id\n1     kub\n2     jap\n3     maf\n4      ht\n5     art\n6     kub\n7      ar\n8     ast\n9     LVZ\n10     nt\nName: abbreviation, dtype: object"
     },
     "execution_count": 16,
     "metadata": {},
     "output_type": "execute_result"
    }
   ],
   "source": [
    "def mapping_func(abbr):\n",
    "    abbr = abbr_mapping_func(abbr)\n",
    "    return abbr\n",
    "\n",
    "def name_mapping_func(name):\n",
    "    print(\"Name: \" + name)\n",
    "    # get all names pointing to that abbreviation\n",
    "    abbreviations = authors[authors.name == name].abbreviation\n",
    "    certainties = authors[authors.name == name][[\"abbreviation\", \"certainty\"]].groupby(\"abbreviation\").agg({\"certainty\": \"mean\"}).reset_index()\n",
    "    frequencies = abbreviations.value_counts(normalize=True)\n",
    "    # merge certainties and frequencies on name\n",
    "    merged = pd.merge(certainties, frequencies, on=\"abbreviation\")\n",
    "    print(merged)\n",
    "    return name\n",
    "\n",
    "def abbr_mapping_func(abbr):\n",
    "    print(\"Abbreviation: \" + abbr)\n",
    "    # get all names pointing to that abbreviation\n",
    "    names = authors[authors.abbreviation == abbr].name\n",
    "    certainties = authors[authors.abbreviation == abbr][[\"name\", \"certainty\"]].groupby(\"name\").agg({\"certainty\": \"mean\"}).reset_index()\n",
    "    frequencies = names.value_counts(normalize=True)\n",
    "    # merge certainties and frequencies on name\n",
    "    merged = pd.merge(certainties, frequencies, on=\"name\")\n",
    "    merged[\"score\"] = merged.certainty * merged.proportion\n",
    "    print(merged)\n",
    "    return abbr\n",
    "    \n",
    "# loop through names\n",
    "authors.head(20)[\"abbreviation\"].apply(mapping_func)"
   ]
  },
  {
   "cell_type": "markdown",
   "source": [
    "### Potential Final mapping of a name to an abbreviation\n",
    "Test if significant shares of name to same abbreviation exist. If theres is a dominant share, assign this as a final mapping"
   ],
   "metadata": {
    "collapsed": false
   }
  },
  {
   "cell_type": "code",
   "execution_count": null,
   "outputs": [],
   "source": [
    "def name_mapping_func(name):\n",
    "    print(\"Name: \" + name)\n",
    "    # get all names pointing to that abbreviation\n",
    "    abbreviations = authors[authors.name == name].abbreviation\n",
    "    certainties = authors[authors.name == name][[\"abbreviation\", \"certainty\"]].groupby(\"abbreviation\").agg({\"certainty\": \"mean\"}).reset_index()\n",
    "    frequencies = abbreviations.value_counts(normalize=True)\n",
    "    # merge certainties and frequencies on name\n",
    "    merged = pd.merge(certainties, frequencies, on=\"abbreviation\")\n",
    "    print(merged)\n",
    "    return name\n",
    "\n",
    "# loop through names\n",
    "authors.head(5)[\"name\"].apply(lambda row: name_mapping_func(row))"
   ],
   "metadata": {
    "collapsed": false
   }
  },
  {
   "cell_type": "code",
   "execution_count": null,
   "outputs": [],
   "source": [],
   "metadata": {
    "collapsed": false
   }
  }
 ],
 "metadata": {
  "kernelspec": {
   "display_name": "Python 3 (ipykernel)",
   "language": "python",
   "name": "python3"
  },
  "language_info": {
   "codemirror_mode": {
    "name": "ipython",
    "version": 3
   },
   "file_extension": ".py",
   "mimetype": "text/x-python",
   "name": "python",
   "nbconvert_exporter": "python",
   "pygments_lexer": "ipython3",
   "version": "3.10.10"
  }
 },
 "nbformat": 4,
 "nbformat_minor": 1
}
