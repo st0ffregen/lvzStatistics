{
 "cells": [
  {
   "cell_type": "code",
   "execution_count": 20,
   "metadata": {
    "ExecuteTime": {
     "end_time": "2023-08-08T11:00:54.164595539Z",
     "start_time": "2023-08-08T11:00:54.118538136Z"
    }
   },
   "outputs": [],
   "source": [
    "import json\n",
    "import sqlite3\n",
    "import pandas as pd\n",
    "import seaborn as sns\n",
    "from src.models.MatchingType import MatchingType"
   ]
  },
  {
   "cell_type": "code",
   "execution_count": 21,
   "metadata": {
    "ExecuteTime": {
     "end_time": "2023-08-08T11:00:54.573016808Z",
     "start_time": "2023-08-08T11:00:54.564890557Z"
    }
   },
   "outputs": [],
   "source": [
    "con = sqlite3.connect('../data/interim/articles_with_author_mapping.db')\n",
    "cur = con.cursor()"
   ]
  },
  {
   "cell_type": "code",
   "execution_count": 22,
   "metadata": {
    "ExecuteTime": {
     "end_time": "2023-08-08T11:00:55.091433140Z",
     "start_time": "2023-08-08T11:00:55.012620833Z"
    }
   },
   "outputs": [],
   "source": [
    "def get_abbreviations_with_names():\n",
    "    cur.execute(\"select id, name, abbreviation, matching_certainty from unmapped_authors where matching_type = ? or matching_type = ?\", (MatchingType.FUZZY_MATCH.name, MatchingType.DIRECT_MATCH.name))\n",
    "    rows = cur.fetchall()\n",
    "    authors = pd.DataFrame(columns=[\"id\", \"name\", \"abbreviation\", \"certainty\"], data=rows)\n",
    "    authors.set_index(\"id\", inplace=True)\n",
    "    return authors\n",
    "\n",
    "authors = get_abbreviations_with_names()"
   ]
  },
  {
   "cell_type": "code",
   "execution_count": 23,
   "outputs": [
    {
     "data": {
      "text/plain": "                    name abbreviation  certainty\nid                                              \n632071    Kai-Uwe Brandt          kub      0.800\n632099   Nadja Topfstedt          jap      0.300\n632112   Andreas Tappert          art      0.672\n632130    Kai-Uwe Brandt          kub      0.800\n632148   Andreas Tappert          ast      0.786\n...                  ...          ...        ...\n842075      Roger Dietze          red      0.843\n842084  Janina Fleischer          jaf      0.900\n842102     Matthias Roth          mro      0.800\n842107    Lilly Günthner           lg      0.900\n842125    Simone Prenzel           sp      0.800\n\n[32456 rows x 3 columns]",
      "text/html": "<div>\n<style scoped>\n    .dataframe tbody tr th:only-of-type {\n        vertical-align: middle;\n    }\n\n    .dataframe tbody tr th {\n        vertical-align: top;\n    }\n\n    .dataframe thead th {\n        text-align: right;\n    }\n</style>\n<table border=\"1\" class=\"dataframe\">\n  <thead>\n    <tr style=\"text-align: right;\">\n      <th></th>\n      <th>name</th>\n      <th>abbreviation</th>\n      <th>certainty</th>\n    </tr>\n    <tr>\n      <th>id</th>\n      <th></th>\n      <th></th>\n      <th></th>\n    </tr>\n  </thead>\n  <tbody>\n    <tr>\n      <th>632071</th>\n      <td>Kai-Uwe Brandt</td>\n      <td>kub</td>\n      <td>0.800</td>\n    </tr>\n    <tr>\n      <th>632099</th>\n      <td>Nadja Topfstedt</td>\n      <td>jap</td>\n      <td>0.300</td>\n    </tr>\n    <tr>\n      <th>632112</th>\n      <td>Andreas Tappert</td>\n      <td>art</td>\n      <td>0.672</td>\n    </tr>\n    <tr>\n      <th>632130</th>\n      <td>Kai-Uwe Brandt</td>\n      <td>kub</td>\n      <td>0.800</td>\n    </tr>\n    <tr>\n      <th>632148</th>\n      <td>Andreas Tappert</td>\n      <td>ast</td>\n      <td>0.786</td>\n    </tr>\n    <tr>\n      <th>...</th>\n      <td>...</td>\n      <td>...</td>\n      <td>...</td>\n    </tr>\n    <tr>\n      <th>842075</th>\n      <td>Roger Dietze</td>\n      <td>red</td>\n      <td>0.843</td>\n    </tr>\n    <tr>\n      <th>842084</th>\n      <td>Janina Fleischer</td>\n      <td>jaf</td>\n      <td>0.900</td>\n    </tr>\n    <tr>\n      <th>842102</th>\n      <td>Matthias Roth</td>\n      <td>mro</td>\n      <td>0.800</td>\n    </tr>\n    <tr>\n      <th>842107</th>\n      <td>Lilly Günthner</td>\n      <td>lg</td>\n      <td>0.900</td>\n    </tr>\n    <tr>\n      <th>842125</th>\n      <td>Simone Prenzel</td>\n      <td>sp</td>\n      <td>0.800</td>\n    </tr>\n  </tbody>\n</table>\n<p>32456 rows × 3 columns</p>\n</div>"
     },
     "execution_count": 23,
     "metadata": {},
     "output_type": "execute_result"
    }
   ],
   "source": [
    "authors"
   ],
   "metadata": {
    "collapsed": false,
    "ExecuteTime": {
     "end_time": "2023-08-08T11:00:55.837187510Z",
     "start_time": "2023-08-08T11:00:55.821960133Z"
    }
   }
  },
  {
   "cell_type": "markdown",
   "metadata": {},
   "source": [
    "### Potential Final mapping of an abbreviation to a name\n",
    "Test if significant shares of an abbreviation to same name exist. If theres is a dominant share, assign this as a final mapping"
   ]
  },
  {
   "cell_type": "code",
   "execution_count": 24,
   "metadata": {
    "ExecuteTime": {
     "end_time": "2023-08-08T11:00:57.260527773Z",
     "start_time": "2023-08-08T11:00:57.133344809Z"
    }
   },
   "outputs": [
    {
     "name": "stdout",
     "output_type": "stream",
     "text": [
      "Abbreviation: kub\n",
      "             name  certainty  proportion  score\n",
      "0  Kai-Uwe Brandt        0.8         1.0    0.8\n",
      "Abbreviation: jap\n",
      "              name  certainty  proportion  score\n",
      "0  Nadja Topfstedt        0.3         1.0    0.3\n",
      "Abbreviation: art\n",
      "              name  certainty  proportion     score\n",
      "0  Andreas Tappert   0.691664         1.0  0.691664\n",
      "Abbreviation: kub\n",
      "             name  certainty  proportion  score\n",
      "0  Kai-Uwe Brandt        0.8         1.0    0.8\n",
      "Abbreviation: ast\n",
      "              name  certainty  proportion    score\n",
      "0  Andreas Tappert    0.71114         1.0  0.71114\n",
      "Abbreviation: ar\n",
      "               name  certainty  proportion     score\n",
      "0    Andrea Richter   0.822222    0.136364  0.112121\n",
      "1  Angelika Raulien   0.900000    0.015152  0.013636\n",
      "2     Annett Riedel   0.900000    0.848485  0.763636\n",
      "Abbreviation: jap\n",
      "              name  certainty  proportion  score\n",
      "0  Nadja Topfstedt        0.3         1.0    0.3\n",
      "Abbreviation: ar\n",
      "               name  certainty  proportion     score\n",
      "0    Andrea Richter   0.822222    0.136364  0.112121\n",
      "1  Angelika Raulien   0.900000    0.015152  0.013636\n",
      "2     Annett Riedel   0.900000    0.848485  0.763636\n",
      "Abbreviation: jap\n",
      "              name  certainty  proportion  score\n",
      "0  Nadja Topfstedt        0.3         1.0    0.3\n",
      "Abbreviation: ahr\n",
      "                     name  certainty  proportion     score\n",
      "0          Andrea Richter        0.6    0.002033  0.001220\n",
      "1  Antje Henselin-Rudolph        0.8    0.997967  0.798374\n",
      "Abbreviation: lis\n",
      "               name  certainty  proportion     score\n",
      "0     Heike Liesaus   0.400000    0.445283  0.178113\n",
      "1  Janina Fleischer   0.300000    0.007547  0.002264\n",
      "2   Juliane Streich   0.443167    0.045283  0.020068\n",
      "3       Lisa Berins   0.502102    0.184906  0.092842\n",
      "4      Lisa Schliep   0.647234    0.290566  0.188064\n",
      "5    Melanie Steitz   0.383571    0.026415  0.010132\n",
      "Abbreviation: nf\n",
      "            name  certainty  proportion     score\n",
      "0  Nico Fliegner   0.816216         1.0  0.816216\n",
      "Abbreviation: pfü\n",
      "           name  certainty  proportion     score\n",
      "0  Frank Pfütze   0.399797         1.0  0.399797\n",
      "Abbreviation: ka\n",
      "                   name  certainty  proportion     score\n",
      "0        Kai Kollenberg   0.472571    0.030973  0.014637\n",
      "1        Kai-Uwe Brandt   0.422200    0.033186  0.014011\n",
      "2           Karin Rieck   0.401200    0.011062  0.004438\n",
      "3          Karin Tamcke   0.382000    0.002212  0.000845\n",
      "4  Karoline Maria Keybe   0.453613    0.068584  0.031111\n",
      "5      Kathrin Kabelitz   0.437311    0.227876  0.099653\n",
      "6            Kay Würker   0.460089    0.424779  0.195436\n",
      "7      Kendra Reinhardt   0.577429    0.015487  0.008942\n",
      "8       Klaus Staeubert   0.445155    0.185841  0.082728\n",
      "Abbreviation: ast\n",
      "              name  certainty  proportion    score\n",
      "0  Andreas Tappert    0.71114         1.0  0.71114\n",
      "Abbreviation: ka\n",
      "                   name  certainty  proportion     score\n",
      "0        Kai Kollenberg   0.472571    0.030973  0.014637\n",
      "1        Kai-Uwe Brandt   0.422200    0.033186  0.014011\n",
      "2           Karin Rieck   0.401200    0.011062  0.004438\n",
      "3          Karin Tamcke   0.382000    0.002212  0.000845\n",
      "4  Karoline Maria Keybe   0.453613    0.068584  0.031111\n",
      "5      Kathrin Kabelitz   0.437311    0.227876  0.099653\n",
      "6            Kay Würker   0.460089    0.424779  0.195436\n",
      "7      Kendra Reinhardt   0.577429    0.015487  0.008942\n",
      "8       Klaus Staeubert   0.445155    0.185841  0.082728\n",
      "Abbreviation: ar\n",
      "               name  certainty  proportion     score\n",
      "0    Andrea Richter   0.822222    0.136364  0.112121\n",
      "1  Angelika Raulien   0.900000    0.015152  0.013636\n",
      "2     Annett Riedel   0.900000    0.848485  0.763636\n",
      "Abbreviation: ahr\n",
      "                     name  certainty  proportion     score\n",
      "0          Andrea Richter        0.6    0.002033  0.001220\n",
      "1  Antje Henselin-Rudolph        0.8    0.997967  0.798374\n",
      "Abbreviation: ar\n",
      "               name  certainty  proportion     score\n",
      "0    Andrea Richter   0.822222    0.136364  0.112121\n",
      "1  Angelika Raulien   0.900000    0.015152  0.013636\n",
      "2     Annett Riedel   0.900000    0.848485  0.763636\n",
      "Abbreviation: ahr\n",
      "                     name  certainty  proportion     score\n",
      "0          Andrea Richter        0.6    0.002033  0.001220\n",
      "1  Antje Henselin-Rudolph        0.8    0.997967  0.798374\n"
     ]
    },
    {
     "data": {
      "text/plain": "id\n632071    kub\n632099    jap\n632112    art\n632130    kub\n632148    ast\n632149     ar\n632168    jap\n632182     ar\n632204    jap\n632208    ahr\n632211    lis\n632212     nf\n632231    pfü\n632232     ka\n632247    ast\n632270     ka\n632280     ar\n632312    ahr\n632314     ar\n632340    ahr\nName: abbreviation, dtype: object"
     },
     "execution_count": 24,
     "metadata": {},
     "output_type": "execute_result"
    }
   ],
   "source": [
    "def mapping_func(abbr):\n",
    "    abbr = abbr_mapping_func(abbr)\n",
    "    return abbr\n",
    "\n",
    "def abbr_mapping_func(abbr):\n",
    "    print(\"Abbreviation: \" + abbr)\n",
    "    # get all names pointing to that abbreviation\n",
    "    names = authors[authors.abbreviation == abbr].name\n",
    "    certainties = authors[authors.abbreviation == abbr][[\"name\", \"certainty\"]].groupby(\"name\").agg({\"certainty\": \"mean\"}).reset_index()\n",
    "    frequencies = names.value_counts(normalize=True)\n",
    "    # merge certainties and frequencies on name\n",
    "    merged = pd.merge(certainties, frequencies, on=\"name\")\n",
    "    merged[\"score\"] = merged.certainty * merged.proportion\n",
    "    print(merged)\n",
    "    return abbr\n",
    "    \n",
    "# loop through names\n",
    "authors.head(20)[\"abbreviation\"].apply(mapping_func)"
   ]
  },
  {
   "cell_type": "markdown",
   "source": [
    "### Potential Final mapping of a name to an abbreviation\n",
    "Test if significant shares of name to same abbreviation exist. If theres is a dominant share, assign this as a final mapping"
   ],
   "metadata": {
    "collapsed": false
   }
  },
  {
   "cell_type": "code",
   "execution_count": 25,
   "outputs": [
    {
     "name": "stdout",
     "output_type": "stream",
     "text": [
      "Name: Kai-Uwe Brandt\n",
      "  abbreviation  certainty  proportion\n",
      "0           ka     0.4222         0.3\n",
      "1          kub     0.8000         0.7\n",
      "Name: Nadja Topfstedt\n",
      "  abbreviation  certainty  proportion\n",
      "0          jap        0.3         1.0\n",
      "Name: Andreas Tappert\n",
      "  abbreviation  certainty  proportion\n",
      "0          art   0.691664    0.678218\n",
      "1          ast   0.711140    0.212871\n",
      "2           at   0.800000    0.108911\n",
      "Name: Kai-Uwe Brandt\n",
      "  abbreviation  certainty  proportion\n",
      "0           ka     0.4222         0.3\n",
      "1          kub     0.8000         0.7\n",
      "Name: Andreas Tappert\n",
      "  abbreviation  certainty  proportion\n",
      "0          art   0.691664    0.678218\n",
      "1          ast   0.711140    0.212871\n",
      "2           at   0.800000    0.108911\n"
     ]
    },
    {
     "data": {
      "text/plain": "id\n632071     Kai-Uwe Brandt\n632099    Nadja Topfstedt\n632112    Andreas Tappert\n632130     Kai-Uwe Brandt\n632148    Andreas Tappert\nName: name, dtype: object"
     },
     "execution_count": 25,
     "metadata": {},
     "output_type": "execute_result"
    }
   ],
   "source": [
    "def name_mapping_func(name):\n",
    "    print(\"Name: \" + name)\n",
    "    # get all names pointing to that abbreviation\n",
    "    abbreviations = authors[authors.name == name].abbreviation\n",
    "    certainties = authors[authors.name == name][[\"abbreviation\", \"certainty\"]].groupby(\"abbreviation\").agg({\"certainty\": \"mean\"}).reset_index()\n",
    "    frequencies = abbreviations.value_counts(normalize=True)\n",
    "    # merge certainties and frequencies on name\n",
    "    merged = pd.merge(certainties, frequencies, on=\"abbreviation\")\n",
    "    print(merged)\n",
    "    return name\n",
    "\n",
    "# loop through names\n",
    "authors.head(5)[\"name\"].apply(lambda row: name_mapping_func(row))"
   ],
   "metadata": {
    "collapsed": false,
    "ExecuteTime": {
     "end_time": "2023-08-08T11:00:58.599786049Z",
     "start_time": "2023-08-08T11:00:58.549190325Z"
    }
   }
  },
  {
   "cell_type": "code",
   "execution_count": null,
   "outputs": [],
   "source": [],
   "metadata": {
    "collapsed": false
   }
  }
 ],
 "metadata": {
  "kernelspec": {
   "display_name": "Python 3 (ipykernel)",
   "language": "python",
   "name": "python3"
  },
  "language_info": {
   "codemirror_mode": {
    "name": "ipython",
    "version": 3
   },
   "file_extension": ".py",
   "mimetype": "text/x-python",
   "name": "python",
   "nbconvert_exporter": "python",
   "pygments_lexer": "ipython3",
   "version": "3.10.10"
  }
 },
 "nbformat": 4,
 "nbformat_minor": 1
}
