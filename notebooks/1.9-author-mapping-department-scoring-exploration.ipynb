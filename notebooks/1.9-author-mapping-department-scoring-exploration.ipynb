{
 "cells": [
  {
   "cell_type": "markdown",
   "source": [
    "This script aims to develop a scoring to map abbreviations to full names based on ressort membership.\n",
    "Acceptance criteria:\n",
    "- The score should be between 0 and 1\n",
    "- The higher the similarity between the abbreviation's department article distribution and the full name's department article distribution, the higher the score\n",
    "- "
   ],
   "metadata": {
    "collapsed": false
   },
   "id": "47fbb4828127852a"
  },
  {
   "cell_type": "code",
   "execution_count": 1,
   "outputs": [],
   "source": [
    "import json\n",
    "import sqlite3\n",
    "import numpy as np\n",
    "import pandas as pd\n",
    "import seaborn as sns\n",
    "import matplotlib.pyplot as plt\n",
    "import scipy\n",
    "import networkx as nx\n",
    "from dateutil import relativedelta\n",
    "from datetime import datetime\n",
    "import re\n",
    "import tqdm\n",
    "from src.models.MatchingType import MatchingType\n",
    "from scipy.stats import wasserstein_distance, spearmanr"
   ],
   "metadata": {
    "collapsed": false,
    "ExecuteTime": {
     "end_time": "2023-08-22T19:24:36.491111450Z",
     "start_time": "2023-08-22T19:24:36.388112065Z"
    }
   },
   "id": "3145378997f1fc4"
  },
  {
   "cell_type": "code",
   "execution_count": 2,
   "outputs": [
    {
     "name": "stdout",
     "output_type": "stream",
     "text": [
      "summed distance between full name and abbr1: 70\n",
      "summed distance between full name and abbr2: 70\n",
      "spearman correlation between full name and abbr1: 0.19999999999999998\n",
      "spearman correlation between full name and abbr2: -0.21081851067789195\n",
      "wasserstein distance between full name and abbr1: 0.5185185185185186\n",
      "wasserstein distance between full name and abbr2: 0.7777777777777779\n"
     ]
    }
   ],
   "source": [
    "full_name_articles = [55, 50, 20, 10]\n",
    "abbr1_articles = [20, 50, 55, 10]\n",
    "abbr2_articles = [20, 50, 20, 45]\n",
    "\n",
    "def summed_distance(distr1, distr2):\n",
    "    sum = 0\n",
    "    for i in range(len(distr1)):\n",
    "        sum += abs(distr1[i] - distr2[i])\n",
    "    return sum\n",
    "\n",
    "print(f\"summed distance between full name and abbr1: {summed_distance(full_name_articles, abbr1_articles)}\")\n",
    "print(f\"summed distance between full name and abbr2: {summed_distance(full_name_articles, abbr2_articles)}\")\n",
    "print(f\"spearman correlation between full name and abbr1: {spearmanr(full_name_articles, abbr1_articles).statistic}\")\n",
    "print(f\"spearman correlation between full name and abbr2: {spearmanr(full_name_articles, abbr2_articles).statistic}\")\n",
    "print(f\"wasserstein distance between full name and abbr1: {wasserstein_distance(range(0, len(full_name_articles)), range(0, len(full_name_articles)), full_name_articles, abbr1_articles)}\")\n",
    "print(f\"wasserstein distance between full name and abbr2: {wasserstein_distance(range(0, len(full_name_articles)), range(0, len(full_name_articles)), full_name_articles, abbr2_articles)}\")\n"
   ],
   "metadata": {
    "collapsed": false,
    "ExecuteTime": {
     "end_time": "2023-08-22T19:24:36.513288132Z",
     "start_time": "2023-08-22T19:24:36.493420977Z"
    }
   },
   "id": "7a129c08b98948ca"
  },
  {
   "cell_type": "markdown",
   "source": [
    "We conclude that the Wasserstein distance is an appropriate metric to determine the differences in department membership. We must first order the departments in an ordinary fashion based on the article count. "
   ],
   "metadata": {
    "collapsed": false
   },
   "id": "1823f2c57257c596"
  },
  {
   "cell_type": "code",
   "execution_count": 3,
   "outputs": [],
   "source": [
    "con = sqlite3.connect('../data/interim/articles_with_author_mapping.db')\n",
    "cur = con.cursor()"
   ],
   "metadata": {
    "collapsed": false,
    "ExecuteTime": {
     "end_time": "2023-08-22T19:24:36.568484861Z",
     "start_time": "2023-08-22T19:24:36.503187437Z"
    }
   },
   "id": "c1f585c000cb7a7e"
  },
  {
   "cell_type": "code",
   "execution_count": 4,
   "outputs": [],
   "source": [
    "rows = cur.execute(\"SELECT ar.id, ar.article_namespace_array, ar.published_at, a.name FROM articles ar join article_authors aa on ar.id = aa.article_id join unmapped_authors a on aa.author_id = a.id where a.matching_type = ?\", (MatchingType.IS_FULL_NAME.name,)).fetchall()"
   ],
   "metadata": {
    "collapsed": false,
    "ExecuteTime": {
     "end_time": "2023-08-22T19:24:58.798695998Z",
     "start_time": "2023-08-22T19:24:36.546353262Z"
    }
   },
   "id": "9a4804242e19806c"
  },
  {
   "cell_type": "code",
   "execution_count": 5,
   "outputs": [
    {
     "data": {
      "text/plain": "            id                   department               published_at  \\\n0         1504      [\"Region\", \"Delitzsch\"]  2021-12-10T06:22:00+00:00   \n1         1505      [\"Region\", \"Altenburg\"]  2021-12-10T05:27:19+00:00   \n2         1507       [\"Leipzig\", \"Lokales\"]  2021-12-10T06:01:00+00:00   \n3         1514   [\"Region\", \"Markkleeberg\"]  2021-12-10T08:01:00+00:00   \n4         1517        [\"Region\", \"Oschatz\"]  2021-12-10T08:17:00+00:00   \n...        ...                          ...                        ...   \n130961  367701       [\"Region\", \"Geithain\"]  2010-01-01T15:11:44+00:00   \n130962  367703  [\"Region\", \"Markranstaedt\"]  2010-01-01T17:14:06+00:00   \n130963  367705      [\"Region\", \"Delitzsch\"]  2010-01-01T17:32:16+00:00   \n130964  367706     [\"Region\", \"Bad-Dueben\"]  2010-01-01T17:46:10+00:00   \n130965  367709       [\"Leipzig\", \"Lokales\"]  2010-01-01T22:35:30+00:00   \n\n                       name  \n0       Mathias Schönknecht  \n1                Kay Würker  \n2             Andreas Dunte  \n3             Rainer Küster  \n4           Christian Kunze  \n...                     ...  \n130961          Thomas Lang  \n130962     Kendra Reinhardt  \n130963      Thomas Steingen  \n130964        Daniel Kaiser  \n130965        Jens Rometsch  \n\n[130966 rows x 4 columns]",
      "text/html": "<div>\n<style scoped>\n    .dataframe tbody tr th:only-of-type {\n        vertical-align: middle;\n    }\n\n    .dataframe tbody tr th {\n        vertical-align: top;\n    }\n\n    .dataframe thead th {\n        text-align: right;\n    }\n</style>\n<table border=\"1\" class=\"dataframe\">\n  <thead>\n    <tr style=\"text-align: right;\">\n      <th></th>\n      <th>id</th>\n      <th>department</th>\n      <th>published_at</th>\n      <th>name</th>\n    </tr>\n  </thead>\n  <tbody>\n    <tr>\n      <th>0</th>\n      <td>1504</td>\n      <td>[\"Region\", \"Delitzsch\"]</td>\n      <td>2021-12-10T06:22:00+00:00</td>\n      <td>Mathias Schönknecht</td>\n    </tr>\n    <tr>\n      <th>1</th>\n      <td>1505</td>\n      <td>[\"Region\", \"Altenburg\"]</td>\n      <td>2021-12-10T05:27:19+00:00</td>\n      <td>Kay Würker</td>\n    </tr>\n    <tr>\n      <th>2</th>\n      <td>1507</td>\n      <td>[\"Leipzig\", \"Lokales\"]</td>\n      <td>2021-12-10T06:01:00+00:00</td>\n      <td>Andreas Dunte</td>\n    </tr>\n    <tr>\n      <th>3</th>\n      <td>1514</td>\n      <td>[\"Region\", \"Markkleeberg\"]</td>\n      <td>2021-12-10T08:01:00+00:00</td>\n      <td>Rainer Küster</td>\n    </tr>\n    <tr>\n      <th>4</th>\n      <td>1517</td>\n      <td>[\"Region\", \"Oschatz\"]</td>\n      <td>2021-12-10T08:17:00+00:00</td>\n      <td>Christian Kunze</td>\n    </tr>\n    <tr>\n      <th>...</th>\n      <td>...</td>\n      <td>...</td>\n      <td>...</td>\n      <td>...</td>\n    </tr>\n    <tr>\n      <th>130961</th>\n      <td>367701</td>\n      <td>[\"Region\", \"Geithain\"]</td>\n      <td>2010-01-01T15:11:44+00:00</td>\n      <td>Thomas Lang</td>\n    </tr>\n    <tr>\n      <th>130962</th>\n      <td>367703</td>\n      <td>[\"Region\", \"Markranstaedt\"]</td>\n      <td>2010-01-01T17:14:06+00:00</td>\n      <td>Kendra Reinhardt</td>\n    </tr>\n    <tr>\n      <th>130963</th>\n      <td>367705</td>\n      <td>[\"Region\", \"Delitzsch\"]</td>\n      <td>2010-01-01T17:32:16+00:00</td>\n      <td>Thomas Steingen</td>\n    </tr>\n    <tr>\n      <th>130964</th>\n      <td>367706</td>\n      <td>[\"Region\", \"Bad-Dueben\"]</td>\n      <td>2010-01-01T17:46:10+00:00</td>\n      <td>Daniel Kaiser</td>\n    </tr>\n    <tr>\n      <th>130965</th>\n      <td>367709</td>\n      <td>[\"Leipzig\", \"Lokales\"]</td>\n      <td>2010-01-01T22:35:30+00:00</td>\n      <td>Jens Rometsch</td>\n    </tr>\n  </tbody>\n</table>\n<p>130966 rows × 4 columns</p>\n</div>"
     },
     "execution_count": 5,
     "metadata": {},
     "output_type": "execute_result"
    }
   ],
   "source": [
    "departments = pd.DataFrame(columns=['id', 'department', 'published_at', 'name'], data=rows)\n",
    "departments"
   ],
   "metadata": {
    "collapsed": false,
    "ExecuteTime": {
     "end_time": "2023-08-22T19:24:58.873365700Z",
     "start_time": "2023-08-22T19:24:58.820730200Z"
    }
   },
   "id": "8b0ff3f652b2ef8b"
  },
  {
   "cell_type": "code",
   "execution_count": 6,
   "outputs": [],
   "source": [
    "departments[\"department\"] = departments[\"department\"].apply(lambda x: json.loads(x))\n",
    "departments = departments.explode('department')\n",
    "# remove rows where department equals \"Region\" or \"Nachrichten\" for being to unspecific\n",
    "departments = departments[departments.department != 'Region']\n",
    "departments = departments[departments.department != 'Nachrichten']"
   ],
   "metadata": {
    "collapsed": false,
    "ExecuteTime": {
     "end_time": "2023-08-22T19:24:59.341278807Z",
     "start_time": "2023-08-22T19:24:58.912720175Z"
    }
   },
   "id": "67ac771f9cd35cef"
  },
  {
   "cell_type": "code",
   "execution_count": 7,
   "outputs": [
    {
     "data": {
      "text/plain": "            id department               published_at         name\n1664      4444  Delitzsch  2021-11-07T13:19:00+00:00  Anke Herold\n1990      5019  Eilenburg  2021-10-31T09:57:00+00:00  Anke Herold\n2011      5059  Eilenburg  2021-10-31T18:14:00+00:00  Anke Herold\n2671      6149  Eilenburg  2021-10-17T16:02:00+00:00  Anke Herold\n2674      6152  Delitzsch  2021-10-17T17:02:00+00:00  Anke Herold\n...        ...        ...                        ...          ...\n108888  311271  Eilenburg  2013-11-10T19:13:00+00:00  Anke Herold\n109186  311885  Delitzsch  2013-10-27T19:52:25+00:00  Anke Herold\n114822  323509  Delitzsch  2013-02-03T15:39:58+00:00  Anke Herold\n117253  331228  Delitzsch  2012-07-22T21:54:00+00:00  Anke Herold\n120938  342630  Delitzsch  2011-10-31T18:05:03+00:00  Anke Herold\n\n[377 rows x 4 columns]",
      "text/html": "<div>\n<style scoped>\n    .dataframe tbody tr th:only-of-type {\n        vertical-align: middle;\n    }\n\n    .dataframe tbody tr th {\n        vertical-align: top;\n    }\n\n    .dataframe thead th {\n        text-align: right;\n    }\n</style>\n<table border=\"1\" class=\"dataframe\">\n  <thead>\n    <tr style=\"text-align: right;\">\n      <th></th>\n      <th>id</th>\n      <th>department</th>\n      <th>published_at</th>\n      <th>name</th>\n    </tr>\n  </thead>\n  <tbody>\n    <tr>\n      <th>1664</th>\n      <td>4444</td>\n      <td>Delitzsch</td>\n      <td>2021-11-07T13:19:00+00:00</td>\n      <td>Anke Herold</td>\n    </tr>\n    <tr>\n      <th>1990</th>\n      <td>5019</td>\n      <td>Eilenburg</td>\n      <td>2021-10-31T09:57:00+00:00</td>\n      <td>Anke Herold</td>\n    </tr>\n    <tr>\n      <th>2011</th>\n      <td>5059</td>\n      <td>Eilenburg</td>\n      <td>2021-10-31T18:14:00+00:00</td>\n      <td>Anke Herold</td>\n    </tr>\n    <tr>\n      <th>2671</th>\n      <td>6149</td>\n      <td>Eilenburg</td>\n      <td>2021-10-17T16:02:00+00:00</td>\n      <td>Anke Herold</td>\n    </tr>\n    <tr>\n      <th>2674</th>\n      <td>6152</td>\n      <td>Delitzsch</td>\n      <td>2021-10-17T17:02:00+00:00</td>\n      <td>Anke Herold</td>\n    </tr>\n    <tr>\n      <th>...</th>\n      <td>...</td>\n      <td>...</td>\n      <td>...</td>\n      <td>...</td>\n    </tr>\n    <tr>\n      <th>108888</th>\n      <td>311271</td>\n      <td>Eilenburg</td>\n      <td>2013-11-10T19:13:00+00:00</td>\n      <td>Anke Herold</td>\n    </tr>\n    <tr>\n      <th>109186</th>\n      <td>311885</td>\n      <td>Delitzsch</td>\n      <td>2013-10-27T19:52:25+00:00</td>\n      <td>Anke Herold</td>\n    </tr>\n    <tr>\n      <th>114822</th>\n      <td>323509</td>\n      <td>Delitzsch</td>\n      <td>2013-02-03T15:39:58+00:00</td>\n      <td>Anke Herold</td>\n    </tr>\n    <tr>\n      <th>117253</th>\n      <td>331228</td>\n      <td>Delitzsch</td>\n      <td>2012-07-22T21:54:00+00:00</td>\n      <td>Anke Herold</td>\n    </tr>\n    <tr>\n      <th>120938</th>\n      <td>342630</td>\n      <td>Delitzsch</td>\n      <td>2011-10-31T18:05:03+00:00</td>\n      <td>Anke Herold</td>\n    </tr>\n  </tbody>\n</table>\n<p>377 rows × 4 columns</p>\n</div>"
     },
     "execution_count": 7,
     "metadata": {},
     "output_type": "execute_result"
    }
   ],
   "source": [
    "departments[departments[\"name\"] == \"Anke Herold\"]"
   ],
   "metadata": {
    "collapsed": false,
    "ExecuteTime": {
     "end_time": "2023-08-22T19:26:52.967109099Z",
     "start_time": "2023-08-22T19:26:52.920228245Z"
    }
   },
   "id": "d8d75ceb1f5b8fc3"
  },
  {
   "cell_type": "code",
   "execution_count": null,
   "outputs": [],
   "source": [
    "# TODO: 22.08: herausfinden, wie ich verteilungen abgleichen will, wo name und abbr nicht die selbe ressorts menge haben\n",
    "# auch beachten: abbr ressorts müssen nach den name ressorts geordnet werden, nachdem die nach article count geordnet wurden oder vice versa"
   ],
   "metadata": {
    "collapsed": false
   },
   "id": "d023283f27c01c94"
  }
 ],
 "metadata": {
  "kernelspec": {
   "name": "lvz_venv",
   "language": "python",
   "display_name": "lvz_venv"
  },
  "language_info": {
   "codemirror_mode": {
    "name": "ipython",
    "version": 2
   },
   "file_extension": ".py",
   "mimetype": "text/x-python",
   "name": "python",
   "nbconvert_exporter": "python",
   "pygments_lexer": "ipython2",
   "version": "2.7.6"
  }
 },
 "nbformat": 4,
 "nbformat_minor": 5
}
